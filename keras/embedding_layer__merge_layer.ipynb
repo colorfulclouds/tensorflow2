{
 "cells": [
  {
   "cell_type": "code",
   "execution_count": 1,
   "metadata": {
    "collapsed": true
   },
   "outputs": [],
   "source": [
    "#Embedding只能做model第一层\n",
    "from keras.layers import Embedding\n",
    "#word2vec\n",
    "#one-hot -> word-vector(skip-gram CBOW algorithm)"
   ]
  },
  {
   "cell_type": "code",
   "execution_count": 3,
   "metadata": {
    "collapsed": true
   },
   "outputs": [],
   "source": [
    "import numpy as np\n",
    "from keras.models import Sequential"
   ]
  },
  {
   "cell_type": "code",
   "execution_count": 22,
   "metadata": {
    "collapsed": false
   },
   "outputs": [],
   "source": [
    "model = Sequential()\n",
    "#相当输入是10个字符 每个字符是1000维的one-hot vector\n",
    "#模型输出则将1000维的one-hot向量 变为64维的embedding vector\n",
    "\n",
    "#embedding自动进行one-hot 所以Embedding第一个参数是字典的长度\n",
    "model.add(Embedding(100 , 64 , input_length = 10))\n",
    "\n",
    "input_array = np.random.randint(100 , size=(10000 , 10))\n",
    "\n",
    "model.compile(optimizer = 'rmsprop' , loss = 'mse')\n",
    "\n",
    "output_array = model.predict(input_array)\n",
    "\n",
    "#assert output_array.shape == (32,10,64)"
   ]
  },
  {
   "cell_type": "code",
   "execution_count": 23,
   "metadata": {
    "collapsed": false
   },
   "outputs": [
    {
     "data": {
      "text/plain": [
       "<tf.Tensor 'embedding_9_input:0' shape=(?, 10) dtype=float32>"
      ]
     },
     "execution_count": 23,
     "metadata": {},
     "output_type": "execute_result"
    }
   ],
   "source": [
    "model.input"
   ]
  },
  {
   "cell_type": "code",
   "execution_count": 24,
   "metadata": {
    "collapsed": false
   },
   "outputs": [
    {
     "data": {
      "text/plain": [
       "(10000, 10, 64)"
      ]
     },
     "execution_count": 24,
     "metadata": {},
     "output_type": "execute_result"
    }
   ],
   "source": [
    "output_array.shape"
   ]
  },
  {
   "cell_type": "markdown",
   "metadata": {},
   "source": [
    "### merge layer"
   ]
  },
  {
   "cell_type": "code",
   "execution_count": 28,
   "metadata": {
    "collapsed": true
   },
   "outputs": [],
   "source": [
    "#大写字母开头是层\n",
    "#小写字母开头是函数（函数内部还是调用了层）\n",
    "#加减乘除 层\n",
    "from keras.layers import Input , Dense\n",
    "from keras.models import Model\n",
    "\n",
    "#都是 element-wise进行运算\n",
    "#参数都是list 好多变量同时参数运算\n",
    "from keras.layers import Add\n",
    "from keras.layers import Subtract\n",
    "from keras.layers import Multiply\n",
    "from keras.layers import Average\n",
    "from keras.layers import Maximum\n",
    "#连接起来 按照axis进行连接\n",
    "from keras.layers import Concatenate\n",
    "#计算两个tensor中样本的张量乘积。例如，如果两个张量a和b的shape都为（batch_size, n），\n",
    "#则输出为形如（batch_size,1）的张量，结果张量每个batch的数据都是a[i,:]和b[i,:]的矩阵（向量）点积。\n",
    "from keras.layers import Dot\n",
    "\n",
    "#input shape (batch_size , 16)\n",
    "input1 = Input(shape=(16 , ))\n",
    "x1 = Dense(8 , activation='relu')(input1)\n",
    "input2 = Input(shape=(32 , ))\n",
    "x2 = Dense(8 , activation='relu')(input2)\n",
    "\n",
    "added = Add()([x1,x2])\n",
    "\n",
    "out = Dense(4)(added)\n",
    "\n",
    "model = Model(inputs = [input1 , input2] , outputs=out)"
   ]
  },
  {
   "cell_type": "code",
   "execution_count": 29,
   "metadata": {
    "collapsed": true
   },
   "outputs": [
    {
     "name": "stdout",
     "output_type": "stream",
     "text": [
      "__________________________________________________________________________________________________\n",
      "Layer (type)                    Output Shape         Param #     Connected to                     \n",
      "==================================================================================================\n",
      "input_1 (InputLayer)            (None, 16)           0                                            \n",
      "__________________________________________________________________________________________________\n",
      "input_2 (InputLayer)            (None, 32)           0                                            \n",
      "__________________________________________________________________________________________________\n",
      "dense_1 (Dense)                 (None, 8)            136         input_1[0][0]                    \n",
      "__________________________________________________________________________________________________\n",
      "dense_2 (Dense)                 (None, 8)            264         input_2[0][0]                    \n",
      "__________________________________________________________________________________________________\n",
      "add_1 (Add)                     (None, 8)            0           dense_1[0][0]                    \n",
      "                                                                 dense_2[0][0]                    \n",
      "__________________________________________________________________________________________________\n",
      "dense_3 (Dense)                 (None, 4)            36          add_1[0][0]                      \n",
      "==================================================================================================\n",
      "Total params: 436\n",
      "Trainable params: 436\n",
      "Non-trainable params: 0\n",
      "__________________________________________________________________________________________________\n"
     ]
    }
   ],
   "source": [
    "model.summary()"
   ]
  },
  {
   "cell_type": "code",
   "execution_count": 30,
   "metadata": {
    "collapsed": true
   },
   "outputs": [],
   "source": [
    "from keras.layers import Dot\n"
   ]
  },
  {
   "cell_type": "code",
   "execution_count": 32,
   "metadata": {
    "collapsed": false
   },
   "outputs": [
    {
     "name": "stdout",
     "output_type": "stream",
     "text": [
      "__________________________________________________________________________________________________\n",
      "Layer (type)                    Output Shape         Param #     Connected to                     \n",
      "==================================================================================================\n",
      "input_5 (InputLayer)            (None, 16)           0                                            \n",
      "__________________________________________________________________________________________________\n",
      "input_6 (InputLayer)            (None, 32)           0                                            \n",
      "__________________________________________________________________________________________________\n",
      "dense_7 (Dense)                 (None, 8)            136         input_5[0][0]                    \n",
      "__________________________________________________________________________________________________\n",
      "dense_8 (Dense)                 (None, 8)            264         input_6[0][0]                    \n",
      "__________________________________________________________________________________________________\n",
      "add_3 (Add)                     (None, 8)            0           dense_7[0][0]                    \n",
      "                                                                 dense_8[0][0]                    \n",
      "__________________________________________________________________________________________________\n",
      "dense_9 (Dense)                 (None, 4)            36          add_3[0][0]                      \n",
      "==================================================================================================\n",
      "Total params: 436\n",
      "Trainable params: 436\n",
      "Non-trainable params: 0\n",
      "__________________________________________________________________________________________________\n"
     ]
    }
   ],
   "source": [
    "from keras.layers import add\n",
    "\n",
    "input1 = Input(shape=(16,))\n",
    "x1 = Dense(8, activation='relu')(input1)\n",
    "input2 = Input(shape=(32,))\n",
    "x2 = Dense(8, activation='relu')(input2)\n",
    "\n",
    "#added = Add()([x1 , x2])\n",
    "#功能一样\n",
    "added = add([x1, x2])\n",
    "\n",
    "out = Dense(4)(added)\n",
    "model = Model(inputs=[input1, input2], outputs=out)\n",
    "\n",
    "model.summary()"
   ]
  },
  {
   "cell_type": "code",
   "execution_count": null,
   "metadata": {
    "collapsed": true
   },
   "outputs": [],
   "source": []
  }
 ],
 "metadata": {
  "kernelspec": {
   "display_name": "Python 3",
   "language": "python",
   "name": "python3"
  },
  "language_info": {
   "codemirror_mode": {
    "name": "ipython",
    "version": 3
   },
   "file_extension": ".py",
   "mimetype": "text/x-python",
   "name": "python",
   "nbconvert_exporter": "python",
   "pygments_lexer": "ipython3",
   "version": "3.6.0"
  }
 },
 "nbformat": 4,
 "nbformat_minor": 2
}
