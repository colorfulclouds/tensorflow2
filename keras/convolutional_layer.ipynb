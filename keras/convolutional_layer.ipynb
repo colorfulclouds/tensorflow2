{
 "cells": [
  {
   "cell_type": "code",
   "execution_count": 1,
   "metadata": {
    "collapsed": true
   },
   "outputs": [],
   "source": [
    "from keras.layers import SeparableConv2D #通道方向可分离卷积"
   ]
  },
  {
   "cell_type": "code",
   "execution_count": 2,
   "metadata": {
    "collapsed": true
   },
   "outputs": [],
   "source": [
    "from keras.layers import Conv2DTranspose #转置卷积（反卷积）GANs 可能会用"
   ]
  },
  {
   "cell_type": "code",
   "execution_count": 3,
   "metadata": {
    "collapsed": true
   },
   "outputs": [],
   "source": [
    "from keras.layers import Conv3D #三维卷积"
   ]
  },
  {
   "cell_type": "code",
   "execution_count": 4,
   "metadata": {
    "collapsed": true
   },
   "outputs": [],
   "source": [
    "from keras.layers import Cropping1D #裁剪\n",
    "\n",
    "Cropping1D(cropping=(2,3)) #指定首尾裁剪掉多少个元素"
   ]
  },
  {
   "cell_type": "code",
   "execution_count": 5,
   "metadata": {
    "collapsed": true
   },
   "outputs": [],
   "source": [
    "from keras.layers import Cropping2D #同上\n",
    "\n",
    "Cropping2D(cropping=((0,2),(2,3)) , data_format='channel_last')"
   ]
  },
  {
   "cell_type": "code",
   "execution_count": 6,
   "metadata": {
    "collapsed": true
   },
   "outputs": [],
   "source": [
    "from keras.layers import Cropping3D #同上\n",
    "\n",
    "Cropping3D(cropping=((1,2),(2,3),(4,5)) , data_format='channel_last')"
   ]
  },
  {
   "cell_type": "code",
   "execution_count": 7,
   "metadata": {
    "collapsed": true
   },
   "outputs": [],
   "source": [
    "from keras.layers import UpSampling1D #上采样\n",
    "\n",
    "UpSampling1D(size=2) #每个timestep重复size次"
   ]
  },
  {
   "cell_type": "code",
   "execution_count": 8,
   "metadata": {
    "collapsed": false
   },
   "outputs": [
    {
     "data": {
      "text/plain": [
       "<keras.layers.convolutional.UpSampling2D at 0x2742e424630>"
      ]
     },
     "execution_count": 8,
     "metadata": {},
     "output_type": "execute_result"
    }
   ],
   "source": [
    "from keras.layers import UpSampling2D #同上\n",
    "#在行 列 上分别重复 size[0] size[1]次\n",
    "UpSampling2D(size=(2,2) , data_format='channel_last')"
   ]
  },
  {
   "cell_type": "code",
   "execution_count": null,
   "metadata": {
    "collapsed": true
   },
   "outputs": [],
   "source": [
    "from keras.layers import UpSampling3D #同上\n",
    "#目前只能以theano作为后端使用\n",
    "UpSampling3D(size=(2,3,4) , data_format = 'channel_last')"
   ]
  },
  {
   "cell_type": "code",
   "execution_count": 10,
   "metadata": {
    "collapsed": false
   },
   "outputs": [
    {
     "data": {
      "text/plain": [
       "<keras.layers.convolutional.ZeroPadding1D at 0x2742e424a20>"
      ]
     },
     "execution_count": 10,
     "metadata": {},
     "output_type": "execute_result"
    }
   ],
   "source": [
    "from keras.layers import ZeroPadding1D #填充0\n",
    "#在首尾分别添加padding个0\n",
    "ZeroPadding1D(padding=1)"
   ]
  },
  {
   "cell_type": "code",
   "execution_count": null,
   "metadata": {
    "collapsed": true
   },
   "outputs": [],
   "source": [
    "from keras.layers import ZeroPadding2D #同上\n",
    "\n",
    "#在一圈填充0\n",
    "ZeroPadding2D(padding=(1,2) , data_format='channel_last')"
   ]
  },
  {
   "cell_type": "code",
   "execution_count": null,
   "metadata": {
    "collapsed": true
   },
   "outputs": [],
   "source": [
    "from keras.layers import ZeroPadding3D #同上\n",
    "#目前只能以theano作为后端使用\n",
    "ZeroPadding3D(padding=(1,2,3) , data_format='channel_last')"
   ]
  }
 ],
 "metadata": {
  "kernelspec": {
   "display_name": "Python 3",
   "language": "python",
   "name": "python3"
  },
  "language_info": {
   "codemirror_mode": {
    "name": "ipython",
    "version": 3
   },
   "file_extension": ".py",
   "mimetype": "text/x-python",
   "name": "python",
   "nbconvert_exporter": "python",
   "pygments_lexer": "ipython3",
   "version": "3.6.0"
  }
 },
 "nbformat": 4,
 "nbformat_minor": 2
}
