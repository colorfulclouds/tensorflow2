{
 "cells": [
  {
   "cell_type": "code",
   "execution_count": 1,
   "metadata": {
    "collapsed": true
   },
   "outputs": [],
   "source": [
    "#回调函数是一组在训练的特定阶段被调用的函数集\n",
    "#可以使用回调函数查看训练过程中网络内部的状态和信息\n",
    "#比如 earlystopping 方法\n",
    "from keras import callbacks"
   ]
  },
  {
   "cell_type": "code",
   "execution_count": null,
   "metadata": {
    "collapsed": true
   },
   "outputs": [],
   "source": [
    "#class\n",
    "#callbacks.Callback\n",
    "#自定义回电函数 必须继承这个类"
   ]
  },
  {
   "cell_type": "code",
   "execution_count": 10,
   "metadata": {
    "collapsed": true
   },
   "outputs": [],
   "source": [
    "from keras.models import Sequential\n",
    "from keras.layers import Dense\n",
    "import numpy as np\n",
    "\n",
    "model = Sequential()\n",
    "model.add(Dense(10 , input_dim=784 ,activation='softmax'))\n",
    "\n",
    "model.compile(optimizer='sgd' , loss='categorical_crossentropy')\n"
   ]
  },
  {
   "cell_type": "code",
   "execution_count": 14,
   "metadata": {
    "collapsed": true
   },
   "outputs": [
    {
     "name": "stdout",
     "output_type": "stream",
     "text": [
      "Epoch 1/10\n",
      "Epoch 1/10\n",
      "100/100 [==============================] - 0s 160us/step - loss: 617.7413\b\b\b\b\b\b\b\b\b\b\b\b\b\b\b\b\b\b\b\b\b\b\b\b\b\b\b\b\b\b\b\b\b\b\b\b\b\b\b\b\b\b\b\b\b\b\b\b\b\b\b\b\b\b\b\b\b\b\b\b\b\n",
      "100/100 [==============================] - 0s 170us/step - loss: 617.7413\n",
      "Epoch 2/10\n",
      "Epoch 2/10\n",
      "100/100 [==============================] - 0s 140us/step - loss: 624.1496\b\b\b\b\b\b\b\b\b\b\b\b\b\b\b\b\b\b\b\b\b\b\b\b\b\b\b\b\b\b\b\b\b\b\b\b\b\b\b\b\b\b\b\b\b\b\b\b\b\b\b\b\b\b\b\b\b\b\b\b\b\n",
      "100/100 [==============================] - 0s 160us/step - loss: 624.1496\n",
      "Epoch 3/10\n",
      "Epoch 3/10\n",
      "100/100 [==============================] - 0s 170us/step - loss: 626.8449\b\b\b\b\b\b\b\b\b\b\b\b\b\b\b\b\b\b\b\b\b\b\b\b\b\b\b\b\b\b\b\b\b\b\b\b\b\b\b\b\b\b\b\b\b\b\b\b\b\b\b\b\b\b\b\b\b\b\b\b\b\n",
      "100/100 [==============================] - 0s 180us/step - loss: 626.8449\n",
      "Epoch 4/10\n",
      "Epoch 4/10\n",
      "100/100 [==============================] - 0s 160us/step - loss: 614.0162\b\b\b\b\b\b\b\b\b\b\b\b\b\b\b\b\b\b\b\b\b\b\b\b\b\b\b\b\b\b\b\b\b\b\b\b\b\b\b\b\b\b\b\b\b\b\b\b\b\b\b\b\b\b\b\b\b\b\b\b\b\n",
      "100/100 [==============================] - 0s 180us/step - loss: 614.0162\n",
      "Epoch 5/10\n",
      "Epoch 5/10\n",
      "100/100 [==============================] - 0s 165us/step - loss: 601.7025\b\b\b\b\b\b\b\b\b\b\b\b\b\b\b\b\b\b\b\b\b\b\b\b\b\b\b\b\b\b\b\b\b\b\b\b\b\b\b\b\b\b\b\b\b\b\b\b\b\b\b\b\b\b\b\b\b\b\b\b\b\n",
      "100/100 [==============================] - 0s 175us/step - loss: 601.7025\n",
      "Epoch 6/10\n",
      "Epoch 6/10\n",
      "100/100 [==============================] - 0s 140us/step - loss: 619.5929\b\b\b\b\b\b\b\b\b\b\b\b\b\b\b\b\b\b\b\b\b\b\b\b\b\b\b\b\b\b\b\b\b\b\b\b\b\b\b\b\b\b\b\b\b\b\b\b\b\b\b\b\b\b\b\b\b\b\b\b\b\n",
      "100/100 [==============================] - 0s 160us/step - loss: 619.5929\n",
      "Epoch 7/10\n",
      "Epoch 7/10\n",
      "100/100 [==============================] - 0s 170us/step - loss: 617.8476\b\b\b\b\b\b\b\b\b\b\b\b\b\b\b\b\b\b\b\b\b\b\b\b\b\b\b\b\b\b\b\b\b\b\b\b\b\b\b\b\b\b\b\b\b\b\b\b\b\b\b\b\b\b\b\b\b\b\b\b\b\n",
      "100/100 [==============================] - 0s 190us/step - loss: 617.8476\n",
      "Epoch 8/10\n",
      "Epoch 8/10\n",
      "100/100 [==============================] - 0s 130us/step - loss: 605.5915\b\b\b\b\b\b\b\b\b\b\b\b\b\b\b\b\b\b\b\b\b\b\b\b\b\b\b\b\b\b\b\b\b\b\b\b\b\b\b\b\b\b\b\b\b\b\b\b\b\b\b\b\b\b\b\b\b\b\b\b\b\n",
      "100/100 [==============================] - 0s 150us/step - loss: 605.5915\n",
      "Epoch 9/10\n",
      "Epoch 9/10\n",
      "100/100 [==============================] - 0s 140us/step - loss: 617.9463\b\b\b\b\b\b\b\b\b\b\b\b\b\b\b\b\b\b\b\b\b\b\b\b\b\b\b\b\b\b\b\b\b\b\b\b\b\b\b\b\b\b\b\b\b\b\b\b\b\b\b\b\b\b\b\b\b\b\b\b\b\n",
      "100/100 [==============================] - 0s 155us/step - loss: 617.9463\n",
      "Epoch 10/10\n",
      "Epoch 10/10\n",
      "100/100 [==============================] - 0s 150us/step - loss: 599.6597\b\b\b\b\b\b\b\b\b\b\b\b\b\b\b\b\b\b\b\b\b\b\b\b\b\b\b\b\b\b\b\b\b\b\b\b\b\b\b\b\b\b\b\b\b\b\b\b\b\b\b\b\b\b\b\b\b\b\b\b\b\n",
      "100/100 [==============================] - 0s 165us/step - loss: 599.6597\n"
     ]
    },
    {
     "data": {
      "text/plain": [
       "<keras.callbacks.History at 0x1379440bb38>"
      ]
     },
     "execution_count": 14,
     "metadata": {},
     "output_type": "execute_result"
    }
   ],
   "source": [
    "X = np.random.random(size=(100 , 784))\n",
    "y = np.random.randint(low=10 , size=(100 , 10))\n",
    "\n",
    "model.fit(X , y , callbacks=[callbacks.ProgbarLogger()])"
   ]
  },
  {
   "cell_type": "code",
   "execution_count": null,
   "metadata": {
    "collapsed": true
   },
   "outputs": [],
   "source": [
    "from keras from callbacks\n",
    "#下面两个已经集成到了model中 会在keras上自动调用\n",
    "callbacks.BaseLogger\n",
    "callbacks.History\n",
    "\n",
    "callbacks.ProgbarLogger\n",
    "\n",
    "#每个epoch保存模型\n",
    "callbacks.ModelCheckpoint\n",
    "#参数 mode：‘auto’，‘min’，‘max’之一，\n",
    "#在save_best_only=True时决定性能最佳模型的评判准则，\n",
    "#例如，当监测值为val_acc时，模式应为max，当检测值为val_loss时，模式应为min。\n",
    "#在auto模式下，评价准则由被监测值的名字自动推断。\n",
    "#同earlystopping中的mode参数"
   ]
  },
  {
   "cell_type": "code",
   "execution_count": null,
   "metadata": {
    "collapsed": true
   },
   "outputs": [],
   "source": [
    "callbacks.EarlyStopping\n",
    "#mode：‘auto’，‘min’，‘max’之一，\n",
    "#在min模式下，如果检测值停止下降则中止训练。\n",
    "#在max模式下，当检测值不再上升则停止训练。\n",
    "#和ModelCheckpoint 的mode意义相同"
   ]
  },
  {
   "cell_type": "code",
   "execution_count": 1,
   "metadata": {
    "collapsed": true
   },
   "outputs": [],
   "source": [
    "from keras.callbacks import RemoteMonitor"
   ]
  },
  {
   "cell_type": "code",
   "execution_count": null,
   "metadata": {
    "collapsed": true
   },
   "outputs": [],
   "source": [
    "RemoteMonitor()\n",
    "#将事件发送给服务器"
   ]
  },
  {
   "cell_type": "code",
   "execution_count": 2,
   "metadata": {
    "collapsed": true
   },
   "outputs": [],
   "source": [
    "from keras.callbacks import LearningRateScheduler\n",
    "\n",
    "LearningRateScheduler()\n",
    "#以参数schedule以epoch为参数返回一个新的学习率"
   ]
  },
  {
   "cell_type": "code",
   "execution_count": null,
   "metadata": {
    "collapsed": true
   },
   "outputs": [],
   "source": [
    "from keras.callbacks import TensorBoard\n",
    "\n",
    "TensorBoard()\n",
    "#调用tensorflow的可视化功能\n",
    "#查看命令 tensorboard --logdir = /path"
   ]
  },
  {
   "cell_type": "code",
   "execution_count": null,
   "metadata": {
    "collapsed": true
   },
   "outputs": [],
   "source": [
    "from keras.callbacks import ReduceLROnPlateau\n",
    "\n",
    "ReduceLROnPlateau()\n",
    "#在学习进入平原期时减小学习率"
   ]
  },
  {
   "cell_type": "code",
   "execution_count": null,
   "metadata": {
    "collapsed": true
   },
   "outputs": [],
   "source": [
    "from keras.callbacks import CSVLogger\n",
    "\n",
    "CSVLogger()\n",
    "#将每个epoch的训练结果保存到csv文件中"
   ]
  },
  {
   "cell_type": "code",
   "execution_count": 3,
   "metadata": {
    "collapsed": true
   },
   "outputs": [],
   "source": [
    "from keras.callbacks import LambdaCallback\n",
    "\n",
    "#使用它构造一个简单的回调函数使用\n",
    "#参数  假定输入的参数\n",
    "on_epoch_begin on_epoch_end ==== epoch logs\n",
    "on_batch_begin on_batch_end ==== batch logs\n",
    "on_train_begin on_train_end ==== logs\n",
    "\n",
    "#example\n",
    "#每个batch开始时 打印batch number\n",
    "batch_print_callback=LambdaCallback(\n",
    "on_batch_begin = lambda batch , logs: print(batch)\n",
    ")\n",
    "\n",
    "import numpy as np\n",
    "import matplotlib.pyplot as plt\n",
    "%matplotlib inline\n",
    "#每个epoch对loss绘图\n",
    "plot_loss_callback = LambdaCallback(\n",
    "on_epoch_end = lambda epoch , logs: plt.plot(np.arange(epoch),logs['loss']))\n",
    "\n",
    "#结束训练模型后结束一些进程\n",
    "processes = ...\n",
    "\n",
    "cleanup_callback = LambdaCallback(\n",
    "on_train_end = lambda logs: [p.terminate() for p in process if p.is_alive()])\n",
    "#下面就是在实际中使用自己写的简单的回调函数\n",
    "model.fit(... , callbacks = [batch_print_callback,\n",
    "                             plot_loss_callback,\n",
    "                             cleanup_callback])"
   ]
  },
  {
   "cell_type": "code",
   "execution_count": 7,
   "metadata": {
    "collapsed": false
   },
   "outputs": [],
   "source": [
    "#编写真实的回调函数 继承Callback class\n",
    "import keras\n",
    "from keras.models import Sequential\n",
    "from keras.layers import Dense\n",
    "\n",
    "\n",
    "#保存每个batch的loss回调函数\n",
    "class LossHistory(keras.callbacks.Callback):\n",
    "    def on_train_begin(self , logs={}):\n",
    "        self.losses = [] #训练开始前 定义一个损失记录list\n",
    "        \n",
    "    def on_batch_end(self , batch , logs={}):\n",
    "        self.losses.append(logs.get('loss')) #每一个batch结束 将loss存到list中\n",
    "        \n",
    "    \n",
    "model = Sequential()\n",
    "model.add(Dense(10 , input_dim = 784 , kernel_initializer='uniform',activation='softmax'))\n",
    "\n",
    "model.compile(loss='categorical_crossentropy' , optimizer = 'rmsprop')\n",
    "\n",
    "history = LossHistory()\n",
    "\n",
    "model.fit(X , y , batch_size=128 , epochs = 20,verbose=0 , \n",
    "         callbacks=[history])\n",
    "\n",
    "\n",
    "print(history.losses)"
   ]
  },
  {
   "cell_type": "code",
   "execution_count": null,
   "metadata": {
    "collapsed": true
   },
   "outputs": [],
   "source": [
    "from keras.callbacks import ModelCheckpoint\n",
    "\n",
    "model = Sequential()\n",
    "model.add(Dense(10 , input_dim=784 , kernel_initializer='uniform' , activation='softmax'))\n",
    "\n",
    "model.compile(loss='categorical_crossentropy' , optimizer='rmsprop')\n",
    "#每个epoch模型验证损失下降了就将模型损失存起来\n",
    "checkpointer = ModelCheckpoint(filepath='path.hdf5',verbose=1 , save_best_only = True)\n",
    "\n",
    "model.fit(X ,y , batch_size=128 , epochs = 20 , verbose=0 , validation_data=(X_val , y_val))"
   ]
  },
  {
   "cell_type": "code",
   "execution_count": null,
   "metadata": {
    "collapsed": true
   },
   "outputs": [],
   "source": []
  }
 ],
 "metadata": {
  "kernelspec": {
   "display_name": "Python 3",
   "language": "python",
   "name": "python3"
  },
  "language_info": {
   "codemirror_mode": {
    "name": "ipython",
    "version": 3
   },
   "file_extension": ".py",
   "mimetype": "text/x-python",
   "name": "python",
   "nbconvert_exporter": "python",
   "pygments_lexer": "ipython3",
   "version": "3.6.0"
  }
 },
 "nbformat": 4,
 "nbformat_minor": 2
}
