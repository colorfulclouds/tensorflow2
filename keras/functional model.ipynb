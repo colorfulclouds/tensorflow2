{
 "cells": [
  {
   "cell_type": "code",
   "execution_count": 2,
   "metadata": {
    "collapsed": false
   },
   "outputs": [],
   "source": [
    "#keras Functional Model\n",
    "import keras\n",
    "\n",
    "from keras.layers import Input , Dense\n",
    "from keras.models import Model\n",
    "\n",
    "import keras.backend as K"
   ]
  },
  {
   "cell_type": "code",
   "execution_count": 2,
   "metadata": {
    "collapsed": true
   },
   "outputs": [],
   "source": [
    "inputs = Input(shape=(784 , ))"
   ]
  },
  {
   "cell_type": "code",
   "execution_count": 3,
   "metadata": {
    "collapsed": true
   },
   "outputs": [],
   "source": [
    "x = Dense(64 , activation='relu')(inputs)\n",
    "x = Dense(64 , activation='relu')(x)\n",
    "\n",
    "predictions = Dense(10 , activation='softmax')(x)"
   ]
  },
  {
   "cell_type": "code",
   "execution_count": 4,
   "metadata": {
    "collapsed": true
   },
   "outputs": [
    {
     "ename": "NameError",
     "evalue": "name 'data' is not defined",
     "output_type": "error",
     "traceback": [
      "\u001b[0;31m---------------------------------------------------------------------------\u001b[0m",
      "\u001b[0;31mNameError\u001b[0m                                 Traceback (most recent call last)",
      "\u001b[0;32m<ipython-input-4-3c889ce269ca>\u001b[0m in \u001b[0;36m<module>\u001b[0;34m()\u001b[0m\n\u001b[1;32m      5\u001b[0m              metrics = ['accuracy'])\n\u001b[1;32m      6\u001b[0m \u001b[1;33m\u001b[0m\u001b[0m\n\u001b[0;32m----> 7\u001b[0;31m \u001b[0mmodel\u001b[0m\u001b[1;33m.\u001b[0m\u001b[0mfit\u001b[0m\u001b[1;33m(\u001b[0m\u001b[0mdata\u001b[0m \u001b[1;33m,\u001b[0m \u001b[0mlabels\u001b[0m\u001b[1;33m)\u001b[0m\u001b[1;33m\u001b[0m\u001b[0m\n\u001b[0m",
      "\u001b[0;31mNameError\u001b[0m: name 'data' is not defined"
     ]
    }
   ],
   "source": [
    "model = Model(inputs=inputs , outputs=predictions)\n",
    "\n",
    "model.compile(optimizer='rmsprop',\n",
    "             loss = 'categorical_crossentropy',\n",
    "             metrics = ['accuracy'])\n",
    "\n",
    "model.fit(data , labels)"
   ]
  },
  {
   "cell_type": "code",
   "execution_count": 6,
   "metadata": {
    "collapsed": false
   },
   "outputs": [],
   "source": [
    "#模型类似函数 可以作为运算的操作\n",
    "will_input_data = Input(shape=(784 , ))\n",
    "y = model(will_input_data)\n",
    "#模型可以被作为层一样\n",
    "#调用一个模型时 即重用结构 也重用权重"
   ]
  },
  {
   "cell_type": "code",
   "execution_count": 7,
   "metadata": {
    "collapsed": true
   },
   "outputs": [],
   "source": [
    "from keras.layers import TimeDistributed\n",
    "\n",
    "input_sequences = Input(shape=(20,784))\n",
    "\n",
    "processed_sequences = TimeDistributed(model)(input_sequences)"
   ]
  },
  {
   "cell_type": "code",
   "execution_count": null,
   "metadata": {
    "collapsed": true
   },
   "outputs": [],
   "source": [
    "#http://keras-cn.readthedocs.io/en/latest/getting_started/functional_API/"
   ]
  },
  {
   "cell_type": "markdown",
   "metadata": {},
   "source": [
    "http://keras-cn.readthedocs.io/en/ltest/images/multi-input-multi-output-graph.png"
   ]
  },
  {
   "cell_type": "code",
   "execution_count": 4,
   "metadata": {
    "collapsed": true
   },
   "outputs": [
    {
     "ename": "NameError",
     "evalue": "name 'headline_data' is not defined",
     "output_type": "error",
     "traceback": [
      "\u001b[0;31m---------------------------------------------------------------------------\u001b[0m",
      "\u001b[0;31mNameError\u001b[0m                                 Traceback (most recent call last)",
      "\u001b[0;32m<ipython-input-4-5ad8fdcbf840>\u001b[0m in \u001b[0;36m<module>\u001b[0;34m()\u001b[0m\n\u001b[1;32m     42\u001b[0m              loss_weights=[1.0 , 0.2])\n\u001b[1;32m     43\u001b[0m \u001b[1;33m\u001b[0m\u001b[0m\n\u001b[0;32m---> 44\u001b[0;31m model.fit([headline_data , additional_data] , [labels , labels] , epochs=50,\n\u001b[0m\u001b[1;32m     45\u001b[0m          batch_size=32)\n",
      "\u001b[0;31mNameError\u001b[0m: name 'headline_data' is not defined"
     ]
    }
   ],
   "source": [
    "#multiple input and output\n",
    "from keras.layers import Input , Embedding , LSTM , Dense\n",
    "from keras.models import Model\n",
    "import keras\n",
    "\n",
    "#100 one-hot vectors(10000-dimensional)\n",
    "main_input = Input(shape=(100,) , dtype='int32' ,\n",
    "                  name = 'main_input')\n",
    "\n",
    "#one_hot to 512-dimensional vectors (embedding vector)\n",
    "#word2vec\n",
    "x = Embedding(output_dim = 512 , input_dim = 10000,\n",
    "             input_length = 100)(main_input)\n",
    "\n",
    "#transform the vector sequence into a single vector(32-dimensional)\n",
    "lstm_out = LSTM(32)(x)\n",
    "\n",
    "\n",
    "#extra loss (for smoothly train LSTM Embedding layer)\n",
    "auxiliary_output = Dense(1 , activation='sigmoid',\n",
    "                        name='aux_output')(lstm_out)\n",
    "\n",
    "\n",
    "#extra input\n",
    "#auxiliary_input is unknown\n",
    "auxiliary_input = Input(shape=(5,), name='aux_input')\n",
    "x = keras.layers.concatenate([lstm_out , auxiliary_input])\n",
    "\n",
    "x = Dense(64 , activation='relu')(x)\n",
    "x = Dense(64 , activation='relu')(x)\n",
    "x = Dense(64 , activation='relu')(x)\n",
    "\n",
    "#main loss\n",
    "main_output = Dense(1 , activation='sigmoid' ,\n",
    "                   name='main_output')(x)\n",
    "\n",
    "model = Model(inputs=[main_input , auxiliary_input],\n",
    "             outputs=[main_output , auxiliary_output])\n",
    "\n",
    "\n",
    "#compile method 1\n",
    "model.compile(optimizer='rmsprop',\n",
    "             loss=['binary_crossentropy','binary_crossentropy'],\n",
    "             loss_weights=[1.0 , 0.2])\n",
    "\n",
    "model.fit([headline_data , additional_data] , [labels , labels] , epochs=50,\n",
    "         batch_size=32)\n",
    "\n",
    "#compile moethod 2\n",
    "#前提是必须人为指定name参数\n",
    "model.compile(optimizer='rmsprop',\n",
    "             loss={'main_output':'binary_crossentropy',\n",
    "                   'aux_output':'binary_crossentropy'},\n",
    "             loss_weights={'main_output':1.0,\n",
    "                           'aux_output':0.2})\n",
    "\n",
    "model.fit({'main_input':headline_data,\n",
    "           'aux_input':additional_data},\n",
    "         {'main_output':labels,'aux_outpus':labels},\n",
    "         epoch=50 , batch_size=32)"
   ]
  },
  {
   "cell_type": "code",
   "execution_count": null,
   "metadata": {
    "collapsed": true
   },
   "outputs": [],
   "source": [
    "#shared layer\n",
    "import keras\n",
    "from keras.layers import Input , LSTM , Dense\n",
    "from keras.models import Model\n",
    "\n",
    "#140 one-hot vectors(256-dimensional)\n",
    "tweet_a = Input(shape=(140 , 256))\n",
    "tweet_b = Input(shape=(140 , 256))\n",
    "\n",
    "#shared lstm layer\n",
    "shared_lstm = LSTM(64)\n",
    "\n",
    "encoded_a = shared_lstm(tweet_a)\n",
    "encoded_b = shared_lstm(tweet_b)\n",
    "\n",
    "#concat them\n",
    "merged_vector = keras.layers.concatenate([encoded_a , encoded_b],\n",
    "                                        axis=-1)\n",
    "\n",
    "predictions = Dense(1 , activation='sigmoid')(merged_vector)\n",
    "\n",
    "model = Model(inputs=[tweet_a  ,tweet_b] , outputs=predictions)\n",
    "\n",
    "model.compile(optimizer='rmsprop',\n",
    "             loss='binary_crossentropy',\n",
    "             metrics=['accuracy'])\n",
    "\n",
    "model.fit([data_a , data_b] , labels , epochs=10)"
   ]
  },
  {
   "cell_type": "code",
   "execution_count": null,
   "metadata": {
    "collapsed": true
   },
   "outputs": [],
   "source": [
    "a = Input(shape=(140,256))\n",
    "\n",
    "#output 32-dimensional vectors\n",
    "lstm = LSTM(32)\n",
    "\n",
    "encoded_a = lstm(a)\n",
    "\n",
    "assert lstm.output == encoded_a\n",
    "\n",
    "#lstm.output 层的输出\n",
    "#lstm.output_shape 层输出的shape"
   ]
  },
  {
   "cell_type": "code",
   "execution_count": null,
   "metadata": {
    "collapsed": true
   },
   "outputs": [],
   "source": [
    "a = Input(shape=(140 , 256))\n",
    "b = Input(shape=(140 , 256))\n",
    "\n",
    "lstm = LSTM(32)\n",
    "encoded_a = lstm(a)\n",
    "encoded_b = lstm(b)\n",
    "\n",
    "#lstm.output error\n",
    "\n",
    "assert lstm.get_output_at(0) == encoded_a\n",
    "assert lstm.get_output_at(1) == encoded_b\n"
   ]
  },
  {
   "cell_type": "code",
   "execution_count": null,
   "metadata": {
    "collapsed": true
   },
   "outputs": [],
   "source": [
    "from keras.layers import Conv2D\n",
    "a = Input(shape=(32,32,3))\n",
    "b = Input(shape=(64,64,3))\n",
    "\n",
    "#one input\n",
    "conv = Conv2D(16 , (3,3) , padding='same')\n",
    "conved_a = conv(a)\n",
    "\n",
    "assert conv.input_shape == (None , 32 , 32 , 3)\n",
    "\n",
    "#multiple input\n",
    "conved_b = conv(b)\n",
    "\n",
    "assert conv.get_input_shape_at(0) == (None , 32 , 32 , 3)\n",
    "assert conv.get_input_shape_at(1) == (None , 64 , 64 , 3)\n"
   ]
  },
  {
   "cell_type": "code",
   "execution_count": null,
   "metadata": {
    "collapsed": true
   },
   "outputs": [],
   "source": [
    "#google inception model\n",
    "\n",
    "from keras.layers import Conv2D , MaxPooling2D , Input\n",
    "\n",
    "input_img = Input(shape=(256,256,3))\n",
    "\n",
    "tower_1 = Conv2D(64 , (1,1) , padding='same',\n",
    "                activation='relu')(input_img)\n",
    "tower_1 = Conv2D(64 , (3,3) , padding='same',\n",
    "                activation='relu')(tower_1)\n",
    "\n",
    "tower_2 = Conv2D(64 , (1,1) , padding='same',\n",
    "                activation='relu')(input_img)\n",
    "tower_1 = Conv2D(64 , (5,5) , padding='same',\n",
    "                activation='relu')(tower_2)\n",
    "\n",
    "tower_3 = MaxPooling2D((3,3) , strides=(1,1) , padding='same')(input_img)\n",
    "tower_3 = Conv2D(64 , (1,1) , padding='same',\n",
    "                 activation='relu')(tower_3)\n",
    "\n",
    "output = keras.layers.concatenate([tower_1 , tower_2 , tower_3] , axis=1)"
   ]
  },
  {
   "cell_type": "code",
   "execution_count": null,
   "metadata": {
    "collapsed": true
   },
   "outputs": [],
   "source": [
    "#residual netword\n",
    "from keras.layers import Conv2D , Input\n",
    "\n",
    "x = Input(shape=(256,256 , 3))\n",
    "\n",
    "y = Conv2D(3 , (3,3) , padding='same')(x)\n",
    "\n",
    "z = keras.layers.add([x,y])"
   ]
  },
  {
   "cell_type": "code",
   "execution_count": 5,
   "metadata": {
    "collapsed": true
   },
   "outputs": [],
   "source": [
    "from keras.layers import Conv2D , MaxPooling2D , Input , Dense , Flatten\n",
    "from keras.models import Model\n",
    "import keras\n",
    "#使用两个Model\n",
    "#MNIST\n",
    "#判断两个MNIST图片是否是相同的数字\n",
    "digit_input = Input(shape=(27,27,1))\n",
    "x = Conv2D(64 , (3,3))(digit_input)\n",
    "x = Conv2D(64 , (3,3))(x)\n",
    "x = MaxPooling2D((2,2))(x)\n",
    "\n",
    "out = Flatten()(x)\n",
    "\n",
    "vision_model = Model(digit_input , out)\n",
    "\n",
    "\n",
    "digit_a = Input(shape=(27,27,1))\n",
    "digit_b = Input(shape=(27,27,1))\n",
    "\n",
    "out_a = vision_model(digit_a)\n",
    "out_b = vision_model(digit_b)\n",
    "\n",
    "concatenated = keras.layers.concatenate([out_a , out_b])\n",
    "out = Dense(1 , activation='sigmoid')(concatenated)\n",
    "\n",
    "classification_model = Model([digit_a , digit_b] , out)"
   ]
  },
  {
   "cell_type": "code",
   "execution_count": 7,
   "metadata": {
    "collapsed": false
   },
   "outputs": [],
   "source": [
    "#对图片进行提问\n",
    "from keras.layers import Conv2D , MaxPooling2D , Flatten\n",
    "from keras.layers import Input , LSTM , Embedding , Dense\n",
    "from keras.models import Model , Sequential\n",
    "\n",
    "vision_model = Sequential()\n",
    "vision_model.add(Conv2D(64,(3,3) , activation='relu',\n",
    "                       padding='same',\n",
    "                       input_shape(224,224,3)))\n",
    "vision_model.add(Conv2D(64 , (3,3),activation='relu'))\n",
    "vision_model.add(MaxPooling2D((2,2)))\n",
    "\n",
    "vision_model.add(Conv2D(128 , (3,3) , activation='relu',padding='same'))\n",
    "vision_model.add(Conv2D(128 , (3,3) , activation='relu'))\n",
    "vision_model.add(MaxPooling2D(2,2))\n",
    "\n",
    "vision_model.add(Conv2D(256 , (3,3) , activation='relu',padding='same'))\n",
    "vision_model.add(Conv2D(256 , (3,3) , activation='relu'))\n",
    "vision_model.add(Conv2D(256 , (3,3) , activation='relu'))\n",
    "vision_model.add(MaxPooling2D(2,2))\n",
    "\n",
    "vision_model.add(Flatten())\n",
    "\n",
    "\n",
    "image_input = Input(shape=(224,224,3))\n",
    "encoded_image = vision_model(image_input)\n",
    "\n",
    "\n",
    "question_input = Input(shape=(100 , ) , dtype='int32')\n",
    "embedded_question = Embedding(input_dim=10000,\n",
    "                             output_dim=256,\n",
    "                             input_length=100)(question_input)\n",
    "encoded_question = LSTM(256)(embedded_question)\n",
    "\n",
    "\n",
    "merged = keras.layers.concatenate([encoded_question , encoded_image])\n",
    "\n",
    "output = Dense(1000 , activation='softmax')(merged)\n",
    "\n",
    "vqa_model = Model(inputs=[image_input , question_input] , outputs=output)\n",
    "\n",
    "vqa_model.fit()"
   ]
  },
  {
   "cell_type": "code",
   "execution_count": null,
   "metadata": {
    "collapsed": true
   },
   "outputs": [],
   "source": [
    "#对视频进行提问\n",
    "from keras.layers import TimeDistributed\n",
    "#100帧的视频数据\n",
    "video_input = Input(shape=(100 , 224,224,3))\n",
    "\n",
    "encoded_frame_sequencec = TimeDistributed(vision_model)(video_input)\n",
    "encoded_video = LSTM(256)(encoded_frame_sequencec)\n",
    "\n",
    "question_encoder = Model(inputs=question_input , outputs=encoded_question)\n",
    "\n",
    "video_question_input = Input(shape=(100 , ) , dtype = 'int32')\n",
    "encoded_video_question = question_encoder(video_question_input)\n",
    "\n",
    "\n",
    "merged = keras.layers.concatenate([encoded_video , encoded_video_question])\n",
    "output = Dense(1000 , activation='softmax')(merged)\n",
    "\n",
    "vodel_qa_model = Model(inputs=[video_input , video_question_input],\n",
    "                      outputs=output)"
   ]
  },
  {
   "cell_type": "code",
   "execution_count": 8,
   "metadata": {
    "collapsed": true
   },
   "outputs": [],
   "source": [
    "import keras.backend as K"
   ]
  },
  {
   "cell_type": "code",
   "execution_count": 9,
   "metadata": {
    "collapsed": false
   },
   "outputs": [
    {
     "data": {
      "text/plain": [
       "'channels_last'"
      ]
     },
     "execution_count": 9,
     "metadata": {},
     "output_type": "execute_result"
    }
   ],
   "source": [
    "K.image_data_format()\n",
    "\n",
    "#(sample_size , high , width , channel)"
   ]
  },
  {
   "cell_type": "code",
   "execution_count": 11,
   "metadata": {
    "collapsed": true
   },
   "outputs": [],
   "source": [
    "from keras.models import load_model #load from h5 file\n",
    "from keras.models import model_from_json #load from json file\n",
    "from keras.models import model_from_yaml #load from yaml file\n",
    "from keras.models import Sequential\n",
    "from keras.layers import Dense\n",
    "\n",
    "model = Sequential()\n",
    "model.add(Dense(units=10 , input_dim = 784))\n",
    "\n",
    "#会把模型的所有东西都保存\n",
    "#optimizer的状态都会保存\n",
    "model.save('my_model.h5')\n",
    "\n",
    "#load it\n",
    "model = load_model('my_model.h5')"
   ]
  },
  {
   "cell_type": "code",
   "execution_count": null,
   "metadata": {
    "collapsed": true
   },
   "outputs": [],
   "source": [
    "#只保存模型结构\n",
    "json = model.to_json()\n",
    "model = model_from_json(json)\n",
    "\n",
    "yaml = model.to_yaml()\n",
    "model = model_from_yaml(yaml)"
   ]
  },
  {
   "cell_type": "code",
   "execution_count": null,
   "metadata": {
    "collapsed": true
   },
   "outputs": [],
   "source": [
    "#保存模型权重\n",
    "model.save_weights('xx.h5')\n",
    "model.load_weights('xx.h5') #完全相同的结构\n",
    "\n",
    "#通过name参数 加载模型\n",
    "model.load_weights('xx.h5' , by_name=True)"
   ]
  },
  {
   "cell_type": "code",
   "execution_count": null,
   "metadata": {
    "collapsed": true
   },
   "outputs": [],
   "source": [
    "#获取中间层的输出\n",
    "#method 1\n",
    "from keras.models import Model\n",
    "#构造model\n",
    "layer_name = '指定的layer name'\n",
    "intermediate_layer_model = Model(inputs = model.input,\n",
    "                                outputs=model.get_layer(layer_name).output)\n",
    "\n",
    "intermediate_output = intermediate_layer_model.predict(input_data)\n",
    "\n",
    "#method 2\n",
    "import keras.backend as K\n",
    "\n",
    "get_3rd_layer_output = K.function([model.layers[0].input],\n",
    "                              [model.layers[3].output]) \n",
    "\n",
    "layer_output = get_3rd_layer_output([X])[0]\n",
    "\n",
    "#method 3\n",
    "get_3rd_layer_output = K.function([model.layers[0].input , K.learning_phase()],\n",
    "                                  [model.layers[3].output])\n",
    "\n",
    "#测试模式下查看第三层输出\n",
    "layer_output = get_3rd_layer_output([X , 0])[0]\n",
    "#训练模型下查看第三层输出\n",
    "layer_output = get_3rd_layer_output([X , 1])[0]"
   ]
  },
  {
   "cell_type": "code",
   "execution_count": 15,
   "metadata": {
    "collapsed": true
   },
   "outputs": [
    {
     "ename": "AttributeError",
     "evalue": "'Dense' object has no attribute 'inputs'",
     "output_type": "error",
     "traceback": [
      "\u001b[0;31m---------------------------------------------------------------------------\u001b[0m",
      "\u001b[0;31mAttributeError\u001b[0m                            Traceback (most recent call last)",
      "\u001b[0;32m<ipython-input-15-4d605fe78321>\u001b[0m in \u001b[0;36m<module>\u001b[0;34m()\u001b[0m\n\u001b[0;32m----> 1\u001b[0;31m \u001b[0mmodel\u001b[0m\u001b[1;33m.\u001b[0m\u001b[0mlayers\u001b[0m\u001b[1;33m[\u001b[0m\u001b[1;36m0\u001b[0m\u001b[1;33m]\u001b[0m\u001b[1;33m.\u001b[0m\u001b[0minputs\u001b[0m\u001b[1;33m\u001b[0m\u001b[0m\n\u001b[0m",
      "\u001b[0;31mAttributeError\u001b[0m: 'Dense' object has no attribute 'inputs'"
     ]
    }
   ],
   "source": [
    "#验证集损失不再下降 中断训练\n",
    "#callback 机制\n",
    "from keras.callbacks import EarlyStopping\n",
    "\n",
    "early_stopping = EarlyStopping(monitor='val_loss' , patience = 2)\n",
    "\n",
    "#5-fold validation\n",
    "#先分出验证数据 在shuffle\n",
    "#所以验证数据 一定是最后的20%\n",
    "model.fit(X , y , validation_split=0.2 , callbacks=[early_stopping])"
   ]
  },
  {
   "cell_type": "code",
   "execution_count": null,
   "metadata": {
    "collapsed": true
   },
   "outputs": [],
   "source": [
    "#stateful LSTM\n",
    "model = Sequential()\n",
    "model.add(LSTM(32 , input_shape=(10,16),batch_size=32 , stateful=True))\n",
    "model.add(Dense(16 , activation='softmax'))\n",
    "\n",
    "model.compile(optimizer='rmsprop' , loss = 'categorical_crossentropy')\n",
    "\n",
    "#用一个batch更新一次梯度\n",
    "model.train_on_batch(X[: , :10 , :] , np.reshape(X[: , 10 , :] , (32,16)))\n",
    "\n",
    "#再用一个batch更新一次梯度\n",
    "model.train_on_batch(X[: , 10:20 , :] , np.reshape(X[: , 20 , :] , (32,16)))\n",
    "\n",
    "#重置网络所有层\n",
    "model.reset_states()\n",
    "#重置指定层\n",
    "model.layers[0].reset_states()"
   ]
  },
  {
   "cell_type": "code",
   "execution_count": 16,
   "metadata": {
    "collapsed": false
   },
   "outputs": [
    {
     "data": {
      "text/plain": [
       "<keras.layers.core.Dense at 0x24771ee9a58>"
      ]
     },
     "execution_count": 16,
     "metadata": {},
     "output_type": "execute_result"
    }
   ],
   "source": [
    "#冻结层 就是不参与训练 权重不能变\n",
    "Dense(units=32 , trainable = False) #冻住了"
   ]
  },
  {
   "cell_type": "code",
   "execution_count": null,
   "metadata": {
    "collapsed": true
   },
   "outputs": [],
   "source": [
    "x = Input(shape=(32 , ))\n",
    "layer = Dense(32)\n",
    "layer.trainable = False\n",
    "y = layer(x)\n",
    "\n",
    "#不会更新权重\n",
    "frozen_model = Model(x , y)\n",
    "frozen_model.compile(optimizer = 'rmsprop' , loss='mse')\n",
    "\n",
    "#会更新了\n",
    "layer.trainable = True\n",
    "trainable_model = Model(x , y)\n",
    "\n",
    "trainable_model.compile(optimizer='rmsprop' , loss='mse')\n",
    "\n",
    "frozen_model.fit(data , labels)\n",
    "\n",
    "trainable_model.fit(data , labels)"
   ]
  },
  {
   "cell_type": "code",
   "execution_count": null,
   "metadata": {
    "collapsed": true
   },
   "outputs": [],
   "source": [
    "model = Sequential()\n",
    "model.add(Dense(32 , activation='relu' , input_dim=784))\n",
    "model.add(Dense(32 , activation='relu'))\n",
    "\n",
    "print(len(model.layers)) #2\n",
    "\n",
    "#类似栈 删除一层\n",
    "model.pop()\n",
    "print(len(model.layers)) #1"
   ]
  },
  {
   "cell_type": "code",
   "execution_count": null,
   "metadata": {
    "collapsed": true
   },
   "outputs": [],
   "source": [
    "#使用已经预训练的模型\n",
    "from keras.applications.vgg16 import VGG16\n",
    "from keras.applications.vgg19 import VGG19\n",
    "from keras.applications.resnet50 import ResNet50\n",
    "from keras.applications.inception_v3 import InceptionV3\n",
    "\n",
    "model = VGG16(weights = 'imagenet' , include_top = True) #需要下载"
   ]
  },
  {
   "cell_type": "code",
   "execution_count": null,
   "metadata": {
    "collapsed": true
   },
   "outputs": [],
   "source": [
    "#使用hdf5数据\n",
    "import h5py\n",
    "\n",
    "with h5py.File('input/file.hdf5' , r) as f:\n",
    "    X_data = f['X_data']\n",
    "    model.predict(X_data)"
   ]
  },
  {
   "cell_type": "code",
   "execution_count": null,
   "metadata": {
    "collapsed": true
   },
   "outputs": [],
   "source": [
    "#keras 配置文件\n",
    "%USERPROFILE%/.keras/keras.json\n",
    "#缓存数据集文件\n",
    "%USERPROFILE%/.keras/datasets/"
   ]
  },
  {
   "cell_type": "code",
   "execution_count": 7,
   "metadata": {
    "collapsed": false
   },
   "outputs": [],
   "source": [
    "from keras.models import Sequential\n",
    "\n",
    "model = Sequential()\n",
    "model.add(Dense(32 , activation='relu' , input_dim=784))\n",
    "model.add(Dense(32 , activation='relu'))"
   ]
  },
  {
   "cell_type": "code",
   "execution_count": 8,
   "metadata": {
    "collapsed": true
   },
   "outputs": [
    {
     "data": {
      "text/plain": [
       "[{'class_name': 'Dense',\n",
       "  'config': {'activation': 'relu',\n",
       "   'activity_regularizer': None,\n",
       "   'batch_input_shape': (None, 784),\n",
       "   'bias_constraint': None,\n",
       "   'bias_initializer': {'class_name': 'Zeros', 'config': {}},\n",
       "   'bias_regularizer': None,\n",
       "   'dtype': 'float32',\n",
       "   'kernel_constraint': None,\n",
       "   'kernel_initializer': {'class_name': 'VarianceScaling',\n",
       "    'config': {'distribution': 'uniform',\n",
       "     'mode': 'fan_avg',\n",
       "     'scale': 1.0,\n",
       "     'seed': None}},\n",
       "   'kernel_regularizer': None,\n",
       "   'name': 'dense_1',\n",
       "   'trainable': True,\n",
       "   'units': 32,\n",
       "   'use_bias': True}},\n",
       " {'class_name': 'Dense',\n",
       "  'config': {'activation': 'relu',\n",
       "   'activity_regularizer': None,\n",
       "   'bias_constraint': None,\n",
       "   'bias_initializer': {'class_name': 'Zeros', 'config': {}},\n",
       "   'bias_regularizer': None,\n",
       "   'kernel_constraint': None,\n",
       "   'kernel_initializer': {'class_name': 'VarianceScaling',\n",
       "    'config': {'distribution': 'uniform',\n",
       "     'mode': 'fan_avg',\n",
       "     'scale': 1.0,\n",
       "     'seed': None}},\n",
       "   'kernel_regularizer': None,\n",
       "   'name': 'dense_2',\n",
       "   'trainable': True,\n",
       "   'units': 32,\n",
       "   'use_bias': True}}]"
      ]
     },
     "execution_count": 8,
     "metadata": {},
     "output_type": "execute_result"
    }
   ],
   "source": [
    "model.get_config() #查看层的详细信息\n"
   ]
  },
  {
   "cell_type": "code",
   "execution_count": null,
   "metadata": {
    "collapsed": true
   },
   "outputs": [],
   "source": [
    "model_config = model.get_config() #保存配置信息\n",
    "#可以使用config文件 用两种方式进行构建模型\n",
    "model = Model.from_config(model_config)\n",
    "\n",
    "model = Sequential.from_config(model_config)"
   ]
  },
  {
   "cell_type": "code",
   "execution_count": null,
   "metadata": {
    "collapsed": true
   },
   "outputs": [],
   "source": []
  }
 ],
 "metadata": {
  "kernelspec": {
   "display_name": "Python 3",
   "language": "python",
   "name": "python3"
  },
  "language_info": {
   "codemirror_mode": {
    "name": "ipython",
    "version": 3
   },
   "file_extension": ".py",
   "mimetype": "text/x-python",
   "name": "python",
   "nbconvert_exporter": "python",
   "pygments_lexer": "ipython3",
   "version": "3.6.0"
  }
 },
 "nbformat": 4,
 "nbformat_minor": 2
}
