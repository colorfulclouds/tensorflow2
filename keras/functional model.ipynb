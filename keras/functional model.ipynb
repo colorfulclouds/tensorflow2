{
 "cells": [
  {
   "cell_type": "code",
   "execution_count": 1,
   "metadata": {
    "collapsed": false
   },
   "outputs": [
    {
     "name": "stderr",
     "output_type": "stream",
     "text": [
      "Using TensorFlow backend.\n"
     ]
    }
   ],
   "source": [
    "#keras Functional Model\n",
    "\n",
    "from keras.layers import Input , Dense\n",
    "from keras.models import Model"
   ]
  },
  {
   "cell_type": "code",
   "execution_count": 2,
   "metadata": {
    "collapsed": true
   },
   "outputs": [],
   "source": [
    "inputs = Input(shape=(784 , ))"
   ]
  },
  {
   "cell_type": "code",
   "execution_count": 3,
   "metadata": {
    "collapsed": true
   },
   "outputs": [],
   "source": [
    "x = Dense(64 , activation='relu')(inputs)\n",
    "x = Dense(64 , activation='relu')(x)\n",
    "\n",
    "predictions = Dense(10 , activation='softmax')(x)"
   ]
  },
  {
   "cell_type": "code",
   "execution_count": 4,
   "metadata": {
    "collapsed": true
   },
   "outputs": [
    {
     "ename": "NameError",
     "evalue": "name 'data' is not defined",
     "output_type": "error",
     "traceback": [
      "\u001b[0;31m---------------------------------------------------------------------------\u001b[0m",
      "\u001b[0;31mNameError\u001b[0m                                 Traceback (most recent call last)",
      "\u001b[0;32m<ipython-input-4-3c889ce269ca>\u001b[0m in \u001b[0;36m<module>\u001b[0;34m()\u001b[0m\n\u001b[1;32m      5\u001b[0m              metrics = ['accuracy'])\n\u001b[1;32m      6\u001b[0m \u001b[1;33m\u001b[0m\u001b[0m\n\u001b[0;32m----> 7\u001b[0;31m \u001b[0mmodel\u001b[0m\u001b[1;33m.\u001b[0m\u001b[0mfit\u001b[0m\u001b[1;33m(\u001b[0m\u001b[0mdata\u001b[0m \u001b[1;33m,\u001b[0m \u001b[0mlabels\u001b[0m\u001b[1;33m)\u001b[0m\u001b[1;33m\u001b[0m\u001b[0m\n\u001b[0m",
      "\u001b[0;31mNameError\u001b[0m: name 'data' is not defined"
     ]
    }
   ],
   "source": [
    "model = Model(inputs=inputs , outputs=predictions)\n",
    "\n",
    "model.compile(optimizer='rmsprop',\n",
    "             loss = 'categorical_crossentropy',\n",
    "             metrics = ['accuracy'])\n",
    "\n",
    "model.fit(data , labels)"
   ]
  },
  {
   "cell_type": "code",
   "execution_count": 6,
   "metadata": {
    "collapsed": false
   },
   "outputs": [],
   "source": [
    "#模型类似函数 可以作为运算的操作\n",
    "will_input_data = Input(shape=(784 , ))\n",
    "y = model(will_input_data)\n",
    "#模型可以被作为层一样\n",
    "#调用一个模型时 即重用结构 也重用权重"
   ]
  },
  {
   "cell_type": "code",
   "execution_count": 7,
   "metadata": {
    "collapsed": true
   },
   "outputs": [],
   "source": [
    "from keras.layers import TimeDistributed\n",
    "\n",
    "input_sequences = Input(shape=(20,784))\n",
    "\n",
    "processed_sequences = TimeDistributed(model)(input_sequences)"
   ]
  },
  {
   "cell_type": "code",
   "execution_count": null,
   "metadata": {
    "collapsed": true
   },
   "outputs": [],
   "source": [
    "#http://keras-cn.readthedocs.io/en/latest/getting_started/functional_API/"
   ]
  },
  {
   "cell_type": "markdown",
   "metadata": {},
   "source": [
    "http://keras-cn.readthedocs.io/en/ltest/images/multi-input-multi-output-graph.png"
   ]
  },
  {
   "cell_type": "code",
   "execution_count": 4,
   "metadata": {
    "collapsed": true
   },
   "outputs": [
    {
     "ename": "NameError",
     "evalue": "name 'headline_data' is not defined",
     "output_type": "error",
     "traceback": [
      "\u001b[0;31m---------------------------------------------------------------------------\u001b[0m",
      "\u001b[0;31mNameError\u001b[0m                                 Traceback (most recent call last)",
      "\u001b[0;32m<ipython-input-4-5ad8fdcbf840>\u001b[0m in \u001b[0;36m<module>\u001b[0;34m()\u001b[0m\n\u001b[1;32m     42\u001b[0m              loss_weights=[1.0 , 0.2])\n\u001b[1;32m     43\u001b[0m \u001b[1;33m\u001b[0m\u001b[0m\n\u001b[0;32m---> 44\u001b[0;31m model.fit([headline_data , additional_data] , [labels , labels] , epochs=50,\n\u001b[0m\u001b[1;32m     45\u001b[0m          batch_size=32)\n",
      "\u001b[0;31mNameError\u001b[0m: name 'headline_data' is not defined"
     ]
    }
   ],
   "source": [
    "#multiple input and output\n",
    "from keras.layers import Input , Embedding , LSTM , Dense\n",
    "from keras.models import Model\n",
    "import keras\n",
    "\n",
    "#100 one-hot vectors(10000-dimensional)\n",
    "main_input = Input(shape=(100,) , dtype='int32' ,\n",
    "                  name = 'main_input')\n",
    "\n",
    "#one_hot to 512-dimensional vectors (embedding vector)\n",
    "#word2vec\n",
    "x = Embedding(output_dim = 512 , input_dim = 10000,\n",
    "             input_length = 100)(main_input)\n",
    "\n",
    "#transform the vector sequence into a single vector(32-dimensional)\n",
    "lstm_out = LSTM(32)(x)\n",
    "\n",
    "\n",
    "#extra loss (for smoothly train LSTM Embedding layer)\n",
    "auxiliary_output = Dense(1 , activation='sigmoid',\n",
    "                        name='aux_output')(lstm_out)\n",
    "\n",
    "\n",
    "#extra input\n",
    "#auxiliary_input is unknown\n",
    "auxiliary_input = Input(shape=(5,), name='aux_input')\n",
    "x = keras.layers.concatenate([lstm_out , auxiliary_input])\n",
    "\n",
    "x = Dense(64 , activation='relu')(x)\n",
    "x = Dense(64 , activation='relu')(x)\n",
    "x = Dense(64 , activation='relu')(x)\n",
    "\n",
    "#main loss\n",
    "main_output = Dense(1 , activation='sigmoid' ,\n",
    "                   name='main_output')(x)\n",
    "\n",
    "model = Model(inputs=[main_input , auxiliary_input],\n",
    "             outputs=[main_output , auxiliary_output])\n",
    "\n",
    "\n",
    "#compile method 1\n",
    "model.compile(optimizer='rmsprop',\n",
    "             loss=['binary_crossentropy','binary_crossentropy'],\n",
    "             loss_weights=[1.0 , 0.2])\n",
    "\n",
    "model.fit([headline_data , additional_data] , [labels , labels] , epochs=50,\n",
    "         batch_size=32)\n",
    "\n",
    "#compile moethod 2\n",
    "#前提是必须人为指定name参数\n",
    "model.compile(optimizer='rmsprop',\n",
    "             loss={'main_output':'binary_crossentropy',\n",
    "                   'aux_output':'binary_crossentropy'},\n",
    "             loss_weights={'main_output':1.0,\n",
    "                           'aux_output':0.2})\n",
    "\n",
    "model.fit({'main_input':headline_data,\n",
    "           'aux_input':additional_data},\n",
    "         {'main_output':labels,'aux_outpus':labels},\n",
    "         epoch=50 , batch_size=32)"
   ]
  },
  {
   "cell_type": "code",
   "execution_count": null,
   "metadata": {
    "collapsed": true
   },
   "outputs": [],
   "source": [
    "#shared layer\n",
    "import keras\n",
    "from keras.layers import Input , LSTM , Dense\n",
    "from keras.models import Model\n",
    "\n",
    "#140 one-hot vectors(256-dimensional)\n",
    "tweet_a = Input(shape=(140 , 256))\n",
    "tweet_b = Input(shape=(140 , 256))\n",
    "\n",
    "#shared lstm layer\n",
    "shared_lstm = LSTM(64)\n",
    "\n",
    "encoded_a = shared_lstm(tweet_a)\n",
    "encoded_b = shared_lstm(tweet_b)\n",
    "\n",
    "#concat them\n",
    "merged_vector = keras.layers.concatenate([encoded_a , encoded_b],\n",
    "                                        axis=-1)\n",
    "\n",
    "predictions = Dense(1 , activation='sigmoid')(merged_vector)\n",
    "\n",
    "model = Model(inputs=[tweet_a  ,tweet_b] , outputs=predictions)\n",
    "\n",
    "model.compile(optimizer='rmsprop',\n",
    "             loss='binary_crossentropy',\n",
    "             metrics=['accuracy'])\n",
    "\n",
    "model.fit([data_a , data_b] , labels , epochs=10)"
   ]
  },
  {
   "cell_type": "code",
   "execution_count": null,
   "metadata": {
    "collapsed": true
   },
   "outputs": [],
   "source": [
    "a = Input(shape=(140,256))\n",
    "\n",
    "#output 32-dimensional vectors\n",
    "lstm = LSTM(32)\n",
    "\n",
    "encoded_a = lstm(a)\n",
    "\n",
    "assert lstm.output == encoded_a\n",
    "\n",
    "#lstm.output 层的输出\n",
    "#lstm.output_shape 层输出的shape"
   ]
  },
  {
   "cell_type": "code",
   "execution_count": null,
   "metadata": {
    "collapsed": true
   },
   "outputs": [],
   "source": [
    "a = Input(shape=(140 , 256))\n",
    "b = Input(shape=(140 , 256))\n",
    "\n",
    "lstm = LSTM(32)\n",
    "encoded_a = lstm(a)\n",
    "encoded_b = lstm(b)\n",
    "\n",
    "#lstm.output error\n",
    "\n",
    "assert lstm.get_output_at(0) == encoded_a\n",
    "assert lstm.get_output_at(1) == encoded_b\n"
   ]
  },
  {
   "cell_type": "code",
   "execution_count": null,
   "metadata": {
    "collapsed": true
   },
   "outputs": [],
   "source": [
    "from keras.layers import Conv2D\n",
    "a = Input(shape=(32,32,3))\n",
    "b = Input(shape=(64,64,3))\n",
    "\n",
    "#one input\n",
    "conv = Conv2D(16 , (3,3) , padding='same')\n",
    "conved_a = conv(a)\n",
    "\n",
    "assert conv.input_shape == (None , 32 , 32 , 3)\n",
    "\n",
    "#multiple input\n",
    "conved_b = conv(b)\n",
    "\n",
    "assert conv.get_input_shape_at(0) == (None , 32 , 32 , 3)\n",
    "assert conv.get_input_shape_at(1) == (None , 64 , 64 , 3)\n"
   ]
  },
  {
   "cell_type": "code",
   "execution_count": null,
   "metadata": {
    "collapsed": true
   },
   "outputs": [],
   "source": [
    "#google inception model\n",
    "\n",
    "from keras.layers import Conv2D , MaxPooling2D , Input\n",
    "\n",
    "input_img = Input(shape=(256,256,3))\n",
    "\n",
    "tower_1 = Conv2D(64 , (1,1) , padding='same',\n",
    "                activation='relu')(input_img)\n",
    "tower_1 = Conv2D(64 , (3,3) , padding='same',\n",
    "                activation='relu')(tower_1)\n",
    "\n",
    "tower_2 = Conv2D(64 , (1,1) , padding='same',\n",
    "                activation='relu')(input_img)\n",
    "tower_1 = Conv2D(64 , (5,5) , padding='same',\n",
    "                activation='relu')(tower_2)\n",
    "\n",
    "tower_3 = MaxPooling2D((3,3) , strides=(1,1) , padding='same')(input_img)\n",
    "tower_3 = Conv2D(64 , (1,1) , padding='same',\n",
    "                 activation='relu')(tower_3)\n",
    "\n",
    "output = keras.layers.concatenate([tower_1 , tower_2 , tower_3] , axis=1)"
   ]
  },
  {
   "cell_type": "code",
   "execution_count": null,
   "metadata": {
    "collapsed": true
   },
   "outputs": [],
   "source": [
    "#residual netword\n"
   ]
  }
 ],
 "metadata": {
  "kernelspec": {
   "display_name": "Python 3",
   "language": "python",
   "name": "python3"
  },
  "language_info": {
   "codemirror_mode": {
    "name": "ipython",
    "version": 3
   },
   "file_extension": ".py",
   "mimetype": "text/x-python",
   "name": "python",
   "nbconvert_exporter": "python",
   "pygments_lexer": "ipython3",
   "version": "3.6.0"
  }
 },
 "nbformat": 4,
 "nbformat_minor": 2
}
