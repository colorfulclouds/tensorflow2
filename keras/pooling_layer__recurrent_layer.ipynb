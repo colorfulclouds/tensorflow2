{
 "cells": [
  {
   "cell_type": "code",
   "execution_count": null,
   "metadata": {
    "collapsed": true
   },
   "outputs": [],
   "source": [
    "#最大池化\n",
    "from keras.layers import MaxPool1D\n",
    "from keras.layers import MaxPool2D\n",
    "\n",
    "#下面目前只支持theano后端使用\n",
    "from keras.layers import MaxPool3D"
   ]
  },
  {
   "cell_type": "code",
   "execution_count": null,
   "metadata": {
    "collapsed": true
   },
   "outputs": [],
   "source": [
    "#平均池化\n",
    "from keras.layers import AveragePooling1D\n",
    "from keras.layers import AveragePooling2D\n",
    "\n",
    "##下面目前只支持theano后端使用\n",
    "from keras.layers import AveragePooling3D"
   ]
  },
  {
   "cell_type": "markdown",
   "metadata": {},
   "source": [
    "全局操作是在一个完整的样本上进行的 \n",
    "不跨越别的东西\n",
    "https://img-blog.csdn.net/20180311215530263?watermark/2/text/aHR0cDovL2Jsb2cuY3Nkbi5uZXQvcXFfMTYyMzQ2MTM=/font/5a6L5L2T/fontsize/400/fill/I0JBQkFCMA==/dissolve/70/gravity/SouthEast"
   ]
  },
  {
   "cell_type": "code",
   "execution_count": null,
   "metadata": {
    "collapsed": true
   },
   "outputs": [],
   "source": [
    "from keras.layers import GlobalMaxPooling1D\n",
    "from keras.layers import GlobalAveragePooling1D"
   ]
  },
  {
   "cell_type": "code",
   "execution_count": 1,
   "metadata": {
    "collapsed": true
   },
   "outputs": [],
   "source": [
    "from keras.layers import GlobalMaxPool2D\n",
    "from keras.layers import GlobalAveragePooling2D"
   ]
  },
  {
   "cell_type": "code",
   "execution_count": 2,
   "metadata": {
    "collapsed": false
   },
   "outputs": [
    {
     "data": {
      "text/plain": [
       "<keras.layers.pooling.GlobalMaxPooling2D at 0x274ad075908>"
      ]
     },
     "execution_count": 2,
     "metadata": {},
     "output_type": "execute_result"
    }
   ],
   "source": [
    "GlobalMaxPool2D()\n",
    "GlobalAveragePooling2D()"
   ]
  },
  {
   "cell_type": "code",
   "execution_count": 3,
   "metadata": {
    "collapsed": true
   },
   "outputs": [],
   "source": [
    "from keras.layers import GlobalMaxPool3D\n",
    "from keras.layers import GlobalAveragePooling3D"
   ]
  },
  {
   "cell_type": "code",
   "execution_count": 4,
   "metadata": {
    "collapsed": true
   },
   "outputs": [],
   "source": [
    "from keras.layers import GlobalAvgPool3D"
   ]
  },
  {
   "cell_type": "code",
   "execution_count": 5,
   "metadata": {
    "collapsed": true
   },
   "outputs": [],
   "source": [
    "from keras.layers import LocallyConnected1D\n",
    "from keras.layers import LocallyConnected2D\n",
    "#局部连接层\n",
    "#和CONV1D CONV2D 类似\n",
    "#唯一不同的是权值不共享 不同的位置 权值是不一样的"
   ]
  },
  {
   "cell_type": "markdown",
   "metadata": {},
   "source": [
    "### recurrent layer"
   ]
  },
  {
   "cell_type": "code",
   "execution_count": 7,
   "metadata": {
    "collapsed": true
   },
   "outputs": [],
   "source": [
    "from keras.layers import LSTM\n",
    "from keras.models import Sequential"
   ]
  },
  {
   "cell_type": "code",
   "execution_count": 8,
   "metadata": {
    "collapsed": true
   },
   "outputs": [],
   "source": [
    "model = Sequential()\n",
    "model.add(LSTM(32 , input_shape=(10,64)))"
   ]
  },
  {
   "cell_type": "code",
   "execution_count": 9,
   "metadata": {
    "collapsed": false
   },
   "outputs": [
    {
     "name": "stdout",
     "output_type": "stream",
     "text": [
      "_________________________________________________________________\n",
      "Layer (type)                 Output Shape              Param #   \n",
      "=================================================================\n",
      "lstm_1 (LSTM)                (None, 32)                12416     \n",
      "=================================================================\n",
      "Total params: 12,416\n",
      "Trainable params: 12,416\n",
      "Non-trainable params: 0\n",
      "_________________________________________________________________\n"
     ]
    }
   ],
   "source": [
    "model.summary()"
   ]
  },
  {
   "cell_type": "code",
   "execution_count": 13,
   "metadata": {
    "collapsed": false
   },
   "outputs": [
    {
     "name": "stderr",
     "output_type": "stream",
     "text": [
      "I:\\Anaconda3\\lib\\site-packages\\ipykernel\\__main__.py:3: UserWarning: The `input_dim` and `input_length` arguments in recurrent layers are deprecated. Use `input_shape` instead.\n",
      "  app.launch_new_instance()\n",
      "I:\\Anaconda3\\lib\\site-packages\\ipykernel\\__main__.py:3: UserWarning: Update your `LSTM` call to the Keras 2 API: `LSTM(32, return_sequences=True, input_shape=(10, 64))`\n",
      "  app.launch_new_instance()\n"
     ]
    },
    {
     "name": "stdout",
     "output_type": "stream",
     "text": [
      "_________________________________________________________________\n",
      "Layer (type)                 Output Shape              Param #   \n",
      "=================================================================\n",
      "lstm_5 (LSTM)                (None, 10, 32)            12416     \n",
      "_________________________________________________________________\n",
      "lstm_6 (LSTM)                (None, 16)                3136      \n",
      "=================================================================\n",
      "Total params: 15,552\n",
      "Trainable params: 15,552\n",
      "Non-trainable params: 0\n",
      "_________________________________________________________________\n"
     ]
    }
   ],
   "source": [
    "#两种写法一样\n",
    "model = Sequential()\n",
    "model.add(LSTM(32 , input_dim = 64 , input_length = 10 , return_sequences=True))\n",
    "\n",
    "model.add(LSTM(16))\n",
    "\n",
    "model.summary()"
   ]
  },
  {
   "cell_type": "code",
   "execution_count": 16,
   "metadata": {
    "collapsed": false
   },
   "outputs": [
    {
     "data": {
      "text/plain": [
       "<tf.Tensor 'lstm_5/transpose_1:0' shape=(?, ?, 32) dtype=float32>"
      ]
     },
     "execution_count": 16,
     "metadata": {},
     "output_type": "execute_result"
    }
   ],
   "source": [
    "model.layers[1].input"
   ]
  },
  {
   "cell_type": "code",
   "execution_count": 17,
   "metadata": {
    "collapsed": false
   },
   "outputs": [
    {
     "name": "stdout",
     "output_type": "stream",
     "text": [
      "_________________________________________________________________\n",
      "Layer (type)                 Output Shape              Param #   \n",
      "=================================================================\n",
      "lstm_7 (LSTM)                (None, 10, 64)            33024     \n",
      "_________________________________________________________________\n",
      "lstm_8 (LSTM)                (None, 10, 32)            12416     \n",
      "_________________________________________________________________\n",
      "lstm_9 (LSTM)                (None, 10)                1720      \n",
      "=================================================================\n",
      "Total params: 47,160\n",
      "Trainable params: 47,160\n",
      "Non-trainable params: 0\n",
      "_________________________________________________________________\n"
     ]
    }
   ],
   "source": [
    "#堆叠循环层时 必须将return_sequences指定为True\n",
    "model = Sequential()\n",
    "model.add(LSTM(64 , input_shape=(10 , 64) , return_sequences=True))\n",
    "model.add(LSTM(32 , return_sequences=True))\n",
    "model.add(LSTM(10))\n",
    "\n",
    "model.summary()"
   ]
  },
  {
   "cell_type": "code",
   "execution_count": 18,
   "metadata": {
    "collapsed": true
   },
   "outputs": [],
   "source": [
    "#全连接RNN 输出会被回馈到输入\n",
    "from keras.layers import SimpleRNN\n",
    "\n",
    "\n",
    "from keras.layers import GRU"
   ]
  },
  {
   "cell_type": "code",
   "execution_count": null,
   "metadata": {
    "collapsed": true
   },
   "outputs": [],
   "source": [
    "#LSTM网络 但是输入变换 循环变换是通过卷积实现 但是cell还是原始方式（原始的是w*x形式实现）\n",
    "from keras.layers import ConvLSTM2D\n"
   ]
  },
  {
   "cell_type": "code",
   "execution_count": 19,
   "metadata": {
    "collapsed": true
   },
   "outputs": [],
   "source": [
    "from keras.layers import LSTMCell\n",
    "from keras.layers import GRUCell\n",
    "from keras.layers import SimpleRNNCell"
   ]
  },
  {
   "cell_type": "code",
   "execution_count": 20,
   "metadata": {
    "collapsed": true
   },
   "outputs": [],
   "source": [
    "from keras.layers import StackedRNNCells\n",
    "from keras.models import Model\n",
    "from keras.layers import Input\n",
    "#将多个RNN cell堆叠起来\n",
    "\n",
    "cells=[\n",
    "    LSTMCell(output_dim),\n",
    "    LSTMCell(output_dim),\n",
    "    LSTMCell(output_dim),\n",
    "\n",
    "]\n",
    "\n",
    "inputs = Input((timesteps , input_dim))\n",
    "\n",
    "x = StackedRNNCells(cells)(inputs)"
   ]
  },
  {
   "cell_type": "code",
   "execution_count": null,
   "metadata": {
    "collapsed": true
   },
   "outputs": [],
   "source": [
    "#使用cudnn加速 只能在GPU上运行 只能tensorflow为后端\n",
    "from keras.layers import CuDNNGRU\n",
    "from keras.layers import CuDNNLSTM"
   ]
  }
 ],
 "metadata": {
  "kernelspec": {
   "display_name": "Python 3",
   "language": "python",
   "name": "python3"
  },
  "language_info": {
   "codemirror_mode": {
    "name": "ipython",
    "version": 3
   },
   "file_extension": ".py",
   "mimetype": "text/x-python",
   "name": "python",
   "nbconvert_exporter": "python",
   "pygments_lexer": "ipython3",
   "version": "3.6.0"
  }
 },
 "nbformat": 4,
 "nbformat_minor": 2
}
