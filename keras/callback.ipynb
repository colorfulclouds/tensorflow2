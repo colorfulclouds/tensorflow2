{
 "cells": [
  {
   "cell_type": "code",
   "execution_count": 1,
   "metadata": {
    "collapsed": true
   },
   "outputs": [],
   "source": [
    "#回调函数是一组在训练的特定阶段被调用的函数集\n",
    "#可以使用回调函数查看训练过程中网络内部的状态和信息\n",
    "#比如 earlystopping 方法\n",
    "from keras import callbacks"
   ]
  },
  {
   "cell_type": "code",
   "execution_count": null,
   "metadata": {
    "collapsed": true
   },
   "outputs": [],
   "source": [
    "#class\n",
    "#callbacks.Callback\n",
    "#自定义回电函数 必须继承这个类"
   ]
  },
  {
   "cell_type": "code",
   "execution_count": 10,
   "metadata": {
    "collapsed": true
   },
   "outputs": [],
   "source": [
    "from keras.models import Sequential\n",
    "from keras.layers import Dense\n",
    "import numpy as np\n",
    "\n",
    "model = Sequential()\n",
    "model.add(Dense(10 , input_dim=784 ,activation='softmax'))\n",
    "\n",
    "model.compile(optimizer='sgd' , loss='categorical_crossentropy')\n"
   ]
  },
  {
   "cell_type": "code",
   "execution_count": 14,
   "metadata": {
    "collapsed": true
   },
   "outputs": [
    {
     "name": "stdout",
     "output_type": "stream",
     "text": [
      "Epoch 1/10\n",
      "Epoch 1/10\n",
      "100/100 [==============================] - 0s 160us/step - loss: 617.7413\b\b\b\b\b\b\b\b\b\b\b\b\b\b\b\b\b\b\b\b\b\b\b\b\b\b\b\b\b\b\b\b\b\b\b\b\b\b\b\b\b\b\b\b\b\b\b\b\b\b\b\b\b\b\b\b\b\b\b\b\b\n",
      "100/100 [==============================] - 0s 170us/step - loss: 617.7413\n",
      "Epoch 2/10\n",
      "Epoch 2/10\n",
      "100/100 [==============================] - 0s 140us/step - loss: 624.1496\b\b\b\b\b\b\b\b\b\b\b\b\b\b\b\b\b\b\b\b\b\b\b\b\b\b\b\b\b\b\b\b\b\b\b\b\b\b\b\b\b\b\b\b\b\b\b\b\b\b\b\b\b\b\b\b\b\b\b\b\b\n",
      "100/100 [==============================] - 0s 160us/step - loss: 624.1496\n",
      "Epoch 3/10\n",
      "Epoch 3/10\n",
      "100/100 [==============================] - 0s 170us/step - loss: 626.8449\b\b\b\b\b\b\b\b\b\b\b\b\b\b\b\b\b\b\b\b\b\b\b\b\b\b\b\b\b\b\b\b\b\b\b\b\b\b\b\b\b\b\b\b\b\b\b\b\b\b\b\b\b\b\b\b\b\b\b\b\b\n",
      "100/100 [==============================] - 0s 180us/step - loss: 626.8449\n",
      "Epoch 4/10\n",
      "Epoch 4/10\n",
      "100/100 [==============================] - 0s 160us/step - loss: 614.0162\b\b\b\b\b\b\b\b\b\b\b\b\b\b\b\b\b\b\b\b\b\b\b\b\b\b\b\b\b\b\b\b\b\b\b\b\b\b\b\b\b\b\b\b\b\b\b\b\b\b\b\b\b\b\b\b\b\b\b\b\b\n",
      "100/100 [==============================] - 0s 180us/step - loss: 614.0162\n",
      "Epoch 5/10\n",
      "Epoch 5/10\n",
      "100/100 [==============================] - 0s 165us/step - loss: 601.7025\b\b\b\b\b\b\b\b\b\b\b\b\b\b\b\b\b\b\b\b\b\b\b\b\b\b\b\b\b\b\b\b\b\b\b\b\b\b\b\b\b\b\b\b\b\b\b\b\b\b\b\b\b\b\b\b\b\b\b\b\b\n",
      "100/100 [==============================] - 0s 175us/step - loss: 601.7025\n",
      "Epoch 6/10\n",
      "Epoch 6/10\n",
      "100/100 [==============================] - 0s 140us/step - loss: 619.5929\b\b\b\b\b\b\b\b\b\b\b\b\b\b\b\b\b\b\b\b\b\b\b\b\b\b\b\b\b\b\b\b\b\b\b\b\b\b\b\b\b\b\b\b\b\b\b\b\b\b\b\b\b\b\b\b\b\b\b\b\b\n",
      "100/100 [==============================] - 0s 160us/step - loss: 619.5929\n",
      "Epoch 7/10\n",
      "Epoch 7/10\n",
      "100/100 [==============================] - 0s 170us/step - loss: 617.8476\b\b\b\b\b\b\b\b\b\b\b\b\b\b\b\b\b\b\b\b\b\b\b\b\b\b\b\b\b\b\b\b\b\b\b\b\b\b\b\b\b\b\b\b\b\b\b\b\b\b\b\b\b\b\b\b\b\b\b\b\b\n",
      "100/100 [==============================] - 0s 190us/step - loss: 617.8476\n",
      "Epoch 8/10\n",
      "Epoch 8/10\n",
      "100/100 [==============================] - 0s 130us/step - loss: 605.5915\b\b\b\b\b\b\b\b\b\b\b\b\b\b\b\b\b\b\b\b\b\b\b\b\b\b\b\b\b\b\b\b\b\b\b\b\b\b\b\b\b\b\b\b\b\b\b\b\b\b\b\b\b\b\b\b\b\b\b\b\b\n",
      "100/100 [==============================] - 0s 150us/step - loss: 605.5915\n",
      "Epoch 9/10\n",
      "Epoch 9/10\n",
      "100/100 [==============================] - 0s 140us/step - loss: 617.9463\b\b\b\b\b\b\b\b\b\b\b\b\b\b\b\b\b\b\b\b\b\b\b\b\b\b\b\b\b\b\b\b\b\b\b\b\b\b\b\b\b\b\b\b\b\b\b\b\b\b\b\b\b\b\b\b\b\b\b\b\b\n",
      "100/100 [==============================] - 0s 155us/step - loss: 617.9463\n",
      "Epoch 10/10\n",
      "Epoch 10/10\n",
      "100/100 [==============================] - 0s 150us/step - loss: 599.6597\b\b\b\b\b\b\b\b\b\b\b\b\b\b\b\b\b\b\b\b\b\b\b\b\b\b\b\b\b\b\b\b\b\b\b\b\b\b\b\b\b\b\b\b\b\b\b\b\b\b\b\b\b\b\b\b\b\b\b\b\b\n",
      "100/100 [==============================] - 0s 165us/step - loss: 599.6597\n"
     ]
    },
    {
     "data": {
      "text/plain": [
       "<keras.callbacks.History at 0x1379440bb38>"
      ]
     },
     "execution_count": 14,
     "metadata": {},
     "output_type": "execute_result"
    }
   ],
   "source": [
    "X = np.random.random(size=(100 , 784))\n",
    "y = np.random.randint(low=10 , size=(100 , 10))\n",
    "\n",
    "model.fit(X , y , callbacks=[callbacks.ProgbarLogger()])"
   ]
  },
  {
   "cell_type": "code",
   "execution_count": null,
   "metadata": {
    "collapsed": true
   },
   "outputs": [],
   "source": [
    "from keras from callbacks\n",
    "#下面两个已经集成到了model中 会在keras上自动调用\n",
    "callbacks.BaseLogger\n",
    "callbacks.History\n",
    "\n",
    "callbacks.ProgbarLogger\n",
    "#每个epoch保存模型\n",
    "callbacks.ModelCheckpoint\n",
    "#参数 mode：‘auto’，‘min’，‘max’之一，\n",
    "#在save_best_only=True时决定性能最佳模型的评判准则，\n",
    "#例如，当监测值为val_acc时，模式应为max，当检测值为val_loss时，模式应为min。\n",
    "#在auto模式下，评价准则由被监测值的名字自动推断。\n",
    "#同earlystopping中的mode参数"
   ]
  },
  {
   "cell_type": "code",
   "execution_count": null,
   "metadata": {
    "collapsed": true
   },
   "outputs": [],
   "source": [
    "callbacks.EarlyStopping\n",
    "#mode：‘auto’，‘min’，‘max’之一，\n",
    "#在min模式下，如果检测值停止下降则中止训练。\n",
    "#在max模式下，当检测值不再上升则停止训练。\n",
    "#和ModelCheckpoint 的mode意义相同"
   ]
  },
  {
   "cell_type": "code",
   "execution_count": null,
   "metadata": {
    "collapsed": true
   },
   "outputs": [],
   "source": [
    "#http://keras-cn.readthedocs.io/en/latest/other/callbacks/"
   ]
  },
  {
   "cell_type": "code",
   "execution_count": null,
   "metadata": {
    "collapsed": true
   },
   "outputs": [],
   "source": []
  }
 ],
 "metadata": {
  "kernelspec": {
   "display_name": "Python 3",
   "language": "python",
   "name": "python3"
  },
  "language_info": {
   "codemirror_mode": {
    "name": "ipython",
    "version": 3
   },
   "file_extension": ".py",
   "mimetype": "text/x-python",
   "name": "python",
   "nbconvert_exporter": "python",
   "pygments_lexer": "ipython3",
   "version": "3.6.0"
  }
 },
 "nbformat": 4,
 "nbformat_minor": 2
}
