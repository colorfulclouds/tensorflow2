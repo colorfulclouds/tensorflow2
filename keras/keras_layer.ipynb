{
 "cells": [
  {
   "cell_type": "code",
   "execution_count": 1,
   "metadata": {
    "collapsed": true
   },
   "outputs": [],
   "source": [
    "from keras import layers"
   ]
  },
  {
   "cell_type": "code",
   "execution_count": 2,
   "metadata": {
    "collapsed": true
   },
   "outputs": [],
   "source": [
    "from keras.models import Sequential\n",
    "from keras.layers import Dense"
   ]
  },
  {
   "cell_type": "code",
   "execution_count": 3,
   "metadata": {
    "collapsed": true
   },
   "outputs": [],
   "source": [
    "model = Sequential()\n",
    "\n",
    "model.add(Dense(32,input_dim = 784))\n",
    "model.add(Dense(10 , activation='softmax'))"
   ]
  },
  {
   "cell_type": "code",
   "execution_count": 8,
   "metadata": {
    "collapsed": true
   },
   "outputs": [
    {
     "data": {
      "text/plain": [
       "[array([[ 0.04300006,  0.0339147 , -0.03444719, ...,  0.0633276 ,\n",
       "          0.05093934, -0.05984388],\n",
       "        [-0.04292874,  0.07495474, -0.0763049 , ..., -0.08554589,\n",
       "          0.04086911, -0.04507618],\n",
       "        [ 0.00880529, -0.00379819, -0.0156771 , ...,  0.05367864,\n",
       "          0.05900005,  0.00782073],\n",
       "        ...,\n",
       "        [ 0.05838151, -0.03405278, -0.03218485, ...,  0.02120452,\n",
       "          0.03009786,  0.01550423],\n",
       "        [-0.00374037, -0.01747674,  0.05625974, ...,  0.07175777,\n",
       "         -0.03924921,  0.06642094],\n",
       "        [ 0.07443877, -0.02073202, -0.04034144, ...,  0.01158834,\n",
       "         -0.07829209,  0.03086971]], dtype=float32),\n",
       " array([0., 0., 0., 0., 0., 0., 0., 0., 0., 0., 0., 0., 0., 0., 0., 0., 0.,\n",
       "        0., 0., 0., 0., 0., 0., 0., 0., 0., 0., 0., 0., 0., 0., 0.],\n",
       "       dtype=float32)]"
      ]
     },
     "execution_count": 8,
     "metadata": {},
     "output_type": "execute_result"
    }
   ],
   "source": [
    "model.layers[0].get_weights() #获取层的权重\n",
    "model.layers[0].set_weights(weights) #设置权重 shape必须相同\n",
    "\n",
    "model.layers[0].get_config() #获取配置的详细信息"
   ]
  },
  {
   "cell_type": "code",
   "execution_count": 9,
   "metadata": {
    "collapsed": true
   },
   "outputs": [
    {
     "data": {
      "text/plain": [
       "{'activation': 'linear',\n",
       " 'activity_regularizer': None,\n",
       " 'batch_input_shape': (None, 784),\n",
       " 'bias_constraint': None,\n",
       " 'bias_initializer': {'class_name': 'Zeros', 'config': {}},\n",
       " 'bias_regularizer': None,\n",
       " 'dtype': 'float32',\n",
       " 'kernel_constraint': None,\n",
       " 'kernel_initializer': {'class_name': 'VarianceScaling',\n",
       "  'config': {'distribution': 'uniform',\n",
       "   'mode': 'fan_avg',\n",
       "   'scale': 1.0,\n",
       "   'seed': None}},\n",
       " 'kernel_regularizer': None,\n",
       " 'name': 'dense_1',\n",
       " 'trainable': True,\n",
       " 'units': 32,\n",
       " 'use_bias': True}"
      ]
     },
     "execution_count": 9,
     "metadata": {},
     "output_type": "execute_result"
    }
   ],
   "source": [
    "save_config = model.layers[0].get_config() #获取配置的详细信息\n",
    "#恢复层 method 1\n",
    "layer = Dense.from_config(save_config)\n",
    "#method 2\n",
    "layer = layers.deserialize({'class_name':model.layers[0].__class__.__name__,\n",
    "                            'config': save_config})"
   ]
  },
  {
   "cell_type": "code",
   "execution_count": 16,
   "metadata": {
    "collapsed": false
   },
   "outputs": [
    {
     "data": {
      "text/plain": [
       "(None, 32)"
      ]
     },
     "execution_count": 16,
     "metadata": {},
     "output_type": "execute_result"
    }
   ],
   "source": [
    "#一个输入 一个输出\n",
    "model.layers[0].input\n",
    "model.layers[0].output\n",
    "\n",
    "model.layers[0].input_shape\n",
    "model.layers[0].output_shape"
   ]
  },
  {
   "cell_type": "code",
   "execution_count": 17,
   "metadata": {
    "collapsed": true
   },
   "outputs": [
    {
     "ename": "AttributeError",
     "evalue": "'list' object has no attribute 'get_input_at'",
     "output_type": "error",
     "traceback": [
      "\u001b[0;31m---------------------------------------------------------------------------\u001b[0m",
      "\u001b[0;31mAttributeError\u001b[0m                            Traceback (most recent call last)",
      "\u001b[0;32m<ipython-input-17-9d1572ff2c22>\u001b[0m in \u001b[0;36m<module>\u001b[0;34m()\u001b[0m\n\u001b[1;32m      1\u001b[0m \u001b[1;31m#multiple inputs and outputs\u001b[0m\u001b[1;33m\u001b[0m\u001b[1;33m\u001b[0m\u001b[0m\n\u001b[0;32m----> 2\u001b[0;31m \u001b[0mmodel\u001b[0m\u001b[1;33m.\u001b[0m\u001b[0mlayers\u001b[0m\u001b[1;33m.\u001b[0m\u001b[0mget_input_at\u001b[0m\u001b[1;33m(\u001b[0m\u001b[1;36m0\u001b[0m\u001b[1;33m)\u001b[0m\u001b[1;33m\u001b[0m\u001b[0m\n\u001b[0m",
      "\u001b[0;31mAttributeError\u001b[0m: 'list' object has no attribute 'get_input_at'"
     ]
    }
   ],
   "source": [
    "#multiple inputs and outputs\n",
    "model.layers.get_input_at(index)\n",
    "model.layers.get_output_at(index)\n",
    "\n",
    "model.layers.get_input_shape_at(index)\n",
    "model.layers.get_output_shape_at(index)"
   ]
  },
  {
   "cell_type": "code",
   "execution_count": null,
   "metadata": {
    "collapsed": true
   },
   "outputs": [],
   "source": [
    "#regularizer 正则项\n",
    "\n",
    "#constraint 约束项"
   ]
  },
  {
   "cell_type": "code",
   "execution_count": null,
   "metadata": {
    "collapsed": true
   },
   "outputs": [],
   "source": [
    "#Flatten layer 将数据一维化 不影响batch size\n",
    "\n",
    "#Reshape layer 参数中不包含batch size信息"
   ]
  },
  {
   "cell_type": "code",
   "execution_count": 20,
   "metadata": {
    "collapsed": false
   },
   "outputs": [
    {
     "name": "stdout",
     "output_type": "stream",
     "text": [
      "_________________________________________________________________\n",
      "Layer (type)                 Output Shape              Param #   \n",
      "=================================================================\n",
      "reshape_3 (Reshape)          (None, 3, 4)              0         \n",
      "_________________________________________________________________\n",
      "reshape_4 (Reshape)          (None, 6, 2)              0         \n",
      "_________________________________________________________________\n",
      "reshape_5 (Reshape)          (None, 3, 2, 2)           0         \n",
      "=================================================================\n",
      "Total params: 0\n",
      "Trainable params: 0\n",
      "Non-trainable params: 0\n",
      "_________________________________________________________________\n"
     ]
    }
   ],
   "source": [
    "from keras.layers import Reshape\n",
    "\n",
    "model = Sequential()\n",
    "model.add( Reshape((3,4) , input_shape = (12 , )))\n",
    "\n",
    "model.add( Reshape((6 , 2)) )\n",
    "\n",
    "model.add( Reshape((-1 , 2 , 2)) )\n",
    "\n",
    "model.summary()"
   ]
  },
  {
   "cell_type": "code",
   "execution_count": 22,
   "metadata": {
    "collapsed": false
   },
   "outputs": [
    {
     "name": "stdout",
     "output_type": "stream",
     "text": [
      "_________________________________________________________________\n",
      "Layer (type)                 Output Shape              Param #   \n",
      "=================================================================\n",
      "permute_2 (Permute)          (None, 64, 10)            0         \n",
      "=================================================================\n",
      "Total params: 0\n",
      "Trainable params: 0\n",
      "Non-trainable params: 0\n",
      "_________________________________________________________________\n"
     ]
    }
   ],
   "source": [
    "#Permute layer 按照axis重新排列数据\n",
    "#RNN 和 CNN对接时 使用\n",
    "#广义转置\n",
    "from keras.layers import Permute\n",
    "\n",
    "#layer 参数 input_shape指定单个样本的shape\n",
    "model = Sequential()\n",
    "model.add(Permute((2,1) , input_shape=(10, 64)))\n",
    "\n",
    "model.summary()"
   ]
  },
  {
   "cell_type": "code",
   "execution_count": 23,
   "metadata": {
    "collapsed": false
   },
   "outputs": [
    {
     "name": "stdout",
     "output_type": "stream",
     "text": [
      "_________________________________________________________________\n",
      "Layer (type)                 Output Shape              Param #   \n",
      "=================================================================\n",
      "dense_3 (Dense)              (None, 32)                1056      \n",
      "_________________________________________________________________\n",
      "repeat_vector_1 (RepeatVecto (None, 3, 32)             0         \n",
      "=================================================================\n",
      "Total params: 1,056\n",
      "Trainable params: 1,056\n",
      "Non-trainable params: 0\n",
      "_________________________________________________________________\n"
     ]
    }
   ],
   "source": [
    "#RepeatVector layer 重复层\n",
    "from keras.layers import RepeatVector\n",
    "\n",
    "model = Sequential()\n",
    "model.add(Dense(32 , input_dim = 32))\n",
    "\n",
    "model.add(RepeatVector(3))\n",
    "\n",
    "model.summary()\n"
   ]
  },
  {
   "cell_type": "code",
   "execution_count": 26,
   "metadata": {
    "collapsed": false
   },
   "outputs": [],
   "source": [
    "#Lambda layer 对上一层输出结果施加一个运算操作\n",
    "from keras.layers import Lambda\n",
    "import keras.backend as K\n",
    "\n",
    "def antirectifier(x):\n",
    "    x -= K.mean(x , axis = 1 , keepdims=True)\n",
    "    x = K.l2_normalize(x , axis = 1)\n",
    "    \n",
    "    pos = K.relu(x)\n",
    "    neg = K.relu(-x)\n",
    "    \n",
    "    #将数据维度增大一倍\n",
    "    return K.concatenate([pos , neg] , axis = 1)\n",
    "\n",
    "def antirectifier_output_shape(input_shape):\n",
    "    shape = list(input_shape)\n",
    "    \n",
    "    assert len(shape) == 3\n",
    "    \n",
    "    shape[-1] *= 2\n",
    "    \n",
    "    return tuple(shape)\n",
    "\n",
    "model.add(Lambda(antirectifier , output_shape=antirectifier_output_shape))"
   ]
  },
  {
   "cell_type": "code",
   "execution_count": 27,
   "metadata": {
    "collapsed": false
   },
   "outputs": [
    {
     "name": "stdout",
     "output_type": "stream",
     "text": [
      "_________________________________________________________________\n",
      "Layer (type)                 Output Shape              Param #   \n",
      "=================================================================\n",
      "dense_3 (Dense)              (None, 32)                1056      \n",
      "_________________________________________________________________\n",
      "repeat_vector_1 (RepeatVecto (None, 3, 32)             0         \n",
      "_________________________________________________________________\n",
      "lambda_2 (Lambda)            (None, 3, 64)             0         \n",
      "=================================================================\n",
      "Total params: 1,056\n",
      "Trainable params: 1,056\n",
      "Non-trainable params: 0\n",
      "_________________________________________________________________\n"
     ]
    }
   ],
   "source": [
    "model.summary()"
   ]
  },
  {
   "cell_type": "code",
   "execution_count": 28,
   "metadata": {
    "collapsed": true
   },
   "outputs": [],
   "source": [
    "model.add(Lambda(lambda x: x**2))\n",
    "#每个元素去平方"
   ]
  },
  {
   "cell_type": "code",
   "execution_count": 29,
   "metadata": {
    "collapsed": false
   },
   "outputs": [
    {
     "name": "stdout",
     "output_type": "stream",
     "text": [
      "_________________________________________________________________\n",
      "Layer (type)                 Output Shape              Param #   \n",
      "=================================================================\n",
      "dense_3 (Dense)              (None, 32)                1056      \n",
      "_________________________________________________________________\n",
      "repeat_vector_1 (RepeatVecto (None, 3, 32)             0         \n",
      "_________________________________________________________________\n",
      "lambda_2 (Lambda)            (None, 3, 64)             0         \n",
      "_________________________________________________________________\n",
      "lambda_3 (Lambda)            (None, 3, 64)             0         \n",
      "=================================================================\n",
      "Total params: 1,056\n",
      "Trainable params: 1,056\n",
      "Non-trainable params: 0\n",
      "_________________________________________________________________\n"
     ]
    }
   ],
   "source": [
    "model.summary()"
   ]
  },
  {
   "cell_type": "code",
   "execution_count": 30,
   "metadata": {
    "collapsed": true
   },
   "outputs": [],
   "source": [
    "#ActivityRegularizer layer 基于激活值更新损失函数值\n",
    "from keras.layers import ActivityRegularization\n",
    "\n",
    "model.add(ActivityRegularization())"
   ]
  },
  {
   "cell_type": "code",
   "execution_count": 31,
   "metadata": {
    "collapsed": false
   },
   "outputs": [
    {
     "name": "stdout",
     "output_type": "stream",
     "text": [
      "_________________________________________________________________\n",
      "Layer (type)                 Output Shape              Param #   \n",
      "=================================================================\n",
      "dense_3 (Dense)              (None, 32)                1056      \n",
      "_________________________________________________________________\n",
      "repeat_vector_1 (RepeatVecto (None, 3, 32)             0         \n",
      "_________________________________________________________________\n",
      "lambda_2 (Lambda)            (None, 3, 64)             0         \n",
      "_________________________________________________________________\n",
      "lambda_3 (Lambda)            (None, 3, 64)             0         \n",
      "_________________________________________________________________\n",
      "activity_regularization_1 (A (None, 3, 64)             0         \n",
      "=================================================================\n",
      "Total params: 1,056\n",
      "Trainable params: 1,056\n",
      "Non-trainable params: 0\n",
      "_________________________________________________________________\n"
     ]
    }
   ],
   "source": [
    "model.summary()"
   ]
  },
  {
   "cell_type": "code",
   "execution_count": null,
   "metadata": {
    "collapsed": true
   },
   "outputs": [],
   "source": [
    "#Masking layer 对输入序列信号进行屏蔽\n",
    "from keras.layers import Masking\n",
    "from keras.layers import LSTM\n",
    "\n",
    "model = Sequential()\n",
    "model.add(Masking(mask_value = 0.0 , input_shape(timesteps,features)))\n",
    "model.add(LSTM(32))"
   ]
  }
 ],
 "metadata": {
  "kernelspec": {
   "display_name": "Python 3",
   "language": "python",
   "name": "python3"
  },
  "language_info": {
   "codemirror_mode": {
    "name": "ipython",
    "version": 3
   },
   "file_extension": ".py",
   "mimetype": "text/x-python",
   "name": "python",
   "nbconvert_exporter": "python",
   "pygments_lexer": "ipython3",
   "version": "3.6.0"
  }
 },
 "nbformat": 4,
 "nbformat_minor": 2
}
