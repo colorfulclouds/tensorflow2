{
 "cells": [
  {
   "cell_type": "code",
   "execution_count": null,
   "metadata": {
    "collapsed": true
   },
   "outputs": [],
   "source": [
    "#keras的应用模块提供了预训练的keras模型权重\n",
    "#可以用来预测 特征提取 参数调优\n",
    "#模型的参数会下载到 类unix: ~/.keras/models/ \n",
    "#windows: %USERPROFILE%/.keras/models/"
   ]
  },
  {
   "cell_type": "code",
   "execution_count": 1,
   "metadata": {
    "collapsed": true
   },
   "outputs": [],
   "source": [
    "#使用keras的预训练参数 示例\n",
    "#resnet50\n",
    "from keras.applications.resnet50 import ResNet50\n",
    "from keras.preprocessing import image\n",
    "from keras.applications.resnet50 import preprocess_input , decode_predictions\n",
    "import numpy as np\n",
    "\n",
    "\n",
    "model = ResNet50(weights='imagenet')\n",
    "\n",
    "img_path = 'dog.jpg'\n",
    "img = image.load_img(img_path , target_size=(224,224))\n",
    "\n",
    "x = image.img_to_array(img)\n",
    "x = np.expand_dims(x , axis=0)\n",
    "x = preprocess_input(x)\n",
    "\n",
    "preds = model.predict(x)\n",
    "\n",
    "print('prediction' , decode_predictions(preds , top=3)[0])"
   ]
  },
  {
   "cell_type": "code",
   "execution_count": 2,
   "metadata": {
    "collapsed": true
   },
   "outputs": [],
   "source": [
    "#vgg16 特征提取\n",
    "from keras.applications.vgg16 import VGG16\n",
    "from keras.preprocessing import image\n",
    "from keras.applications.vgg16 import preprocess_input\n",
    "from keras.models import Model\n",
    "import numpy as np\n",
    "\n",
    "\n",
    "base_model = VGG16(weights='imagenet' , include_top=False)\n",
    "#构建中间模型\n",
    "model = Model(inputs = base_model.input , outputs=base_model.get_layer('block4_pool').output)\n",
    "\n",
    "img_path = 'cat.jpg'\n",
    "img = image.load_img(img_path , target_size=(224,224))\n",
    "\n",
    "x=image.img_to_array(img)\n",
    "x=np.expand_dims(x , axis=0)\n",
    "x = preprocess_input(x)\n",
    "\n",
    "block4_pool_features = model.predict(x)"
   ]
  },
  {
   "cell_type": "code",
   "execution_count": 2,
   "metadata": {
    "collapsed": false
   },
   "outputs": [],
   "source": [
    "#inceptionv3 新的数据上参数调优（迁移学习） 冷冻一些层\n",
    "from keras.applications.inception_v3 import InceptionV3\n",
    "from keras.preprocessing import image\n",
    "from keras.models import Model\n",
    "from keras.layers import Dense , GlobalAveragePooling2D\n",
    "from keras import backend as K\n",
    "\n",
    "\n",
    "base_model = InceptionV3(weights='imagenet' , include_top=False)\n",
    "\n",
    "x = base_model.output\n",
    "x = GlobalAveragePooling2D()(x)\n",
    "x = Dense(1024 , activation='relu')(x)\n",
    "\n",
    "predictions = Dense(200 , activation='softmax')(x)\n",
    "\n",
    "model = Model(inputs=base_model.input , outputs=predictions)\n",
    "\n",
    "#将原始inceptionv3中的层全部冻结起来\n",
    "for layer in base_model.layers:\n",
    "    layer.trainable = False\n",
    "\n",
    "model.compile(optimizer='rmsprop' , loss='categorical_crossentropy')\n",
    "model.fit() #在自己的数据上训练\n",
    "#model.fit_generator()\n",
    "#局部调优 对一些层参数进行调优 冻结一些层 训练剩下的层\n",
    "for i , layer in enumerate(base_model.layers):\n",
    "    print(i , layer.name)\n",
    "#将前249层冻结 不训练\n",
    "for layer in model.layers[:249]:\n",
    "    layer.trainable = False\n",
    "#训练后面的层\n",
    "for layer in model.layers[249:]:\n",
    "    layer.trainable = True\n",
    "#重新compile层 重新训练\n",
    "model.compile(optimizer='sgd',loss='categorical_crossentropy')\n",
    "\n",
    "model.fit() #model.fit_generator()"
   ]
  },
  {
   "cell_type": "code",
   "execution_count": 4,
   "metadata": {
    "collapsed": true
   },
   "outputs": [],
   "source": [
    "from keras.applications.inception_v3 import InceptionV3\n",
    "from keras.layers import Input\n",
    "\n",
    "#自定制的tensor\n",
    "input_tensor = Input(shape=(224,224,3))\n",
    "\n",
    "model.InceptionV3(input_tensor=input_tensor ,weights='imagenet',include_top=True)"
   ]
  },
  {
   "cell_type": "code",
   "execution_count": 3,
   "metadata": {
    "collapsed": true
   },
   "outputs": [],
   "source": [
    "from keras.applications.xception import Xception\n",
    "\n",
    "#默认图片size 299*299\n",
    "Xception(include_top=True , weights='imagenet',\n",
    "        input_tensor = None , input_shape=None,\n",
    "        pooling = None , classes=1000)"
   ]
  },
  {
   "cell_type": "code",
   "execution_count": null,
   "metadata": {
    "collapsed": true
   },
   "outputs": [],
   "source": [
    "#xception\n",
    "#vgg16\n",
    "#vgg19\n",
    "#resnet50\n",
    "#inceptionv3\n",
    "#inceptionv4\n",
    "#inceptionresnetv2\n",
    "#mobilenet"
   ]
  }
 ],
 "metadata": {
  "kernelspec": {
   "display_name": "Python 3",
   "language": "python",
   "name": "python3"
  },
  "language_info": {
   "codemirror_mode": {
    "name": "ipython",
    "version": 3
   },
   "file_extension": ".py",
   "mimetype": "text/x-python",
   "name": "python",
   "nbconvert_exporter": "python",
   "pygments_lexer": "ipython3",
   "version": "3.6.0"
  }
 },
 "nbformat": 4,
 "nbformat_minor": 2
}
