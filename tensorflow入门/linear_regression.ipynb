{
 "cells": [
  {
   "cell_type": "code",
   "execution_count": 1,
   "metadata": {
    "collapsed": true
   },
   "outputs": [],
   "source": [
    "import tensorflow as tf\n",
    "import numpy as np"
   ]
  },
  {
   "cell_type": "code",
   "execution_count": 2,
   "metadata": {
    "collapsed": true
   },
   "outputs": [],
   "source": [
    "x_data = np.random.rand(100).astype(np.float32)\n",
    "y_data  = x_data*0.1 + 0.3"
   ]
  },
  {
   "cell_type": "code",
   "execution_count": 3,
   "metadata": {
    "collapsed": true
   },
   "outputs": [],
   "source": [
    "W = tf.Variable(tf.truncated_normal([1]))"
   ]
  },
  {
   "cell_type": "code",
   "execution_count": 4,
   "metadata": {
    "collapsed": true
   },
   "outputs": [],
   "source": [
    "b = tf.Variable(tf.zeros([1]))"
   ]
  },
  {
   "cell_type": "code",
   "execution_count": 5,
   "metadata": {
    "collapsed": true
   },
   "outputs": [],
   "source": [
    "y = W*x_data + b"
   ]
  },
  {
   "cell_type": "code",
   "execution_count": 6,
   "metadata": {
    "collapsed": true
   },
   "outputs": [],
   "source": [
    "loss = tf.reduce_mean(tf.square(y-y_data))"
   ]
  },
  {
   "cell_type": "code",
   "execution_count": 7,
   "metadata": {
    "collapsed": true
   },
   "outputs": [],
   "source": [
    "opti = tf.train.GradientDescentOptimizer(0.5).minimize(loss)"
   ]
  },
  {
   "cell_type": "code",
   "execution_count": 11,
   "metadata": {
    "collapsed": true
   },
   "outputs": [],
   "source": [
    "sess = tf.Session()\n",
    "sess.run(tf.global_variables_initializer())"
   ]
  },
  {
   "cell_type": "code",
   "execution_count": 14,
   "metadata": {},
   "outputs": [
    {
     "name": "stdout",
     "output_type": "stream",
     "text": [
      "0 [-0.1073927] [ 0.35673225]\n",
      "20 [ 0.0466676] [ 0.33233884]\n",
      "40 [ 0.08391126] [ 0.30975565]\n",
      "60 [ 0.09514653] [ 0.30294299]\n",
      "80 [ 0.09853587] [ 0.30088779]\n",
      "100 [ 0.09955832] [ 0.30026785]\n",
      "120 [ 0.09986677] [ 0.30008081]\n",
      "140 [ 0.09995981] [ 0.30002439]\n",
      "160 [ 0.09998789] [ 0.30000734]\n",
      "180 [ 0.09999632] [ 0.30000225]\n",
      "200 [ 0.0999989] [ 0.30000067]\n",
      "220 [ 0.09999967] [ 0.30000022]\n",
      "240 [ 0.09999991] [ 0.30000007]\n",
      "260 [ 0.09999991] [ 0.30000007]\n",
      "280 [ 0.09999991] [ 0.30000007]\n",
      "300 [ 0.09999991] [ 0.30000007]\n",
      "320 [ 0.09999991] [ 0.30000007]\n",
      "340 [ 0.09999991] [ 0.30000007]\n",
      "360 [ 0.09999991] [ 0.30000007]\n",
      "380 [ 0.09999991] [ 0.30000007]\n",
      "400 [ 0.09999991] [ 0.30000007]\n",
      "420 [ 0.09999991] [ 0.30000007]\n",
      "440 [ 0.09999991] [ 0.30000007]\n",
      "460 [ 0.09999991] [ 0.30000007]\n",
      "480 [ 0.09999991] [ 0.30000007]\n"
     ]
    }
   ],
   "source": [
    "for i in range(500):\n",
    "    sess.run(opti)\n",
    "    if(i % 20 == 0):\n",
    "        print(i,sess.run(W),sess.run(b))"
   ]
  },
  {
   "cell_type": "code",
   "execution_count": 1,
   "metadata": {},
   "outputs": [
    {
     "ename": "NameError",
     "evalue": "name 'sess' is not defined",
     "output_type": "error",
     "traceback": [
      "\u001b[1;31m---------------------------------------------------------------------------\u001b[0m",
      "\u001b[1;31mNameError\u001b[0m                                 Traceback (most recent call last)",
      "\u001b[1;32m<ipython-input-1-8bf3ecff1273>\u001b[0m in \u001b[0;36m<module>\u001b[1;34m()\u001b[0m\n\u001b[1;32m----> 1\u001b[1;33m \u001b[0msess\u001b[0m\u001b[1;33m.\u001b[0m\u001b[0mclose\u001b[0m\u001b[1;33m(\u001b[0m\u001b[1;33m)\u001b[0m\u001b[1;33m\u001b[0m\u001b[0m\n\u001b[0m",
      "\u001b[1;31mNameError\u001b[0m: name 'sess' is not defined"
     ]
    }
   ],
   "source": [
    "sess.close()"
   ]
  },
  {
   "cell_type": "code",
   "execution_count": null,
   "metadata": {
    "collapsed": true
   },
   "outputs": [],
   "source": []
  }
 ],
 "metadata": {
  "kernelspec": {
   "display_name": "Python 3",
   "language": "python",
   "name": "python3"
  },
  "language_info": {
   "codemirror_mode": {
    "name": "ipython",
    "version": 3
   },
   "file_extension": ".py",
   "mimetype": "text/x-python",
   "name": "python",
   "nbconvert_exporter": "python",
   "pygments_lexer": "ipython3",
   "version": "3.6.2"
  }
 },
 "nbformat": 4,
 "nbformat_minor": 2
}
