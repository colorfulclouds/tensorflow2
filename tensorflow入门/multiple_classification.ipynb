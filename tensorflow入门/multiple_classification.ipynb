{
 "cells": [
  {
   "cell_type": "code",
   "execution_count": 1,
   "metadata": {
    "collapsed": true
   },
   "outputs": [],
   "source": [
    "import tensorflow as tf"
   ]
  },
  {
   "cell_type": "code",
   "execution_count": 3,
   "metadata": {
    "collapsed": true
   },
   "outputs": [],
   "source": [
    "xs = tf.placeholder(tf.float32 , shape = [None , 50])#50 features\n",
    "ys = tf.placeholder(tf.float32 , shape = [None , 10])#10 classes to predict\n",
    "\n",
    "weights_1 = tf.Variable(tf.random_normal([50 , 20]))\n",
    "biases_1 = tf.Variable(tf.zeros([20]))\n",
    "layer1 = tf.nn.sigmoid(tf.matmul(xs , weights_1) + biases_1)\n",
    "\n",
    "weights_2 = tf.Variable(tf.random_normal([20 , 10]))\n",
    "biases_2 = tf.Variable(tf.zeros([10]))\n",
    "prediction = tf.nn.softmax(tf.matmul(layer1 , weights_2) + biases_2)\n",
    "\n",
    "loss = -tf.reduce_sum(ys - tf.log(prediction))\n",
    "\n",
    "train_step = tf.train.GradientDescentOptimizer(0.01).minimize(loss)"
   ]
  },
  {
   "cell_type": "code",
   "execution_count": 5,
   "metadata": {},
   "outputs": [
    {
     "ename": "SyntaxError",
     "evalue": "invalid syntax (<ipython-input-5-5f6c47185fc6>, line 5)",
     "output_type": "error",
     "traceback": [
      "\u001b[1;36m  File \u001b[1;32m\"<ipython-input-5-5f6c47185fc6>\"\u001b[1;36m, line \u001b[1;32m5\u001b[0m\n\u001b[1;33m    sess.run(train_step , feed_dict = {xs: , ys:})\u001b[0m\n\u001b[1;37m                                           ^\u001b[0m\n\u001b[1;31mSyntaxError\u001b[0m\u001b[1;31m:\u001b[0m invalid syntax\n"
     ]
    }
   ],
   "source": [
    "sess = tf.Session()\n",
    "sess.run(tf.global_variables_initializer())\n",
    "\n",
    "for i in range(100):\n",
    "    sess.run(train_step , feed_dict = {xs: , ys:})"
   ]
  },
  {
   "cell_type": "code",
   "execution_count": null,
   "metadata": {
    "collapsed": true
   },
   "outputs": [],
   "source": []
  }
 ],
 "metadata": {
  "kernelspec": {
   "display_name": "Python 3",
   "language": "python",
   "name": "python3"
  },
  "language_info": {
   "codemirror_mode": {
    "name": "ipython",
    "version": 3
   },
   "file_extension": ".py",
   "mimetype": "text/x-python",
   "name": "python",
   "nbconvert_exporter": "python",
   "pygments_lexer": "ipython3",
   "version": "3.6.2"
  }
 },
 "nbformat": 4,
 "nbformat_minor": 2
}
