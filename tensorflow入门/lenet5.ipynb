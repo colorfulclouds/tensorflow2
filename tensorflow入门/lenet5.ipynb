{
 "cells": [
  {
   "cell_type": "code",
   "execution_count": null,
   "metadata": {
    "collapsed": true
   },
   "outputs": [],
   "source": [
    "#机器之心\n",
    "#lenet5\n",
    "#卷积1\n",
    "#平均池化1\n",
    "#卷积2\n",
    "#平均池化2\n",
    "#全连1\n",
    "#全连2\n",
    "#softmax\n",
    "#激活为 sigmoid\n",
    "'''\n",
    "28 28 1\n",
    "卷积1 28 28 6\n",
    "池化1 14 14 6\n",
    "卷积2（padding='VALID'） 10 10 16\n",
    "池化2 5 5 16\n",
    "hidden1 120\n",
    "hidden2 84\n",
    "output 10\n",
    "'''"
   ]
  },
  {
   "cell_type": "code",
   "execution_count": 1,
   "metadata": {
    "collapsed": true
   },
   "outputs": [],
   "source": [
    "import numpy as np\n",
    "import tensorflow as tf\n",
    "import input_data"
   ]
  },
  {
   "cell_type": "code",
   "execution_count": 2,
   "metadata": {},
   "outputs": [
    {
     "name": "stdout",
     "output_type": "stream",
     "text": [
      "Extracting MNIST_data/train-images-idx3-ubyte.gz\n",
      "Extracting MNIST_data/train-labels-idx1-ubyte.gz\n",
      "Extracting MNIST_data/t10k-images-idx3-ubyte.gz\n",
      "Extracting MNIST_data/t10k-labels-idx1-ubyte.gz\n"
     ]
    }
   ],
   "source": [
    "mnist = input_data.read_data_sets('MNIST_data/' , one_hot=True)"
   ]
  },
  {
   "cell_type": "code",
   "execution_count": 38,
   "metadata": {},
   "outputs": [],
   "source": [
    "def weights_variable(shape):\n",
    "    initial = tf.truncated_normal(shape=shape , stddev=0.1)\n",
    "    return tf.Variable(initial)\n",
    "\n",
    "def biases_variable(shape):\n",
    "    initial = tf.constant(0.1 , shape=shape)\n",
    "    return tf.Variable(initial)"
   ]
  },
  {
   "cell_type": "code",
   "execution_count": 58,
   "metadata": {},
   "outputs": [
    {
     "name": "stdout",
     "output_type": "stream",
     "text": [
      "944.656\n",
      "0.0764\n",
      "394.022\n",
      "235.274\n",
      "224.477\n",
      "216.381\n",
      "214.275\n",
      "224.89\n",
      "221.136\n",
      "210.128\n",
      "194.935\n",
      "193.309\n",
      "173.94\n",
      "160.655\n",
      "151.367\n",
      "202.111\n",
      "243.47\n",
      "176.65\n",
      "145.387\n",
      "122.271\n",
      "139.6\n",
      "229.536\n",
      "171.838\n",
      "158.289\n",
      "117.119\n",
      "138.111\n",
      "111.163\n",
      "80.2798\n",
      "70.4362\n",
      "69.8879\n",
      "70.7816\n"
     ]
    }
   ],
   "source": [
    "xs_ori = tf.placeholder(tf.float32 , shape = [None , 784])\n",
    "\n",
    "xs = tf.reshape(xs_ori , shape=[-1 , 28 , 28 , 1])\n",
    "ys = tf.placeholder(tf.float32 , shape = [None , 10])\n",
    "\n",
    "#卷积1\n",
    "w1 = weights_variable([5 , 5 , 1 , 32])\n",
    "b1 = biases_variable([32])\n",
    "layer1_conv = tf.nn.conv2d(xs , w1 , strides=[1,1,1,1] , padding='SAME')\n",
    "layer1_actv = tf.nn.relu(layer1_conv + b1)\n",
    "layer1_pool = tf.nn.avg_pool(layer1_actv , ksize=[1,2,2,1] , strides=[1,2,2,1] , padding='SAME')\n",
    "\n",
    "#卷积2\n",
    "w2 = weights_variable([5 , 5 , 32 , 64])\n",
    "b2 = biases_variable([64])\n",
    "layer2_conv = tf.nn.conv2d(layer1_pool , w2 , strides=[1,1,1,1] , padding='SAME')\n",
    "layer2_actv = tf.nn.relu(layer2_conv + b2)\n",
    "layer2_pool = tf.nn.avg_pool(layer2_actv , ksize=[1,2,2,1] , strides=[1,2,2,1] , padding='SAME')\n",
    "\n",
    "#展平\n",
    "flat_layer = tf.reshape(layer2_pool , shape = [-1 , 7*7*64])\n",
    "\n",
    "#全连接1\n",
    "#图片经conv1 pool1 conv2 pool2之后 变为5*5 channel=patch_depth2\n",
    "w3 = weights_variable([7*7*64 , 1024])\n",
    "b3 = biases_variable([1024])\n",
    "layer3_fccd = tf.matmul(flat_layer , w3)+b3\n",
    "layer3_actv = tf.nn.relu(layer3_fccd)\n",
    "\n",
    "#全连接2\n",
    "w4 = weights_variable([1024 , 100])\n",
    "b4 = biases_variable([100])\n",
    "layer4_fccd = tf.matmul(layer3_actv , w4) + b4\n",
    "layer4_actv = tf.nn.relu(layer4_fccd)\n",
    "\n",
    "#output layer\n",
    "w5 = weights_variable([100 , 10])\n",
    "b5 = biases_variable([10])\n",
    "pred = tf.nn.softmax(tf.matmul(layer4_actv , w5) + b5)\n",
    "\n",
    "\n",
    "loss = -tf.reduce_sum(ys * tf.log(pred))\n",
    "\n",
    "train_step = tf.train.GradientDescentOptimizer(0.001).minimize(loss)\n",
    "\n",
    "sess = tf.Session()\n",
    "sess.run(tf.global_variables_initializer())\n",
    "\n",
    "valid_feed = {xs_ori:mnist.validation.images , ys:mnist.validation.labels}\n",
    "\n",
    "#====\n",
    "right = tf.equal(tf.argmax(pred , 1) , tf.argmax(ys , 1))\n",
    "accuracy = tf.reduce_mean(tf.cast(right , tf.float32))\n",
    "\n",
    "for i in range(30):\n",
    "    train_x , train_y = mnist.train.next_batch(100)\n",
    "    sess.run(train_step , feed_dict = {xs_ori:train_x , ys:train_y})\n",
    "    \n",
    "    print(sess.run(loss , feed_dict = {xs_ori:train_x , ys:train_y}))\n",
    "    \n",
    "    if i % 100 == 0:\n",
    "        print(sess.run(accuracy , feed_dict=valid_feed))"
   ]
  },
  {
   "cell_type": "code",
   "execution_count": 59,
   "metadata": {},
   "outputs": [
    {
     "name": "stdout",
     "output_type": "stream",
     "text": [
      "0.7229\n"
     ]
    }
   ],
   "source": [
    "test_feed = {xs_ori:mnist.test.images , ys:mnist.test.labels}\n",
    "\n",
    "print(sess.run(accuracy , feed_dict=test_feed))"
   ]
  },
  {
   "cell_type": "code",
   "execution_count": null,
   "metadata": {
    "collapsed": true
   },
   "outputs": [],
   "source": []
  }
 ],
 "metadata": {
  "kernelspec": {
   "display_name": "Python 3",
   "language": "python",
   "name": "python3"
  },
  "language_info": {
   "codemirror_mode": {
    "name": "ipython",
    "version": 3
   },
   "file_extension": ".py",
   "mimetype": "text/x-python",
   "name": "python",
   "nbconvert_exporter": "python",
   "pygments_lexer": "ipython3",
   "version": "3.6.2"
  }
 },
 "nbformat": 4,
 "nbformat_minor": 2
}
