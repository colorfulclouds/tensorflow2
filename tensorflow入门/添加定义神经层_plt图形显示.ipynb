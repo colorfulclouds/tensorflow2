{
 "cells": [
  {
   "cell_type": "code",
   "execution_count": 1,
   "metadata": {
    "collapsed": true
   },
   "outputs": [],
   "source": [
    "import numpy as np\n",
    "import tensorflow as tf\n",
    "\n",
    "import matplotlib.pyplot as plt"
   ]
  },
  {
   "cell_type": "code",
   "execution_count": 2,
   "metadata": {
    "collapsed": true
   },
   "outputs": [],
   "source": [
    "def add_layer(inputs , in_size , out_size , activation_function = None):\n",
    "    W = tf.Variable(tf.random_normal([in_size , out_size]))\n",
    "    b = tf.Variable(tf.zeros([1, out_size]) + 0.1)\n",
    "    linar = tf.matmul(inputs , W)+b\n",
    "    \n",
    "    if activation_function is None:\n",
    "        result = linar\n",
    "    else:\n",
    "        result = activation_function(linar)\n",
    "        \n",
    "    return result"
   ]
  },
  {
   "cell_type": "code",
   "execution_count": 3,
   "metadata": {
    "collapsed": true
   },
   "outputs": [],
   "source": [
    "x_data = np.linspace(-1 , 1 , 300)[: , np.newaxis]\n",
    "noise = np.random.normal(0,0.05,x_data.shape)\n",
    "y_data = np.square(x_data) - 0.5 + noise"
   ]
  },
  {
   "cell_type": "code",
   "execution_count": 4,
   "metadata": {
    "scrolled": true
   },
   "outputs": [
    {
     "data": {
      "image/png": "[encoded data removed]",
      "text/plain": [
       "<matplotlib.figure.Figure at 0x25b6453bdd8>"
      ]
     },
     "metadata": {},
     "output_type": "display_data"
    }
   ],
   "source": [
    "xs = tf.placeholder(tf.float32 , shape=[None , 1] )\n",
    "\n",
    "l1 = add_layer(xs , 1 ,10  ,activation_function=tf.nn.relu)\n",
    "prediction = add_layer(l1 , 10 ,1 ,activation_function=None)\n",
    "\n",
    "#真实的label\n",
    "ys = tf.placeholder(tf.float32 , shape=[None , 1] )\n",
    "\n",
    "loss = tf.reduce_mean(tf.reduce_sum(tf.square(ys - prediction) , axis = 1))\n",
    "\n",
    "train_step = tf.train.GradientDescentOptimizer(0.5).minimize(loss)\n",
    "\n",
    "sess = tf.Session()\n",
    "sess.run(tf.global_variables_initializer())\n",
    "\n",
    "#添加图形化显示\n",
    "fig = plt.figure()\n",
    "ax = fig.add_subplot(1,1,1)\n",
    "ax.scatter(x_data , y_data)\n",
    "\n",
    "plt.ion()\n",
    "plt.show(block = False)#show会暂停程序 使用ion就不会暂停的\n",
    "#显示真实数据完毕\n",
    "\n",
    "#print(sess.run(prediction , feed_dict={xs:x_data , ys:y_data}).shape)\n",
    "\n",
    "for i in range(1000):\n",
    "    sess.run(train_step , feed_dict={xs:x_data , ys:y_data})\n",
    "    if i%50 == 0:\n",
    "        try:\n",
    "            ax.lines.remove(lines[0])\n",
    "        except Exception:\n",
    "            pass\n",
    "        #print(sess.run(loss , feed_dict={xs:x_data , ys:y_data}))\n",
    "        prediction_value = sess.run(prediction , feed_dict={xs:x_data})\n",
    "        lines = ax.plot(x_data , prediction_value , 'r-' , lw=5)\n",
    "        plt.pause(0.1)#暂停0.1s"
   ]
  },
  {
   "cell_type": "code",
   "execution_count": null,
   "metadata": {
    "collapsed": true
   },
   "outputs": [],
   "source": []
  },
  {
   "cell_type": "code",
   "execution_count": null,
   "metadata": {
    "collapsed": true
   },
   "outputs": [],
   "source": []
  }
 ],
 "metadata": {
  "kernelspec": {
   "display_name": "Python 3",
   "language": "python",
   "name": "python3"
  },
  "language_info": {
   "codemirror_mode": {
    "name": "ipython",
    "version": 3
   },
   "file_extension": ".py",
   "mimetype": "text/x-python",
   "name": "python",
   "nbconvert_exporter": "python",
   "pygments_lexer": "ipython3",
   "version": "3.6.2"
  }
 },
 "nbformat": 4,
 "nbformat_minor": 2
}
