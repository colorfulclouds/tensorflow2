{
 "cells": [
  {
   "cell_type": "code",
   "execution_count": 1,
   "metadata": {
    "collapsed": true
   },
   "outputs": [],
   "source": [
    "import csv\n",
    "import numpy as np\n",
    "import tensorflow as tf\n",
    "\n",
    "from itertools import islice"
   ]
  },
  {
   "cell_type": "code",
   "execution_count": 4,
   "metadata": {
    "collapsed": true
   },
   "outputs": [],
   "source": [
    "def load_data(file_name = 'train.csv' , one_hot = True):\n",
    "    csv_reader = csv.reader(open(file_name))\n",
    "\n",
    "    train_set = []\n",
    "    count = 0\n",
    "    train_labels = []\n",
    "    for row in islice(csv_reader ,1 , None):\n",
    "        row = list(map(np.float32 , row)) #类型转换\n",
    "        train_set.append(row)\n",
    "\n",
    "        temp = [0.,0.,0.,0.,0.,0.,0.,0.,0.,0.]\n",
    "        temp[int(train_set[count][0])] = 1.\n",
    "        train_labels.append(temp)\n",
    "\n",
    "        count += 1\n",
    "    \n",
    "    for i in range(count):\n",
    "        train_set[i] = train_set[i][1:785]\n",
    "    \n",
    "    train_set = np.matrix(train_set)\n",
    "    train_labels = np.matrix(train_labels)\n",
    "    \n",
    "    return train_set , train_labels"
   ]
  },
  {
   "cell_type": "code",
   "execution_count": 5,
   "metadata": {
    "collapsed": true
   },
   "outputs": [],
   "source": [
    "#加载数据\n",
    "train_set , train_labels = load_data()"
   ]
  },
  {
   "cell_type": "code",
   "execution_count": 6,
   "metadata": {
    "collapsed": true
   },
   "outputs": [],
   "source": [
    "train_set = train_set / 255.0\n",
    "#print(train_set)\n",
    "#print(train_labels)"
   ]
  },
  {
   "cell_type": "code",
   "execution_count": 17,
   "metadata": {
    "collapsed": true
   },
   "outputs": [],
   "source": [
    "mini_batch = 0\n",
    "\n",
    "def next_batch(train_set , train_labels , batch_size = 128):\n",
    "    global mini_batch\n",
    "    if mini_batch + batch_size > 42000:\n",
    "        mini_batch = 0\n",
    "\n",
    "    train_set_batch = train_set[mini_batch : mini_batch + batch_size]\n",
    "    train_labels_batch = train_labels[mini_batch : mini_batch + batch_size]\n",
    "    \n",
    "    mini_batch = mini_batch + batch_size\n",
    "    \n",
    "    return train_set_batch , train_labels_batch"
   ]
  },
  {
   "cell_type": "code",
   "execution_count": 32,
   "metadata": {
    "collapsed": true
   },
   "outputs": [],
   "source": [
    "lr = 0.001 #learning rate\n",
    "training_iters = 100000 #epoch\n",
    "batch_size = 128\n",
    "\n",
    "n_inputs = 28 #图像为28列\n",
    "n_steps = 25 #图像为28行\n",
    "n_hidden_units = 128 #隐藏层神经元个数\n",
    "n_classes = 10 #10分类问题\n",
    "\n",
    "x = tf.placeholder(tf.float32 , [None , n_steps * n_inputs])\n",
    "y = tf.placeholder(tf.float32 , [None , n_classes])\n",
    "\n",
    "weights = {'in':tf.Variable(tf.random_normal([n_inputs , n_hidden_units])),\n",
    "          'out':tf.Variable(tf.random_normal([n_hidden_units , n_classes]))}\n",
    "\n",
    "biases = {'in':tf.Variable(tf.constant(0.1 , shape = [n_hidden_units,])),\n",
    "         'out':tf.Variable(tf.constant(0.1 , shape = [n_classes,]))}\n",
    "\n",
    "#=================\n",
    "#定义函数\n",
    "\n",
    "def RNN(X , weights , biases):\n",
    "    #X 128batchsize 28 steps 28 inputs\n",
    "    X = tf.reshape(X , [-1 , n_inputs])\n",
    "    X_in = tf.matmul(X , weights['in']) + biases['in']\n",
    "    X_in = tf.reshape(X_in , [-1 , n_steps , n_hidden_units])\n",
    "    \n",
    "    #=========\n",
    "    #cell\n",
    "    lstm_cell = tf.nn.rnn_cell.BasicLSTMCell(n_hidden_units , forget_bias=1.0 , state_is_tuple=True)\n",
    "    _init_state = lstm_cell.zero_state(batch_size , dtype = tf.float32)\n",
    "    \n",
    "    outputs , states = tf.nn.dynamic_rnn(lstm_cell , X_in , initial_state=_init_state , time_major=False)\n",
    "    \n",
    "    result = tf.matmul(states[1] , weights['out'] + biases['out'])\n",
    "    \n",
    "    return result"
   ]
  },
  {
   "cell_type": "code",
   "execution_count": 33,
   "metadata": {},
   "outputs": [
    {
     "ename": "TypeError",
     "evalue": "raw_rnn() got an unexpected keyword argument 'initial_state'",
     "output_type": "error",
     "traceback": [
      "\u001b[1;31m---------------------------------------------------------------------------\u001b[0m",
      "\u001b[1;31mTypeError\u001b[0m                                 Traceback (most recent call last)",
      "\u001b[1;32m<ipython-input-33-8d4565090c67>\u001b[0m in \u001b[0;36m<module>\u001b[1;34m()\u001b[0m\n\u001b[1;32m----> 1\u001b[1;33m \u001b[0mprediction\u001b[0m \u001b[1;33m=\u001b[0m \u001b[0mRNN\u001b[0m\u001b[1;33m(\u001b[0m\u001b[0mx\u001b[0m \u001b[1;33m,\u001b[0m \u001b[0mweights\u001b[0m \u001b[1;33m,\u001b[0m \u001b[0mbiases\u001b[0m\u001b[1;33m)\u001b[0m\u001b[1;33m\u001b[0m\u001b[0m\n\u001b[0m\u001b[0;32m      2\u001b[0m \u001b[1;33m\u001b[0m\u001b[0m\n\u001b[0;32m      3\u001b[0m \u001b[1;31m#cost = tf.reduce_mean(tf.nn.softmax_cross_entropy_with_logits(pred , y))\u001b[0m\u001b[1;33m\u001b[0m\u001b[1;33m\u001b[0m\u001b[0m\n\u001b[0;32m      4\u001b[0m \u001b[1;33m\u001b[0m\u001b[0m\n\u001b[0;32m      5\u001b[0m \u001b[1;31m#train_step = tf.train.AdamOptimizer(lr).minimize(cost)\u001b[0m\u001b[1;33m\u001b[0m\u001b[1;33m\u001b[0m\u001b[0m\n",
      "\u001b[1;32m<ipython-input-32-b58ea01e2973>\u001b[0m in \u001b[0;36mRNN\u001b[1;34m(X, weights, biases)\u001b[0m\n\u001b[0;32m     31\u001b[0m     \u001b[0m_init_state\u001b[0m \u001b[1;33m=\u001b[0m \u001b[0mlstm_cell\u001b[0m\u001b[1;33m.\u001b[0m\u001b[0mzero_state\u001b[0m\u001b[1;33m(\u001b[0m\u001b[0mbatch_size\u001b[0m \u001b[1;33m,\u001b[0m \u001b[0mdtype\u001b[0m \u001b[1;33m=\u001b[0m \u001b[0mtf\u001b[0m\u001b[1;33m.\u001b[0m\u001b[0mfloat32\u001b[0m\u001b[1;33m)\u001b[0m\u001b[1;33m\u001b[0m\u001b[0m\n\u001b[0;32m     32\u001b[0m \u001b[1;33m\u001b[0m\u001b[0m\n\u001b[1;32m---> 33\u001b[1;33m     \u001b[0moutputs\u001b[0m \u001b[1;33m,\u001b[0m \u001b[0mstates\u001b[0m \u001b[1;33m=\u001b[0m \u001b[0mtf\u001b[0m\u001b[1;33m.\u001b[0m\u001b[0mnn\u001b[0m\u001b[1;33m.\u001b[0m\u001b[0mraw_rnn\u001b[0m\u001b[1;33m(\u001b[0m\u001b[0mlstm_cell\u001b[0m \u001b[1;33m,\u001b[0m \u001b[0mX_in\u001b[0m \u001b[1;33m,\u001b[0m \u001b[0minitial_state\u001b[0m\u001b[1;33m=\u001b[0m\u001b[0m_init_state\u001b[0m \u001b[1;33m,\u001b[0m \u001b[0mtime_major\u001b[0m\u001b[1;33m=\u001b[0m\u001b[1;32mFalse\u001b[0m\u001b[1;33m)\u001b[0m\u001b[1;33m\u001b[0m\u001b[0m\n\u001b[0m\u001b[0;32m     34\u001b[0m \u001b[1;33m\u001b[0m\u001b[0m\n\u001b[0;32m     35\u001b[0m     \u001b[0mresult\u001b[0m \u001b[1;33m=\u001b[0m \u001b[0mtf\u001b[0m\u001b[1;33m.\u001b[0m\u001b[0mmatmul\u001b[0m\u001b[1;33m(\u001b[0m\u001b[0mstates\u001b[0m\u001b[1;33m[\u001b[0m\u001b[1;36m1\u001b[0m\u001b[1;33m]\u001b[0m \u001b[1;33m,\u001b[0m \u001b[0mweights\u001b[0m\u001b[1;33m[\u001b[0m\u001b[1;34m'out'\u001b[0m\u001b[1;33m]\u001b[0m \u001b[1;33m+\u001b[0m \u001b[0mbiases\u001b[0m\u001b[1;33m[\u001b[0m\u001b[1;34m'out'\u001b[0m\u001b[1;33m]\u001b[0m\u001b[1;33m)\u001b[0m\u001b[1;33m\u001b[0m\u001b[0m\n",
      "\u001b[1;31mTypeError\u001b[0m: raw_rnn() got an unexpected keyword argument 'initial_state'"
     ]
    }
   ],
   "source": [
    "prediction = RNN(x , weights , biases)\n",
    "\n",
    "#cost = tf.reduce_mean(tf.nn.softmax_cross_entropy_with_logits(pred , y))\n",
    "\n",
    "#train_step = tf.train.AdamOptimizer(lr).minimize(cost)\n",
    "\n",
    "#sess= tf.Session()\n",
    "#sess.run(tf.global_variables_initializer())\n",
    "\n",
    "#for i in range(10):\n",
    "#    train_set_batch , train_labels_batch = next_batch(train_set , train_labels)\n",
    "#    sess.run(train_step , feed_dict = {x:train_set_batch , y:train_labels_batch})\n",
    "#    print(sess.run(loss , feed_dict = {x:train_set_batch , y:train_labels_batch}))"
   ]
  },
  {
   "cell_type": "code",
   "execution_count": 24,
   "metadata": {},
   "outputs": [
    {
     "ename": "NameError",
     "evalue": "name 'sess' is not defined",
     "output_type": "error",
     "traceback": [
      "\u001b[1;31m---------------------------------------------------------------------------\u001b[0m",
      "\u001b[1;31mNameError\u001b[0m                                 Traceback (most recent call last)",
      "\u001b[1;32m<ipython-input-24-8bf3ecff1273>\u001b[0m in \u001b[0;36m<module>\u001b[1;34m()\u001b[0m\n\u001b[1;32m----> 1\u001b[1;33m \u001b[0msess\u001b[0m\u001b[1;33m.\u001b[0m\u001b[0mclose\u001b[0m\u001b[1;33m(\u001b[0m\u001b[1;33m)\u001b[0m\u001b[1;33m\u001b[0m\u001b[0m\n\u001b[0m",
      "\u001b[1;31mNameError\u001b[0m: name 'sess' is not defined"
     ]
    }
   ],
   "source": [
    "sess.close()"
   ]
  },
  {
   "cell_type": "code",
   "execution_count": 11,
   "metadata": {},
   "outputs": [
    {
     "name": "stdout",
     "output_type": "stream",
     "text": [
      "0.9233\n"
     ]
    }
   ],
   "source": [
    "#dev-set\n",
    "train_set_batch , train_labels_batch = next_batch(train_set , train_labels ,10000)\n",
    "\n",
    "prediction_number = tf.argmax(prediction , 1)\n",
    "real_number = tf.argmax(y , 1)\n",
    "right = tf.equal(prediction_number , real_number)\n",
    "accuracy = tf.reduce_mean(tf.cast(right , tf.float32))\n",
    "\n",
    "print(sess.run(accuracy , feed_dict={x:train_set_batch , y:train_labels_batch} ))\n",
    "\n",
    "#sess.close()"
   ]
  },
  {
   "cell_type": "code",
   "execution_count": 89,
   "metadata": {
    "collapsed": true
   },
   "outputs": [],
   "source": [
    "def load_test_set(file_name = 'test.csv'):\n",
    "    csv_reader = csv.reader(open(file_name))\n",
    "    test_set = []\n",
    "    \n",
    "    for row in islice(csv_reader ,1 , None):\n",
    "        row = list(map(np.float32 , row))\n",
    "        test_set.append(row)\n",
    "        \n",
    "    test_set = np.matrix(test_set)\n",
    "\n",
    "    return test_set"
   ]
  },
  {
   "cell_type": "code",
   "execution_count": 131,
   "metadata": {
    "collapsed": true
   },
   "outputs": [],
   "source": [
    "test_set = load_test_set()\n",
    "test_set = test_set / 255.0"
   ]
  },
  {
   "cell_type": "code",
   "execution_count": 206,
   "metadata": {
    "collapsed": true
   },
   "outputs": [],
   "source": [
    "test_set_labels = tf.argmax(prediction , 1)\n",
    "result = sess.run(test_set_labels , feed_dict={x:test_set})"
   ]
  },
  {
   "cell_type": "code",
   "execution_count": 207,
   "metadata": {
    "collapsed": true
   },
   "outputs": [],
   "source": [
    "csv_file = open('sample_submission.csv' , 'w' , newline='')\n",
    "writer = csv.writer(csv_file)\n",
    "writer.writerow(['ImageId','Label'])\n",
    "\n",
    "for i in range(28000):\n",
    "    writer.writerow([i+1 , result[i]])\n",
    "\n",
    "csv_file.close()"
   ]
  },
  {
   "cell_type": "code",
   "execution_count": 3,
   "metadata": {},
   "outputs": [
    {
     "data": {
      "text/plain": [
       "784"
      ]
     },
     "execution_count": 3,
     "metadata": {},
     "output_type": "execute_result"
    }
   ],
   "source": [
    "28*28"
   ]
  },
  {
   "cell_type": "code",
   "execution_count": null,
   "metadata": {
    "collapsed": true
   },
   "outputs": [],
   "source": []
  }
 ],
 "metadata": {
  "kernelspec": {
   "display_name": "Python 3",
   "language": "python",
   "name": "python3"
  },
  "language_info": {
   "codemirror_mode": {
    "name": "ipython",
    "version": 3
   },
   "file_extension": ".py",
   "mimetype": "text/x-python",
   "name": "python",
   "nbconvert_exporter": "python",
   "pygments_lexer": "ipython3",
   "version": "3.6.2"
  }
 },
 "nbformat": 4,
 "nbformat_minor": 2
}
