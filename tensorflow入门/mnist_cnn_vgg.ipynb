{
 "cells": [
  {
   "cell_type": "code",
   "execution_count": 130,
   "metadata": {},
   "outputs": [],
   "source": [
    "import tensorflow as tf\n",
    "import numpy as np\n",
    "import matplotlib.pyplot as plt\n",
    "import cv2\n",
    "\n",
    "%matplotlib inline\n",
    "\n",
    "from keras.datasets import mnist\n",
    "from keras.utils import to_categorical\n",
    "\n",
    "from keras.preprocessing.image import ImageDataGenerator\n",
    "from keras.callbacks import TensorBoard\n",
    "\n",
    "from keras.models import Sequential\n",
    "from keras.layers import Conv2D\n",
    "from keras.layers import MaxPooling2D\n",
    "from keras.layers import Flatten\n",
    "from keras.layers import Dense\n",
    "from keras.layers import Dropout\n",
    "from keras.layers import BatchNormalization"
   ]
  },
  {
   "cell_type": "code",
   "execution_count": null,
   "metadata": {
    "collapsed": true
   },
   "outputs": [],
   "source": []
  },
  {
   "cell_type": "code",
   "execution_count": 109,
   "metadata": {
    "collapsed": true
   },
   "outputs": [],
   "source": [
    "from keras.applications import VGG16"
   ]
  },
  {
   "cell_type": "code",
   "execution_count": null,
   "metadata": {
    "collapsed": true
   },
   "outputs": [],
   "source": []
  },
  {
   "cell_type": "code",
   "execution_count": 2,
   "metadata": {},
   "outputs": [],
   "source": [
    "(x_train, y_train) , (x_test, y_test) = mnist.load_data()"
   ]
  },
  {
   "cell_type": "code",
   "execution_count": 115,
   "metadata": {
    "collapsed": true
   },
   "outputs": [],
   "source": [
    "x_train = np.expand_dims(x_train , axis=-1)\n",
    "x_test = np.expand_dims(x_test , axis=-1)\n",
    "\n",
    "y_train = to_categorical(y_train , num_classes=10)\n",
    "y_test = to_categorical(y_test , num_classes=10)"
   ]
  },
  {
   "cell_type": "code",
   "execution_count": null,
   "metadata": {
    "collapsed": true
   },
   "outputs": [],
   "source": []
  },
  {
   "cell_type": "code",
   "execution_count": 142,
   "metadata": {},
   "outputs": [
    {
     "name": "stderr",
     "output_type": "stream",
     "text": [
      "C:\\Anaconda3\\lib\\site-packages\\keras_preprocessing\\image\\image_data_generator.py:353: UserWarning: This ImageDataGenerator specifies `samplewise_std_normalization`, which overrides setting of `samplewise_center`.\n",
      "  warnings.warn('This ImageDataGenerator specifies '\n"
     ]
    }
   ],
   "source": [
    "#数据增强\n",
    "augmentation_train = ImageDataGenerator(samplewise_std_normalization=True , rotation_range=1 , brightness_range=[0 , 1])\n",
    "augmentation_test  = ImageDataGenerator(samplewise_std_normalization=True)"
   ]
  },
  {
   "cell_type": "code",
   "execution_count": 143,
   "metadata": {
    "collapsed": true
   },
   "outputs": [],
   "source": [
    "train_generator = augmentation_train.flow(x_train , y_train , batch_size=32)\n",
    "test_generator = augmentation_test.flow(x_test , y_test , batch_size=32)"
   ]
  },
  {
   "cell_type": "code",
   "execution_count": null,
   "metadata": {
    "collapsed": true
   },
   "outputs": [],
   "source": []
  },
  {
   "cell_type": "code",
   "execution_count": 144,
   "metadata": {},
   "outputs": [],
   "source": [
    "model = Sequential()\n",
    "model.add(Conv2D(64, 3, activation='relu',padding='same', input_shape=(28 , 28 , 1)))\n",
    "model.add(Conv2D(64, 3, activation='relu',padding='same'))\n",
    "model.add(BatchNormalization())\n",
    "model.add(MaxPooling2D((2, 2), strides=(2, 2)))\n",
    "\n",
    "model.add(Conv2D(128, 3, activation='relu',padding='same'))\n",
    "model.add(Conv2D(128, 3, activation='relu',padding='same'))\n",
    "model.add(BatchNormalization())\n",
    "model.add(MaxPooling2D((2, 2), strides=(2, 2)))\n",
    "\n",
    "model.add(Conv2D(256, 3, activation='relu',padding='same'))\n",
    "model.add(Conv2D(256, 3, activation='relu',padding='same'))\n",
    "model.add(Conv2D(256, 3, activation='relu',padding='same'))\n",
    "model.add(BatchNormalization())\n",
    "model.add(MaxPooling2D((2, 2), strides=(2, 2)))\n",
    "\n",
    "model.add(Conv2D(512, 3, activation='relu',padding='same'))\n",
    "model.add(Conv2D(512, 3, activation='relu',padding='same'))\n",
    "model.add(Conv2D(512, 3, activation='relu',padding='same'))\n",
    "model.add(BatchNormalization())\n",
    "model.add(MaxPooling2D((2, 2), strides=(2, 2)))\n",
    "\n",
    "model.add(Flatten())\n",
    "model.add(Dense(4096, activation='relu'))\n",
    "model.add(Dropout(0.5))\n",
    "model.add(Dense(4096, activation='relu'))\n",
    "model.add(Dropout(0.5))\n",
    "model.add(Dense(10, activation='softmax'))"
   ]
  },
  {
   "cell_type": "code",
   "execution_count": 145,
   "metadata": {
    "collapsed": true
   },
   "outputs": [],
   "source": [
    "model.compile(optimizer='adam' , loss='categorical_crossentropy' , metrics=['accuracy'])"
   ]
  },
  {
   "cell_type": "code",
   "execution_count": 146,
   "metadata": {
    "collapsed": true
   },
   "outputs": [],
   "source": [
    "tb_cb = TensorBoard(log_dir='log/', write_images=1, histogram_freq=0) "
   ]
  },
  {
   "cell_type": "code",
   "execution_count": null,
   "metadata": {},
   "outputs": [
    {
     "name": "stdout",
     "output_type": "stream",
     "text": [
      "Epoch 1/10000\n",
      "1875/1875 [==============================] - 121s 65ms/step - loss: 0.3494 - acc: 0.8983 - val_loss: 0.0763 - val_acc: 0.9822\n",
      "Epoch 2/10000\n",
      "1875/1875 [==============================] - 122s 65ms/step - loss: 0.1333 - acc: 0.9693 - val_loss: 0.0634 - val_acc: 0.9863\n",
      "Epoch 3/10000\n",
      "1875/1875 [==============================] - 122s 65ms/step - loss: 0.0964 - acc: 0.9780 - val_loss: 0.0633 - val_acc: 0.9861\n",
      "Epoch 4/10000\n",
      "1875/1875 [==============================] - 122s 65ms/step - loss: 0.0815 - acc: 0.9809 - val_loss: 0.0702 - val_acc: 0.9862\n",
      "Epoch 5/10000\n",
      "1875/1875 [==============================] - 123s 65ms/step - loss: 0.0703 - acc: 0.9836 - val_loss: 0.0769 - val_acc: 0.9847\n",
      "Epoch 6/10000\n",
      "1875/1875 [==============================] - 122s 65ms/step - loss: 0.0774 - acc: 0.9839 - val_loss: 0.0451 - val_acc: 0.9904\n",
      "Epoch 7/10000\n",
      "1875/1875 [==============================] - 122s 65ms/step - loss: 0.0674 - acc: 0.9848 - val_loss: 0.0441 - val_acc: 0.9917\n",
      "Epoch 8/10000\n",
      "1875/1875 [==============================] - 123s 66ms/step - loss: 0.0562 - acc: 0.9871 - val_loss: 0.0826 - val_acc: 0.9875\n",
      "Epoch 9/10000\n",
      "1875/1875 [==============================] - 123s 66ms/step - loss: 0.0632 - acc: 0.9864 - val_loss: 0.0445 - val_acc: 0.9929\n",
      "Epoch 10/10000\n",
      "1875/1875 [==============================] - 123s 66ms/step - loss: 0.0526 - acc: 0.9883 - val_loss: 0.0389 - val_acc: 0.9922\n",
      "Epoch 11/10000\n",
      "1875/1875 [==============================] - 123s 66ms/step - loss: 0.0595 - acc: 0.9882 - val_loss: 0.0327 - val_acc: 0.9944\n",
      "Epoch 12/10000\n",
      "1875/1875 [==============================] - 123s 66ms/step - loss: 0.0487 - acc: 0.9889 - val_loss: 0.0392 - val_acc: 0.9933\n",
      "Epoch 13/10000\n",
      "1875/1875 [==============================] - 123s 66ms/step - loss: 0.0481 - acc: 0.9889 - val_loss: 0.0380 - val_acc: 0.9938\n",
      "Epoch 14/10000\n",
      "1875/1875 [==============================] - 122s 65ms/step - loss: 0.0509 - acc: 0.9894 - val_loss: 0.0456 - val_acc: 0.9912\n",
      "Epoch 15/10000\n",
      "1875/1875 [==============================] - 122s 65ms/step - loss: 0.0443 - acc: 0.9905 - val_loss: 0.0442 - val_acc: 0.9931\n",
      "Epoch 16/10000\n",
      "1875/1875 [==============================] - 122s 65ms/step - loss: 0.0426 - acc: 0.9903 - val_loss: 0.0552 - val_acc: 0.9888\n",
      "Epoch 17/10000\n",
      "1338/1875 [====================>.........] - ETA: 34s - loss: 0.0375 - acc: 0.9909"
     ]
    }
   ],
   "source": [
    "model.fit_generator(train_generator , epochs=10000 , callbacks=[tb_cb] , validation_data=test_generator)"
   ]
  },
  {
   "cell_type": "code",
   "execution_count": null,
   "metadata": {
    "collapsed": true
   },
   "outputs": [],
   "source": []
  }
 ],
 "metadata": {
  "kernelspec": {
   "display_name": "Python 3",
   "language": "python",
   "name": "python3"
  },
  "language_info": {
   "codemirror_mode": {
    "name": "ipython",
    "version": 3
   },
   "file_extension": ".py",
   "mimetype": "text/x-python",
   "name": "python",
   "nbconvert_exporter": "python",
   "pygments_lexer": "ipython3",
   "version": "3.6.1"
  }
 },
 "nbformat": 4,
 "nbformat_minor": 2
}
