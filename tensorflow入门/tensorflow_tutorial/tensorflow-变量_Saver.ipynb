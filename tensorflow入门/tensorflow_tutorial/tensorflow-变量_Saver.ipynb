{
 "cells": [
  {
   "cell_type": "code",
   "execution_count": 1,
   "metadata": {
    "collapsed": true
   },
   "outputs": [],
   "source": [
    "import numpy as np\n",
    "import tensorflow as tf"
   ]
  },
  {
   "cell_type": "code",
   "execution_count": 6,
   "metadata": {},
   "outputs": [
    {
     "name": "stdout",
     "output_type": "stream",
     "text": [
      "[  1.  23.   3.]\n"
     ]
    }
   ],
   "source": [
    "a=tf.placeholder(tf.float32 , shape=(3))\n",
    "\n",
    "sess = tf.Session()\n",
    "\n",
    "print(sess.run(a , feed_dict={a: [1,23,3]}))\n",
    "\n",
    "sess.close()"
   ]
  },
  {
   "cell_type": "code",
   "execution_count": 7,
   "metadata": {},
   "outputs": [
    {
     "name": "stdout",
     "output_type": "stream",
     "text": [
      "<tf.Variable 'wights:0' shape=(784, 200) dtype=float32_ref>\n"
     ]
    }
   ],
   "source": [
    "weights = tf.Variable(tf.random_normal([784 , 200] , stddev=0.35) , name = 'wights')\n",
    "print(weights)"
   ]
  },
  {
   "cell_type": "code",
   "execution_count": 8,
   "metadata": {},
   "outputs": [
    {
     "name": "stdout",
     "output_type": "stream",
     "text": [
      "<tf.Variable 'biases:0' shape=(200,) dtype=float32_ref>\n"
     ]
    }
   ],
   "source": [
    "biases = tf.Variable(tf.zeros([200]) , name='biases')\n",
    "print(biases)"
   ]
  },
  {
   "cell_type": "code",
   "execution_count": 14,
   "metadata": {},
   "outputs": [
    {
     "name": "stdout",
     "output_type": "stream",
     "text": [
      "<tf.Variable 'w2_1:0' shape=(784, 200) dtype=float32_ref>\n"
     ]
    }
   ],
   "source": [
    "w2 = tf.Variable(weights.initialized_value() , name = 'w2')\n",
    "print(w2)"
   ]
  },
  {
   "cell_type": "code",
   "execution_count": 30,
   "metadata": {
    "collapsed": true
   },
   "outputs": [],
   "source": [
    "#测试恢复指定的变量\n",
    "w3 = tf.Variable(weights.initialized_value() , name = 'w3')"
   ]
  },
  {
   "cell_type": "code",
   "execution_count": 31,
   "metadata": {},
   "outputs": [],
   "source": [
    "init = tf.global_variables_initializer()"
   ]
  },
  {
   "cell_type": "code",
   "execution_count": 32,
   "metadata": {
    "collapsed": true
   },
   "outputs": [],
   "source": [
    "#保存变量\n",
    "#使用tf.train.Saver() 创建Saver实例来管理模型中的所有变量\n",
    "saver = tf.train.Saver()\n",
    "\n",
    "#上面位置或这里 添加初始化操作都可以\n",
    "#init = tf.global_variables_initializer()\n"
   ]
  },
  {
   "cell_type": "code",
   "execution_count": 38,
   "metadata": {},
   "outputs": [],
   "source": [
    "#测试恢复指定的变量\n",
    "#使用feifei来保存或恢复w3变量\n",
    "saver_w3 = tf.train.Saver({\"feifei\":w3})\n"
   ]
  },
  {
   "cell_type": "code",
   "execution_count": 39,
   "metadata": {},
   "outputs": [
    {
     "name": "stdout",
     "output_type": "stream",
     "text": [
      "SAVE_TEST/model.ckpt\n"
     ]
    }
   ],
   "source": [
    "with tf.Session() as sess:\n",
    "    sess.run(init)\n",
    "    save_path = saver.save(sess , 'SAVE_TEST/model.ckpt')\n",
    "\n",
    "print(save_path)"
   ]
  },
  {
   "cell_type": "code",
   "execution_count": 40,
   "metadata": {},
   "outputs": [
    {
     "name": "stdout",
     "output_type": "stream",
     "text": [
      "INFO:tensorflow:Restoring parameters from SAVE_TEST/model.ckpt\n",
      "\n"
     ]
    }
   ],
   "source": [
    "#恢复变量\n",
    "#默认将所有变量全部恢复\n",
    "with tf.Session() as sess:\n",
    "    saver.restore(sess , 'SAVE_TEST/model.ckpt')\n",
    "    \n",
    "    print()"
   ]
  },
  {
   "cell_type": "code",
   "execution_count": null,
   "metadata": {
    "collapsed": true
   },
   "outputs": [],
   "source": []
  }
 ],
 "metadata": {
  "kernelspec": {
   "display_name": "Python 3",
   "language": "python",
   "name": "python3"
  },
  "language_info": {
   "codemirror_mode": {
    "name": "ipython",
    "version": 3
   },
   "file_extension": ".py",
   "mimetype": "text/x-python",
   "name": "python",
   "nbconvert_exporter": "python",
   "pygments_lexer": "ipython3",
   "version": "3.6.2"
  }
 },
 "nbformat": 4,
 "nbformat_minor": 2
}
