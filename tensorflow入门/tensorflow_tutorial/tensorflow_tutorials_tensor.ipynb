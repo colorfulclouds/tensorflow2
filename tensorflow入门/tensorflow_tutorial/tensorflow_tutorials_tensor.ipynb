{
 "cells": [
  {
   "cell_type": "code",
   "execution_count": 1,
   "metadata": {
    "collapsed": true
   },
   "outputs": [],
   "source": [
    "import tensorflow as tf\n",
    "import numpy as np"
   ]
  },
  {
   "cell_type": "code",
   "execution_count": null,
   "metadata": {
    "collapsed": true
   },
   "outputs": [],
   "source": [
    "#tensor 常用的下面这些\n",
    "#placeholder sparsetensor variable constant\n",
    "#只有variable值是可变的 其余的placeholder sparsetensor constant都不可以变动了"
   ]
  },
  {
   "cell_type": "code",
   "execution_count": null,
   "metadata": {
    "collapsed": true
   },
   "outputs": [],
   "source": [
    "#https://www.tensorflow.org/programmers_guide/tensors\n",
    "#这里是tf.Tensor的介绍\n",
    "'''\n",
    "Rank Math entity \n",
    "0 Scalar (magnitude only) \n",
    "1 Vector (magnitude and direction) \n",
    "2 Matrix (table of numbers) \n",
    "3 3-Tensor (cube of numbers) \n",
    "n n-Tensor (you get the idea)\n",
    "'''"
   ]
  },
  {
   "cell_type": "code",
   "execution_count": null,
   "metadata": {
    "collapsed": true
   },
   "outputs": [],
   "source": [
    "#rank 0\n",
    "#0维 只有一个值\n",
    "mammal = tf.Variable('apple' , tf.string)\n",
    "#A string is treated as a single item in TensorFlow, not as a sequence of characters. \n",
    "#It is possible to have scalar strings, vectors of strings, etc\n",
    "ignition = tf.Variable(451 , tf.int16)\n",
    "floating = tf.Variable(3.126424 , tf.float64)\n",
    "its_complicted = tf.Variable((12.3 , -4.85) , tf.complex64)#这是一个虚数\n"
   ]
  },
  {
   "cell_type": "code",
   "execution_count": 5,
   "metadata": {
    "collapsed": true
   },
   "outputs": [],
   "source": [
    "#创建rank1 tensor可以直接扔一个list 作为初始值\n",
    "#只有一维 一行元素\n",
    "mystr = tf.Variable(['hello'] , tf.string)\n",
    "cool_number = tf.Variable([3.121, 2.54] , tf.float32)\n",
    "first_primes = tf.Variable([12,5,4,5] , tf.int32)\n",
    "its_very_complicated = tf.Variable([(12.5,-4) , (7.5,-3.3)] , tf.complex64)"
   ]
  },
  {
   "cell_type": "code",
   "execution_count": 2,
   "metadata": {
    "collapsed": true
   },
   "outputs": [],
   "source": [
    "#rank2 2维\n",
    "#就像是数组一样\n",
    "mymat = tf.Variable([[7] ,[11]] , tf.int16)\n",
    "myxor = tf.Variable([[False,True],[True , False]] , tf.bool)\n",
    "linear_squares = tf.Variable([[4],[9],[16],[25]] , tf.int32)\n",
    "squarish_squares = tf.Variable([[4,9],[16,25]] , tf.int32)\n",
    "rank_of_squares = tf.rank(squarish_squares)#返回张量的rank\n",
    "mymatc = tf.Variable([[7],[11]] , tf.int32)"
   ]
  },
  {
   "cell_type": "code",
   "execution_count": 3,
   "metadata": {},
   "outputs": [
    {
     "name": "stdout",
     "output_type": "stream",
     "text": [
      "Tensor(\"Rank:0\", shape=(), dtype=int32)\n"
     ]
    }
   ],
   "source": [
    "print(rank_of_squares)"
   ]
  },
  {
   "cell_type": "code",
   "execution_count": 4,
   "metadata": {
    "collapsed": true
   },
   "outputs": [],
   "source": [
    "#rank n\n",
    "my_image = tf.zeros([10,299,299,3]) #batch_size 10 height 299 width 299 color3"
   ]
  },
  {
   "cell_type": "code",
   "execution_count": 7,
   "metadata": {
    "collapsed": true
   },
   "outputs": [],
   "source": [
    "#访问张量的具体cell处的数值d\n",
    "\n",
    "#rank 0直接获得值\n",
    "\n",
    "#rank 1 直接给出索引 和C语言访问数组元素一样\n",
    "#传入的索引 可以是一个 rank 0的标量\n",
    "#Note that the index passed inside the [] can itself be a scalar tf.Tensor, \n",
    "#if you want to dynamically choose an element from the vector.\n",
    "\n",
    "my_scalar = cool_number[1]\n",
    "\n",
    "#rank 2需要给出两个索引来获得一个具体的值\n",
    "my_scalar = my_matrix[1, 2]\n",
    "#如果只传入一个索引 获得一个subvector 为一行\n",
    "my_scalar = my_matrix[1]\n",
    "#切片技术\n",
    "'''\n",
    "The : notation is python slicing syntax for \"leave this dimension alone\". \n",
    "This is useful in higher-rank Tensors, \n",
    "as it allows you to access its subvectors, submatrices, and even other subtensors.\n",
    "'''\n",
    "my_scalar = my_matrix[: , 1]"
   ]
  },
  {
   "cell_type": "code",
   "execution_count": null,
   "metadata": {
    "collapsed": true
   },
   "outputs": [],
   "source": [
    "# tensor的shape信息\n",
    "'''\n",
    "Rank Shape Dimension number Example \n",
    "0 [] 0-D A 0-D tensor. A scalar. \n",
    "1 [D0] 1-D A 1-D tensor with shape [5]. \n",
    "2 [D0, D1] 2-D A 2-D tensor with shape [3, 4]. \n",
    "3 [D0, D1, D2] 3-D A 3-D tensor with shape [1, 4, 3]. \n",
    "n [D0, D1, ... Dn-1] n-D A tensor with shape [D0, D1, ... Dn-1].\n",
    "'''\n",
    "#shape 一般用list tuple 或 tf.TensorShape来传达\n",
    "#tensorflow在构建图的时候 会自动推断shape\n",
    "\n",
    "#可以通过访问tf.Tensor对象的成员shape获得张量的shape信息，返回tf.TensorShape对象\n",
    "#也可以使用tf.shape函数 获得\n",
    "#这个函数可以用来 使用一个存在的张量来动态地构建一个新的张量\n",
    "zeros = tf.zeros(tf.shape(my_matrix)[1])"
   ]
  },
  {
   "cell_type": "code",
   "execution_count": null,
   "metadata": {
    "collapsed": true
   },
   "outputs": [],
   "source": [
    "#tf.reshape可以重新构建shape 但是元素数量必须不变"
   ]
  },
  {
   "cell_type": "code",
   "execution_count": null,
   "metadata": {
    "collapsed": true
   },
   "outputs": [],
   "source": [
    "#tf.Tensor只可能有一个类型 tf.int tf.float\n",
    "#It is possible, however, to serialize arbitrary data structures as strings \n",
    "#and store those in tf.Tensors.\n",
    "\n",
    "#张量对象的成员 dtype获得类型（tf.int tf.float）\n",
    "\n",
    "#tensorflow将python中的int转为tf.int32 将python中的float转为tf.float32(用户自己没有指定张量类型的时候)\n",
    "\n",
    "#tf.cast() 来做类型转化"
   ]
  },
  {
   "cell_type": "code",
   "execution_count": null,
   "metadata": {
    "collapsed": true
   },
   "outputs": [],
   "source": [
    "#如果计算图构建完成 就可以来运算了\n",
    "#可以将想查看的tensor的值 取出来\n",
    "#使用tensor的成员函数 eval()\n",
    "#而且默认的 会话 必须是活跃状态\n",
    "#Tensor.eval returns a numpy array with the same contents as the tensor."
   ]
  },
  {
   "cell_type": "code",
   "execution_count": 11,
   "metadata": {},
   "outputs": [
    {
     "name": "stdout",
     "output_type": "stream",
     "text": [
      "[1 4 9]\n"
     ]
    }
   ],
   "source": [
    "constant = tf.constant([1,2,3])\n",
    "tensor = constant * constant\n",
    "\n",
    "with tf.Session() as sess:\n",
    "    print(tensor.eval())"
   ]
  },
  {
   "cell_type": "code",
   "execution_count": null,
   "metadata": {
    "collapsed": true
   },
   "outputs": [],
   "source": [
    "#再fetch placeholder的值时候 需要注意"
   ]
  },
  {
   "cell_type": "code",
   "execution_count": 13,
   "metadata": {},
   "outputs": [
    {
     "name": "stdout",
     "output_type": "stream",
     "text": [
      "3.0\n"
     ]
    }
   ],
   "source": [
    "p = tf.placeholder(tf.float32)\n",
    "t = p + 1\n",
    "\n",
    "with tf.Session() as sess:\n",
    "    #print(t.eval()) #出现错误 因为placeholder没有获得一个值\n",
    "    print(t.eval(feed_dict={p:2.0}))"
   ]
  },
  {
   "cell_type": "code",
   "execution_count": null,
   "metadata": {
    "collapsed": true
   },
   "outputs": [],
   "source": [
    "'''\n",
    "If a tf.Tensor depends on a value from a queue, evaluating the tf.Tensor will only work once something has been enqueued; \n",
    "otherwise, evaluating it will hang. \n",
    "When working with queues, remember to call tf.train.start_queue_runners before evaluating any tf.Tensors.\n",
    "'''\n",
    "#面对队列时 如果想fetch值 先调用tf.train.start_queue_runners 然后再fetch值"
   ]
  },
  {
   "cell_type": "code",
   "execution_count": null,
   "metadata": {
    "collapsed": true
   },
   "outputs": [],
   "source": [
    "#可以将tensor 使用print打印出来 但是这打印的不是tensor的值 而是object信息\n",
    "#可以使用tf.Print（） 这个函数会返回信息"
   ]
  },
  {
   "cell_type": "code",
   "execution_count": 20,
   "metadata": {},
   "outputs": [
    {
     "name": "stdout",
     "output_type": "stream",
     "text": [
      "Tensor(\"add_5:0\", shape=(), dtype=int32)\n"
     ]
    }
   ],
   "source": [
    "t= tf.constant(1)\n",
    "#tf.Print(t , [t])\n",
    "with tf.Session() as sess:\n",
    "    t = tf.Print(t , [t])\n",
    "    result = t+1\n",
    "    print(result)"
   ]
  },
  {
   "cell_type": "code",
   "execution_count": null,
   "metadata": {
    "collapsed": true
   },
   "outputs": [],
   "source": []
  }
 ],
 "metadata": {
  "kernelspec": {
   "display_name": "Python 3",
   "language": "python",
   "name": "python3"
  },
  "language_info": {
   "codemirror_mode": {
    "name": "ipython",
    "version": 3
   },
   "file_extension": ".py",
   "mimetype": "text/x-python",
   "name": "python",
   "nbconvert_exporter": "python",
   "pygments_lexer": "ipython3",
   "version": "3.6.2"
  }
 },
 "nbformat": 4,
 "nbformat_minor": 2
}
