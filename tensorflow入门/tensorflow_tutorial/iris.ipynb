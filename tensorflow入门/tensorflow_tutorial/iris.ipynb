{
 "cells": [
  {
   "cell_type": "code",
   "execution_count": 1,
   "metadata": {
    "collapsed": true
   },
   "outputs": [],
   "source": [
    "from __future__ import absolute_import\n",
    "from __future__ import division\n",
    "from __future__ import print_function"
   ]
  },
  {
   "cell_type": "code",
   "execution_count": 2,
   "metadata": {
    "collapsed": true
   },
   "outputs": [],
   "source": [
    "import os\n",
    "from six.moves.urllib.request import urlopen"
   ]
  },
  {
   "cell_type": "code",
   "execution_count": 3,
   "metadata": {
    "collapsed": true
   },
   "outputs": [],
   "source": [
    "import tensorflow as tf\n",
    "import numpy as np"
   ]
  },
  {
   "cell_type": "code",
   "execution_count": 4,
   "metadata": {
    "collapsed": true
   },
   "outputs": [],
   "source": [
    "IRIS_TRAINING = 'iris_train.csv'\n",
    "IRIS_TRAINING_URL = 'http://download.tensorflow.org/data/iris_training.csv'\n",
    "\n",
    "IRIS_TEST = 'iris_test.csv'\n",
    "IRIS_TEST_URL = 'http://download.tensorflow.org/data/iris_test.csv'"
   ]
  },
  {
   "cell_type": "code",
   "execution_count": 5,
   "metadata": {
    "collapsed": true
   },
   "outputs": [],
   "source": [
    "#下载数据集\n",
    "if not os.path.exists(IRIS_TRAINING):\n",
    "    raw = urlopen(IRIS_TRAINING_URL).read()\n",
    "    with open(IRIS_TRAINING , 'wb') as f:\n",
    "        f.write(raw)\n",
    "\n",
    "if not os.path.exists(IRIS_TEST):\n",
    "    raw = urlopen(IRIS_TEST_URL).read()\n",
    "    with open(IRIS_TEST , 'wb') as f:\n",
    "        f.write(raw)"
   ]
  },
  {
   "cell_type": "code",
   "execution_count": 6,
   "metadata": {
    "collapsed": true
   },
   "outputs": [],
   "source": [
    "#从csv中读入数据\n",
    "#pandas也可以来处理csv 且更加强大\n",
    "\n",
    "#target成员和data成员（feature）\n",
    "\n",
    "#Datasets in tf.contrib.learn are named tuples; \n",
    "#with_header\n",
    "#without_header\n",
    "#上面区别 就是csv文件最上面是否有列描述\n",
    "training_set = tf.contrib.learn.datasets.base.load_csv_with_header(filename=IRIS_TRAINING,\n",
    "                                                                  target_dtype = np.int,\n",
    "                                                                  features_dtype = np.float32)\n",
    "\n",
    "test_set = tf.contrib.learn.datasets.base.load_csv_with_header(filename=IRIS_TEST,\n",
    "                                                              target_dtype = np.int,\n",
    "                                                              features_dtype = np.float32)"
   ]
  },
  {
   "cell_type": "code",
   "execution_count": 9,
   "metadata": {
    "collapsed": true
   },
   "outputs": [
    {
     "data": {
      "text/plain": [
       "array([2, 1, 2, 0, 0, 0, 0, 2, 1, 0, 1, 1, 0, 0, 2, 1, 2, 2, 2, 0, 2, 2, 0,\n",
       "       2, 2, 0, 1, 2, 1, 1, 1, 1, 1, 2, 2, 2, 2, 2, 0, 0, 2, 2, 2, 0, 0, 2,\n",
       "       0, 2, 0, 2, 0, 1, 1, 0, 1, 2, 2, 2, 2, 1, 1, 2, 2, 2, 1, 2, 0, 2, 2,\n",
       "       0, 0, 1, 0, 2, 2, 0, 1, 1, 1, 2, 0, 1, 1, 1, 2, 0, 1, 1, 1, 0, 2, 1,\n",
       "       0, 0, 2, 0, 0, 2, 1, 0, 0, 1, 0, 1, 0, 0, 0, 0, 1, 0, 2, 1, 0, 2, 0,\n",
       "       1, 1, 0, 0, 1])"
      ]
     },
     "execution_count": 9,
     "metadata": {},
     "output_type": "execute_result"
    }
   ],
   "source": [
    "training_set.data#feature\n",
    "training_set.target"
   ]
  },
  {
   "cell_type": "code",
   "execution_count": 12,
   "metadata": {},
   "outputs": [
    {
     "name": "stdout",
     "output_type": "stream",
     "text": [
      "INFO:tensorflow:Using default config.\n",
      "INFO:tensorflow:Using config: {'_model_dir': 'iris_model', '_tf_random_seed': 1, '_save_summary_steps': 100, '_save_checkpoints_secs': 600, '_save_checkpoints_steps': None, '_session_config': None, '_keep_checkpoint_max': 5, '_keep_checkpoint_every_n_hours': 10000, '_log_step_count_steps': 100}\n"
     ]
    }
   ],
   "source": [
    "#直接使用已经实现好了的model\n",
    "#指定所有特性都具有实值数据\n",
    "#因为只有4个feature所以shape=4\n",
    "feature_columns = [tf.feature_column.numeric_column('x' , shape=[4])]\n",
    "#类似一个占位符\n",
    "\n",
    "#创建一个dnn\n",
    "classifier = tf.estimator.DNNClassifier(feature_columns=feature_columns,\n",
    "                                       hidden_units = [10,20,10],\n",
    "                                       n_classes = 3,\n",
    "                                       model_dir = 'iris_model')"
   ]
  },
  {
   "cell_type": "code",
   "execution_count": 14,
   "metadata": {
    "collapsed": true
   },
   "outputs": [],
   "source": [
    "#创建训练数据\n",
    "train_input_fn = tf.estimator.inputs.numpy_input_fn(x={'x':np.array(training_set.data)},\n",
    "                                                   y = np.array(training_set.target),\n",
    "                                                   num_epochs = None,\n",
    "                                                   shuffle = True)"
   ]
  },
  {
   "cell_type": "code",
   "execution_count": 15,
   "metadata": {
    "collapsed": true
   },
   "outputs": [
    {
     "name": "stdout",
     "output_type": "stream",
     "text": [
      "INFO:tensorflow:Create CheckpointSaverHook.\n",
      "INFO:tensorflow:Saving checkpoints for 1 into iris_model\\model.ckpt.\n",
      "INFO:tensorflow:loss = 278.491, step = 1\n",
      "INFO:tensorflow:global_step/sec: 598.375\n",
      "INFO:tensorflow:loss = 9.75565, step = 101 (0.169 sec)\n",
      "INFO:tensorflow:global_step/sec: 566.17\n",
      "INFO:tensorflow:loss = 10.6328, step = 201 (0.176 sec)\n",
      "INFO:tensorflow:global_step/sec: 561.402\n",
      "INFO:tensorflow:loss = 8.78367, step = 301 (0.180 sec)\n",
      "INFO:tensorflow:global_step/sec: 511.146\n",
      "INFO:tensorflow:loss = 8.49244, step = 401 (0.195 sec)\n",
      "INFO:tensorflow:global_step/sec: 427.961\n",
      "INFO:tensorflow:loss = 12.3439, step = 501 (0.238 sec)\n",
      "INFO:tensorflow:global_step/sec: 333.098\n",
      "INFO:tensorflow:loss = 13.2094, step = 601 (0.297 sec)\n",
      "INFO:tensorflow:global_step/sec: 511.144\n",
      "INFO:tensorflow:loss = 6.79398, step = 701 (0.201 sec)\n",
      "INFO:tensorflow:global_step/sec: 412.079\n",
      "INFO:tensorflow:loss = 8.88533, step = 801 (0.236 sec)\n",
      "INFO:tensorflow:global_step/sec: 591.298\n",
      "INFO:tensorflow:loss = 2.58342, step = 901 (0.169 sec)\n",
      "INFO:tensorflow:global_step/sec: 586.092\n",
      "INFO:tensorflow:loss = 3.65462, step = 1001 (0.170 sec)\n",
      "INFO:tensorflow:global_step/sec: 580.985\n",
      "INFO:tensorflow:loss = 2.13769, step = 1101 (0.173 sec)\n",
      "INFO:tensorflow:global_step/sec: 420.753\n",
      "INFO:tensorflow:loss = 6.34915, step = 1201 (0.237 sec)\n",
      "INFO:tensorflow:global_step/sec: 614.95\n",
      "INFO:tensorflow:loss = 5.72854, step = 1301 (0.162 sec)\n",
      "INFO:tensorflow:global_step/sec: 435.417\n",
      "INFO:tensorflow:loss = 12.5033, step = 1401 (0.234 sec)\n",
      "INFO:tensorflow:global_step/sec: 504.695\n",
      "INFO:tensorflow:loss = 1.71946, step = 1501 (0.195 sec)\n",
      "INFO:tensorflow:global_step/sec: 586.097\n",
      "INFO:tensorflow:loss = 3.41751, step = 1601 (0.171 sec)\n",
      "INFO:tensorflow:global_step/sec: 556.689\n",
      "INFO:tensorflow:loss = 9.90037, step = 1701 (0.180 sec)\n",
      "INFO:tensorflow:global_step/sec: 497.159\n",
      "INFO:tensorflow:loss = 9.22271, step = 1801 (0.204 sec)\n",
      "INFO:tensorflow:global_step/sec: 525.943\n",
      "INFO:tensorflow:loss = 4.9182, step = 1901 (0.188 sec)\n",
      "INFO:tensorflow:Saving checkpoints for 2000 into iris_model\\model.ckpt.\n",
      "INFO:tensorflow:Loss for final step: 10.6226.\n"
     ]
    },
    {
     "data": {
      "text/plain": [
       "<tensorflow.python.estimator.canned.dnn.DNNClassifier at 0x24a1cde2d68>"
      ]
     },
     "execution_count": 15,
     "metadata": {},
     "output_type": "execute_result"
    }
   ],
   "source": [
    "#接下来开始训练模型\n",
    "classifier.train(input_fn=train_input_fn , steps=2000)\n",
    "\n",
    "#classifier 会保存模型的状态 所以可以将训练步骤随便拆开\n",
    "#下面两次1000就相当于上面的一次2000\n",
    "classifier.train(input_fn=train_input_fn , steps=1000)\n",
    "classifier.train(input_fn=train_input_fn , steps=1000)"
   ]
  },
  {
   "cell_type": "code",
   "execution_count": 20,
   "metadata": {},
   "outputs": [
    {
     "name": "stdout",
     "output_type": "stream",
     "text": [
      "INFO:tensorflow:Starting evaluation at 2017-11-07-02:38:38\n",
      "INFO:tensorflow:Restoring parameters from iris_model\\model.ckpt-2000\n",
      "INFO:tensorflow:Finished evaluation at 2017-11-07-02:38:38\n",
      "INFO:tensorflow:Saving dict for global step 2000: accuracy = 0.966667, average_loss = 0.0657732, global_step = 2000, loss = 1.9732\n"
     ]
    }
   ],
   "source": [
    "test_input_fn = tf.estimator.inputs.numpy_input_fn(x={'x':np.array(test_set.data)},\n",
    "                                                  y = np.array(test_set.target),\n",
    "                                                  num_epochs = 1,\n",
    "                                                  shuffle = False)\n",
    "accuracy = classifier.evaluate(input_fn=test_input_fn)['accuracy']"
   ]
  },
  {
   "cell_type": "code",
   "execution_count": 21,
   "metadata": {},
   "outputs": [
    {
     "name": "stdout",
     "output_type": "stream",
     "text": [
      "test accuracy: 0.966667\n"
     ]
    }
   ],
   "source": [
    "print('test accuracy:' , accuracy)"
   ]
  },
  {
   "cell_type": "code",
   "execution_count": 36,
   "metadata": {},
   "outputs": [
    {
     "name": "stdout",
     "output_type": "stream",
     "text": [
      "INFO:tensorflow:Restoring parameters from iris_model\\model.ckpt-2000\n"
     ]
    }
   ],
   "source": [
    "#实际运行几个例子尝试一下\n",
    "new_samples = np.array([\n",
    "    [6.4,3.2,4.5,1.5],\n",
    "    [5.8,3.1,5.0,1.7]] , dtype = np.float32)\n",
    "\n",
    "predict_input_fn = tf.estimator.inputs.numpy_input_fn(x={'x':new_samples},\n",
    "                                                     num_epochs = 1,\n",
    "                                                     shuffle = False)\n",
    "\n",
    "prediction = list(classifier.predict(input_fn=predict_input_fn))\n"
   ]
  },
  {
   "cell_type": "code",
   "execution_count": 43,
   "metadata": {},
   "outputs": [
    {
     "name": "stdout",
     "output_type": "stream",
     "text": [
      "1\n",
      "2\n"
     ]
    }
   ],
   "source": [
    "print(int(prediction[0]['classes'][0]))\n",
    "print(int(prediction[1]['classes'][0]))"
   ]
  },
  {
   "cell_type": "code",
   "execution_count": null,
   "metadata": {
    "collapsed": true
   },
   "outputs": [],
   "source": []
  }
 ],
 "metadata": {
  "kernelspec": {
   "display_name": "Python 3",
   "language": "python",
   "name": "python3"
  },
  "language_info": {
   "codemirror_mode": {
    "name": "ipython",
    "version": 3
   },
   "file_extension": ".py",
   "mimetype": "text/x-python",
   "name": "python",
   "nbconvert_exporter": "python",
   "pygments_lexer": "ipython3",
   "version": "3.6.2"
  }
 },
 "nbformat": 4,
 "nbformat_minor": 2
}
