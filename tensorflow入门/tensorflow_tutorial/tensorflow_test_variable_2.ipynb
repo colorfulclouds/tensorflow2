{
 "cells": [
  {
   "cell_type": "code",
   "execution_count": 1,
   "metadata": {
    "collapsed": true
   },
   "outputs": [],
   "source": [
    "import tensorflow as tf"
   ]
  },
  {
   "cell_type": "code",
   "execution_count": 2,
   "metadata": {},
   "outputs": [
    {
     "name": "stdout",
     "output_type": "stream",
     "text": [
      "nsc1/v1:0\n",
      "nsc1/vsc1/v2:0\n",
      "vsc1/v3:0\n"
     ]
    }
   ],
   "source": [
    "#==========\n",
    "#==========\n",
    "#name_scope 管理变量的命名空间 比如tensorboard\n",
    "#variable_scope 实现变量共享\n",
    "#name_scope variable_scope\n",
    "with tf.name_scope('nsc1'):\n",
    "    v1 = tf.Variable([1] , name = 'v1')\n",
    "    with tf.variable_scope('vsc1'):\n",
    "        v2 = tf.Variable([1] , name = 'v2')\n",
    "        v3 = tf.get_variable(name = 'v3' , shape = [])\n",
    "\n",
    "print(v1.name)\n",
    "print(v2.name)\n",
    "print(v3.name)\n",
    "#get_variable()  的v3的name不受name_scope限制 "
   ]
  },
  {
   "cell_type": "code",
   "execution_count": 3,
   "metadata": {},
   "outputs": [
    {
     "name": "stdout",
     "output_type": "stream",
     "text": [
      "nsc1_1/v4:0\n"
     ]
    }
   ],
   "source": [
    "with tf.name_scope('nsc1'):\n",
    "    v4 = tf.Variable([1] , name = 'v4')\n",
    "\n",
    "print(v4.name)"
   ]
  },
  {
   "cell_type": "code",
   "execution_count": null,
   "metadata": {
    "collapsed": true
   },
   "outputs": [],
   "source": []
  }
 ],
 "metadata": {
  "kernelspec": {
   "display_name": "Python 3",
   "language": "python",
   "name": "python3"
  },
  "language_info": {
   "codemirror_mode": {
    "name": "ipython",
    "version": 3
   },
   "file_extension": ".py",
   "mimetype": "text/x-python",
   "name": "python",
   "nbconvert_exporter": "python",
   "pygments_lexer": "ipython3",
   "version": "3.6.2"
  }
 },
 "nbformat": 4,
 "nbformat_minor": 2
}
