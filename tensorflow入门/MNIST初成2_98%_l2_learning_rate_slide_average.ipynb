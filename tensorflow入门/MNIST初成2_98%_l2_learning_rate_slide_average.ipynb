{
 "cells": [
  {
   "cell_type": "code",
   "execution_count": 3,
   "metadata": {
    "collapsed": true
   },
   "outputs": [],
   "source": [
    "#机器之心\n",
    "#http://mp.weixin.qq.com/s?__biz=MzA3MzI4MjgzMw==&mid=2650730287&idx=1&sn=5697b072a5671ac201e15b43339efab9&chksm=871b2b51b06ca247ac1fdc939e39cfc44cbc2ee25e1b105cf9a582395ddbcdd43cfe18fecd40&mpshare=1&scene=23&srcid=1025xvVK89uXAOZtUNUgwmUH#rd\n",
    "#=====\n",
    "#两个模型 一个使用滑动平均 一个没有使用\n",
    "#都使用L2正则"
   ]
  },
  {
   "cell_type": "code",
   "execution_count": 1,
   "metadata": {
    "collapsed": true
   },
   "outputs": [],
   "source": [
    "import numpy as np\n",
    "import tensorflow as tf\n",
    "import input_data"
   ]
  },
  {
   "cell_type": "code",
   "execution_count": 2,
   "metadata": {
    "collapsed": true
   },
   "outputs": [],
   "source": [
    "def randmize(dataset , labels):\n",
    "    permutation = np.random.permutation(labels.shape[0])\n",
    "    shuffled_dataset = dataset[permutation , : , :]\n",
    "    shuffled_labels = labels[permutation]\n",
    "    \n",
    "    return shuffled_dataset , shuffled_labels\n",
    "\n",
    "def one_hot(np_array):\n",
    "    return (np.arange(10) == np_array[: , None]).astype(np.float32)\n",
    "\n",
    "def reformat_data(dataset , labels , image_width , image_height , image_depth):\n",
    "    np_dataset_ = np.array([np.array(image_data).reshape(image_width , image_height , image_depth)])\n",
    "    np_labels_ = one_hot_encode(np.array(labels , dtype=np.float32))\n",
    "    np_dataset , np_labels = randmize(np_dataset_ , np_labels_)\n",
    "    \n",
    "    return np_dataset , np_labels\n",
    "\n",
    "def flatten_tf_array(array):\n",
    "    shape = array.get_shape().as_list()\n",
    "    return tf.reshape(array , [shape[0] , shape[1]*shape[2]*shape[3]])\n",
    "\n",
    "def accuracy(predictions , labels):\n",
    "    return (100.0 * np.sum(np.argmax(predictions , 1) == np.argmax(labels , 1)) / predictions.shape[0])"
   ]
  },
  {
   "cell_type": "code",
   "execution_count": 2,
   "metadata": {},
   "outputs": [
    {
     "name": "stdout",
     "output_type": "stream",
     "text": [
      "Extracting MNIST_data/train-images-idx3-ubyte.gz\n",
      "Extracting MNIST_data/train-labels-idx1-ubyte.gz\n",
      "Extracting MNIST_data/t10k-images-idx3-ubyte.gz\n",
      "Extracting MNIST_data/t10k-labels-idx1-ubyte.gz\n"
     ]
    }
   ],
   "source": [
    "mnist_folder = 'MNIST_data/'\n",
    "\n",
    "mnist = input_data.read_data_sets(mnist_folder , one_hot=True)"
   ]
  },
  {
   "cell_type": "code",
   "execution_count": 3,
   "metadata": {},
   "outputs": [
    {
     "name": "stdout",
     "output_type": "stream",
     "text": [
      "55000\n",
      "5000\n",
      "10000\n"
     ]
    }
   ],
   "source": [
    "print(mnist.train.num_examples)\n",
    "print(mnist.validation.num_examples)\n",
    "print(mnist.test.num_examples)"
   ]
  },
  {
   "cell_type": "code",
   "execution_count": 6,
   "metadata": {},
   "outputs": [
    {
     "name": "stdout",
     "output_type": "stream",
     "text": [
      "dd 0.1918\n",
      "dd 0.9306\n",
      "dd 0.9502\n",
      "dd 0.9584\n",
      "dd 0.9626\n",
      "dd 0.964\n",
      "dd 0.97\n",
      "dd 0.9726\n",
      "dd 0.9642\n",
      "dd 0.9778\n",
      "dd 0.9723\n"
     ]
    }
   ],
   "source": [
    "INPUT_NODE = 784\n",
    "OUTPUT_NODE = 10\n",
    "LAYER1_NODE = 500\n",
    "\n",
    "BATCH_SZIE = 100\n",
    "\n",
    "regularaztion_rate= 0.001\n",
    "\n",
    "learning_rate_base = 0.01\n",
    "learning_rate_decay = 0.99\n",
    "\n",
    "def inference(input_tensor , avg_class , weights1 , biases1 , weights2, biases2):\n",
    "    if avg_class == None:\n",
    "        layer1 = tf.nn.relu(tf.matmul(input_tensor , weights1) + biases1)\n",
    "        return tf.nn.softmax(tf.matmul(layer1 , weights2) + biases2)\n",
    "    \n",
    "    else:\n",
    "        layer1 = tf.nn.relu(tf.matmul(input_tensor , avg_class.average(weights1)) + avg_class.average(biases1))\n",
    "        return tf.nn.softmax(tf.matmul(layer1 , avg_class.average(weights2) + avg_class.average(biases2)))\n",
    "\n",
    "\n",
    "x = tf.placeholder(tf.float32 , [None , INPUT_NODE])\n",
    "y_ = tf.placeholder(tf.float32 , [None , OUTPUT_NODE])\n",
    "\n",
    "#batch norm\n",
    "x = tf.reshape(x , shape = [-1 , 28,28,1])\n",
    "mean , variance = tf.nn.moments(x , [0 , 1, 2])\n",
    "x = tf.nn.batch_normalization(x , mean=mean , variance=variance ,offset= 0, scale=1,variance_epsilon=0.000001 )\n",
    "x = tf.reshape(x , shape=[-1 , 784])\n",
    "\n",
    "weights1 = tf.Variable(tf.truncated_normal([INPUT_NODE , LAYER1_NODE] , stddev=0.1))\n",
    "biases1 = tf.Variable(tf.constant(0.1 , shape = [LAYER1_NODE]))\n",
    "\n",
    "weights2 = tf.Variable(tf.truncated_normal([LAYER1_NODE , OUTPUT_NODE] , stddev=0.1))\n",
    "biases2 = tf.Variable(tf.constant(0.1 , shape = [OUTPUT_NODE]))\n",
    "\n",
    "y = inference(x , None , weights1 , biases1 , weights2 , biases2)\n",
    "\n",
    "cross_entropy_mean = tf.reduce_mean(-tf.reduce_sum(y_ * tf.log(y+1e-10)))\n",
    "\n",
    "#增加正则化项 惩戒w1 w2\n",
    "regularizer = tf.contrib.layers.l2_regularizer(regularaztion_rate)\n",
    "regularaztion = regularizer(weights1) + regularizer(weights2)\n",
    "loss = cross_entropy_mean + regularaztion\n",
    "\n",
    "global_step = tf.Variable(0 , trainable=False)\n",
    "#==============\n",
    "#使用滑动平均\n",
    "MOVING_AVERAGE_DECAY = 0.99\n",
    "variable_averages = tf.train.ExponentialMovingAverage(MOVING_AVERAGE_DECAY, global_step)\n",
    "variables_averages_op = variable_averages.apply(tf.trainable_variables())\n",
    "average_y = inference(x, variable_averages, weights1, biases1, weights2, biases2)\n",
    "cross_entropy_mean2 = tf.reduce_mean(-tf.reduce_sum(y_ * tf.log(average_y+1e-10)))\n",
    "\n",
    "loss2 = cross_entropy_mean2 + regularaztion\n",
    "#==============\n",
    "\n",
    "#learning rate 递减变化\n",
    "#初始learning rate\n",
    "#量\n",
    "#每多少步更新learning rate\n",
    "#衰减率\n",
    "#staircase=True，那就表明每decay_steps次计算学习速率变化，更新原始学习速率，如果是False，那就是每一步都更新学习速率\n",
    "learning_rate = tf.train.exponential_decay(learning_rate_base,\n",
    "                                              global_step,\n",
    "                                              BATCH_SZIE,\n",
    "                                              learning_rate_decay,\n",
    "                                              staircase = True)\n",
    "\n",
    "train_step = tf.train.GradientDescentOptimizer(learning_rate).minimize(loss , global_step)\n",
    "\n",
    "with tf.control_dependencies([train_step , variables_averages_op]):\n",
    "    train_op = tf.no_op(name='train')\n",
    "\n",
    "sess = tf.Session()\n",
    "sess.run(tf.global_variables_initializer())\n",
    "\n",
    "correct_prediction = tf.equal(tf.argmax(y , 1) , tf.argmax(y_ , 1))\n",
    "accuracy = tf.reduce_mean(tf.cast(correct_prediction , tf.float32))\n",
    "\n",
    "validate_feed = {x:mnist.validation.images , y_:mnist.validation.labels}\n",
    "test_feed = {x:mnist.test.images , y_:mnist.test.labels}\n",
    "\n",
    "\n",
    "for i in range(1000):\n",
    "    xs,ys = mnist.train.next_batch(100)\n",
    "    sess.run(train_op , feed_dict={x:xs , y_:ys})\n",
    "    #print(sess.run(loss2 , feed_dict={x:xs , y_:ys}))\n",
    "    if i % 100 == 0:\n",
    "        print('dd' , sess.run(accuracy , feed_dict=validate_feed))\n",
    "\n",
    "print('dd' , sess.run(accuracy , feed_dict=test_feed))"
   ]
  },
  {
   "cell_type": "code",
   "execution_count": 26,
   "metadata": {},
   "outputs": [
    {
     "data": {
      "text/plain": [
       "'SAVE_TEST/mnist2.ckpt'"
      ]
     },
     "execution_count": 26,
     "metadata": {},
     "output_type": "execute_result"
    }
   ],
   "source": [
    "saver = tf.train.Saver()\n",
    "saver.save(sess , 'SAVE_TEST/mnist_test/mnist2.ckpt')"
   ]
  },
  {
   "cell_type": "code",
   "execution_count": null,
   "metadata": {
    "collapsed": true
   },
   "outputs": [],
   "source": []
  }
 ],
 "metadata": {
  "kernelspec": {
   "display_name": "Python 3",
   "language": "python",
   "name": "python3"
  },
  "language_info": {
   "codemirror_mode": {
    "name": "ipython",
    "version": 3
   },
   "file_extension": ".py",
   "mimetype": "text/x-python",
   "name": "python",
   "nbconvert_exporter": "python",
   "pygments_lexer": "ipython3",
   "version": "3.6.2"
  }
 },
 "nbformat": 4,
 "nbformat_minor": 2
}
