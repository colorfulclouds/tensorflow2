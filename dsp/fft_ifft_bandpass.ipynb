{
 "cells": [
  {
   "cell_type": "code",
   "execution_count": 1,
   "metadata": {
    "collapsed": true
   },
   "outputs": [],
   "source": [
    "import cv2\n",
    "import numpy as np\n",
    "import matplotlib.pyplot as plt"
   ]
  },
  {
   "cell_type": "code",
   "execution_count": null,
   "metadata": {
    "collapsed": true
   },
   "outputs": [],
   "source": [
    "img=cv2.imread('test1-angle.jpg',cv2.IMREAD_GRAYSCALE)\n",
    "\n",
    "f = np.fft.fft2(img)\n",
    "fshift = np.fft.fftshift(f)\n",
    "#取绝对值：将复数变化成实数\n",
    "#取对数的目的为了将数据变化到较小的范围（比如0-255）\n",
    "s1 = np.log(np.abs(f))\n",
    "s2 = np.log(np.abs(fshift))\n",
    "\n",
    "print(np.shape(s1))\n",
    "print(s1[0:20,0:20])\n",
    "\n",
    "cv2.imshow('s1',np.array(s1,dtype=int))\n",
    "cv2.imshow('s2',s2)\n",
    "\n",
    "cv2.waitKey()\n",
    "\n",
    "plt.subplot(321),plt.imshow(s1,'gray'),plt.title('original')\n",
    "plt.subplot(322),plt.imshow(s2,'gray'),plt.title('center')\n",
    "\n",
    "ph_f = np.angle(f)\n",
    "ph_fshift = np.angle(fshift)\n",
    "# print(ph_f)\n",
    "# print(ph_fshift)\n",
    "plt.subplot(323),plt.imshow(ph_f,'gray'),plt.title('original')\n",
    "plt.subplot(324),plt.imshow(ph_fshift,'gray'),plt.title('center')\n",
    "#\n",
    "# # 逆变换\n",
    "# f1shift = np.fft.ifftshift(fshift)\n",
    "# img_back = np.fft.ifft2(f1shift)\n",
    "# # 出来的是复数，无法显示\n",
    "# img_back = np.abs(img_back)\n",
    "# plt.subplot(325), plt.imshow(img_back, 'gray'), plt.title('img back')\n",
    "# plt.show()\n",
    "\n",
    "plt.subplot(121),plt.imshow(img,'gray'),plt.title('origial')\n",
    "plt.xticks([]),plt.yticks([])\n",
    "#--------------------------------\n",
    "rows,cols = img.shape\n",
    "# mask = np.ones(img.shape,np.uint8)\n",
    "# mask[rows/2-30:rows/2+30,cols/2-30:cols/2+30] = 0 #高通滤波\n",
    "# mask = np.zeros(img.shape,np.uint8)\n",
    "# mask[rows/2-80:rows/2+80,cols/2-80:cols/2+80] = 1 #低通滤波\n",
    "#--------------------------------\n",
    "#--------------------------------理想的带通滤波器\n",
    "rows,cols = img.shape\n",
    "mask1 = np.ones(img.shape,np.uint8)\n",
    "mask1[rows/2-8:rows/2+8,cols/2-8:cols/2+8] = 0\n",
    "mask2 = np.zeros(img.shape,np.uint8)\n",
    "mask2[rows/2-80:rows/2+80,cols/2-80:cols/2+80] = 1\n",
    "mask = mask1*mask2\n",
    "#--------------------------------\n",
    "f1 = np.fft.fft2(img)\n",
    "f1shift = np.fft.fftshift(f1)\n",
    "f1shift = f1shift*mask\n",
    "f2shift = np.fft.ifftshift(f1shift) #对新的进行逆变换\n",
    "img_new = np.fft.ifft2(f2shift)\n",
    "#出来的是复数，无法显示\n",
    "img_new = np.abs(img_new)\n",
    "#调整大小范围便于显示\n",
    "img_new = 255-(img_new-np.amin(img_new))/(np.amax(img_new)-np.amin(img_new))\n",
    "plt.subplot(122),plt.imshow(img_new,'gray'),plt.title('Highpass')\n",
    "plt.xticks([]),plt.yticks([])\n",
    "plt.show()"
   ]
  }
 ],
 "metadata": {
  "kernelspec": {
   "display_name": "Python 3",
   "language": "python",
   "name": "python3"
  },
  "language_info": {
   "codemirror_mode": {
    "name": "ipython",
    "version": 3
   },
   "file_extension": ".py",
   "mimetype": "text/x-python",
   "name": "python",
   "nbconvert_exporter": "python",
   "pygments_lexer": "ipython3",
   "version": "3.6.0"
  }
 },
 "nbformat": 4,
 "nbformat_minor": 2
}
