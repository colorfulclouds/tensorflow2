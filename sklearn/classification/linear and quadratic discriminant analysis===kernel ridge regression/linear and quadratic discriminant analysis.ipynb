{
 "cells": [
  {
   "cell_type": "code",
   "execution_count": null,
   "metadata": {
    "collapsed": true
   },
   "outputs": [],
   "source": [
    "#二次判别分析\n",
    "#线性判别分析\n",
    "#二次比线性更强\n",
    "#LDA可以用来降维\n",
    "\n",
    "#https://www.cnblogs.com/pinard/p/6244265.html\n",
    "#LDA最多降维至k-1维 k为样本中的类别数"
   ]
  },
  {
   "cell_type": "code",
   "execution_count": null,
   "metadata": {
    "collapsed": true
   },
   "outputs": [],
   "source": [
    "#Shrinkage\n",
    "#特征数量大于样本数量时 使用收缩求解协方差矩阵"
   ]
  }
 ],
 "metadata": {
  "kernelspec": {
   "display_name": "Python 3",
   "language": "python",
   "name": "python3"
  },
  "language_info": {
   "codemirror_mode": {
    "name": "ipython",
    "version": 3
   },
   "file_extension": ".py",
   "mimetype": "text/x-python",
   "name": "python",
   "nbconvert_exporter": "python",
   "pygments_lexer": "ipython3",
   "version": "3.6.0"
  }
 },
 "nbformat": 4,
 "nbformat_minor": 2
}
