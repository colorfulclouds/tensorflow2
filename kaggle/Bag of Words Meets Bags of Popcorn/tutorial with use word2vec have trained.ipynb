{
 "cells": [
  {
   "cell_type": "code",
   "execution_count": 37,
   "metadata": {
    "collapsed": true
   },
   "outputs": [],
   "source": [
    "from gensim.models import Word2Vec\n",
    "import pandas as pd\n",
    "from bs4 import BeautifulSoup\n",
    "import re\n",
    "\n",
    "from nltk.corpus import stopwords"
   ]
  },
  {
   "cell_type": "code",
   "execution_count": 31,
   "metadata": {},
   "outputs": [],
   "source": [
    "def read_data(file_name):\n",
    "    data = pd.read_csv(file_name , header=0,\n",
    "                      delimiter = '\\t' , quoting = 3)\n",
    "    \n",
    "    return data\n",
    "\n",
    "train = read_data('labeledTrainData.csv')\n",
    "test = read_data('testData.csv')\n",
    "unlabeled_train = read_data('unlabeledTrainData.csv')"
   ]
  },
  {
   "cell_type": "code",
   "execution_count": 2,
   "metadata": {
    "collapsed": true
   },
   "outputs": [],
   "source": [
    "model = Word2Vec.load('300f_40minword_10window')"
   ]
  },
  {
   "cell_type": "code",
   "execution_count": 12,
   "metadata": {},
   "outputs": [
    {
     "name": "stderr",
     "output_type": "stream",
     "text": [
      "I:\\Anaconda3\\lib\\site-packages\\ipykernel_launcher.py:1: DeprecationWarning: Call to deprecated `syn1neg` (Attribute will be removed in 4.0.0, use self.trainables.syn1neg instead).\n",
      "  \"\"\"Entry point for launching an IPython kernel.\n"
     ]
    },
    {
     "data": {
      "text/plain": [
       "numpy.ndarray"
      ]
     },
     "execution_count": 12,
     "metadata": {},
     "output_type": "execute_result"
    }
   ],
   "source": [
    "type(model.syn1neg)"
   ]
  },
  {
   "cell_type": "code",
   "execution_count": 11,
   "metadata": {},
   "outputs": [
    {
     "name": "stderr",
     "output_type": "stream",
     "text": [
      "I:\\Anaconda3\\lib\\site-packages\\ipykernel_launcher.py:1: DeprecationWarning: Call to deprecated `syn1neg` (Attribute will be removed in 4.0.0, use self.trainables.syn1neg instead).\n",
      "  \"\"\"Entry point for launching an IPython kernel.\n"
     ]
    },
    {
     "data": {
      "text/plain": [
       "(3385, 300)"
      ]
     },
     "execution_count": 11,
     "metadata": {},
     "output_type": "execute_result"
    }
   ],
   "source": [
    "model.syn1neg.shape\n"
   ]
  },
  {
   "cell_type": "code",
   "execution_count": 15,
   "metadata": {
    "collapsed": true
   },
   "outputs": [
    {
     "name": "stderr",
     "output_type": "stream",
     "text": [
      "I:\\Anaconda3\\lib\\site-packages\\ipykernel_launcher.py:1: DeprecationWarning: Call to deprecated `__getitem__` (Method will be removed in 4.0.0, use self.wv.__getitem__() instead).\n",
      "  \"\"\"Entry point for launching an IPython kernel.\n"
     ]
    },
    {
     "data": {
      "text/plain": [
       "array([ 4.32646215e-01,  5.06852329e-01, -9.73666370e-01,  1.55662036e+00,\n",
       "        7.81040490e-01, -8.74505520e-01, -7.55721703e-02, -8.59624445e-02,\n",
       "        1.04007375e+00, -2.23851353e-01,  1.99517429e-01, -4.49227393e-01,\n",
       "        2.48074546e-01, -1.39854938e-01,  3.13001335e-01,  1.23198366e+00,\n",
       "        4.55791086e-01, -1.62931359e+00, -1.98463964e+00,  2.26589298e+00,\n",
       "       -1.66310441e+00, -8.85294899e-02,  2.07328215e-01,  5.83751380e-01,\n",
       "       -2.65662956e+00,  6.75049484e-01, -9.31723297e-01,  1.13127410e+00,\n",
       "       -1.21383822e+00,  1.00053728e+00,  1.26345134e+00,  2.23625347e-01,\n",
       "        9.33250561e-02, -8.23213518e-01, -2.22346619e-01,  1.66357899e+00,\n",
       "       -9.17331994e-01,  2.00998259e+00, -1.26726460e+00, -4.26186889e-01,\n",
       "       -1.32787656e-02,  9.16741014e-01, -9.19954702e-02,  1.47512436e+00,\n",
       "       -2.38214388e-01,  2.44131422e+00,  7.61591196e-01,  9.76623595e-01,\n",
       "        4.50454473e-01, -1.54710400e+00, -5.36938012e-01, -7.07886875e-01,\n",
       "       -1.26476735e-01, -5.84592998e-01, -1.03127217e+00, -1.02985250e-02,\n",
       "        1.22254419e+00, -4.33136225e-02,  6.13151550e-01, -6.12768114e-01,\n",
       "        5.78626812e-01,  3.66451651e-01, -9.93519664e-01, -6.85882151e-01,\n",
       "        4.33495760e-01,  8.78229022e-01,  1.51418671e-01,  2.80578405e-01,\n",
       "        2.20535874e+00,  3.44551429e-02, -1.43140614e-01, -1.09408653e+00,\n",
       "       -1.46884596e+00, -3.62383336e-01, -6.66841626e-01,  3.15176940e+00,\n",
       "       -6.60153866e-01, -4.07895774e-01, -1.45468700e+00,  1.62794638e+00,\n",
       "       -9.23170626e-01,  8.20360556e-02, -8.79605651e-01, -1.55689791e-01,\n",
       "       -1.56913638e+00,  9.17342026e-03, -4.82161105e-01,  6.70993745e-01,\n",
       "       -2.48845965e-01, -6.60615087e-01,  1.95148841e-01,  1.90480247e-01,\n",
       "       -2.25041246e+00,  6.88058138e-01,  1.30832696e+00, -5.40601194e-01,\n",
       "       -1.67822433e+00, -3.19202602e-01, -1.02416086e+00, -1.10738122e+00,\n",
       "        1.67369819e+00, -2.72807896e-01, -3.34716320e-01, -6.54378951e-01,\n",
       "       -5.48683107e-01, -4.54152763e-01,  1.30457282e+00, -3.68732840e-01,\n",
       "       -3.30691397e-01,  3.01242564e-02, -1.83328962e+00, -1.56302679e+00,\n",
       "       -1.59993911e+00,  4.66474771e-01,  1.57549500e+00,  5.29793859e-01,\n",
       "        8.67051840e-01, -1.83028245e+00, -1.42248058e+00, -1.60749638e+00,\n",
       "        2.44073987e+00,  3.37901652e-01, -3.70755583e-01, -7.21155405e-01,\n",
       "       -1.05816758e+00, -7.35200882e-01,  1.46465325e+00, -7.92934358e-01,\n",
       "        1.19814885e+00, -8.19873691e-01,  1.12192702e+00, -5.85533738e-01,\n",
       "        6.22133374e-01,  7.71250963e-01, -1.20285317e-01, -2.93093896e+00,\n",
       "        3.95990193e-01, -2.24088359e+00, -1.10612527e-01,  5.16392887e-01,\n",
       "        1.10218310e+00, -1.02355272e-01, -1.05624306e+00, -4.06401664e-01,\n",
       "        1.49938524e+00, -1.55045605e+00, -1.03039777e+00,  1.32491481e+00,\n",
       "       -1.71177328e+00, -3.13024908e-01,  7.83957094e-02,  1.46105075e+00,\n",
       "        5.07503510e-01,  1.33742464e+00, -1.25333518e-01,  2.17619658e+00,\n",
       "        8.49876583e-01,  1.75774455e-01,  3.86099666e-01,  5.17455041e-02,\n",
       "       -3.10060889e-01,  1.02308762e+00, -1.72512397e-01, -1.09550929e+00,\n",
       "        8.13151989e-03,  9.94342089e-01,  3.51005852e-01, -1.22882299e-01,\n",
       "        8.73791635e-01,  3.91744703e-01, -5.22140861e-01,  5.39872825e-01,\n",
       "       -1.18375099e+00,  1.31882414e-01,  9.58598018e-01, -1.58519298e-01,\n",
       "       -1.01756752e+00, -3.94318849e-01,  1.54441130e+00,  2.46049905e+00,\n",
       "       -9.01161313e-01, -1.16499841e-01,  1.37429750e+00,  3.49754214e-01,\n",
       "       -5.65346897e-01, -5.57979420e-02, -3.53833377e-01, -1.12719230e-01,\n",
       "       -5.63872516e-01, -1.03590667e-01, -3.40349340e+00, -1.79132307e+00,\n",
       "        3.16842794e+00,  3.33649659e+00, -6.01743817e-01,  6.49074614e-01,\n",
       "        7.72313416e-01, -8.89041185e-01, -1.95967689e-01,  9.46021557e-01,\n",
       "       -1.05209506e+00,  1.58182889e-01,  1.64861333e+00, -9.74443436e-01,\n",
       "       -1.95740902e+00, -5.97771704e-01, -6.34964168e-01, -1.64925754e+00,\n",
       "       -2.05280018e+00, -6.17708325e-01, -7.07612559e-02, -1.81368256e+00,\n",
       "       -2.56985617e+00, -1.54783189e+00, -3.15595984e-01,  1.00678235e-01,\n",
       "        2.55657822e-01, -4.66236435e-02,  1.62462020e+00,  2.15934896e+00,\n",
       "        8.29437912e-01, -1.39123869e+00,  1.87228882e+00, -2.37885311e-01,\n",
       "        7.17013478e-02, -2.17188692e+00,  3.12168635e-02, -7.00205326e-01,\n",
       "       -8.52756798e-02,  3.96245599e-01, -5.94523251e-02,  8.11523736e-01,\n",
       "        2.98393631e+00,  1.18521713e-01,  2.13958287e+00, -1.55590427e+00,\n",
       "       -3.72981280e-01,  2.19656849e+00,  7.32450724e-01, -4.16707546e-01,\n",
       "       -7.92371571e-01, -2.99484205e+00,  6.11146927e-01,  2.04358387e+00,\n",
       "        1.66914475e+00, -8.21281748e-04, -6.00955546e-01,  4.30498540e-01,\n",
       "        5.73552728e-01, -1.28283834e+00,  6.36855289e-02,  6.04612231e-01,\n",
       "        3.15983564e-01,  1.10708341e-01,  2.20445976e-01, -2.53714830e-01,\n",
       "       -2.16848820e-01, -1.20264244e+00,  7.91094124e-01,  1.37070489e+00,\n",
       "       -1.04985285e+00,  1.08388945e-01, -2.02972628e-02, -7.25062311e-01,\n",
       "       -2.19787344e-01,  1.16935647e+00, -5.61959743e-01,  7.99106598e-01,\n",
       "       -2.72507906e-01, -6.08026803e-01, -1.38604796e+00,  1.43715763e+00,\n",
       "        1.44356084e+00,  6.17416799e-01, -9.67929959e-02, -2.19164103e-01,\n",
       "       -1.21545351e+00,  1.98716819e-01, -1.39614582e+00, -4.43311900e-01,\n",
       "       -4.80950654e-01,  8.64948571e-01, -1.17342234e-01,  1.95424512e-01,\n",
       "       -3.47365350e-01, -1.08440506e+00,  8.40542316e-01,  6.80942833e-02,\n",
       "       -9.97542620e-01,  1.11751413e+00, -1.23128009e+00, -1.50830817e+00,\n",
       "       -4.83926773e-01, -2.33882472e-01,  9.26763475e-01, -6.57977283e-01,\n",
       "        9.01459336e-01,  3.36260140e-01,  1.00812042e+00,  3.42579246e-01],\n",
       "      dtype=float32)"
      ]
     },
     "execution_count": 15,
     "metadata": {},
     "output_type": "execute_result"
    }
   ],
   "source": [
    "model['girl']\n",
    "#查看指定词向量"
   ]
  },
  {
   "cell_type": "code",
   "execution_count": 23,
   "metadata": {
    "scrolled": true
   },
   "outputs": [
    {
     "data": {
      "text/plain": [
       "3385"
      ]
     },
     "execution_count": 23,
     "metadata": {},
     "output_type": "execute_result"
    }
   ],
   "source": [
    "len(model.wv.index2word)\n",
    "#在wv中有词典具体的词 和 词的权重"
   ]
  },
  {
   "cell_type": "code",
   "execution_count": 17,
   "metadata": {
    "collapsed": true
   },
   "outputs": [],
   "source": [
    "import numpy as np"
   ]
  },
  {
   "cell_type": "code",
   "execution_count": 24,
   "metadata": {
    "collapsed": true
   },
   "outputs": [],
   "source": [
    "def makeFeatureVec(words , model , num_features):\n",
    "    featureVec = np.zeros((num_features , ) , dtype='float32')\n",
    "    \n",
    "    nwords = 0\n",
    "    \n",
    "    #拿到词典中的词汇\n",
    "    index2word_set = set(model.wv.index2word)\n",
    "    \n",
    "    #该函数对句子中的单词的词典特征值进行平均 作为一条句子的t特征\n",
    "    \n",
    "    for word in words:\n",
    "        if word in index2word_set:\n",
    "            nwords += 1\n",
    "            featureVec = np.add(featureVec , model[word])\n",
    "    \n",
    "    featureVec = np.divide(featureVec , nwords)\n",
    "    \n",
    "    return featureVec\n"
   ]
  },
  {
   "cell_type": "code",
   "execution_count": 25,
   "metadata": {
    "collapsed": true
   },
   "outputs": [],
   "source": [
    "def getAvgFeatureVecs(reviews , model , num_features):\n",
    "    counter = 0\n",
    "    reviewFeatureVecs = np.zeros((len(reviews) , num_features) ,\n",
    "                                dtype='float32')\n",
    "    \n",
    "    for review in reviews:\n",
    "        if counter%1000. == 0.:\n",
    "            print('pricessing %d' %(counter))\n",
    "            \n",
    "        reviewFeatureVecs[counter] = makeFeatureVec(review , model,\n",
    "                                                   num_features)\n",
    "        \n",
    "        counter += 1\n",
    "        \n",
    "    return reviewFeatureVecs"
   ]
  },
  {
   "cell_type": "code",
   "execution_count": 26,
   "metadata": {
    "collapsed": true
   },
   "outputs": [],
   "source": [
    "def review_to_wordlist(review , remove_stopwords = False):\n",
    "    #不删除stopwords 因为在强大的word2vec有利用价值\n",
    "    review_text = BeautifulSoup(review).get_text()\n",
    "    \n",
    "    review_text = re.sub(\"[^a-zA-Z]\" , ' ' , review_text)\n",
    "    \n",
    "    words = review_text.lower().split()\n",
    "    \n",
    "    if remove_stopwords:\n",
    "        stops = set(stopwords.words('english'))\n",
    "        words = [w for w in words if not w in stops]\n",
    "    \n",
    "    return words"
   ]
  },
  {
   "cell_type": "code",
   "execution_count": 38,
   "metadata": {
    "scrolled": true
   },
   "outputs": [
    {
     "name": "stderr",
     "output_type": "stream",
     "text": [
      "I:\\Anaconda3\\lib\\site-packages\\bs4\\__init__.py:181: UserWarning: No parser was explicitly specified, so I'm using the best available HTML parser for this system (\"lxml\"). This usually isn't a problem, but if you run this code on another system, or in a different virtual environment, it may use a different parser and behave differently.\n",
      "\n",
      "The code that caused this warning is on line 193 of the file I:\\Anaconda3\\lib\\runpy.py. To get rid of this warning, change code that looks like this:\n",
      "\n",
      " BeautifulSoup(YOUR_MARKUP})\n",
      "\n",
      "to this:\n",
      "\n",
      " BeautifulSoup(YOUR_MARKUP, \"lxml\")\n",
      "\n",
      "  markup_type=markup_type))\n"
     ]
    },
    {
     "name": "stdout",
     "output_type": "stream",
     "text": [
      "pricessing 0\n"
     ]
    },
    {
     "name": "stderr",
     "output_type": "stream",
     "text": [
      "I:\\Anaconda3\\lib\\site-packages\\ipykernel_launcher.py:14: DeprecationWarning: Call to deprecated `__getitem__` (Method will be removed in 4.0.0, use self.wv.__getitem__() instead).\n",
      "  \n"
     ]
    },
    {
     "name": "stdout",
     "output_type": "stream",
     "text": [
      "pricessing 1000\n",
      "pricessing 2000\n",
      "pricessing 3000\n",
      "pricessing 4000\n",
      "pricessing 5000\n",
      "pricessing 6000\n",
      "pricessing 7000\n",
      "pricessing 8000\n",
      "pricessing 9000\n",
      "pricessing 10000\n",
      "pricessing 11000\n",
      "pricessing 12000\n",
      "pricessing 13000\n",
      "pricessing 14000\n",
      "pricessing 15000\n",
      "pricessing 16000\n",
      "pricessing 17000\n",
      "pricessing 18000\n",
      "pricessing 19000\n",
      "pricessing 20000\n",
      "pricessing 21000\n",
      "pricessing 22000\n",
      "pricessing 23000\n",
      "pricessing 24000\n"
     ]
    }
   ],
   "source": [
    "num_features = 300\n",
    "\n",
    "clean_train_reviews = []\n",
    "for review in train['review']:\n",
    "    clean_train_reviews.append(review_to_wordlist(review,\n",
    "                                                 remove_stopwords = True))\n",
    "    \n",
    "trainDataVecs = getAvgFeatureVecs(clean_train_reviews , model , num_features)"
   ]
  },
  {
   "cell_type": "code",
   "execution_count": 40,
   "metadata": {
    "scrolled": true
   },
   "outputs": [
    {
     "name": "stderr",
     "output_type": "stream",
     "text": [
      "I:\\Anaconda3\\lib\\site-packages\\bs4\\__init__.py:181: UserWarning: No parser was explicitly specified, so I'm using the best available HTML parser for this system (\"lxml\"). This usually isn't a problem, but if you run this code on another system, or in a different virtual environment, it may use a different parser and behave differently.\n",
      "\n",
      "The code that caused this warning is on line 193 of the file I:\\Anaconda3\\lib\\runpy.py. To get rid of this warning, change code that looks like this:\n",
      "\n",
      " BeautifulSoup(YOUR_MARKUP})\n",
      "\n",
      "to this:\n",
      "\n",
      " BeautifulSoup(YOUR_MARKUP, \"lxml\")\n",
      "\n",
      "  markup_type=markup_type))\n"
     ]
    },
    {
     "name": "stdout",
     "output_type": "stream",
     "text": [
      "pricessing 0\n"
     ]
    },
    {
     "name": "stderr",
     "output_type": "stream",
     "text": [
      "I:\\Anaconda3\\lib\\site-packages\\ipykernel_launcher.py:14: DeprecationWarning: Call to deprecated `__getitem__` (Method will be removed in 4.0.0, use self.wv.__getitem__() instead).\n",
      "  \n"
     ]
    },
    {
     "name": "stdout",
     "output_type": "stream",
     "text": [
      "pricessing 1000\n",
      "pricessing 2000\n",
      "pricessing 3000\n",
      "pricessing 4000\n",
      "pricessing 5000\n",
      "pricessing 6000\n",
      "pricessing 7000\n",
      "pricessing 8000\n",
      "pricessing 9000\n",
      "pricessing 10000\n",
      "pricessing 11000\n",
      "pricessing 12000\n",
      "pricessing 13000\n",
      "pricessing 14000\n",
      "pricessing 15000\n",
      "pricessing 16000\n",
      "pricessing 17000\n",
      "pricessing 18000\n",
      "pricessing 19000\n",
      "pricessing 20000\n",
      "pricessing 21000\n",
      "pricessing 22000\n",
      "pricessing 23000\n",
      "pricessing 24000\n"
     ]
    }
   ],
   "source": [
    "clean_test_reviews = []\n",
    "\n",
    "for review in test['review']:\n",
    "    clean_test_reviews.append(review_to_wordlist(review , remove_stopwords=True))\n",
    "\n",
    "testDataVecs = getAvgFeatureVecs(clean_test_reviews , model , num_features)"
   ]
  },
  {
   "cell_type": "code",
   "execution_count": 42,
   "metadata": {},
   "outputs": [],
   "source": [
    "from sklearn.ensemble import RandomForestClassifier\n",
    "\n",
    "forest = RandomForestClassifier(n_estimators = 100)\n",
    "\n",
    "forest = forest.fit(trainDataVecs , train['sentiment'])"
   ]
  },
  {
   "cell_type": "code",
   "execution_count": 43,
   "metadata": {},
   "outputs": [
    {
     "data": {
      "text/plain": [
       "1.0"
      ]
     },
     "execution_count": 43,
     "metadata": {},
     "output_type": "execute_result"
    }
   ],
   "source": [
    "forest.score(trainDataVecs , train['sentiment'])"
   ]
  },
  {
   "cell_type": "code",
   "execution_count": 44,
   "metadata": {
    "collapsed": true
   },
   "outputs": [],
   "source": [
    "result = forest.predict(testDataVecs)\n",
    "\n",
    "output = pd.DataFrame({'id':test['id'] , 'sentiment':result})\n",
    "output.to_csv('submit2.csv' , index = False , quoting = 3)"
   ]
  },
  {
   "cell_type": "code",
   "execution_count": null,
   "metadata": {
    "collapsed": true
   },
   "outputs": [],
   "source": []
  }
 ],
 "metadata": {
  "kernelspec": {
   "display_name": "Python 3",
   "language": "python",
   "name": "python3"
  },
  "language_info": {
   "codemirror_mode": {
    "name": "ipython",
    "version": 3
   },
   "file_extension": ".py",
   "mimetype": "text/x-python",
   "name": "python",
   "nbconvert_exporter": "python",
   "pygments_lexer": "ipython3",
   "version": "3.6.1"
  }
 },
 "nbformat": 4,
 "nbformat_minor": 2
}
