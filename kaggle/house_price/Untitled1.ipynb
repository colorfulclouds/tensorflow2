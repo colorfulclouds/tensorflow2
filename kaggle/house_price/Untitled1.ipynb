{
 "cells": [
  {
   "cell_type": "code",
   "execution_count": 1,
   "metadata": {},
   "outputs": [
    {
     "name": "stderr",
     "output_type": "stream",
     "text": [
      "I:\\Anaconda3\\lib\\site-packages\\sklearn\\cross_validation.py:44: DeprecationWarning: This module was deprecated in version 0.18 in favor of the model_selection module into which all the refactored classes and functions are moved. Also note that the interface of the new CV iterators are different from that of this module. This module will be removed in 0.20.\n",
      "  \"This module will be removed in 0.20.\", DeprecationWarning)\n"
     ]
    }
   ],
   "source": [
    "import pandas as pd\n",
    "import numpy as np\n",
    "\n",
    "import seaborn as sns\n",
    "\n",
    "import matplotlib.pyplot as plt\n",
    "\n",
    "from scipy import stats\n",
    "\n",
    "from sklearn.model_selection import cross_val_score\n",
    "from sklearn.cross_validation import KFold\n",
    "\n",
    "from sklearn.preprocessing import StandardScaler\n",
    "\n",
    "from scipy import stats\n",
    "\n",
    "%matplotlib inline"
   ]
  },
  {
   "cell_type": "code",
   "execution_count": 504,
   "metadata": {
    "collapsed": true
   },
   "outputs": [],
   "source": [
    "train_data = pd.read_csv('train.csv')"
   ]
  },
  {
   "cell_type": "code",
   "execution_count": 505,
   "metadata": {
    "collapsed": true
   },
   "outputs": [],
   "source": [
    "#+++++++++++++++\n",
    "#+++++++++++++++\n",
    "test_data = pd.read_csv('test.csv')\n",
    "test_id = test_data.Id\n",
    "test_data = test_data.drop('Id' , axis = 1)"
   ]
  },
  {
   "cell_type": "code",
   "execution_count": 506,
   "metadata": {
    "collapsed": true
   },
   "outputs": [],
   "source": [
    "train_data = train_data.drop(['Id'] , axis = 1)"
   ]
  },
  {
   "cell_type": "code",
   "execution_count": 507,
   "metadata": {
    "collapsed": true
   },
   "outputs": [],
   "source": [
    "numerical_columns = train_data.dtypes[train_data.dtypes != object].index #含有预测值 SalePrice\n",
    "categorical_columns = train_data.dtypes[train_data.dtypes == object].index"
   ]
  },
  {
   "cell_type": "code",
   "execution_count": 508,
   "metadata": {
    "collapsed": true
   },
   "outputs": [],
   "source": [
    "missing_columns_num = (train_data[numerical_columns].isnull().sum()[train_data[numerical_columns].isnull().sum().values>0]).index\n",
    "#含有缺失值得numerical columns"
   ]
  },
  {
   "cell_type": "code",
   "execution_count": 509,
   "metadata": {},
   "outputs": [
    {
     "data": {
      "text/plain": [
       "Index(['LotFrontage', 'MasVnrArea', 'GarageYrBlt'], dtype='object')"
      ]
     },
     "execution_count": 509,
     "metadata": {},
     "output_type": "execute_result"
    }
   ],
   "source": [
    "missing_columns_num#含有确实值得numerical的columns 缺失值处理\n",
    "#先不处理这些缺失值 暂时不处理\n",
    "#后续可能会修补\n",
    "#=======================\n",
    "#=======================\n",
    "#======================="
   ]
  },
  {
   "cell_type": "code",
   "execution_count": 510,
   "metadata": {},
   "outputs": [
    {
     "data": {
      "text/plain": [
       "Index(['LotFrontage', 'MasVnrArea', 'BsmtFinSF1', 'BsmtFinSF2', 'BsmtUnfSF',\n",
       "       'TotalBsmtSF', 'BsmtFullBath', 'BsmtHalfBath', 'GarageYrBlt',\n",
       "       'GarageCars', 'GarageArea'],\n",
       "      dtype='object')"
      ]
     },
     "execution_count": 510,
     "metadata": {},
     "output_type": "execute_result"
    }
   ],
   "source": [
    "#+++++++++++++++++++\n",
    "#+++++++++++++++++++\n",
    "#test中含有缺失值的numerical features\n",
    "test_numerical_columns = list(numerical_columns)\n",
    "test_numerical_columns.remove('SalePrice')\n",
    "test_missing_columns_num = (test_data[test_numerical_columns].isnull().sum()[test_data[test_numerical_columns].isnull().sum().values>0]).index\n",
    "test_missing_columns_num"
   ]
  },
  {
   "cell_type": "code",
   "execution_count": 511,
   "metadata": {},
   "outputs": [
    {
     "data": {
      "text/plain": [
       "{'GarageCars', 'TotalBsmtSF'}"
      ]
     },
     "execution_count": 511,
     "metadata": {},
     "output_type": "execute_result"
    }
   ],
   "source": [
    "#++++++++++++++++++\n",
    "#++++++++++++++++++\n",
    "#只需要对下面的含有缺失值的numerical features进行填充 test中别的numerical features在model中用不上\n",
    "set(test_missing_columns_num)&set(largest_10_corr_matrix_index)"
   ]
  },
  {
   "cell_type": "code",
   "execution_count": 512,
   "metadata": {},
   "outputs": [],
   "source": [
    "#++++++++++++++++\n",
    "#++++++++++++++++\n",
    "#使用的numerical features进行缺失值填充\n",
    "test_data.GarageCars = test_data.GarageCars.fillna(2)\n",
    "test_data.TotalBsmtSF = test_data.TotalBsmtSF.fillna(test_data.TotalBsmtSF.mean())"
   ]
  },
  {
   "cell_type": "code",
   "execution_count": 513,
   "metadata": {
    "collapsed": true
   },
   "outputs": [],
   "source": [
    "corr_matrix = train_data.corr() #数字型feature的皮尔逊相关系数"
   ]
  },
  {
   "cell_type": "code",
   "execution_count": 514,
   "metadata": {
    "collapsed": true
   },
   "outputs": [],
   "source": [
    "largest_10_corr_matrix = corr_matrix.nlargest(10 , 'SalePrice')\n",
    "largest_10_corr_matrix_index = largest_10_corr_matrix.index #largest corr\n",
    "largest = train_data[largest_10_corr_matrix_index].corr()\n",
    "\n",
    "largest_10_corr_matrix_index = list(set(largest_10_corr_matrix_index)-set(['GarageArea' , '1stFlrSF'])) #已经存在与其相关的的feature 去掉"
   ]
  },
  {
   "cell_type": "code",
   "execution_count": 401,
   "metadata": {
    "collapsed": true
   },
   "outputs": [],
   "source": [
    "#==========\n",
    "#==========\n",
    "#==========\n",
    "#下面是处理numerical的离群值"
   ]
  },
  {
   "cell_type": "code",
   "execution_count": 515,
   "metadata": {
    "collapsed": true
   },
   "outputs": [],
   "source": [
    "train_data.loc[train_data.TotalBsmtSF>6000].index #根据上图找离群值\n",
    "train_data = train_data.drop(1298) #删除离群值"
   ]
  },
  {
   "cell_type": "code",
   "execution_count": 516,
   "metadata": {
    "collapsed": true
   },
   "outputs": [],
   "source": [
    "train_data.loc[train_data.GrLivArea>4500,'GrLivArea'].index #找离群点\n",
    "train_data = train_data.drop([523]) #上面已经把1298删除了\n",
    "#注意删除前面的离群值后 后面的样本序号会变"
   ]
  },
  {
   "cell_type": "code",
   "execution_count": 517,
   "metadata": {
    "collapsed": true
   },
   "outputs": [],
   "source": [
    "#进行对数除偏\n",
    "train_data.SalePrice = train_data.SalePrice.apply(np.log)\n",
    "train_data.GrLivArea = train_data.GrLivArea.apply(np.log)"
   ]
  },
  {
   "cell_type": "code",
   "execution_count": 518,
   "metadata": {
    "collapsed": true
   },
   "outputs": [],
   "source": [
    "#+++++++++++++++\n",
    "#+++++++++++++++\n",
    "test_data.GrLivArea = test_data.GrLivArea.apply(np.log)"
   ]
  },
  {
   "cell_type": "code",
   "execution_count": 519,
   "metadata": {
    "collapsed": true
   },
   "outputs": [],
   "source": [
    "train_data['yearcat'] = pd.Series( 99 , index = train_data.YearBuilt.index)\n",
    "#测试8分组\n",
    "train_data.loc[ (train_data.YearBuilt>1871.999) & (train_data.YearBuilt<=1929.0)  , 'yearcat'] = 1\n",
    "train_data.loc[ (train_data.YearBuilt>1929.0) & (train_data.YearBuilt<=1954.0)  , 'yearcat'] = 2\n",
    "train_data.loc[ (train_data.YearBuilt>1954.0) & (train_data.YearBuilt<=1963.0)  , 'yearcat'] = 3\n",
    "train_data.loc[ (train_data.YearBuilt>1963.0) & (train_data.YearBuilt<=1972.5)  , 'yearcat'] = 4\n",
    "train_data.loc[ (train_data.YearBuilt>1972.5) & (train_data.YearBuilt<=1990.0)  , 'yearcat'] = 5\n",
    "train_data.loc[ (train_data.YearBuilt>1990.0) & (train_data.YearBuilt<=2000.0)  , 'yearcat'] = 6\n",
    "train_data.loc[ (train_data.YearBuilt>2000.0) & (train_data.YearBuilt<=2005.0)  , 'yearcat'] = 7\n",
    "train_data.loc[ (train_data.YearBuilt>2005.0) & (train_data.YearBuilt<=2010.0)  , 'yearcat'] = 8\n",
    "\n",
    "train_data.YearBuilt = train_data.yearcat.copy()\n",
    "train_data = train_data.drop('yearcat' , axis = 1) #删除辅助feature"
   ]
  },
  {
   "cell_type": "code",
   "execution_count": 520,
   "metadata": {
    "collapsed": true
   },
   "outputs": [],
   "source": [
    "#+++++++++++++++++++\n",
    "#+++++++++++++++++++\n",
    "test_data['yearcat'] = pd.Series( 99 , index = test_data.YearBuilt.index)\n",
    "#测试8分组\n",
    "test_data.loc[ (test_data.YearBuilt>1871.999) & (test_data.YearBuilt<=1929.0)  , 'yearcat'] = 1\n",
    "test_data.loc[ (test_data.YearBuilt>1929.0) & (test_data.YearBuilt<=1954.0)  , 'yearcat'] = 2\n",
    "test_data.loc[ (test_data.YearBuilt>1954.0) & (test_data.YearBuilt<=1963.0)  , 'yearcat'] = 3\n",
    "test_data.loc[ (test_data.YearBuilt>1963.0) & (test_data.YearBuilt<=1972.5)  , 'yearcat'] = 4\n",
    "test_data.loc[ (test_data.YearBuilt>1972.5) & (test_data.YearBuilt<=1990.0)  , 'yearcat'] = 5\n",
    "test_data.loc[ (test_data.YearBuilt>1990.0) & (test_data.YearBuilt<=2000.0)  , 'yearcat'] = 6\n",
    "test_data.loc[ (test_data.YearBuilt>2000.0) & (test_data.YearBuilt<=2005.0)  , 'yearcat'] = 7\n",
    "test_data.loc[ (test_data.YearBuilt>2005.0) & (test_data.YearBuilt<=2010.0)  , 'yearcat'] = 8\n",
    "\n",
    "test_data.YearBuilt = test_data.yearcat.copy()\n",
    "test_data = test_data.drop('yearcat' , axis = 1) #删除辅助feature"
   ]
  },
  {
   "cell_type": "code",
   "execution_count": 521,
   "metadata": {},
   "outputs": [
    {
     "name": "stdout",
     "output_type": "stream",
     "text": [
      "(1458, 80) (1459, 79)\n"
     ]
    }
   ],
   "source": [
    "print(train_data.shape , test_data.shape)"
   ]
  },
  {
   "cell_type": "markdown",
   "metadata": {},
   "source": [
    "### 后面进行处理categorical features"
   ]
  },
  {
   "cell_type": "code",
   "execution_count": 522,
   "metadata": {},
   "outputs": [
    {
     "data": {
      "text/plain": [
       "Index(['MSZoning', 'Alley', 'Utilities', 'Exterior1st', 'Exterior2nd',\n",
       "       'MasVnrType', 'BsmtQual', 'BsmtCond', 'BsmtExposure', 'BsmtFinType1',\n",
       "       'BsmtFinType2', 'KitchenQual', 'Functional', 'FireplaceQu',\n",
       "       'GarageType', 'GarageFinish', 'GarageQual', 'GarageCond', 'PoolQC',\n",
       "       'Fence', 'MiscFeature', 'SaleType'],\n",
       "      dtype='object')"
      ]
     },
     "execution_count": 522,
     "metadata": {},
     "output_type": "execute_result"
    }
   ],
   "source": [
    "#++++++++++++++++++\n",
    "#++++++++++++++++++\n",
    "test_missing_columns_cat = categorical_columns[test_data[categorical_columns].isnull().sum().values != 0]\n",
    "test_missing_columns_cat"
   ]
  },
  {
   "cell_type": "code",
   "execution_count": 523,
   "metadata": {
    "scrolled": false
   },
   "outputs": [
    {
     "data": {
      "text/plain": [
       "Index(['Alley', 'MasVnrType', 'BsmtQual', 'BsmtCond', 'BsmtExposure',\n",
       "       'BsmtFinType1', 'BsmtFinType2', 'Electrical', 'FireplaceQu',\n",
       "       'GarageType', 'GarageFinish', 'GarageQual', 'GarageCond', 'PoolQC',\n",
       "       'Fence', 'MiscFeature'],\n",
       "      dtype='object')"
      ]
     },
     "execution_count": 523,
     "metadata": {},
     "output_type": "execute_result"
    }
   ],
   "source": [
    "#有缺失值的categorical features\n",
    "missing_columns_cat = categorical_columns[train_data[categorical_columns].isnull().sum().values != 0]\n",
    "missing_columns_cat"
   ]
  },
  {
   "cell_type": "code",
   "execution_count": 524,
   "metadata": {
    "collapsed": true
   },
   "outputs": [],
   "source": [
    "missing_columns_cat_most = ['Alley' , 'FireplaceQu' , 'PoolQC' , 'Fence' , 'MiscFeature'] #这几个feature 不适用 缺失太多可以直接删除\n",
    "#fireplacequ 贡献太小\n",
    "#缺失值太多的features\n",
    "train_data = train_data.drop(missing_columns_cat_most , axis = 1) #删除了 以前忘记删除了"
   ]
  },
  {
   "cell_type": "code",
   "execution_count": 525,
   "metadata": {
    "collapsed": true
   },
   "outputs": [],
   "source": [
    "#++++++++++++++++++++\n",
    "#++++++++++++++++++++\n",
    "test_data = test_data.drop(missing_columns_cat_most , axis = 1)"
   ]
  },
  {
   "cell_type": "code",
   "execution_count": 526,
   "metadata": {
    "collapsed": true
   },
   "outputs": [
    {
     "data": {
      "text/plain": [
       "['Functional',\n",
       " 'GarageType',\n",
       " 'Exterior2nd',\n",
       " 'GarageQual',\n",
       " 'GarageFinish',\n",
       " 'BsmtFinType1',\n",
       " 'MasVnrType',\n",
       " 'SaleType',\n",
       " 'MSZoning',\n",
       " 'Exterior1st',\n",
       " 'Utilities',\n",
       " 'BsmtFinType2',\n",
       " 'BsmtQual',\n",
       " 'BsmtExposure',\n",
       " 'BsmtCond',\n",
       " 'KitchenQual',\n",
       " 'GarageCond']"
      ]
     },
     "execution_count": 526,
     "metadata": {},
     "output_type": "execute_result"
    }
   ],
   "source": [
    "#++++++++++++++++++++++\n",
    "#++++++++++++++++++++++\n",
    "test_missing_columns_cat_more = list(set(test_missing_columns_cat) - set(missing_columns_cat_most))\n",
    "test_missing_columns_cat_more"
   ]
  },
  {
   "cell_type": "code",
   "execution_count": 527,
   "metadata": {
    "collapsed": true
   },
   "outputs": [],
   "source": [
    "#++++++++++++++++++++++\n",
    "#++++++++++++++++++++++\n",
    "for i in test_missing_columns_cat_more:\n",
    "    test_data[i].fillna(test_data[i].describe().top)"
   ]
  },
  {
   "cell_type": "code",
   "execution_count": 528,
   "metadata": {
    "collapsed": true
   },
   "outputs": [
    {
     "data": {
      "text/plain": [
       "['Electrical',\n",
       " 'GarageQual',\n",
       " 'GarageFinish',\n",
       " 'BsmtFinType1',\n",
       " 'MasVnrType',\n",
       " 'BsmtQual',\n",
       " 'BsmtFinType2',\n",
       " 'GarageCond',\n",
       " 'BsmtExposure',\n",
       " 'GarageType',\n",
       " 'BsmtCond']"
      ]
     },
     "execution_count": 528,
     "metadata": {},
     "output_type": "execute_result"
    }
   ],
   "source": [
    "missing_columns_cat_more = list(set(missing_columns_cat) - set(missing_columns_cat_most))\n",
    "missing_columns_cat_more #缺失值不是太多的"
   ]
  },
  {
   "cell_type": "code",
   "execution_count": 529,
   "metadata": {},
   "outputs": [],
   "source": [
    "#进行填充 直接使用频数最高的进行填充\n",
    "for i in missing_columns_cat_more:\n",
    "    train_data[i].fillna(train_data[i].describe().top)\n"
   ]
  },
  {
   "cell_type": "code",
   "execution_count": 530,
   "metadata": {
    "collapsed": true
   },
   "outputs": [
    {
     "data": {
      "text/plain": [
       "['Exterior2nd',\n",
       " 'Heating',\n",
       " 'Condition2',\n",
       " 'SaleType',\n",
       " 'PavedDrive',\n",
       " 'ExterQual',\n",
       " 'CentralAir',\n",
       " 'LandSlope',\n",
       " 'Functional',\n",
       " 'HouseStyle',\n",
       " 'LandContour',\n",
       " 'RoofStyle',\n",
       " 'RoofMatl',\n",
       " 'Exterior1st',\n",
       " 'Utilities',\n",
       " 'Neighborhood',\n",
       " 'LotConfig',\n",
       " 'KitchenQual',\n",
       " 'Condition1',\n",
       " 'MSZoning',\n",
       " 'LotShape',\n",
       " 'Street',\n",
       " 'HeatingQC',\n",
       " 'Foundation',\n",
       " 'ExterCond',\n",
       " 'SaleCondition',\n",
       " 'BldgType']"
      ]
     },
     "execution_count": 530,
     "metadata": {},
     "output_type": "execute_result"
    }
   ],
   "source": [
    "#没有缺失值的categorical features\n",
    "no_missing_columns_cat = list(set(categorical_columns) - set(missing_columns_cat)) #categorical features 减去含有缺失值的就是 没有缺失值的categorical features\n",
    "no_missing_columns_cat #这个不予处理 直接转换为哑变量"
   ]
  },
  {
   "cell_type": "code",
   "execution_count": 531,
   "metadata": {
    "collapsed": true
   },
   "outputs": [],
   "source": [
    "all_columns = train_data.columns #保存所有的columns\n",
    "train_data = pd.get_dummies(train_data)\n",
    "\n",
    "dummy_columns = list(set(train_data.columns) - set(all_columns)) #获取新增加的哑变量的columns\n"
   ]
  },
  {
   "cell_type": "code",
   "execution_count": 533,
   "metadata": {
    "collapsed": true
   },
   "outputs": [],
   "source": [
    "#+++++++++++++++++\n",
    "#+++++++++++++++++\n",
    "test_data = pd.get_dummies(test_data)"
   ]
  },
  {
   "cell_type": "code",
   "execution_count": 534,
   "metadata": {},
   "outputs": [
    {
     "data": {
      "text/plain": [
       "['RoofMatl_Roll',\n",
       " 'HouseStyle_2.5Fin',\n",
       " 'SalePrice',\n",
       " 'Electrical_Mix',\n",
       " 'GarageQual_Ex',\n",
       " 'Exterior2nd_Other',\n",
       " 'Heating_OthW',\n",
       " 'Condition2_RRAn',\n",
       " 'RoofMatl_Metal',\n",
       " 'Heating_Floor',\n",
       " 'Exterior1st_ImStucc',\n",
       " 'Condition2_RRNn',\n",
       " 'RoofMatl_Membran',\n",
       " 'Utilities_NoSeWa',\n",
       " 'Exterior1st_Stone',\n",
       " 'Condition2_RRAe']"
      ]
     },
     "execution_count": 534,
     "metadata": {},
     "output_type": "execute_result"
    }
   ],
   "source": [
    "test_no_dummy_columns = list(set(train_data.columns) - set(test_data.columns))\n",
    "test_no_dummy_columns"
   ]
  },
  {
   "cell_type": "code",
   "execution_count": 535,
   "metadata": {},
   "outputs": [],
   "source": [
    "for i in test_no_dummy_columns:\n",
    "    test_data[i] = 0\n",
    "    \n",
    "test_data = test_data.drop('SalePrice' , axis = 1) #删除这个赋值过来的feature"
   ]
  },
  {
   "cell_type": "code",
   "execution_count": 538,
   "metadata": {},
   "outputs": [
    {
     "name": "stdout",
     "output_type": "stream",
     "text": [
      "(1458, 270) (1459, 269)\n"
     ]
    }
   ],
   "source": [
    "print(train_data.shape , test_data.shape)\n"
   ]
  },
  {
   "cell_type": "code",
   "execution_count": 581,
   "metadata": {
    "collapsed": true
   },
   "outputs": [],
   "source": [
    "from sklearn.linear_model import LinearRegression\n",
    "from sklearn.svm import SVR\n",
    "from sklearn.tree import DecisionTreeRegressor\n",
    "from sklearn.neighbors import KNeighborsRegressor\n",
    "from sklearn.ensemble import RandomForestRegressor\n",
    "from sklearn.linear_model import Ridge\n",
    "from sklearn.linear_model import Lasso\n",
    "\n",
    "forest = RandomForestRegressor(n_estimators=100)\n",
    "linear = LinearRegression()\n",
    "svr = SVR()\n",
    "dec_tree = DecisionTreeRegressor()\n",
    "knn = KNeighborsRegressor()\n",
    "ridge = Ridge(alpha=5.5 , random_state=True)\n",
    "lasso = Lasso()\n",
    "\n",
    "classifier = {'random_forest':forest , 'LR':linear , 'SVM':svr , 'decison_tree':dec_tree , 'KNN':knn , 'ridge':ridge , 'lasso':lasso}\n",
    "#kf = KFold(train_data.shape[0] , 10 , True)"
   ]
  },
  {
   "cell_type": "code",
   "execution_count": 51,
   "metadata": {
    "collapsed": true
   },
   "outputs": [],
   "source": [
    "def rmse(model , data , label):\n",
    "    #cv=5 分为5folds\n",
    "    #在这里会对模型进行训练 \n",
    "    return np.sqrt(-cross_val_score(model, data, label, scoring=\"neg_mean_squared_error\", cv = 10))"
   ]
  },
  {
   "cell_type": "code",
   "execution_count": 539,
   "metadata": {
    "collapsed": true
   },
   "outputs": [],
   "source": [
    "vali_index = largest_10_corr_matrix_index.copy()"
   ]
  },
  {
   "cell_type": "code",
   "execution_count": 540,
   "metadata": {},
   "outputs": [
    {
     "data": {
      "text/plain": [
       "'下面是categorical features'"
      ]
     },
     "execution_count": 540,
     "metadata": {},
     "output_type": "execute_result"
    }
   ],
   "source": [
    "vali_index.remove('SalePrice')\n",
    "\n",
    "'''numerical features'''\n",
    "#numerical features\n",
    "vali_index.append('YearRemodAdd') #这个保留 能减小一点 rmse\n",
    "\n",
    "\n",
    "#下面两个可以不考虑 已经和别的特征相关了\n",
    "#vali_index.append('GarageArea')\n",
    "#vali_index.append('1stFlrSF')\n",
    "'''下面是categorical features'''\n",
    "\n",
    "#categorical features 有缺失值的 已经填充 较高相关的\n",
    "#vali_index.append('BsmtQual')\n",
    "#vali_index.append('GarageFinish')\n",
    "\n",
    "#categorical features 没有缺失值 较高相关的\n",
    "#vali_index.append('KitchenQual')\n",
    "#vali_index.append('ExterQual')"
   ]
  },
  {
   "cell_type": "code",
   "execution_count": 306,
   "metadata": {
    "collapsed": true
   },
   "outputs": [],
   "source": [
    "#因为下面使用的 哑变量 这里先不使用原有的categorical features\n",
    "#vali_index =vali_index + no_missing_columns_cat #没有缺失值的categorical features\n",
    "#vali_index = vali_index + missing_columns_cat_more#有缺失值的categorical features"
   ]
  },
  {
   "cell_type": "code",
   "execution_count": 541,
   "metadata": {
    "collapsed": true
   },
   "outputs": [],
   "source": [
    "vali_index+=dummy_columns"
   ]
  },
  {
   "cell_type": "code",
   "execution_count": 573,
   "metadata": {
    "collapsed": true
   },
   "outputs": [],
   "source": [
    "#vali_index.remove('TotRmsAbvGrd') #暂时保留这个feature"
   ]
  },
  {
   "cell_type": "code",
   "execution_count": 543,
   "metadata": {
    "collapsed": true
   },
   "outputs": [
    {
     "name": "stdout",
     "output_type": "stream",
     "text": [
      "random_forest 0.14054763109632312\n",
      "LR 0.1266955990743491\n",
      "SVM 0.2553220667415018\n",
      "decison_tree 0.200873333429622\n",
      "KNN 0.26218173013387003\n",
      "ridge 0.12152991920302023\n",
      "lasso 0.2663005320945702\n",
      "\n",
      "best: ridge 0.12152991920302023\n"
     ]
    }
   ],
   "source": [
    "best_model = _\n",
    "smallest_rmse = 1.0\n",
    "for model_name , model in classifier.items():\n",
    "    result = np.average(rmse(model , train_data[vali_index] , train_data.SalePrice))\n",
    "    if result<smallest_rmse:\n",
    "        smallest_rmse = result\n",
    "        best_model = model_name\n",
    "        \n",
    "    print(model_name , result)\n",
    "\n",
    "print('\\nbest:',best_model , smallest_rmse)\n",
    "#真大"
   ]
  },
  {
   "cell_type": "code",
   "execution_count": 582,
   "metadata": {},
   "outputs": [
    {
     "data": {
      "text/plain": [
       "0.12136560555577065"
      ]
     },
     "execution_count": 582,
     "metadata": {},
     "output_type": "execute_result"
    }
   ],
   "source": [
    "np.average(rmse(ridge , train_data[vali_index] , train_data.SalePrice))"
   ]
  },
  {
   "cell_type": "code",
   "execution_count": 550,
   "metadata": {
    "collapsed": true
   },
   "outputs": [],
   "source": [
    "from sklearn.model_selection import GridSearchCV\n",
    "\n",
    "def grid_search_scoring(model , data , label):\n",
    "    return np.average(rmse(model , data , label))"
   ]
  },
  {
   "cell_type": "code",
   "execution_count": 551,
   "metadata": {
    "collapsed": true
   },
   "outputs": [],
   "source": [
    "param_grid={'alpha':[0.5 , 1.0 , 1.5 , 2.0 , 2.5 , 3.0 , 3.5 , 4.0]}\n",
    "kfold = KFold(train_data.shape[0] , 10 , True)\n",
    "grid = GridSearchCV(estimator=ridge , param_grid=param_grid , scoring=grid_search_scoring , cv=kfold)"
   ]
  },
  {
   "cell_type": "code",
   "execution_count": 552,
   "metadata": {},
   "outputs": [
    {
     "data": {
      "text/plain": [
       "GridSearchCV(cv=sklearn.cross_validation.KFold(n=1458, n_folds=10, shuffle=True, random_state=None),\n",
       "       error_score='raise',\n",
       "       estimator=Ridge(alpha=3, copy_X=True, fit_intercept=True, max_iter=None,\n",
       "   normalize=False, random_state=None, solver='auto', tol=0.001),\n",
       "       fit_params={}, iid=True, n_jobs=1,\n",
       "       param_grid={'alpha': [0.5, 1.0, 1.5, 2.0, 2.5, 3.0, 3.5, 4.0]},\n",
       "       pre_dispatch='2*n_jobs', refit=True, return_train_score=True,\n",
       "       scoring=<function grid_search_scoring at 0x000001C01F447598>,\n",
       "       verbose=0)"
      ]
     },
     "execution_count": 552,
     "metadata": {},
     "output_type": "execute_result"
    }
   ],
   "source": [
    "grid.fit(train_data[vali_index] , train_data.SalePrice)"
   ]
  },
  {
   "cell_type": "code",
   "execution_count": 554,
   "metadata": {},
   "outputs": [
    {
     "data": {
      "text/plain": [
       "{'alpha': 0.5}"
      ]
     },
     "execution_count": 554,
     "metadata": {},
     "output_type": "execute_result"
    }
   ],
   "source": [
    "grid.best_params_ ridge()"
   ]
  },
  {
   "cell_type": "code",
   "execution_count": 574,
   "metadata": {},
   "outputs": [],
   "source": [
    "#进行预测\n",
    "#生成结果\n",
    "ridge.fit(train_data[vali_index] , train_data.SalePrice) #用全部数据训练模型\n",
    "\n",
    "result = ridge.predict(test_data[vali_index])\n",
    "result = np.exp(result)\n",
    "result_csv = pd.DataFrame({'Id':test_id , 'SalePrice':result})\n",
    "result_csv.to_csv('submit3.csv' , index=False)"
   ]
  },
  {
   "cell_type": "code",
   "execution_count": null,
   "metadata": {
    "collapsed": true
   },
   "outputs": [],
   "source": []
  }
 ],
 "metadata": {
  "kernelspec": {
   "display_name": "Python 3",
   "language": "python",
   "name": "python3"
  },
  "language_info": {
   "codemirror_mode": {
    "name": "ipython",
    "version": 3
   },
   "file_extension": ".py",
   "mimetype": "text/x-python",
   "name": "python",
   "nbconvert_exporter": "python",
   "pygments_lexer": "ipython3",
   "version": "3.6.1"
  }
 },
 "nbformat": 4,
 "nbformat_minor": 2
}
