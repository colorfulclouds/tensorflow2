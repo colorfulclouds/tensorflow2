{
 "cells": [
  {
   "cell_type": "code",
   "execution_count": 434,
   "metadata": {},
   "outputs": [],
   "source": [
    "import pandas as pd\n",
    "import numpy as np\n",
    "\n",
    "import seaborn as sns\n",
    "%matplotlib inline\n",
    "\n",
    "from sklearn.tree import DecisionTreeRegressor\n",
    "from sklearn.svm import SVR\n",
    "from sklearn.ensemble import RandomForestRegressor\n",
    "from sklearn.neighbors import KNeighborsClassifier\n",
    "from sklearn.cross_validation import KFold\n",
    "\n",
    "import tensorflow as tf"
   ]
  },
  {
   "cell_type": "code",
   "execution_count": 483,
   "metadata": {
    "collapsed": true
   },
   "outputs": [],
   "source": [
    "train = pd.read_csv('train.csv')\n",
    "#=======\n",
    "test = pd.read_csv('test.csv')"
   ]
  },
  {
   "cell_type": "code",
   "execution_count": 484,
   "metadata": {
    "collapsed": true
   },
   "outputs": [],
   "source": [
    "train_y = train[['SalePrice']]"
   ]
  },
  {
   "cell_type": "code",
   "execution_count": 485,
   "metadata": {},
   "outputs": [
    {
     "data": {
      "text/plain": [
       "(1460, 81)"
      ]
     },
     "execution_count": 485,
     "metadata": {},
     "output_type": "execute_result"
    }
   ],
   "source": [
    "train.shape"
   ]
  },
  {
   "cell_type": "code",
   "execution_count": 486,
   "metadata": {},
   "outputs": [
    {
     "data": {
      "text/plain": [
       "(1459, 80)"
      ]
     },
     "execution_count": 486,
     "metadata": {},
     "output_type": "execute_result"
    }
   ],
   "source": [
    "test.shape"
   ]
  },
  {
   "cell_type": "code",
   "execution_count": 487,
   "metadata": {
    "collapsed": true
   },
   "outputs": [],
   "source": [
    "def del_columns(train):\n",
    "    cols = train.columns\n",
    "        \n",
    "    size = len(cols)\n",
    "    \n",
    "    for i in range(size):\n",
    "        #处理的都是非数值型的\n",
    "        if train[cols[i]].dtype == np.object:\n",
    "            _ = train[cols[i]].describe(include = 'O')\n",
    "            \n",
    "            #print(cols[i] , end=',')\n",
    "            \n",
    "            if _.freq > 900:\n",
    "                train = train.drop(cols[i] , axis=1)\n",
    "                #print(cols[i] , _.freq)\n",
    "            else:\n",
    "                null_count = train[cols[i]].isnull()\n",
    "                \n",
    "                if null_count.sum() > 1000:\n",
    "                    train = train.drop(cols[i] , axis=1)\n",
    "                    #print('nan:', cols[i] , _.freq)\n",
    "\n",
    "    return train"
   ]
  },
  {
   "cell_type": "code",
   "execution_count": 488,
   "metadata": {},
   "outputs": [],
   "source": [
    "train = train.drop(['Id' , 'SalePrice'] , axis = 1)\n",
    "test = test.drop(['Id'] , axis = 1)"
   ]
  },
  {
   "cell_type": "code",
   "execution_count": 489,
   "metadata": {},
   "outputs": [],
   "source": [
    "#将一些用不上的feature 直接删除\n",
    "train = del_columns(train)\n",
    "#==========\n",
    "test = del_columns(test)"
   ]
  },
  {
   "cell_type": "code",
   "execution_count": 490,
   "metadata": {},
   "outputs": [],
   "source": [
    "#train['MasVnrType'].value_counts()\n",
    "train = train.drop(['MasVnrType'] , axis = 1)\n",
    "#上面的也需要删除 太多空None\n",
    "#==========\n",
    "test = test.drop(['MasVnrType'] , axis = 1)\n"
   ]
  },
  {
   "cell_type": "code",
   "execution_count": 491,
   "metadata": {
    "collapsed": true
   },
   "outputs": [],
   "source": [
    "test = test.drop(['ExterQual'] , axis = 1)"
   ]
  },
  {
   "cell_type": "code",
   "execution_count": 492,
   "metadata": {},
   "outputs": [
    {
     "name": "stdout",
     "output_type": "stream",
     "text": [
      "48\n",
      "48\n"
     ]
    }
   ],
   "source": [
    "print(len(train.columns))\n",
    "#=============\n",
    "print(len(test.columns))"
   ]
  },
  {
   "cell_type": "code",
   "execution_count": 493,
   "metadata": {
    "collapsed": true
   },
   "outputs": [],
   "source": [
    "train['BsmtFinSF2'].value_counts()\n",
    "train = train.drop(['BsmtFinSF2'] , axis = 1)\n",
    "train = train.drop(['LowQualFinSF'] , axis = 1)\n",
    "train = train.drop(['BsmtHalfBath'] , axis = 1)\n",
    "train = train.drop(['KitchenAbvGr'] , axis = 1)\n",
    "train = train.drop(['EnclosedPorch'] , axis = 1)\n",
    "train = train.drop(['3SsnPorch'] , axis = 1)\n",
    "train = train.drop(['PoolArea'] , axis = 1)\n",
    "train = train.drop(['MiscVal'] , axis = 1)\n",
    "train = train.drop(['ScreenPorch'] , axis = 1)\n",
    "\n",
    "#删除 0太多\n",
    "#================\n",
    "test['BsmtFinSF2'].value_counts()\n",
    "test = test.drop(['BsmtFinSF2'] , axis = 1)\n",
    "test = test.drop(['LowQualFinSF'] , axis = 1)\n",
    "test = test.drop(['BsmtHalfBath'] , axis = 1)\n",
    "test = test.drop(['KitchenAbvGr'] , axis = 1)\n",
    "test = test.drop(['EnclosedPorch'] , axis = 1)\n",
    "test = test.drop(['3SsnPorch'] , axis = 1)\n",
    "test = test.drop(['PoolArea'] , axis = 1)\n",
    "test = test.drop(['MiscVal'] , axis = 1)\n",
    "test = test.drop(['ScreenPorch'] , axis = 1)"
   ]
  },
  {
   "cell_type": "code",
   "execution_count": 494,
   "metadata": {},
   "outputs": [
    {
     "name": "stdout",
     "output_type": "stream",
     "text": [
      "39\n",
      "39\n"
     ]
    }
   ],
   "source": [
    "print(len(train.columns))\n",
    "print(len(test.columns))"
   ]
  },
  {
   "cell_type": "code",
   "execution_count": 495,
   "metadata": {
    "collapsed": true
   },
   "outputs": [],
   "source": [
    "def detect_nan_int_float(train):\n",
    "    #检测一下 int and float中有缺失值的feature\n",
    "    cols = train.columns\n",
    "    size = len(cols)\n",
    "    \n",
    "    nan_cols = []\n",
    "    \n",
    "    for i in range(size):\n",
    "        if train[cols[i]].dtype == np.int64 or train[cols[i]].dtype == np.float64:\n",
    "            _ = train[cols[i]].isnull()\n",
    "            \n",
    "            if _.sum() != 0:\n",
    "                nan_cols.append(cols[i])\n",
    "    \n",
    "    return nan_cols"
   ]
  },
  {
   "cell_type": "code",
   "execution_count": 496,
   "metadata": {
    "collapsed": true
   },
   "outputs": [],
   "source": [
    "nan_cols = detect_nan_int_float(train)\n",
    "#==========\n",
    "nan_cols_test = detect_nan_int_float(test)"
   ]
  },
  {
   "cell_type": "code",
   "execution_count": 497,
   "metadata": {},
   "outputs": [
    {
     "name": "stdout",
     "output_type": "stream",
     "text": [
      "['LotFrontage', 'MasVnrArea', 'GarageYrBlt']\n",
      "['LotFrontage', 'MasVnrArea', 'BsmtFinSF1', 'BsmtUnfSF', 'TotalBsmtSF', 'BsmtFullBath', 'GarageYrBlt', 'GarageCars', 'GarageArea']\n"
     ]
    }
   ],
   "source": [
    "print(nan_cols)\n",
    "#数值类型feature中含有缺失值的feature\n",
    "#年份也是用平均值来填充 符合大众化口味\n",
    "#=========\n",
    "print(nan_cols_test)"
   ]
  },
  {
   "cell_type": "code",
   "execution_count": 498,
   "metadata": {},
   "outputs": [],
   "source": [
    "#含有缺失值的feature（数值型feature）\n",
    "#GarageYrBlt 这是年份信息\n",
    "\n",
    "def fillna_num(nan_cols , train):\n",
    "    size = len(nan_cols)\n",
    "    \n",
    "    for i in range(size):\n",
    "        train[nan_cols[i]] = train[nan_cols[i]].fillna(train[nan_cols[i]].median())\n",
    "    \n",
    "    return train"
   ]
  },
  {
   "cell_type": "code",
   "execution_count": 499,
   "metadata": {
    "collapsed": true
   },
   "outputs": [],
   "source": [
    "train = fillna_num(nan_cols , train)\n",
    "#==========\n",
    "test = fillna_num(nan_cols_test , test)"
   ]
  },
  {
   "cell_type": "code",
   "execution_count": 500,
   "metadata": {},
   "outputs": [
    {
     "name": "stdout",
     "output_type": "stream",
     "text": [
      "[]\n",
      "[]\n"
     ]
    }
   ],
   "source": [
    "nan_cols = detect_nan_int_float(train)\n",
    "#==========\n",
    "nan_cols_test = detect_nan_int_float(test)\n",
    "#缺失值全部填充完成\n",
    "print(nan_cols)\n",
    "#=========\n",
    "print(nan_cols_test)"
   ]
  },
  {
   "cell_type": "code",
   "execution_count": 501,
   "metadata": {
    "collapsed": true
   },
   "outputs": [],
   "source": [
    "def classier(train):\n",
    "    cols = train.columns\n",
    "    size = len(cols)\n",
    "    \n",
    "    obj_cols = []\n",
    "    \n",
    "    for i in range(size):\n",
    "        if train[cols[i]].dtype == np.object:\n",
    "            obj_cols.append(cols[i])\n",
    "    \n",
    "    return obj_cols"
   ]
  },
  {
   "cell_type": "code",
   "execution_count": 502,
   "metadata": {
    "collapsed": true
   },
   "outputs": [],
   "source": [
    "obj_cols = classier(train)\n",
    "#============\n",
    "obj_cols_test = classier(test)"
   ]
  },
  {
   "cell_type": "code",
   "execution_count": 503,
   "metadata": {},
   "outputs": [
    {
     "name": "stdout",
     "output_type": "stream",
     "text": [
      "['Neighborhood', 'HouseStyle', 'Exterior1st', 'Exterior2nd', 'Foundation', 'BsmtQual', 'BsmtFinType1', 'HeatingQC', 'KitchenQual', 'FireplaceQu', 'GarageType', 'GarageFinish']\n",
      "['Neighborhood', 'HouseStyle', 'Exterior1st', 'Exterior2nd', 'Foundation', 'BsmtQual', 'BsmtFinType1', 'HeatingQC', 'KitchenQual', 'FireplaceQu', 'GarageType', 'GarageFinish']\n"
     ]
    }
   ],
   "source": [
    "#非数字的feature\n",
    "print(obj_cols)\n",
    "#==============\n",
    "print(obj_cols_test)"
   ]
  },
  {
   "cell_type": "code",
   "execution_count": 504,
   "metadata": {
    "collapsed": true
   },
   "outputs": [],
   "source": [
    "def nan_obj(obj_cols , train):\n",
    "    size = len(obj_cols)\n",
    "    nan_obj_cols = []\n",
    "    \n",
    "    for i in range(size):\n",
    "        if train[obj_cols[i]].isnull().sum() != 0:\n",
    "            nan_obj_cols.append(obj_cols[i])\n",
    "    \n",
    "    return nan_obj_cols"
   ]
  },
  {
   "cell_type": "code",
   "execution_count": 505,
   "metadata": {
    "collapsed": true
   },
   "outputs": [],
   "source": [
    "nan_obj_cols = nan_obj(obj_cols , train)\n",
    "#===========\n",
    "nan_obj_cols_test = nan_obj(obj_cols_test , test)"
   ]
  },
  {
   "cell_type": "code",
   "execution_count": 506,
   "metadata": {},
   "outputs": [
    {
     "name": "stdout",
     "output_type": "stream",
     "text": [
      "['BsmtQual', 'BsmtFinType1', 'FireplaceQu', 'GarageType', 'GarageFinish']\n",
      "['Exterior1st', 'Exterior2nd', 'BsmtQual', 'BsmtFinType1', 'KitchenQual', 'FireplaceQu', 'GarageType', 'GarageFinish']\n"
     ]
    }
   ],
   "source": [
    "#这些是具有缺失值 非数值型feature\n",
    "print(nan_obj_cols)\n",
    "#===========\n",
    "print(nan_obj_cols_test)"
   ]
  },
  {
   "cell_type": "code",
   "execution_count": 507,
   "metadata": {
    "collapsed": true
   },
   "outputs": [],
   "source": [
    "#查看频率次数最高的 和 缺失值数量\n",
    "def look(nan_obj_cols , train):\n",
    "    size = len(nan_obj_cols)\n",
    "    \n",
    "    for i in range(size):\n",
    "        _ = train[nan_obj_cols[i]].describe()\n",
    "        \n",
    "        print(nan_obj_cols[i] , _.top , _.freq , train[nan_obj_cols[i]].isnull().sum())"
   ]
  },
  {
   "cell_type": "code",
   "execution_count": 508,
   "metadata": {},
   "outputs": [
    {
     "name": "stdout",
     "output_type": "stream",
     "text": [
      "BsmtQual TA 649 37\n",
      "BsmtFinType1 Unf 430 37\n",
      "FireplaceQu Gd 380 690\n",
      "GarageType Attchd 870 81\n",
      "GarageFinish Unf 605 81\n",
      "None\n",
      "Exterior1st VinylSd 510 1\n",
      "Exterior2nd VinylSd 510 1\n",
      "BsmtQual TA 634 44\n",
      "BsmtFinType1 GLQ 431 42\n",
      "KitchenQual TA 757 1\n",
      "FireplaceQu Gd 364 730\n",
      "GarageType Attchd 853 76\n",
      "GarageFinish Unf 625 78\n",
      "None\n"
     ]
    }
   ],
   "source": [
    "print(look(nan_obj_cols , train))\n",
    "print(look(nan_obj_cols_test , test))"
   ]
  },
  {
   "cell_type": "code",
   "execution_count": 509,
   "metadata": {},
   "outputs": [
    {
     "data": {
      "text/plain": [
       "Index(['Gd', 'TA', 'Fa', 'Ex', 'Po'], dtype='object')"
      ]
     },
     "execution_count": 509,
     "metadata": {},
     "output_type": "execute_result"
    }
   ],
   "source": [
    "train['FireplaceQu'].value_counts().index"
   ]
  },
  {
   "cell_type": "code",
   "execution_count": 510,
   "metadata": {
    "collapsed": true
   },
   "outputs": [],
   "source": [
    "def get_map(index):\n",
    "    map_dict = {}\n",
    "    \n",
    "    [map_dict.setdefault(y , x+1) for x,y in enumerate(index)]\n",
    "\n",
    "    return map_dict\n",
    "\n",
    "def o2n(obj_cols , train):\n",
    "    size = len(obj_cols)\n",
    "    \n",
    "    for i in range(size):\n",
    "        map_dict = get_map(train[obj_cols[i]].value_counts().index)\n",
    "        train[obj_cols[i]] = train[obj_cols[i]].map(map_dict)\n",
    "        \n",
    "    return train"
   ]
  },
  {
   "cell_type": "code",
   "execution_count": 511,
   "metadata": {
    "collapsed": true
   },
   "outputs": [],
   "source": [
    "train = o2n(obj_cols , train)\n",
    "#======\n",
    "test = o2n(obj_cols_test , test)"
   ]
  },
  {
   "cell_type": "code",
   "execution_count": 512,
   "metadata": {
    "collapsed": true
   },
   "outputs": [],
   "source": [
    "#进行 缺失值填充  直接使用数字0来填充\n",
    "#这里是对非数值型feature的缺失值\n",
    "def fillna_obj(nan_obj_cols , train):\n",
    "    size = len(nan_obj_cols)\n",
    "    \n",
    "    for i in range(size):\n",
    "        train[nan_obj_cols[i]] = train[nan_obj_cols[i]].fillna(0)\n",
    "    \n",
    "    return train"
   ]
  },
  {
   "cell_type": "code",
   "execution_count": 513,
   "metadata": {
    "collapsed": true
   },
   "outputs": [],
   "source": [
    "train = fillna_obj(nan_obj_cols , train)\n",
    "#========\n",
    "test = fillna_obj(nan_obj_cols_test , test)"
   ]
  },
  {
   "cell_type": "code",
   "execution_count": 514,
   "metadata": {
    "collapsed": true
   },
   "outputs": [],
   "source": [
    "def a2int(obj_cols , train):\n",
    "    size = len(obj_cols)\n",
    "    \n",
    "    for i in range(size):\n",
    "        train[obj_cols[i]] = train[obj_cols[i]].astype(int)\n",
    "    \n",
    "    return train"
   ]
  },
  {
   "cell_type": "code",
   "execution_count": 515,
   "metadata": {
    "collapsed": true
   },
   "outputs": [],
   "source": [
    "#非数值转为数值后再将类型转为int\n",
    "train = a2int(obj_cols , train)\n",
    "#==========\n",
    "test = a2int(obj_cols_test , test)"
   ]
  },
  {
   "cell_type": "code",
   "execution_count": 516,
   "metadata": {
    "collapsed": true
   },
   "outputs": [],
   "source": [
    "#已经完成对非数值的全部转换\n",
    "#接下来便是 数值feature的转化 可以使用分阶段转化"
   ]
  },
  {
   "cell_type": "code",
   "execution_count": 517,
   "metadata": {
    "collapsed": true
   },
   "outputs": [],
   "source": [
    "def get_num_feature(train):\n",
    "    cols = train.columns\n",
    "    size = len(cols)\n",
    "    \n",
    "    num_feature = []\n",
    "    \n",
    "    for i in range(size):\n",
    "        if train[cols[i]].dtype == np.int64 or train[cols[i]].dtype == np.float64:\n",
    "            num_feature.append(cols[i])\n",
    "    \n",
    "    return num_feature"
   ]
  },
  {
   "cell_type": "code",
   "execution_count": 518,
   "metadata": {
    "collapsed": true
   },
   "outputs": [],
   "source": [
    "#数值类型的feature\n",
    "num_feature = get_num_feature(train)\n",
    "#=======\n",
    "num_feature_test = get_num_feature(test)"
   ]
  },
  {
   "cell_type": "code",
   "execution_count": 519,
   "metadata": {},
   "outputs": [
    {
     "name": "stdout",
     "output_type": "stream",
     "text": [
      "['MSSubClass', 'LotFrontage', 'LotArea', 'OverallQual', 'OverallCond', 'YearBuilt', 'YearRemodAdd', 'MasVnrArea', 'BsmtFinSF1', 'BsmtUnfSF', 'TotalBsmtSF', '1stFlrSF', '2ndFlrSF', 'GrLivArea', 'BsmtFullBath', 'FullBath', 'HalfBath', 'BedroomAbvGr', 'TotRmsAbvGrd', 'Fireplaces', 'GarageYrBlt', 'GarageCars', 'GarageArea', 'WoodDeckSF', 'OpenPorchSF', 'MoSold', 'YrSold']\n",
      "['MSSubClass', 'LotFrontage', 'LotArea', 'OverallQual', 'OverallCond', 'YearBuilt', 'YearRemodAdd', 'MasVnrArea', 'BsmtFinSF1', 'BsmtUnfSF', 'TotalBsmtSF', '1stFlrSF', '2ndFlrSF', 'GrLivArea', 'BsmtFullBath', 'FullBath', 'HalfBath', 'BedroomAbvGr', 'TotRmsAbvGrd', 'Fireplaces', 'GarageYrBlt', 'GarageCars', 'GarageArea', 'WoodDeckSF', 'OpenPorchSF', 'MoSold', 'YrSold']\n"
     ]
    }
   ],
   "source": [
    "print(num_feature)\n",
    "#===========\n",
    "print(num_feature_test)"
   ]
  },
  {
   "cell_type": "code",
   "execution_count": 520,
   "metadata": {
    "collapsed": true
   },
   "outputs": [],
   "source": [
    "#因为这三个比较特殊\n",
    "#都是年份\n",
    "#YearBuilt YearRemodAdd GarageYrBlt YrSold 三个的数值化\n",
    "def year_map(num):\n",
    "    if num < 1900:\n",
    "        return 12\n",
    "    else:\n",
    "        if num >= 2000:\n",
    "            return 11\n",
    "        else:\n",
    "            return round(num%100/10 , 0) + 1\n",
    "\n",
    "def year_map_z(num):\n",
    "    return num % 100"
   ]
  },
  {
   "cell_type": "code",
   "execution_count": 521,
   "metadata": {
    "collapsed": true
   },
   "outputs": [],
   "source": [
    "train['YearBuilt'] = train['YearBuilt'].apply(year_map).astype(int)\n",
    "train['YearRemodAdd'] = train['YearRemodAdd'].apply(year_map).astype(int)\n",
    "train['GarageYrBlt'] = train['GarageYrBlt'].apply(year_map).astype(int)\n",
    "train['YrSold'] = train['YrSold'].apply(year_map_z).astype(int)\n",
    "\n",
    "#===========\n",
    "test['YearBuilt'] = test['YearBuilt'].apply(year_map).astype(int)\n",
    "test['YearRemodAdd'] = test['YearRemodAdd'].apply(year_map).astype(int)\n",
    "test['GarageYrBlt'] = test['GarageYrBlt'].apply(year_map).astype(int)\n",
    "test['YrSold'] = test['YrSold'].apply(year_map_z).astype(int)"
   ]
  },
  {
   "cell_type": "code",
   "execution_count": 522,
   "metadata": {
    "collapsed": true
   },
   "outputs": [],
   "source": [
    "#MSSubClass处理\n",
    "def mss_map(num):\n",
    "    return round(num/10 , 0)"
   ]
  },
  {
   "cell_type": "code",
   "execution_count": 523,
   "metadata": {},
   "outputs": [],
   "source": [
    "train['MSSubClass'] = train['MSSubClass'].apply(mss_map).astype(int)\n",
    "train['LotFrontage'] = train['LotFrontage'].apply(mss_map).astype(int)\n",
    "#========\n",
    "test['MSSubClass'] = test['MSSubClass'].apply(mss_map).astype(int)\n",
    "test['LotFrontage'] = test['LotFrontage'].apply(mss_map).astype(int)"
   ]
  },
  {
   "cell_type": "code",
   "execution_count": 524,
   "metadata": {
    "collapsed": true
   },
   "outputs": [],
   "source": [
    "#临时保存一下\n",
    "temp = train\n",
    "\n",
    "tem_test = test"
   ]
  },
  {
   "cell_type": "code",
   "execution_count": 525,
   "metadata": {
    "collapsed": true
   },
   "outputs": [],
   "source": [
    "#恢复一下\n",
    "train = temp"
   ]
  },
  {
   "cell_type": "code",
   "execution_count": 526,
   "metadata": {
    "collapsed": true
   },
   "outputs": [],
   "source": [
    "num_feature_no_trans = ['LotArea','MasVnrArea', 'BsmtFinSF1',\n",
    "                        'BsmtUnfSF', 'TotalBsmtSF', '1stFlrSF', '2ndFlrSF',\n",
    "                        'GrLivArea','GarageArea','WoodDeckSF','OpenPorchSF']\n",
    "\n",
    "num_feature_no_trans_test = ['LotArea','MasVnrArea', 'BsmtFinSF1',\n",
    "                        'BsmtUnfSF', 'TotalBsmtSF', '1stFlrSF', '2ndFlrSF',\n",
    "                        'GrLivArea','GarageArea','WoodDeckSF','OpenPorchSF']"
   ]
  },
  {
   "cell_type": "code",
   "execution_count": 527,
   "metadata": {
    "collapsed": true
   },
   "outputs": [],
   "source": [
    "i = 0\n",
    "\n",
    "def extra_map(num):\n",
    "    global i\n",
    "    \n",
    "    _ = pd.qcut(train[num_feature_no_trans[i]] , 8)\n",
    "    __ = _.unique().sort_values()\n",
    "    \n",
    "    size = len(__)\n",
    "    for j in range(size):\n",
    "        if num in __[j]:\n",
    "            return j+1\n",
    "\n",
    "i_test = 0\n",
    "\n",
    "def extra_map_test(num):\n",
    "    global i_test\n",
    "    \n",
    "    _ = pd.qcut(test[num_feature_no_trans_test[i_test]] , 8)\n",
    "    __ = _.unique().sort_values()\n",
    "    \n",
    "    size = len(__)\n",
    "    #print(num , end=',')\n",
    "    for j in range(size):\n",
    "        if num in __[j]:\n",
    "            return j+1"
   ]
  },
  {
   "cell_type": "code",
   "execution_count": 528,
   "metadata": {},
   "outputs": [],
   "source": [
    "#train 数据的转化\n",
    "for m in [0,3,4,5,7,8]:\n",
    "    i = m\n",
    "    train[num_feature_no_trans[m]] = train[num_feature_no_trans[m]].apply(extra_map).astype(int)"
   ]
  },
  {
   "cell_type": "code",
   "execution_count": 529,
   "metadata": {},
   "outputs": [],
   "source": [
    "i_test=0\n",
    "test[num_feature_no_trans_test[0]] = test[num_feature_no_trans_test[0]].apply(extra_map_test).astype(int)"
   ]
  },
  {
   "cell_type": "code",
   "execution_count": 530,
   "metadata": {},
   "outputs": [],
   "source": [
    "i_test=3\n",
    "test[num_feature_no_trans_test[3]] = test[num_feature_no_trans_test[3]].apply(extra_map_test).astype(int)"
   ]
  },
  {
   "cell_type": "code",
   "execution_count": 531,
   "metadata": {
    "collapsed": true
   },
   "outputs": [],
   "source": [
    "i_test=4\n",
    "test[num_feature_no_trans_test[4]] = test[num_feature_no_trans_test[4]].apply(extra_map_test).astype(int)"
   ]
  },
  {
   "cell_type": "code",
   "execution_count": 532,
   "metadata": {
    "collapsed": true
   },
   "outputs": [],
   "source": [
    "i_test=5\n",
    "test[num_feature_no_trans_test[5]] = test[num_feature_no_trans_test[5]].apply(extra_map_test).astype(int)"
   ]
  },
  {
   "cell_type": "code",
   "execution_count": 533,
   "metadata": {
    "collapsed": true
   },
   "outputs": [],
   "source": [
    "i_test=7\n",
    "test[num_feature_no_trans_test[7]] = test[num_feature_no_trans_test[7]].apply(extra_map_test).astype(int)"
   ]
  },
  {
   "cell_type": "code",
   "execution_count": 534,
   "metadata": {
    "collapsed": true
   },
   "outputs": [],
   "source": [
    "i_test=8\n",
    "test[num_feature_no_trans_test[8]] = test[num_feature_no_trans_test[8]].apply(extra_map_test).astype(int)"
   ]
  },
  {
   "cell_type": "code",
   "execution_count": 535,
   "metadata": {
    "collapsed": true
   },
   "outputs": [],
   "source": [
    "ii = 0\n",
    "\n",
    "def extra_map_cut(num):\n",
    "    global ii\n",
    "    \n",
    "    _ = pd.cut(train[num_feature_no_trans[ii]] , 8)\n",
    "    __ = _.unique().sort_values()\n",
    "    \n",
    "    size = len(__)\n",
    "    for j in range(size):\n",
    "        if num in __[j]:\n",
    "            return j+1\n",
    "\n",
    "ii_test = 0\n",
    "\n",
    "def extra_map_cut_test(num):\n",
    "    global ii_test\n",
    "    \n",
    "    _ = pd.cut(test[num_feature_no_trans_test[ii_test]] , 8)\n",
    "    __ = _.unique().sort_values()\n",
    "    \n",
    "    size = len(__)\n",
    "    for j in range(size):\n",
    "        if num in __[j]:\n",
    "            return j+1"
   ]
  },
  {
   "cell_type": "code",
   "execution_count": 536,
   "metadata": {
    "collapsed": true
   },
   "outputs": [],
   "source": [
    "for m in [1,2,6,9,10]:\n",
    "    ii = m\n",
    "    train[num_feature_no_trans[m]] = train[num_feature_no_trans[m]].apply(extra_map_cut).astype(int)\n",
    "#===========\n",
    "for m in [1,2,6,9,10]:\n",
    "    ii_test=m\n",
    "    test[num_feature_no_trans_test[m]] = test[num_feature_no_trans_test[m]].apply(extra_map_cut_test).astype(int)"
   ]
  },
  {
   "cell_type": "code",
   "execution_count": 537,
   "metadata": {
    "collapsed": true
   },
   "outputs": [],
   "source": [
    "train_y['SalePrice'] = train_y['SalePrice'].apply(lambda x:np.log(x))"
   ]
  },
  {
   "cell_type": "code",
   "execution_count": 416,
   "metadata": {
    "collapsed": true
   },
   "outputs": [],
   "source": [
    "def use(function = SVR):\n",
    "    model = function()\n",
    "    model.fit(train[0:1200] , train_y[0:1200])\n",
    "    \n",
    "    score = round(model.score(train[1200:] , train_y[1200:]) , 3)\n",
    "    \n",
    "    print(score)\n",
    "    \n",
    "    return model.predict(train[1200:])"
   ]
  },
  {
   "cell_type": "code",
   "execution_count": 121,
   "metadata": {
    "collapsed": true
   },
   "outputs": [
    {
     "name": "stdout",
     "output_type": "stream",
     "text": [
      "0.663\n"
     ]
    },
    {
     "data": {
      "text/plain": [
       "array([ 11.74403719,  12.27139211,  11.8493977 ,  12.36307639,\n",
       "        11.91839057,  12.39462475,  11.35040654,  12.07254125,\n",
       "        11.6307085 ,  12.65235975,  12.18075484,  12.12323437,\n",
       "        11.41861479,  11.37939407,  11.81672692,  11.68266824,\n",
       "        11.74403719,  12.44508955,  11.51292546,  11.62625415,\n",
       "        11.68266824,  11.69107165,  11.8493977 ,  11.86779879,\n",
       "        12.10071213,  11.8493977 ,  12.18075484,  11.84222921,\n",
       "        12.48420426,  11.44035477,  12.10071213,  11.7905572 ,\n",
       "        11.40756495,  11.8492191 ,  11.55214618,  11.53272809,\n",
       "        12.01188092,  12.27839331,  12.13350195,  12.3863087 ,\n",
       "        12.24769432,  12.26857785,  12.02574909,  12.79385931,\n",
       "        12.3863087 ,  11.9511804 ,  12.19095901,  11.9316358 ,\n",
       "        11.9511804 ,  11.81303006,  12.4049235 ,  12.15477935,\n",
       "        11.51292546,  12.70076889,  12.04355372,  11.81303006,\n",
       "        12.88664104,  11.35040654,  12.14950229,  11.88448902,\n",
       "        12.15477935,  11.82041016,  11.8493977 ,  11.82407989,\n",
       "        12.09625778,  11.9511804 ,  12.19095901,  13.22956799,\n",
       "        12.95953852,  11.76368418,  12.27134527,  11.91772368,\n",
       "        11.80185676,  12.4049235 ,  11.10495723,  11.9316358 ,\n",
       "        11.89818787,  12.27839331,  12.44901882,  11.28978191,\n",
       "        12.34583459,  12.39462475,  11.90834024,  11.89067673,\n",
       "        12.09793049,  11.8493977 ,  11.99226042,  11.9316358 ,\n",
       "        12.63101353,  12.52452638,  11.8492191 ,  11.7352687 ,\n",
       "        12.24288662,  12.18841771,  11.6307085 ,  11.84222921,\n",
       "        11.8492191 ,  11.90496755,  12.12675884,  11.87409031,\n",
       "        12.23076526,  11.79810441,  12.4292162 ,  12.30138283,\n",
       "        11.8313792 ,  12.82362845,  12.21930965,  11.76368418,\n",
       "        11.9283409 ,  12.08672589,  12.8583197 ,  12.08953883,\n",
       "        12.56024446,  13.00865926,  11.53272809,  12.07254125,\n",
       "        12.4423022 ,  12.43153351,  12.42480649,  11.76718001,\n",
       "        11.88448902,  10.91508846,  12.37158708,  10.91508846,\n",
       "        12.99453001,  11.1124479 ,  11.36210258,  11.82407989,\n",
       "        12.4292162 ,  12.16002871,  12.40901349,  11.8493977 ,\n",
       "        11.48246626,  11.92337811,  11.87043555,  11.97665948,\n",
       "        12.06104687,  11.30220443,  12.35233515,  11.74403719,\n",
       "        11.56646623,  11.97665948,  12.5776362 ,  11.88103479,\n",
       "        12.14685329,  11.30220443,  12.31268238,  12.66980666,\n",
       "        12.46458334,  12.90420737,  11.89818787,  11.91505167,\n",
       "        11.10495723,  12.56024446,  12.32829028,  12.38002595,\n",
       "        11.74403719,  11.98261655,  12.05815252,  12.38421883,\n",
       "        11.97035031,  12.14153412,  12.05815252,  12.06681058,\n",
       "        11.92503512,  12.24769432,  12.29910751,  12.15477935,\n",
       "        11.8493977 ,  12.63101353,  12.01370075,  12.17303279,\n",
       "        12.37158708,  12.66999847,  12.4292162 ,  12.4073795 ,\n",
       "        11.23848862,  11.77528973,  11.4019939 ,  12.07823927,\n",
       "        11.1124479 ,  12.10071213,  12.01370075,  11.87059991,\n",
       "        11.26446411,  11.68266824,  12.61486554,  12.4292162 ,\n",
       "        12.82362845,  11.10495723,  12.27373129,  12.06104687,\n",
       "        11.95761129,  11.96718074,  12.46458334,  12.49500394,\n",
       "        11.87756858,  11.65268741,  11.98292909,  11.95053503,\n",
       "        11.53272809,  12.1281111 ,  12.14286657,  12.44508955,\n",
       "        11.8313792 ,  12.88029182,  11.60823564,  11.73606902,\n",
       "        11.58431546,  12.19551713,  12.35233515,  11.98292909,\n",
       "        11.43927892,  12.63101353,  12.01370075,  12.10625231,\n",
       "        11.79810441,  12.5776362 ,  11.91404782,  12.458775  ,\n",
       "        12.01066585,  11.75978554,  11.78676213,  12.40081672,\n",
       "        11.70766954,  12.00150548,  12.46843691,  11.7829526 ,\n",
       "        11.42190607,  12.17921519,  12.05980333,  11.60823564,\n",
       "        11.51292546,  12.10625231,  11.80559508,  12.07254125,\n",
       "        11.72480582,  12.99453001,  11.84222921,  12.29910751,\n",
       "        12.27839331,  11.85651517,  12.69158046,  11.53272809,\n",
       "        12.13939851,  11.68266824,  11.74542511,  12.36734079,\n",
       "        11.58988651,  11.84222921,  11.89067673,  12.52452638,\n",
       "        11.90496755,  11.89818787,  12.14950229,  12.03765399,\n",
       "        12.24288662,  12.59473064,  11.80931948,  11.91404782])"
      ]
     },
     "execution_count": 121,
     "metadata": {},
     "output_type": "execute_result"
    }
   ],
   "source": [
    "use(DecisionTreeRegressor)"
   ]
  },
  {
   "cell_type": "code",
   "execution_count": 122,
   "metadata": {
    "collapsed": true
   },
   "outputs": [
    {
     "name": "stdout",
     "output_type": "stream",
     "text": [
      "0.833\n"
     ]
    },
    {
     "name": "stderr",
     "output_type": "stream",
     "text": [
      "I:\\Anaconda3\\lib\\site-packages\\ipykernel_launcher.py:3: DataConversionWarning: A column-vector y was passed when a 1d array was expected. Please change the shape of y to (n_samples,), for example using ravel().\n",
      "  This is separate from the ipykernel package so we can avoid doing imports until\n"
     ]
    },
    {
     "data": {
      "text/plain": [
       "array([  99506.84912883,  223523.50178811,  115307.32186049,\n",
       "        216576.43650175,  144313.67136502,  252840.22766667,\n",
       "        118352.54387999,  188863.93917208,  141024.61492251,\n",
       "        286771.6040064 ,  192933.01873047,  212529.71419276,\n",
       "         85979.36702985,   85796.203993  ,  134351.7607146 ,\n",
       "        113913.04952523,  167652.16869428,  249947.87347121,\n",
       "         81993.69957503,  106093.77630295,  114947.65731165,\n",
       "        128572.86328571,  135504.595291  ,  133883.57945387,\n",
       "        197373.94473987,  134866.67644708,  206802.1169516 ,\n",
       "        133874.62513385,  357413.26305884,  141037.01219202,\n",
       "        189063.5929287 ,  143352.39189604,  113533.65468544,\n",
       "        149676.75572697,  131116.51319441,  140733.2543858 ,\n",
       "        166248.33831375,  214797.92783669,  161717.49168176,\n",
       "        251894.51758678,  203936.44882481,  235282.08013712,\n",
       "        176273.20350711,  374097.19962701,  206845.30840808,\n",
       "        195405.6333766 ,  200965.241327  ,  150195.30970364,\n",
       "        178325.73267154,  126257.80159392,  245204.18546071,\n",
       "        197677.18252079,  114253.63958078,  250591.7230642 ,\n",
       "        144255.36994679,  131545.18648825,  306556.43001249,\n",
       "         97963.4532158 ,  168459.41684535,  143879.0638487 ,\n",
       "        194067.22422963,  125885.83085001,  117595.19939239,\n",
       "        162448.70405462,  183653.61063471,  160437.09448387,\n",
       "        187852.71175636,  432297.74808404,  386686.18178391,\n",
       "        143710.74422227,  191095.30262438,  174920.32974179,\n",
       "        125995.02139301,  149935.7297553 ,  130862.2812148 ,\n",
       "        139318.5170103 ,  158820.83315435,  187310.99420023,\n",
       "        260703.37016134,   84839.90497113,  212192.80145498,\n",
       "        185346.35548595,  134842.08934273,  157842.85955565,\n",
       "        156186.30253147,  127155.18489885,  157460.0407835 ,\n",
       "        142300.69058613,  259438.01099088,  287931.38709724,\n",
       "        154577.92135853,  111148.55201345,  150753.57342824,\n",
       "        184951.42516469,  115216.59888216,  124403.54947441,\n",
       "        141975.47462483,  138794.2335511 ,  298521.07250117,\n",
       "        128985.85545803,  220101.13910816,  138567.13732326,\n",
       "        295328.58110671,  221056.2350727 ,  140734.34643884,\n",
       "        342829.97565945,  194338.52908677,  144805.28141735,\n",
       "        142416.02694713,  167460.33163985,  285851.05594071,\n",
       "        191391.22673217,  301870.15043368,  389464.56930452,\n",
       "        109148.93412231,  168367.10046587,  275295.2404222 ,\n",
       "        190235.46774252,  245670.59256419,   98730.97948304,\n",
       "        158497.39264856,   56718.03277287,  262119.63507458,\n",
       "         73472.1397923 ,  289716.60457848,   75982.73556717,\n",
       "         65682.79361272,  124965.72273941,  218097.27572512,\n",
       "        176099.45427342,  256208.52683114,  136794.16927749,\n",
       "        108325.11201245,  115399.27908521,  143896.07181654,\n",
       "        176871.13331554,  154069.946525  ,   85201.8897768 ,\n",
       "        242686.22295033,  119860.6047573 ,  114142.88266875,\n",
       "        161084.98025164,  261376.8417892 ,  145559.47753691,\n",
       "        195463.50200515,  107262.82749854,  243774.37941383,\n",
       "        280695.09545268,  215341.25684574,  210741.65443566,\n",
       "        143821.62868412,  172331.61851346,  119577.95056342,\n",
       "        354434.51909578,  266715.66461745,  215252.39799323,\n",
       "        113804.62861702,  152885.4066751 ,  155315.7645199 ,\n",
       "        304060.51179497,  173949.71686371,  214003.01435776,\n",
       "        117748.69508661,  158987.27353084,  152379.11266415,\n",
       "        222046.38858885,  228782.30114745,  144524.95888182,\n",
       "        140510.0862382 ,  230798.08355194,  112223.2944715 ,\n",
       "        153752.76410746,  249276.80926755,  345344.67703804,\n",
       "        257585.40518012,  253897.61219365,   97952.79412763,\n",
       "        148323.15423265,   98105.26672783,  133908.88707835,\n",
       "         75555.56016427,  200930.47665024,  155862.28263977,\n",
       "        142788.16507215,   96369.17431348,   94323.80628117,\n",
       "        282618.04363114,  157090.00142188,  325682.17431398,\n",
       "        129853.65138007,  231901.18613551,  139604.30094123,\n",
       "        109928.55591407,  194632.92167789,  224304.15204613,\n",
       "        303457.41689798,  164551.48785476,  139307.12593963,\n",
       "        138380.49516632,  124792.05127336,  109757.44304218,\n",
       "        171933.55995257,  190534.73421035,  254541.34726945,\n",
       "         88271.62613658,  295102.64872242,  128576.43720928,\n",
       "        116021.85580387,  109324.95316614,  217773.03473458,\n",
       "        234332.86678153,  159415.51983944,   91877.42069798,\n",
       "        263035.54584621,  186735.37007059,  204204.34337323,\n",
       "        133271.88027277,  309278.39503829,  138312.48917583,\n",
       "        203958.62154255,  162078.24558594,  139864.15567604,\n",
       "        136464.54312872,  204932.18736187,  144548.94147673,\n",
       "        151949.74124677,  251280.2160142 ,  128325.37632178,\n",
       "        104977.85278884,  170779.44626793,  165545.09760117,\n",
       "        137778.019152  ,   98891.28775376,  186469.45436145,\n",
       "        161959.06230832,  176006.76413104,  115480.97721882,\n",
       "        307788.51372053,  147787.45930795,  171717.68117036,\n",
       "        192214.54259559,  144611.76668502,  342851.02894606,\n",
       "        104796.68331481,  194822.26184232,  119777.79218505,\n",
       "        142908.11163767,  281286.13661317,  113012.73862119,\n",
       "         98700.84506078,  157799.78900436,  248303.54939412,\n",
       "        130582.37784284,  148167.01566005,  175095.59042596,\n",
       "        177117.38892332,  205219.58967564,  238041.14446937,\n",
       "        115123.44654569,  146785.30181308])"
      ]
     },
     "execution_count": 122,
     "metadata": {},
     "output_type": "execute_result"
    }
   ],
   "source": [
    "results = use(RandomForestRegressor)\n",
    "np.exp(results)"
   ]
  },
  {
   "cell_type": "code",
   "execution_count": 438,
   "metadata": {},
   "outputs": [
    {
     "name": "stderr",
     "output_type": "stream",
     "text": [
      "I:\\Anaconda3\\lib\\site-packages\\ipykernel_launcher.py:5: DataConversionWarning: A column-vector y was passed when a 1d array was expected. Please change the shape of y to (n_samples,), for example using ravel().\n",
      "  \"\"\"\n",
      "I:\\Anaconda3\\lib\\site-packages\\ipykernel_launcher.py:5: DataConversionWarning: A column-vector y was passed when a 1d array was expected. Please change the shape of y to (n_samples,), for example using ravel().\n",
      "  \"\"\"\n"
     ]
    },
    {
     "name": "stdout",
     "output_type": "stream",
     "text": [
      "score: 0.839\n",
      "score: 0.832\n",
      "score: 0.841\n"
     ]
    },
    {
     "name": "stderr",
     "output_type": "stream",
     "text": [
      "I:\\Anaconda3\\lib\\site-packages\\ipykernel_launcher.py:5: DataConversionWarning: A column-vector y was passed when a 1d array was expected. Please change the shape of y to (n_samples,), for example using ravel().\n",
      "  \"\"\"\n"
     ]
    }
   ],
   "source": [
    "kf = KFold(train.shape[0] , n_folds=3 , random_state=1)\n",
    "model = RandomForestRegressor()\n",
    "\n",
    "for x ,vali in kf:\n",
    "    model.fit(train.iloc[x , :] , train_y.iloc[x])\n",
    "    \n",
    "    print('score:' , round(model.score(train.iloc[vali , :] , train_y.iloc[vali]) , 3))"
   ]
  },
  {
   "cell_type": "code",
   "execution_count": 420,
   "metadata": {},
   "outputs": [
    {
     "name": "stderr",
     "output_type": "stream",
     "text": [
      "I:\\Anaconda3\\lib\\site-packages\\ipykernel_launcher.py:2: DataConversionWarning: A column-vector y was passed when a 1d array was expected. Please change the shape of y to (n_samples,), for example using ravel().\n",
      "  \n"
     ]
    },
    {
     "data": {
      "text/plain": [
       "RandomForestRegressor(bootstrap=True, criterion='mse', max_depth=None,\n",
       "           max_features='auto', max_leaf_nodes=None,\n",
       "           min_impurity_decrease=0.0, min_impurity_split=None,\n",
       "           min_samples_leaf=1, min_samples_split=2,\n",
       "           min_weight_fraction_leaf=0.0, n_estimators=10, n_jobs=1,\n",
       "           oob_score=False, random_state=None, verbose=0, warm_start=False)"
      ]
     },
     "execution_count": 420,
     "metadata": {},
     "output_type": "execute_result"
    }
   ],
   "source": [
    "model3 = RandomForestRegressor()\n",
    "model3.fit(train , train_y)"
   ]
  },
  {
   "cell_type": "code",
   "execution_count": 421,
   "metadata": {
    "collapsed": true
   },
   "outputs": [],
   "source": [
    "test_results = model3.predict(test)"
   ]
  },
  {
   "cell_type": "code",
   "execution_count": 426,
   "metadata": {},
   "outputs": [],
   "source": [
    "test_results = np.exp(test_results)"
   ]
  },
  {
   "cell_type": "code",
   "execution_count": 427,
   "metadata": {
    "collapsed": true
   },
   "outputs": [],
   "source": [
    "idd = [x+1461 for x in range(1459)]"
   ]
  },
  {
   "cell_type": "code",
   "execution_count": 431,
   "metadata": {
    "collapsed": true
   },
   "outputs": [],
   "source": [
    "submit = pd.DataFrame({'Id':idd , 'SalePrice':test_results})"
   ]
  },
  {
   "cell_type": "code",
   "execution_count": 432,
   "metadata": {
    "collapsed": true
   },
   "outputs": [],
   "source": [
    "submit.to_csv('my_result.csv' , index=False)"
   ]
  },
  {
   "cell_type": "code",
   "execution_count": 433,
   "metadata": {
    "collapsed": true
   },
   "outputs": [],
   "source": [
    "#=================\n",
    "#=================\n",
    "#=================\n",
    "#用神经网络train一发"
   ]
  },
  {
   "cell_type": "code",
   "execution_count": 538,
   "metadata": {},
   "outputs": [
    {
     "data": {
      "text/plain": [
       "39"
      ]
     },
     "execution_count": 538,
     "metadata": {},
     "output_type": "execute_result"
    }
   ],
   "source": [
    "len(train.columns)"
   ]
  },
  {
   "cell_type": "code",
   "execution_count": 539,
   "metadata": {
    "collapsed": true
   },
   "outputs": [],
   "source": [
    "xs = tf.placeholder(tf.float32 , shape = [None , 39])\n",
    "ys = tf.placeholder(tf.float32 , shape = [None , 1])\n",
    "\n",
    "ys = tf.nn.sigmoid(ys)\n",
    "\n",
    "w1 = tf.Variable(tf.random_normal([39,20]) , dtype=tf.float32)\n",
    "b1 = tf.Variable(tf.zeros([20]) , dtype=tf.float32)\n",
    "\n",
    "w2 = tf.Variable(tf.random_normal([20,5]) , dtype=tf.float32)\n",
    "b2 = tf.Variable(tf.zeros([5]) , dtype=tf.float32)\n",
    "\n",
    "w3 = tf.Variable(tf.random_normal([5,1]) , dtype=tf.float32)\n",
    "b3 = tf.Variable(tf.zeros([1]) , dtype=tf.float32)\n",
    "\n",
    "l1 = tf.nn.sigmoid(tf.matmul(xs , w1) + b1)\n",
    "l2 = tf.nn.sigmoid(tf.matmul(l1 , w2) + b2)\n",
    "l3 = tf.nn.sigmoid(tf.matmul(l2 , w3) + b3)\n",
    "\n",
    "loss = tf.reduce_mean(tf.reduce_sum(tf.abs(l3 - ys)))\n",
    "\n",
    "train_step = tf.train.GradientDescentOptimizer(0.01).minimize(loss)"
   ]
  },
  {
   "cell_type": "code",
   "execution_count": 540,
   "metadata": {},
   "outputs": [
    {
     "name": "stderr",
     "output_type": "stream",
     "text": [
      "I:\\Anaconda3\\lib\\site-packages\\numpy\\core\\fromnumeric.py:57: FutureWarning: reshape is deprecated and will raise in a subsequent release. Please use .values.reshape(...) instead\n",
      "  return getattr(obj, method)(*args, **kwds)\n"
     ]
    },
    {
     "name": "stdout",
     "output_type": "stream",
     "text": [
      "1157.22\n",
      "1166.0\n",
      "1161.78\n",
      "1162.25\n",
      "1157.55\n",
      "1160.71\n",
      "1160.7\n",
      "1165.41\n",
      "1159.67\n",
      "1157.84\n",
      "1155.31\n",
      "1159.25\n",
      "1159.77\n",
      "1157.22\n",
      "1166.0\n",
      "1161.78\n",
      "1162.25\n",
      "1157.55\n",
      "1160.71\n",
      "1160.7\n",
      "1165.41\n",
      "1159.67\n",
      "1157.84\n",
      "1155.31\n",
      "1159.25\n",
      "1159.77\n",
      "1157.22\n",
      "1166.0\n",
      "1161.78\n",
      "1162.25\n",
      "1157.55\n",
      "1160.71\n",
      "1160.7\n",
      "1165.41\n",
      "1159.67\n",
      "1157.84\n",
      "1155.31\n",
      "1159.25\n",
      "1159.77\n",
      "1157.22\n",
      "1166.0\n",
      "1161.78\n",
      "1162.25\n",
      "1157.55\n",
      "1160.71\n",
      "1160.7\n",
      "1165.41\n",
      "1159.67\n",
      "1157.84\n",
      "1155.31\n",
      "1159.25\n",
      "1159.77\n",
      "1157.22\n",
      "1166.0\n",
      "1161.78\n",
      "1162.25\n",
      "1157.55\n",
      "1160.71\n",
      "1160.7\n",
      "1165.41\n",
      "1159.67\n",
      "1157.84\n",
      "1155.31\n",
      "1159.25\n",
      "1159.77\n",
      "1157.22\n",
      "1166.0\n",
      "1161.78\n",
      "1162.25\n",
      "1157.55\n",
      "1160.71\n",
      "1160.7\n",
      "1165.41\n",
      "1159.67\n",
      "1157.84\n",
      "1155.31\n",
      "1159.25\n",
      "1159.77\n",
      "1157.22\n",
      "1166.0\n",
      "1161.78\n",
      "1162.25\n",
      "1157.55\n",
      "1160.71\n",
      "1160.7\n",
      "1165.41\n",
      "1159.67\n",
      "1157.84\n",
      "1155.31\n",
      "1159.25\n",
      "1159.77\n",
      "1157.22\n",
      "1166.0\n",
      "1161.78\n",
      "1162.25\n",
      "1157.55\n",
      "1160.71\n",
      "1160.7\n",
      "1165.41\n",
      "1159.67\n"
     ]
    }
   ],
   "source": [
    "sess = tf.Session()\n",
    "sess.run(tf.global_variables_initializer())\n",
    "\n",
    "start = 0\n",
    "batch_size = 100\n",
    "\n",
    "for i in range(100):\n",
    "    x_train = train.iloc[start :start+batch_size , :]\n",
    "    y_train = np.reshape(train_y.iloc[start:start+batch_size , 0] , (batch_size , 1))\n",
    "    \n",
    "    print(sess.run(loss , feed_dict={xs:x_train , ys:y_train}))\n",
    "    \n",
    "    start += batch_size\n",
    "    \n",
    "    if start > 1200:\n",
    "        start = 0"
   ]
  },
  {
   "cell_type": "code",
   "execution_count": 470,
   "metadata": {},
   "outputs": [],
   "source": [
    "y_train = train_y.iloc[start:start+batch_size , 0]"
   ]
  },
  {
   "cell_type": "code",
   "execution_count": 474,
   "metadata": {},
   "outputs": [
    {
     "data": {
      "text/plain": [
       "(100, 1)"
      ]
     },
     "execution_count": 474,
     "metadata": {},
     "output_type": "execute_result"
    }
   ],
   "source": [
    "y_train.shape"
   ]
  },
  {
   "cell_type": "code",
   "execution_count": null,
   "metadata": {
    "collapsed": true
   },
   "outputs": [],
   "source": []
  }
 ],
 "metadata": {
  "kernelspec": {
   "display_name": "Python 3",
   "language": "python",
   "name": "python3"
  },
  "language_info": {
   "codemirror_mode": {
    "name": "ipython",
    "version": 3
   },
   "file_extension": ".py",
   "mimetype": "text/x-python",
   "name": "python",
   "nbconvert_exporter": "python",
   "pygments_lexer": "ipython3",
   "version": "3.6.2"
  }
 },
 "nbformat": 4,
 "nbformat_minor": 2
}
