{
 "cells": [
  {
   "cell_type": "code",
   "execution_count": 1,
   "metadata": {},
   "outputs": [
    {
     "name": "stderr",
     "output_type": "stream",
     "text": [
      "I:\\Anaconda3\\lib\\site-packages\\sklearn\\cross_validation.py:44: DeprecationWarning: This module was deprecated in version 0.18 in favor of the model_selection module into which all the refactored classes and functions are moved. Also note that the interface of the new CV iterators are different from that of this module. This module will be removed in 0.20.\n",
      "  \"This module will be removed in 0.20.\", DeprecationWarning)\n"
     ]
    }
   ],
   "source": [
    "import pandas as pd\n",
    "import numpy as np\n",
    "\n",
    "import seaborn as sns\n",
    "\n",
    "import matplotlib.pyplot as plt\n",
    "\n",
    "from scipy import stats\n",
    "\n",
    "from sklearn.model_selection import cross_val_score\n",
    "from sklearn.cross_validation import KFold\n",
    "\n",
    "from sklearn.preprocessing import StandardScaler\n",
    "\n",
    "from scipy import stats\n",
    "\n",
    "%matplotlib inline"
   ]
  },
  {
   "cell_type": "code",
   "execution_count": 186,
   "metadata": {},
   "outputs": [],
   "source": [
    "train_data = pd.read_csv('house_price/train.csv')\n",
    "train_data = train_data.drop(['Id'] , axis = 1)"
   ]
  },
  {
   "cell_type": "code",
   "execution_count": 187,
   "metadata": {
    "collapsed": true
   },
   "outputs": [],
   "source": [
    "#++++++++++++++++\n",
    "#++++++++++++++++\n",
    "test_data = pd.read_csv('house_price/test.csv')\n",
    "test_id = test_data.Id\n",
    "test_data = test_data.drop('Id' , axis = 1)"
   ]
  },
  {
   "cell_type": "code",
   "execution_count": 188,
   "metadata": {
    "collapsed": true
   },
   "outputs": [],
   "source": [
    "#对saleprice进行除偏\n",
    "train_data.SalePrice = train_data.SalePrice.apply(np.log1p)"
   ]
  },
  {
   "cell_type": "code",
   "execution_count": 189,
   "metadata": {
    "collapsed": true
   },
   "outputs": [],
   "source": [
    "numerical_columns = train_data.dtypes[train_data.dtypes != object].index #含有预测值 SalePrice\n",
    "categorical_columns = train_data.dtypes[train_data.dtypes == object].index"
   ]
  },
  {
   "cell_type": "code",
   "execution_count": 58,
   "metadata": {
    "collapsed": true
   },
   "outputs": [],
   "source": [
    "#==================\n",
    "#==================\n",
    "#==================\n",
    "#下面的eda全是numerical features"
   ]
  },
  {
   "cell_type": "code",
   "execution_count": 190,
   "metadata": {},
   "outputs": [
    {
     "data": {
      "text/plain": [
       "Index(['LotFrontage', 'MasVnrArea', 'GarageYrBlt'], dtype='object')"
      ]
     },
     "execution_count": 190,
     "metadata": {},
     "output_type": "execute_result"
    }
   ],
   "source": [
    "missing_columns_num = (train_data[numerical_columns].isnull().sum()[train_data[numerical_columns].isnull().sum().values>0]).index\n",
    "#含有缺失值的numerical columns\n",
    "missing_columns_num"
   ]
  },
  {
   "cell_type": "code",
   "execution_count": 191,
   "metadata": {
    "scrolled": true
   },
   "outputs": [],
   "source": [
    "train_data.LotFrontage = train_data.groupby('Neighborhood')['LotFrontage'].transform(lambda x: x.fillna(x.median()))\n",
    "train_data.MasVnrArea = train_data.MasVnrArea.fillna(0)\n",
    "train_data.GarageYrBlt = train_data.GarageYrBlt.fillna(0)"
   ]
  },
  {
   "cell_type": "code",
   "execution_count": 192,
   "metadata": {},
   "outputs": [
    {
     "data": {
      "text/plain": [
       "Index(['LotFrontage', 'MasVnrArea', 'BsmtFinSF1', 'BsmtFinSF2', 'BsmtUnfSF',\n",
       "       'TotalBsmtSF', 'BsmtFullBath', 'BsmtHalfBath', 'GarageYrBlt',\n",
       "       'GarageCars', 'GarageArea'],\n",
       "      dtype='object')"
      ]
     },
     "execution_count": 192,
     "metadata": {},
     "output_type": "execute_result"
    }
   ],
   "source": [
    "#++++++++++++++++++++\n",
    "#++++++++++++++++++++\n",
    "test_categorical_columns = categorical_columns.copy()\n",
    "\n",
    "test_numerical_columns = list(numerical_columns)\n",
    "test_numerical_columns.remove('SalePrice')\n",
    "test_missing_columns_num = (test_data[test_numerical_columns].isnull().sum()[test_data[test_numerical_columns].isnull().sum().values>0]).index\n",
    "test_missing_columns_num"
   ]
  },
  {
   "cell_type": "code",
   "execution_count": 193,
   "metadata": {
    "collapsed": true
   },
   "outputs": [],
   "source": [
    "#++++++++++++++++++++\n",
    "#++++++++++++++++++++\n",
    "test_data.LotFrontage = test_data.groupby('Neighborhood')['LotFrontage'].transform(lambda x: x.fillna(x.median()))\n",
    "test_data.MasVnrArea =  test_data.MasVnrArea.fillna(0)\n",
    "test_data.GarageYrBlt = test_data.GarageYrBlt.fillna(0)\n",
    "\n",
    "test_data.BsmtFinSF1 = test_data.BsmtFinSF1.fillna(0)\n",
    "test_data.BsmtFinSF2 = test_data.BsmtFinSF2.fillna(0)\n",
    "test_data.BsmtUnfSF = test_data.BsmtUnfSF.fillna(0)\n",
    "test_data.TotalBsmtSF = test_data.TotalBsmtSF.fillna(0)\n",
    "test_data.BsmtFullBath = test_data.BsmtFullBath.fillna(0)\n",
    "test_data.BsmtHalfBath = test_data.BsmtHalfBath.fillna(0)\n",
    "test_data.GarageCars = test_data.GarageCars.fillna(0)\n",
    "test_data.GarageArea = test_data.GarageArea.fillna(0)\n"
   ]
  },
  {
   "cell_type": "code",
   "execution_count": null,
   "metadata": {
    "collapsed": true
   },
   "outputs": [],
   "source": [
    "#==========\n",
    "#==========\n",
    "#==========\n",
    "#下面是处理numerical的离群值"
   ]
  },
  {
   "cell_type": "code",
   "execution_count": 194,
   "metadata": {
    "collapsed": true
   },
   "outputs": [],
   "source": [
    "train_data.loc[train_data.TotalBsmtSF>6000].index #根据上图找离群值\n",
    "train_data = train_data.drop(1298) #删除离群值"
   ]
  },
  {
   "cell_type": "code",
   "execution_count": 195,
   "metadata": {
    "collapsed": true
   },
   "outputs": [],
   "source": [
    "train_data.loc[train_data.GrLivArea>4500,'GrLivArea'].index #找离群点\n",
    "train_data = train_data.drop([523]) #上面已经把1298删除了\n",
    "#注意删除前面的离群值后 后面的样本序号会变"
   ]
  },
  {
   "cell_type": "code",
   "execution_count": null,
   "metadata": {
    "collapsed": true
   },
   "outputs": [],
   "source": []
  },
  {
   "cell_type": "code",
   "execution_count": 150,
   "metadata": {},
   "outputs": [],
   "source": [
    "no_missing_columns_num = list(set(numerical_columns) - set(missing_columns_num)) #没有缺失值的numerical features"
   ]
  },
  {
   "cell_type": "code",
   "execution_count": 196,
   "metadata": {},
   "outputs": [
    {
     "data": {
      "text/plain": [
       "Index(['MSZoning', 'Street', 'Alley', 'LotShape', 'LandContour', 'Utilities',\n",
       "       'LotConfig', 'LandSlope', 'Neighborhood', 'Condition1', 'Condition2',\n",
       "       'BldgType', 'HouseStyle', 'RoofStyle', 'RoofMatl', 'Exterior1st',\n",
       "       'Exterior2nd', 'MasVnrType', 'ExterQual', 'ExterCond', 'Foundation',\n",
       "       'BsmtQual', 'BsmtCond', 'BsmtExposure', 'BsmtFinType1', 'BsmtFinType2',\n",
       "       'Heating', 'HeatingQC', 'CentralAir', 'Electrical', 'KitchenQual',\n",
       "       'Functional', 'FireplaceQu', 'GarageType', 'GarageFinish', 'GarageQual',\n",
       "       'GarageCond', 'PavedDrive', 'PoolQC', 'Fence', 'MiscFeature',\n",
       "       'SaleType', 'SaleCondition'],\n",
       "      dtype='object')"
      ]
     },
     "execution_count": 196,
     "metadata": {},
     "output_type": "execute_result"
    }
   ],
   "source": [
    "#==================\n",
    "#==================\n",
    "#==================\n",
    "#==================\n",
    "#下面处理标称型特征\n",
    "categorical_columns"
   ]
  },
  {
   "cell_type": "code",
   "execution_count": 197,
   "metadata": {
    "scrolled": false
   },
   "outputs": [
    {
     "data": {
      "text/plain": [
       "Index(['Alley', 'MasVnrType', 'BsmtQual', 'BsmtCond', 'BsmtExposure',\n",
       "       'BsmtFinType1', 'BsmtFinType2', 'Electrical', 'FireplaceQu',\n",
       "       'GarageType', 'GarageFinish', 'GarageQual', 'GarageCond', 'PoolQC',\n",
       "       'Fence', 'MiscFeature'],\n",
       "      dtype='object')"
      ]
     },
     "execution_count": 197,
     "metadata": {},
     "output_type": "execute_result"
    }
   ],
   "source": [
    "#有缺失值的categorical features\n",
    "missing_columns_cat = categorical_columns[train_data[categorical_columns].isnull().sum().values != 0]\n",
    "missing_columns_cat"
   ]
  },
  {
   "cell_type": "code",
   "execution_count": 198,
   "metadata": {},
   "outputs": [
    {
     "data": {
      "text/plain": [
       "Index(['MSZoning', 'Alley', 'Utilities', 'Exterior1st', 'Exterior2nd',\n",
       "       'MasVnrType', 'BsmtQual', 'BsmtCond', 'BsmtExposure', 'BsmtFinType1',\n",
       "       'BsmtFinType2', 'KitchenQual', 'Functional', 'FireplaceQu',\n",
       "       'GarageType', 'GarageFinish', 'GarageQual', 'GarageCond', 'PoolQC',\n",
       "       'Fence', 'MiscFeature', 'SaleType'],\n",
       "      dtype='object')"
      ]
     },
     "execution_count": 198,
     "metadata": {},
     "output_type": "execute_result"
    }
   ],
   "source": [
    "#+++++++++++++++++++\n",
    "#+++++++++++++++++++\n",
    "test_missing_columns_cat = test_categorical_columns[test_data[test_categorical_columns].isnull().sum().values != 0]\n",
    "test_missing_columns_cat"
   ]
  },
  {
   "cell_type": "code",
   "execution_count": 199,
   "metadata": {
    "collapsed": true
   },
   "outputs": [],
   "source": [
    "#++++++++++++++++++++++\n",
    "#++++++++++++++++++++++\n",
    "test_data.MSZoning = test_data.MSZoning.fillna(test_data.MSSubClass.value_counts().index[0])\n",
    "test_data.Exterior1st = test_data.Exterior1st.fillna(test_data.Exterior1st.value_counts().index[0])\n",
    "test_data.Exterior2nd = test_data.Exterior2nd.fillna(test_data.Exterior2nd.value_counts().index[0])\n",
    "test_data.KitchenQual = test_data.KitchenQual.fillna(test_data.KitchenQual.value_counts().index[0])\n",
    "test_data.Functional = test_data.Functional.fillna('Typ')\n",
    "test_data.SaleType = test_data.SaleType.fillna(test_data.SaleType.value_counts().index[0])\n",
    "\n",
    "test_data.Alley = test_data.Alley.fillna('None')\n",
    "test_data.MasVnrType = test_data.MasVnrType.fillna('None')\n",
    "\n",
    "test_data.BsmtQual = test_data.BsmtQual.fillna('None')\n",
    "test_data.BsmtCond = test_data.BsmtCond.fillna('None')\n",
    "test_data.BsmtExposure = test_data.BsmtExposure.fillna('None')\n",
    "test_data.BsmtFinType1 = test_data.BsmtFinType1.fillna('None')\n",
    "test_data.BsmtFinType2 = test_data.BsmtFinType2.fillna('None')\n",
    "\n",
    "test_data.Electrical = test_data.Electrical.fillna(test_data.Electrical.value_counts().index[0])\n",
    "test_data.FireplaceQu = test_data.FireplaceQu.fillna('None')\n",
    "test_data.GarageType = test_data.GarageType.fillna('None')\n",
    "test_data.GarageFinish = test_data.GarageFinish.fillna('None')\n",
    "test_data.GarageQual = test_data.GarageQual.fillna('None')\n",
    "test_data.GarageCond = test_data.GarageCond.fillna('None')\n",
    "test_data.PoolQC =     test_data.PoolQC.fillna('None')\n",
    "test_data.Fence =      test_data.Fence.fillna('None')\n",
    "test_data.MiscFeature = test_data.MiscFeature.fillna('None')"
   ]
  },
  {
   "cell_type": "code",
   "execution_count": 200,
   "metadata": {},
   "outputs": [],
   "source": [
    "train_data.Alley = train_data.Alley.fillna('None')\n",
    "train_data.MasVnrType = train_data.MasVnrType.fillna('None')\n",
    "\n",
    "train_data.BsmtQual = train_data.BsmtQual.fillna('None')\n",
    "train_data.BsmtCond = train_data.BsmtCond.fillna('None')\n",
    "train_data.BsmtExposure = train_data.BsmtExposure.fillna('None')\n",
    "train_data.BsmtFinType1 = train_data.BsmtFinType1.fillna('None')\n",
    "train_data.BsmtFinType2 = train_data.BsmtFinType2.fillna('None')\n",
    "\n",
    "train_data.Electrical = train_data.Electrical.fillna(train_data.Electrical.value_counts().index[0])\n",
    "train_data.FireplaceQu = train_data.FireplaceQu.fillna('None')\n",
    "train_data.GarageType = train_data.GarageType.fillna('None')\n",
    "train_data.GarageFinish = train_data.GarageFinish.fillna('None')\n",
    "train_data.GarageQual = train_data.GarageQual.fillna('None')\n",
    "train_data.GarageCond = train_data.GarageCond.fillna('None')\n",
    "train_data.PoolQC = train_data.PoolQC.fillna('None')\n",
    "train_data.Fence = train_data.Fence.fillna('None')\n",
    "train_data.MiscFeature = train_data.MiscFeature.fillna('None')"
   ]
  },
  {
   "cell_type": "code",
   "execution_count": 201,
   "metadata": {
    "collapsed": true
   },
   "outputs": [],
   "source": [
    "train_data = train_data.drop('Utilities' , axis = 1)"
   ]
  },
  {
   "cell_type": "code",
   "execution_count": 202,
   "metadata": {
    "collapsed": true
   },
   "outputs": [],
   "source": [
    "#++++++++++++++++++++++\n",
    "#++++++++++++++++++++++\n",
    "test_data = test_data.drop('Utilities' , axis = 1)"
   ]
  },
  {
   "cell_type": "code",
   "execution_count": 203,
   "metadata": {},
   "outputs": [],
   "source": [
    "#将数字变为str类型 为转换为categorical 类型做准备\n",
    "train_data.MSSubClass = train_data.MSSubClass.apply(str)\n",
    "train_data.OverallCond = train_data.OverallCond.astype(str)\n",
    "\n",
    "train_data.YrSold = train_data.YrSold.astype(str)\n",
    "train_data.MoSold = train_data.MoSold.astype(str)"
   ]
  },
  {
   "cell_type": "code",
   "execution_count": 204,
   "metadata": {
    "collapsed": true
   },
   "outputs": [],
   "source": [
    "#++++++++++++++++++++++++\n",
    "#++++++++++++++++++++++++\n",
    "test_data.MSSubClass = test_data.MSSubClass.apply(str)\n",
    "test_data.OverallCond = test_data.OverallCond.astype(str)\n",
    "\n",
    "test_data.YrSold = test_data.YrSold.astype(str)\n",
    "test_data.MoSold = test_data.MoSold.astype(str)"
   ]
  },
  {
   "cell_type": "code",
   "execution_count": 205,
   "metadata": {},
   "outputs": [],
   "source": [
    "from sklearn.preprocessing import LabelEncoder\n",
    "cols = ('FireplaceQu', 'BsmtQual', 'BsmtCond', 'GarageQual', 'GarageCond', \n",
    "        'ExterQual', 'ExterCond','HeatingQC', 'PoolQC', 'KitchenQual', 'BsmtFinType1', \n",
    "        'BsmtFinType2', 'Functional', 'Fence', 'BsmtExposure', 'GarageFinish', 'LandSlope',\n",
    "        'LotShape', 'PavedDrive', 'Street', 'Alley', 'CentralAir', 'MSSubClass', 'OverallCond', \n",
    "        'YrSold', 'MoSold')\n",
    "\n",
    "for i in cols:\n",
    "    lbl = LabelEncoder() \n",
    "    lbl.fit(list(train_data[i].values)) \n",
    "    train_data[i] = lbl.transform(list(train_data[i].values))\n",
    "\n"
   ]
  },
  {
   "cell_type": "code",
   "execution_count": 206,
   "metadata": {
    "collapsed": true
   },
   "outputs": [],
   "source": [
    "#+++++++++++++++++++++++\n",
    "#+++++++++++++++++++++++\n",
    "for i in cols:\n",
    "    lbl = LabelEncoder() \n",
    "    lbl.fit(list(test_data[i].values)) \n",
    "    test_data[i] = lbl.transform(list(test_data[i].values))"
   ]
  },
  {
   "cell_type": "code",
   "execution_count": 163,
   "metadata": {},
   "outputs": [
    {
     "data": {
      "text/plain": [
       "(1459, 78)"
      ]
     },
     "execution_count": 163,
     "metadata": {},
     "output_type": "execute_result"
    }
   ],
   "source": [
    "test_data.shape"
   ]
  },
  {
   "cell_type": "code",
   "execution_count": 207,
   "metadata": {
    "collapsed": true
   },
   "outputs": [
    {
     "name": "stdout",
     "output_type": "stream",
     "text": [
      "\n",
      "Skew in numerical features: \n",
      "\n"
     ]
    },
    {
     "data": {
      "text/html": [
       "<div>\n",
       "<style>\n",
       "    .dataframe thead tr:only-child th {\n",
       "        text-align: right;\n",
       "    }\n",
       "\n",
       "    .dataframe thead th {\n",
       "        text-align: left;\n",
       "    }\n",
       "\n",
       "    .dataframe tbody tr th {\n",
       "        vertical-align: top;\n",
       "    }\n",
       "</style>\n",
       "<table border=\"1\" class=\"dataframe\">\n",
       "  <thead>\n",
       "    <tr style=\"text-align: right;\">\n",
       "      <th></th>\n",
       "      <th>Skew</th>\n",
       "    </tr>\n",
       "  </thead>\n",
       "  <tbody>\n",
       "    <tr>\n",
       "      <th>MiscVal</th>\n",
       "      <td>24.434913</td>\n",
       "    </tr>\n",
       "    <tr>\n",
       "      <th>PoolArea</th>\n",
       "      <td>15.932532</td>\n",
       "    </tr>\n",
       "    <tr>\n",
       "      <th>LotArea</th>\n",
       "      <td>12.560986</td>\n",
       "    </tr>\n",
       "    <tr>\n",
       "      <th>3SsnPorch</th>\n",
       "      <td>10.286510</td>\n",
       "    </tr>\n",
       "    <tr>\n",
       "      <th>LowQualFinSF</th>\n",
       "      <td>8.995688</td>\n",
       "    </tr>\n",
       "    <tr>\n",
       "      <th>LandSlope</th>\n",
       "      <td>4.805032</td>\n",
       "    </tr>\n",
       "    <tr>\n",
       "      <th>KitchenAbvGr</th>\n",
       "      <td>4.480268</td>\n",
       "    </tr>\n",
       "    <tr>\n",
       "      <th>BsmtFinSF2</th>\n",
       "      <td>4.247550</td>\n",
       "    </tr>\n",
       "    <tr>\n",
       "      <th>ScreenPorch</th>\n",
       "      <td>4.114690</td>\n",
       "    </tr>\n",
       "    <tr>\n",
       "      <th>BsmtHalfBath</th>\n",
       "      <td>4.095895</td>\n",
       "    </tr>\n",
       "  </tbody>\n",
       "</table>\n",
       "</div>"
      ],
      "text/plain": [
       "                   Skew\n",
       "MiscVal       24.434913\n",
       "PoolArea      15.932532\n",
       "LotArea       12.560986\n",
       "3SsnPorch     10.286510\n",
       "LowQualFinSF   8.995688\n",
       "LandSlope      4.805032\n",
       "KitchenAbvGr   4.480268\n",
       "BsmtFinSF2     4.247550\n",
       "ScreenPorch    4.114690\n",
       "BsmtHalfBath   4.095895"
      ]
     },
     "execution_count": 207,
     "metadata": {},
     "output_type": "execute_result"
    }
   ],
   "source": [
    "#=================\n",
    "#boxcox除偏\n",
    "numerical_features = train_data.dtypes[train_data.dtypes != object].index #含有预测值 SalePrice\n",
    "\n",
    "skewed_feats = train_data[numerical_features].apply(lambda x: stats.skew(x.dropna())).sort_values(ascending=False)\n",
    "print(\"\\nSkew in numerical features: \\n\")\n",
    "skewness = pd.DataFrame({'Skew' :skewed_feats})\n",
    "skewness.head(10)"
   ]
  },
  {
   "cell_type": "code",
   "execution_count": 208,
   "metadata": {},
   "outputs": [],
   "source": [
    "from scipy import special\n",
    "\n",
    "for i in skewness[np.abs(skewness)>0.75].index:\n",
    "    train_data[i] = special.boxcox1p(train_data[i] , 0.15)\n"
   ]
  },
  {
   "cell_type": "code",
   "execution_count": 209,
   "metadata": {},
   "outputs": [],
   "source": [
    "#++++++++++++++++++++\n",
    "#++++++++++++++++++++\n",
    "test_skewness = skewness.copy()\n",
    "test_skewness = test_skewness.drop('SalePrice')\n",
    "\n",
    "for i in test_skewness[np.abs(test_skewness)>0.75].index:\n",
    "    test_data[i] = special.boxcox1p(test_data[i] , 0.15)"
   ]
  },
  {
   "cell_type": "code",
   "execution_count": 211,
   "metadata": {
    "collapsed": true
   },
   "outputs": [],
   "source": [
    "train_data = pd.get_dummies(train_data)"
   ]
  },
  {
   "cell_type": "code",
   "execution_count": 212,
   "metadata": {
    "collapsed": true
   },
   "outputs": [],
   "source": [
    "#+++++++++++++++++++\n",
    "#+++++++++++++++++++\n",
    "test_data = pd.get_dummies(test_data)"
   ]
  },
  {
   "cell_type": "code",
   "execution_count": 218,
   "metadata": {},
   "outputs": [
    {
     "name": "stdout",
     "output_type": "stream",
     "text": [
      "(1458, 220) (1459, 220)\n"
     ]
    }
   ],
   "source": [
    "print(train_data.shape , test_data.shape)"
   ]
  },
  {
   "cell_type": "code",
   "execution_count": 214,
   "metadata": {},
   "outputs": [],
   "source": [
    "comp = list(set(train_data.columns) - set(test_data.columns))\n",
    "comp.remove('SalePrice')"
   ]
  },
  {
   "cell_type": "code",
   "execution_count": 215,
   "metadata": {
    "collapsed": true
   },
   "outputs": [],
   "source": [
    "for i in comp:\n",
    "    test_data[i] = 0"
   ]
  },
  {
   "cell_type": "code",
   "execution_count": null,
   "metadata": {
    "collapsed": true
   },
   "outputs": [],
   "source": [
    "#==============\n",
    "#==============\n",
    "\n",
    "#==============\n",
    "#测试区域"
   ]
  },
  {
   "cell_type": "code",
   "execution_count": 103,
   "metadata": {
    "collapsed": true
   },
   "outputs": [],
   "source": [
    "from sklearn.linear_model import LinearRegression\n",
    "from sklearn.svm import SVR\n",
    "from sklearn.tree import DecisionTreeRegressor\n",
    "from sklearn.neighbors import KNeighborsRegressor\n",
    "from sklearn.ensemble import RandomForestRegressor\n",
    "from sklearn.linear_model import Ridge\n",
    "from sklearn.linear_model import Lasso\n",
    "\n",
    "forest = RandomForestRegressor(n_estimators=100)\n",
    "linear = LinearRegression()\n",
    "svr = SVR()\n",
    "dec_tree = DecisionTreeRegressor()\n",
    "knn = KNeighborsRegressor()\n",
    "ridge = Ridge(alpha=3)\n",
    "lasso = Lasso()\n",
    "\n",
    "classifier = {'random_forest':forest , 'LR':linear , 'SVM':svr , 'decison_tree':dec_tree , 'KNN':knn , 'ridge':ridge , 'lasso':lasso}\n",
    "#kf = KFold(train_data.shape[0] , 10 , True)"
   ]
  },
  {
   "cell_type": "code",
   "execution_count": 104,
   "metadata": {
    "collapsed": true
   },
   "outputs": [],
   "source": [
    "def rmse(model , data , label):\n",
    "    #cv=5 分为5folds\n",
    "    #在这里会对模型进行训练 \n",
    "    return np.sqrt(-cross_val_score(model, data, label, scoring=\"neg_mean_squared_error\", cv = 10))"
   ]
  },
  {
   "cell_type": "code",
   "execution_count": 223,
   "metadata": {
    "collapsed": true
   },
   "outputs": [],
   "source": [
    "vali_index = list(train_data.columns)\n",
    "vali_index.remove('SalePrice')"
   ]
  },
  {
   "cell_type": "code",
   "execution_count": 224,
   "metadata": {},
   "outputs": [
    {
     "name": "stdout",
     "output_type": "stream",
     "text": [
      "random_forest 0.015517610079411725\n",
      "LR 18593351.040031657\n",
      "SVM 0.03478950954698343\n",
      "decison_tree 0.022448461849106812\n",
      "KNN 0.026694002298243653\n",
      "ridge 0.013007238361774694\n",
      "lasso 0.04498399289592943\n",
      "\n",
      "best: ridge 0.013007238361774694\n"
     ]
    }
   ],
   "source": [
    "best_model = _\n",
    "smallest_rmse = 1.0\n",
    "for model_name , model in classifier.items():\n",
    "    result = np.average(rmse(model , train_data[vali_index] , train_data.SalePrice))\n",
    "    if result<smallest_rmse:\n",
    "        smallest_rmse = result\n",
    "        best_model = model_name\n",
    "        \n",
    "    print(model_name , result)\n",
    "\n",
    "print('\\nbest:',best_model , smallest_rmse)\n",
    "#真大"
   ]
  },
  {
   "cell_type": "code",
   "execution_count": 687,
   "metadata": {
    "collapsed": true
   },
   "outputs": [],
   "source": [
    "from sklearn.model_selection import GridSearchCV\n",
    "\n",
    "def grid_search_scoring(model , data , label):\n",
    "    return np.average(rmse(model , data , label))"
   ]
  },
  {
   "cell_type": "code",
   "execution_count": 688,
   "metadata": {
    "collapsed": true
   },
   "outputs": [],
   "source": [
    "param_grid={'alpha':[0.5 , 1.0 , 1.5 , 2.0 , 2.5 , 3.0]}\n",
    "kfold = KFold(train_data.shape[0] , 10 , True)\n",
    "grid = GridSearchCV(estimator=ridge , param_grid=param_grid , scoring=grid_search_scoring , cv=kfold)"
   ]
  },
  {
   "cell_type": "code",
   "execution_count": 689,
   "metadata": {},
   "outputs": [
    {
     "data": {
      "text/plain": [
       "GridSearchCV(cv=sklearn.cross_validation.KFold(n=1458, n_folds=10, shuffle=True, random_state=None),\n",
       "       error_score='raise',\n",
       "       estimator=Ridge(alpha=3, copy_X=True, fit_intercept=True, max_iter=None,\n",
       "   normalize=False, random_state=None, solver='auto', tol=0.001),\n",
       "       fit_params={}, iid=True, n_jobs=1,\n",
       "       param_grid={'alpha': [0.5, 1.0, 1.5, 2.0, 2.5, 3.0]},\n",
       "       pre_dispatch='2*n_jobs', refit=True, return_train_score=True,\n",
       "       scoring=<function grid_search_scoring at 0x00000239A7E94158>,\n",
       "       verbose=0)"
      ]
     },
     "execution_count": 689,
     "metadata": {},
     "output_type": "execute_result"
    }
   ],
   "source": [
    "grid.fit(train_data[vali_index] , train_data.SalePrice)"
   ]
  },
  {
   "cell_type": "code",
   "execution_count": 691,
   "metadata": {},
   "outputs": [
    {
     "data": {
      "text/plain": [
       "0.189017025638297"
      ]
     },
     "execution_count": 691,
     "metadata": {},
     "output_type": "execute_result"
    }
   ],
   "source": [
    "grid.best_score_"
   ]
  },
  {
   "cell_type": "code",
   "execution_count": 225,
   "metadata": {},
   "outputs": [
    {
     "data": {
      "text/plain": [
       "Ridge(alpha=3, copy_X=True, fit_intercept=True, max_iter=None,\n",
       "   normalize=False, random_state=None, solver='auto', tol=0.001)"
      ]
     },
     "execution_count": 225,
     "metadata": {},
     "output_type": "execute_result"
    }
   ],
   "source": [
    "#================\n",
    "#================\n",
    "#投入使用\n",
    "ridge.fit(train_data[vali_index] , train_data.SalePrice)"
   ]
  },
  {
   "cell_type": "code",
   "execution_count": 232,
   "metadata": {},
   "outputs": [],
   "source": [
    "#进行预测\n",
    "#生成结果\n",
    "result = ridge.predict(test_data[vali_index])\n",
    "result = np.exp(result)\n",
    "result_csv = pd.DataFrame({'Id':test_id , 'SalePrice':np.exp(result)})\n",
    "result_csv.to_csv('submit2.csv' , index=False)"
   ]
  },
  {
   "cell_type": "code",
   "execution_count": 230,
   "metadata": {},
   "outputs": [],
   "source": [
    "result = np.exp(result)"
   ]
  },
  {
   "cell_type": "code",
   "execution_count": 231,
   "metadata": {},
   "outputs": [
    {
     "data": {
      "text/plain": [
       "array([22.06242109, 22.70301388, 23.10653168, ..., 22.99333764,\n",
       "       21.95771734, 23.59991223])"
      ]
     },
     "execution_count": 231,
     "metadata": {},
     "output_type": "execute_result"
    }
   ],
   "source": [
    "result"
   ]
  },
  {
   "cell_type": "code",
   "execution_count": null,
   "metadata": {
    "collapsed": true
   },
   "outputs": [],
   "source": []
  }
 ],
 "metadata": {
  "kernelspec": {
   "display_name": "Python 3",
   "language": "python",
   "name": "python3"
  },
  "language_info": {
   "codemirror_mode": {
    "name": "ipython",
    "version": 3
   },
   "file_extension": ".py",
   "mimetype": "text/x-python",
   "name": "python",
   "nbconvert_exporter": "python",
   "pygments_lexer": "ipython3",
   "version": "3.6.1"
  }
 },
 "nbformat": 4,
 "nbformat_minor": 2
}
