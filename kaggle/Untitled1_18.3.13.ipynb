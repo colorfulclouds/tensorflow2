{
 "cells": [
  {
   "cell_type": "code",
   "execution_count": 1,
   "metadata": {},
   "outputs": [
    {
     "name": "stderr",
     "output_type": "stream",
     "text": [
      "I:\\Anaconda3\\lib\\site-packages\\sklearn\\cross_validation.py:44: DeprecationWarning: This module was deprecated in version 0.18 in favor of the model_selection module into which all the refactored classes and functions are moved. Also note that the interface of the new CV iterators are different from that of this module. This module will be removed in 0.20.\n",
      "  \"This module will be removed in 0.20.\", DeprecationWarning)\n"
     ]
    }
   ],
   "source": [
    "import pandas as pd\n",
    "import numpy as np\n",
    "\n",
    "import seaborn as sns\n",
    "\n",
    "import matplotlib.pyplot as plt\n",
    "\n",
    "from scipy import stats\n",
    "\n",
    "from sklearn.model_selection import cross_val_score\n",
    "from sklearn.cross_validation import KFold\n",
    "\n",
    "from sklearn.preprocessing import StandardScaler\n",
    "\n",
    "from scipy import stats\n",
    "\n",
    "%matplotlib inline"
   ]
  },
  {
   "cell_type": "code",
   "execution_count": 332,
   "metadata": {},
   "outputs": [],
   "source": [
    "train_data = pd.read_csv('house_price/train.csv')\n",
    "train_data = train_data.drop(['Id'] , axis = 1)"
   ]
  },
  {
   "cell_type": "code",
   "execution_count": 333,
   "metadata": {
    "collapsed": true
   },
   "outputs": [],
   "source": [
    "#++++++++++++++++++\n",
    "#++++++++++++++++++\n",
    "test_data = pd.read_csv('house_price/test.csv')\n",
    "test_id = test_data.Id\n",
    "test_data = test_data.drop('Id' , axis = 1)"
   ]
  },
  {
   "cell_type": "code",
   "execution_count": 334,
   "metadata": {},
   "outputs": [],
   "source": [
    "train_data.loc[train_data.GrLivArea>4500,'GrLivArea'].index #找离群点\n",
    "train_data = train_data.drop([523 , 1298]) #上面已经把1298删除了\n",
    "#注意删除前面的离群值后 后面的样本序号会变"
   ]
  },
  {
   "cell_type": "code",
   "execution_count": 335,
   "metadata": {
    "collapsed": true
   },
   "outputs": [],
   "source": [
    "#对saleprice进行除偏\n",
    "train_data.SalePrice = train_data.SalePrice.apply(np.log1p)"
   ]
  },
  {
   "cell_type": "code",
   "execution_count": 336,
   "metadata": {
    "collapsed": true
   },
   "outputs": [],
   "source": [
    "train_label = train_data.SalePrice\n",
    "train_data = train_data.drop('SalePrice' , axis =1)"
   ]
  },
  {
   "cell_type": "code",
   "execution_count": 337,
   "metadata": {
    "scrolled": true
   },
   "outputs": [],
   "source": [
    "new_data = pd.concat((train_data , test_data))\n",
    "new_data = new_data.reset_index(drop=True) #drop参数的意思是将index排列正确\n",
    "#new_data = new_data.drop('SalePrice' , axis = 1)"
   ]
  },
  {
   "cell_type": "code",
   "execution_count": 338,
   "metadata": {
    "collapsed": true
   },
   "outputs": [],
   "source": [
    "new_data.Alley = new_data.Alley.fillna('None')#\n",
    "new_data.MasVnrType = new_data.MasVnrType.fillna('None')#\n",
    "\n",
    "new_data.BsmtQual = new_data.BsmtQual.fillna('None')#\n",
    "new_data.BsmtCond = new_data.BsmtCond.fillna('None')#\n",
    "new_data.BsmtExposure = new_data.BsmtExposure.fillna('None')#\n",
    "new_data.BsmtFinType1 = new_data.BsmtFinType1.fillna('None')#\n",
    "new_data.BsmtFinType2 = new_data.BsmtFinType2.fillna('None')#\n",
    "\n",
    "new_data.Electrical = new_data.Electrical.fillna(new_data.Electrical.value_counts().index[0])\n",
    "new_data.FireplaceQu = new_data.FireplaceQu.fillna('None')#\n",
    "new_data.GarageType = new_data.GarageType.fillna('None')#\n",
    "new_data.GarageFinish = new_data.GarageFinish.fillna('None')#\n",
    "new_data.GarageQual = new_data.GarageQual.fillna('None')#\n",
    "new_data.GarageCond = new_data.GarageCond.fillna('None')#\n",
    "new_data.PoolQC = new_data.PoolQC.fillna('None')#\n",
    "new_data.Fence = new_data.Fence.fillna('None')#\n",
    "new_data.MiscFeature = new_data.MiscFeature.fillna('None')#\n",
    "\n",
    "new_data.LotFrontage = new_data.groupby('Neighborhood')['LotFrontage'].transform(lambda x: x.fillna(x.median()))#\n",
    "new_data.MasVnrArea = new_data.MasVnrArea.fillna(0)#\n",
    "new_data.GarageYrBlt = new_data.GarageYrBlt.fillna(0)\n",
    "\n",
    "new_data.GarageYrBlt = new_data.GarageYrBlt.fillna(0)#\n",
    "new_data.GarageArea = new_data.GarageArea.fillna(0)#\n",
    "new_data.GarageCars = new_data.GarageCars.fillna(0)#\n",
    "\n",
    "\n",
    "for col in ('BsmtFinSF1', 'BsmtFinSF2', 'BsmtUnfSF','TotalBsmtSF', 'BsmtFullBath', 'BsmtHalfBath'):\n",
    "    new_data[col] = new_data[col].fillna(0)\n",
    "\n",
    "new_data.MSZoning = new_data.MSZoning.fillna(new_data.MSZoning.value_counts().index[0])\n",
    "\n",
    "\n",
    "new_data = new_data.drop('Utilities' , axis=1)\n",
    "new_data.Functional = new_data.Functional.fillna('Typ')\n",
    "\n",
    "new_data.Electrical = new_data.Electrical.fillna(new_data.Electrical.value_counts().index[0])\n",
    "new_data.KitchenQual = new_data.KitchenQual.fillna(new_data.KitchenQual.value_counts().index[0])\n",
    "\n",
    "new_data.Exterior1st = new_data.Exterior1st.fillna(new_data.Exterior1st.value_counts().index[0])\n",
    "new_data.Exterior2nd = new_data.Exterior2nd.fillna(new_data.Exterior2nd.value_counts().index[0])\n",
    "\n",
    "new_data.SaleType = new_data.SaleType.fillna(new_data.SaleType.value_counts().index[0])\n",
    "\n",
    "new_data.MSSubClass = new_data.MSSubClass.fillna('None')\n",
    "\n",
    "#继续eda\n",
    "#将数字变为str类型 为转换为categorical 类型做准备\n",
    "new_data.MSSubClass = new_data.MSSubClass.apply(str)\n",
    "new_data.OverallCond = new_data.OverallCond.astype(str)\n",
    "\n",
    "new_data.YrSold = new_data.YrSold.astype(str)\n",
    "new_data.MoSold = new_data.MoSold.astype(str)"
   ]
  },
  {
   "cell_type": "code",
   "execution_count": 249,
   "metadata": {
    "collapsed": true
   },
   "outputs": [],
   "source": []
  },
  {
   "cell_type": "code",
   "execution_count": 339,
   "metadata": {
    "collapsed": true
   },
   "outputs": [],
   "source": [
    "from sklearn.preprocessing import LabelEncoder\n",
    "cols = ('FireplaceQu', 'BsmtQual', 'BsmtCond', 'GarageQual', 'GarageCond', \n",
    "        'ExterQual', 'ExterCond','HeatingQC', 'PoolQC', 'KitchenQual', 'BsmtFinType1', \n",
    "        'BsmtFinType2', 'Functional', 'Fence', 'BsmtExposure', 'GarageFinish', 'LandSlope',\n",
    "        'LotShape', 'PavedDrive', 'Street', 'Alley', 'CentralAir', 'MSSubClass', 'OverallCond', \n",
    "        'YrSold', 'MoSold')\n",
    "\n",
    "for i in cols:\n",
    "    lbl = LabelEncoder() \n",
    "    lbl.fit(list(new_data[i].values)) \n",
    "    new_data[i] = lbl.transform(list(new_data[i].values))\n",
    "\n"
   ]
  },
  {
   "cell_type": "code",
   "execution_count": 340,
   "metadata": {
    "collapsed": true
   },
   "outputs": [],
   "source": [
    "new_data['TotalSF'] = new_data['TotalBsmtSF'] + new_data['1stFlrSF'] + new_data['2ndFlrSF']"
   ]
  },
  {
   "cell_type": "code",
   "execution_count": 341,
   "metadata": {},
   "outputs": [
    {
     "name": "stdout",
     "output_type": "stream",
     "text": [
      "\n",
      "Skew in numerical features: \n",
      "\n"
     ]
    },
    {
     "data": {
      "text/html": [
       "<div>\n",
       "<style>\n",
       "    .dataframe thead tr:only-child th {\n",
       "        text-align: right;\n",
       "    }\n",
       "\n",
       "    .dataframe thead th {\n",
       "        text-align: left;\n",
       "    }\n",
       "\n",
       "    .dataframe tbody tr th {\n",
       "        vertical-align: top;\n",
       "    }\n",
       "</style>\n",
       "<table border=\"1\" class=\"dataframe\">\n",
       "  <thead>\n",
       "    <tr style=\"text-align: right;\">\n",
       "      <th></th>\n",
       "      <th>Skew</th>\n",
       "    </tr>\n",
       "  </thead>\n",
       "  <tbody>\n",
       "    <tr>\n",
       "      <th>MiscVal</th>\n",
       "      <td>21.939672</td>\n",
       "    </tr>\n",
       "    <tr>\n",
       "      <th>PoolArea</th>\n",
       "      <td>17.688664</td>\n",
       "    </tr>\n",
       "    <tr>\n",
       "      <th>LotArea</th>\n",
       "      <td>13.109495</td>\n",
       "    </tr>\n",
       "    <tr>\n",
       "      <th>LowQualFinSF</th>\n",
       "      <td>12.084539</td>\n",
       "    </tr>\n",
       "    <tr>\n",
       "      <th>3SsnPorch</th>\n",
       "      <td>11.372080</td>\n",
       "    </tr>\n",
       "    <tr>\n",
       "      <th>LandSlope</th>\n",
       "      <td>4.973254</td>\n",
       "    </tr>\n",
       "    <tr>\n",
       "      <th>KitchenAbvGr</th>\n",
       "      <td>4.300550</td>\n",
       "    </tr>\n",
       "    <tr>\n",
       "      <th>BsmtFinSF2</th>\n",
       "      <td>4.144503</td>\n",
       "    </tr>\n",
       "    <tr>\n",
       "      <th>EnclosedPorch</th>\n",
       "      <td>4.002344</td>\n",
       "    </tr>\n",
       "    <tr>\n",
       "      <th>ScreenPorch</th>\n",
       "      <td>3.945101</td>\n",
       "    </tr>\n",
       "  </tbody>\n",
       "</table>\n",
       "</div>"
      ],
      "text/plain": [
       "                    Skew\n",
       "MiscVal        21.939672\n",
       "PoolArea       17.688664\n",
       "LotArea        13.109495\n",
       "LowQualFinSF   12.084539\n",
       "3SsnPorch      11.372080\n",
       "LandSlope       4.973254\n",
       "KitchenAbvGr    4.300550\n",
       "BsmtFinSF2      4.144503\n",
       "EnclosedPorch   4.002344\n",
       "ScreenPorch     3.945101"
      ]
     },
     "execution_count": 341,
     "metadata": {},
     "output_type": "execute_result"
    }
   ],
   "source": [
    "#=================\n",
    "#boxcox除偏\n",
    "numerical_features = new_data.dtypes[new_data.dtypes != object].index #含有预测值 SalePrice\n",
    "\n",
    "skewed_feats = new_data[numerical_features].apply(lambda x: stats.skew(x.dropna())).sort_values(ascending=False)\n",
    "print(\"\\nSkew in numerical features: \\n\")\n",
    "skewness = pd.DataFrame({'Skew' :skewed_feats})\n",
    "skewness.head(10)"
   ]
  },
  {
   "cell_type": "code",
   "execution_count": 342,
   "metadata": {},
   "outputs": [],
   "source": [
    "from scipy import special\n",
    "\n",
    "for i in skewness[np.abs(skewness)>0.75].index:\n",
    "    new_data[i] = special.boxcox1p(new_data[i] , 0.15)\n"
   ]
  },
  {
   "cell_type": "code",
   "execution_count": 343,
   "metadata": {
    "collapsed": true
   },
   "outputs": [],
   "source": [
    "new_data = pd.get_dummies(new_data)"
   ]
  },
  {
   "cell_type": "code",
   "execution_count": null,
   "metadata": {
    "collapsed": true
   },
   "outputs": [],
   "source": []
  },
  {
   "cell_type": "code",
   "execution_count": 344,
   "metadata": {},
   "outputs": [
    {
     "data": {
      "text/plain": [
       "(2917, 220)"
      ]
     },
     "execution_count": 344,
     "metadata": {},
     "output_type": "execute_result"
    }
   ],
   "source": [
    "new_data.shape"
   ]
  },
  {
   "cell_type": "code",
   "execution_count": null,
   "metadata": {
    "collapsed": true
   },
   "outputs": [],
   "source": [
    "#==============\n",
    "#==============\n",
    "\n",
    "#==============\n",
    "#测试区域"
   ]
  },
  {
   "cell_type": "code",
   "execution_count": 345,
   "metadata": {
    "collapsed": true
   },
   "outputs": [],
   "source": [
    "from sklearn.linear_model import LinearRegression\n",
    "from sklearn.svm import SVR\n",
    "from sklearn.tree import DecisionTreeRegressor\n",
    "from sklearn.neighbors import KNeighborsRegressor\n",
    "from sklearn.ensemble import RandomForestRegressor\n",
    "from sklearn.linear_model import Ridge\n",
    "from sklearn.linear_model import Lasso\n",
    "\n",
    "forest = RandomForestRegressor(n_estimators=100)\n",
    "linear = LinearRegression()\n",
    "svr = SVR()\n",
    "dec_tree = DecisionTreeRegressor()\n",
    "knn = KNeighborsRegressor()\n",
    "ridge = Ridge(alpha=3)\n",
    "lasso = Lasso()\n",
    "\n",
    "classifier = {'random_forest':forest , 'LR':linear , 'SVM':svr , 'decison_tree':dec_tree , 'KNN':knn , 'ridge':ridge , 'lasso':lasso}\n",
    "#kf = KFold(train_data.shape[0] , 10 , True)"
   ]
  },
  {
   "cell_type": "code",
   "execution_count": 346,
   "metadata": {
    "collapsed": true
   },
   "outputs": [],
   "source": [
    "def rmse(model , data , label):\n",
    "    #cv=5 分为5folds\n",
    "    #在这里会对模型进行训练 \n",
    "    return np.sqrt(-cross_val_score(model, data, label, scoring=\"neg_mean_squared_error\", cv = 10))"
   ]
  },
  {
   "cell_type": "code",
   "execution_count": 347,
   "metadata": {},
   "outputs": [
    {
     "name": "stdout",
     "output_type": "stream",
     "text": [
      "random_forest 0.13528591269370702\n",
      "LR 102789399.54489455\n",
      "SVM 0.14804386972097486\n",
      "decison_tree 0.20169016220159786\n",
      "KNN 0.23192830567461917\n",
      "ridge 0.11350319831128668\n",
      "lasso 0.39884066356618436\n",
      "\n",
      "best: ridge 0.11350319831128668\n"
     ]
    }
   ],
   "source": [
    "best_model = _\n",
    "smallest_rmse = 1.0\n",
    "for model_name , model in classifier.items():\n",
    "    result = np.average(rmse(model , new_data[:len(train_data)] , train_label))\n",
    "    if result<smallest_rmse:\n",
    "        smallest_rmse = result\n",
    "        best_model = model_name\n",
    "        \n",
    "    print(model_name , result)\n",
    "\n",
    "print('\\nbest:',best_model , smallest_rmse)\n",
    "#真大"
   ]
  },
  {
   "cell_type": "code",
   "execution_count": 320,
   "metadata": {},
   "outputs": [
    {
     "data": {
      "text/plain": [
       "Ridge(alpha=3, copy_X=True, fit_intercept=True, max_iter=None,\n",
       "   normalize=False, random_state=None, solver='auto', tol=0.001)"
      ]
     },
     "execution_count": 320,
     "metadata": {},
     "output_type": "execute_result"
    }
   ],
   "source": [
    "#================\n",
    "#================\n",
    "#投入使用\n",
    "ridge.fit(new_data[:len(train_data)] , train_label)"
   ]
  },
  {
   "cell_type": "code",
   "execution_count": 420,
   "metadata": {},
   "outputs": [],
   "source": [
    "#进行预测\n",
    "#生成结果\n",
    "#result = ridge.predict(new_data[len(train_data):])\n",
    "result = np.exp(result)\n",
    "result_csv = pd.DataFrame({'Id':test_id , 'SalePrice':result})\n",
    "result_csv.to_csv('submit2.csv' , index=False)"
   ]
  },
  {
   "cell_type": "code",
   "execution_count": null,
   "metadata": {
    "collapsed": true
   },
   "outputs": [],
   "source": []
  },
  {
   "cell_type": "code",
   "execution_count": null,
   "metadata": {
    "collapsed": true
   },
   "outputs": [],
   "source": []
  },
  {
   "cell_type": "code",
   "execution_count": null,
   "metadata": {
    "collapsed": true
   },
   "outputs": [],
   "source": []
  },
  {
   "cell_type": "code",
   "execution_count": 349,
   "metadata": {
    "collapsed": true
   },
   "outputs": [],
   "source": [
    "#kernel\n",
    "from sklearn.linear_model import ElasticNet , Lasso  , BayesianRidge , LassoLarsIC\n",
    "from sklearn.ensemble import RandomForestRegressor , GradientBoostingRegressor\n",
    "from sklearn.kernel_ridge import KernelRidge\n",
    "from sklearn.pipeline import make_pipeline\n",
    "from sklearn.preprocessing import RobustScaler\n",
    "from sklearn.base import BaseEstimator , TransformerMixin , RegressorMixin , clone\n",
    "from sklearn.model_selection import KFold , cross_val_score , train_test_split\n",
    "from sklearn.metrics import mean_squared_error\n"
   ]
  },
  {
   "cell_type": "code",
   "execution_count": 353,
   "metadata": {
    "collapsed": true
   },
   "outputs": [],
   "source": [
    "n_folds = 5\n",
    "\n",
    "def rmsle_cv(model):\n",
    "    kf = KFold(n_folds , shuffle=True , random_state=42).get_n_splits(train_data.values)\n",
    "    rmse = np.sqrt(-cross_val_score(model  , new_data[:len(train_data)], train_label,\n",
    "                                    scoring = 'neg_mean_squared_error' , cv=kf))\n",
    "    \n",
    "    return rmse"
   ]
  },
  {
   "cell_type": "code",
   "execution_count": 351,
   "metadata": {
    "collapsed": true
   },
   "outputs": [],
   "source": [
    "lasso = make_pipeline(RobustScaler()  , Lasso(alpha=0.0005 ,random_state=1))\n",
    "ENet = make_pipeline(RobustScaler() , ElasticNet(alpha=0.0005 , l1_ratio=0.9,random_state=3))\n",
    "KRR = KernelRidge(alpha=0.6 , kernel='polynomial' , degree=2 , coef0=2.5)\n",
    "GBoost = GradientBoostingRegressor(n_estimators=3000,learning_rate=0.05,\n",
    "                                  max_depth = 4,max_features='sqrt',\n",
    "                                  min_samples_leaf=15,min_samples_split=10,\n",
    "                                  loss='huber',random_state=5)"
   ]
  },
  {
   "cell_type": "code",
   "execution_count": 356,
   "metadata": {},
   "outputs": [
    {
     "data": {
      "text/plain": [
       "0.11154335005030051"
      ]
     },
     "execution_count": 356,
     "metadata": {},
     "output_type": "execute_result"
    }
   ],
   "source": [
    "rmsle_cv(lasso).mean()"
   ]
  },
  {
   "cell_type": "code",
   "execution_count": 358,
   "metadata": {},
   "outputs": [
    {
     "data": {
      "text/plain": [
       "0.11156147457898787"
      ]
     },
     "execution_count": 358,
     "metadata": {},
     "output_type": "execute_result"
    }
   ],
   "source": [
    "rmsle_cv(ENet).mean()"
   ]
  },
  {
   "cell_type": "code",
   "execution_count": 359,
   "metadata": {},
   "outputs": [
    {
     "data": {
      "text/plain": [
       "0.11525466421169481"
      ]
     },
     "execution_count": 359,
     "metadata": {},
     "output_type": "execute_result"
    }
   ],
   "source": [
    "rmsle_cv(KRR).mean()"
   ]
  },
  {
   "cell_type": "code",
   "execution_count": 357,
   "metadata": {},
   "outputs": [
    {
     "data": {
      "text/plain": [
       "0.11672026493514656"
      ]
     },
     "execution_count": 357,
     "metadata": {},
     "output_type": "execute_result"
    }
   ],
   "source": [
    "rmsle_cv(GBoost).mean()"
   ]
  },
  {
   "cell_type": "code",
   "execution_count": 365,
   "metadata": {
    "collapsed": true
   },
   "outputs": [],
   "source": [
    "class averingmodels(BaseEstimator , RegressorMixin , TransformerMixin):\n",
    "    def __init__(self , models):\n",
    "        self.models = models\n",
    "    \n",
    "    def fit(self , X , y):\n",
    "        self.models_ = [clone(x) for x in self.models]\n",
    "        \n",
    "        for model in self.models_:\n",
    "            model.fit(X , y)\n",
    "        \n",
    "        return self\n",
    "    \n",
    "    def predict(self , X):\n",
    "        predictions = np.column_stack([model.predict(X) for model in self.models_])\n",
    "        \n",
    "        return np.mean(predictions , axis = 1)\n",
    "    \n",
    "\n"
   ]
  },
  {
   "cell_type": "code",
   "execution_count": 367,
   "metadata": {},
   "outputs": [
    {
     "data": {
      "text/plain": [
       "0.10866239908682959"
      ]
     },
     "execution_count": 367,
     "metadata": {},
     "output_type": "execute_result"
    }
   ],
   "source": [
    "stacking_average_mode = averingmodels(models=(lasso , ENet , KRR , GBoost))\n",
    "rmsle_cv(stacking_average_mode).mean()"
   ]
  },
  {
   "cell_type": "code",
   "execution_count": 368,
   "metadata": {},
   "outputs": [
    {
     "data": {
      "text/plain": [
       "averingmodels(models=(Pipeline(steps=[('robustscaler', RobustScaler(copy=True, quantile_range=(25.0, 75.0), with_centering=True,\n",
       "       with_scaling=True)), ('lasso', Lasso(alpha=0.0005, copy_X=True, fit_intercept=True, max_iter=1000,\n",
       "   normalize=False, positive=False, precompute=False, random_state=1,\n",
       "   select...tors=3000, presort='auto', random_state=5,\n",
       "             subsample=1.0, verbose=0, warm_start=False)))"
      ]
     },
     "execution_count": 368,
     "metadata": {},
     "output_type": "execute_result"
    }
   ],
   "source": [
    "stacking_average_mode.fit(new_data[:len(train_data)] , train_label)"
   ]
  },
  {
   "cell_type": "code",
   "execution_count": 369,
   "metadata": {
    "collapsed": true
   },
   "outputs": [],
   "source": [
    "result = stacking_average_mode.predict(new_data[len(train_data):])"
   ]
  },
  {
   "cell_type": "code",
   "execution_count": 414,
   "metadata": {
    "collapsed": true
   },
   "outputs": [],
   "source": [
    "class stackingaveragemodels(BaseEstimator , RegressorMixin , TransformerMixin):\n",
    "    def __init__(self , base_models , meta_model , n_folds=5):\n",
    "        self.base_models = base_models\n",
    "        self.meta_model = meta_model\n",
    "        self.n_folds = n_folds\n",
    "    \n",
    "    #对base model和meta model都需要进行训练\n",
    "    def fit(self , X , y):\n",
    "        self.base_models_ = [list() for x in self.base_models]\n",
    "        self.meta_model_ = clone(self.meta_model)\n",
    "        kfold = KFold(n_splits=self.n_folds , shuffle=True , random_state=156)\n",
    "        \n",
    "        #预测值只是一个实数标量\n",
    "        out_of_fold_predictions = np.zeros((X.shape[0] , len(self.base_models)))\n",
    "        for i , model in enumerate(self.base_models):\n",
    "            for train_index , holdout_index in kfold.split(X,y):\n",
    "                instance = clone(model) #clone不影响原对象的任何属性\n",
    "                self.base_models_[i].append(instance)\n",
    "                instance.fit(X.iloc[train_index] , y.iloc[train_index])\n",
    "                y_pred = instance.predict(X.iloc[holdout_index])\n",
    "                out_of_fold_predictions[holdout_index , i] = y_pred\n",
    "            \n",
    "        self.meta_model_.fit(out_of_fold_predictions , y)\n",
    "        return self\n",
    "    \n",
    "    def predict(self , X):\n",
    "        meta_features = np.column_stack([\n",
    "            np.column_stack([model.predict(X) for model in base_models]).mean(axis=1) \n",
    "            for base_models in self.base_models_])\n",
    "        return self.meta_model_.predict(meta_features)\n",
    "    \n",
    "    \n"
   ]
  },
  {
   "cell_type": "code",
   "execution_count": 415,
   "metadata": {
    "collapsed": true
   },
   "outputs": [],
   "source": [
    "stacking_average_mode_2 = stackingaveragemodels(base_models=(ENet , GBoost , KRR) , meta_model=lasso)"
   ]
  },
  {
   "cell_type": "code",
   "execution_count": 416,
   "metadata": {},
   "outputs": [
    {
     "data": {
      "text/plain": [
       "array([0.1011876 , 0.11281233, 0.11986302, 0.10087643, 0.10598417])"
      ]
     },
     "execution_count": 416,
     "metadata": {},
     "output_type": "execute_result"
    }
   ],
   "source": [
    "rmsle_cv(stacking_average_mode_2).mean() #mean=0.10814471"
   ]
  },
  {
   "cell_type": "code",
   "execution_count": 410,
   "metadata": {},
   "outputs": [
    {
     "data": {
      "text/html": [
       "<div>\n",
       "<style>\n",
       "    .dataframe thead tr:only-child th {\n",
       "        text-align: right;\n",
       "    }\n",
       "\n",
       "    .dataframe thead th {\n",
       "        text-align: left;\n",
       "    }\n",
       "\n",
       "    .dataframe tbody tr th {\n",
       "        vertical-align: top;\n",
       "    }\n",
       "</style>\n",
       "<table border=\"1\" class=\"dataframe\">\n",
       "  <thead>\n",
       "    <tr style=\"text-align: right;\">\n",
       "      <th></th>\n",
       "      <th>MSSubClass</th>\n",
       "      <th>LotFrontage</th>\n",
       "      <th>LotArea</th>\n",
       "      <th>Street</th>\n",
       "      <th>Alley</th>\n",
       "      <th>LotShape</th>\n",
       "      <th>LandSlope</th>\n",
       "      <th>OverallQual</th>\n",
       "      <th>OverallCond</th>\n",
       "      <th>YearBuilt</th>\n",
       "      <th>...</th>\n",
       "      <th>SaleType_ConLw</th>\n",
       "      <th>SaleType_New</th>\n",
       "      <th>SaleType_Oth</th>\n",
       "      <th>SaleType_WD</th>\n",
       "      <th>SaleCondition_Abnorml</th>\n",
       "      <th>SaleCondition_AdjLand</th>\n",
       "      <th>SaleCondition_Alloca</th>\n",
       "      <th>SaleCondition_Family</th>\n",
       "      <th>SaleCondition_Normal</th>\n",
       "      <th>SaleCondition_Partial</th>\n",
       "    </tr>\n",
       "  </thead>\n",
       "  <tbody>\n",
       "    <tr>\n",
       "      <th>0</th>\n",
       "      <td>2.885846</td>\n",
       "      <td>5.831328</td>\n",
       "      <td>19.212182</td>\n",
       "      <td>0.730463</td>\n",
       "      <td>0.730463</td>\n",
       "      <td>1.540963</td>\n",
       "      <td>0.0</td>\n",
       "      <td>2.440268</td>\n",
       "      <td>1.820334</td>\n",
       "      <td>14.187527</td>\n",
       "      <td>...</td>\n",
       "      <td>0</td>\n",
       "      <td>0</td>\n",
       "      <td>0</td>\n",
       "      <td>1</td>\n",
       "      <td>0</td>\n",
       "      <td>0</td>\n",
       "      <td>0</td>\n",
       "      <td>0</td>\n",
       "      <td>1</td>\n",
       "      <td>0</td>\n",
       "    </tr>\n",
       "    <tr>\n",
       "      <th>2</th>\n",
       "      <td>2.885846</td>\n",
       "      <td>5.914940</td>\n",
       "      <td>20.347241</td>\n",
       "      <td>0.730463</td>\n",
       "      <td>0.730463</td>\n",
       "      <td>0.000000</td>\n",
       "      <td>0.0</td>\n",
       "      <td>2.440268</td>\n",
       "      <td>1.820334</td>\n",
       "      <td>14.184404</td>\n",
       "      <td>...</td>\n",
       "      <td>0</td>\n",
       "      <td>0</td>\n",
       "      <td>0</td>\n",
       "      <td>1</td>\n",
       "      <td>0</td>\n",
       "      <td>0</td>\n",
       "      <td>0</td>\n",
       "      <td>0</td>\n",
       "      <td>1</td>\n",
       "      <td>0</td>\n",
       "    </tr>\n",
       "  </tbody>\n",
       "</table>\n",
       "<p>2 rows × 220 columns</p>\n",
       "</div>"
      ],
      "text/plain": [
       "   MSSubClass  LotFrontage    LotArea    Street     Alley  LotShape  \\\n",
       "0    2.885846     5.831328  19.212182  0.730463  0.730463  1.540963   \n",
       "2    2.885846     5.914940  20.347241  0.730463  0.730463  0.000000   \n",
       "\n",
       "   LandSlope  OverallQual  OverallCond  YearBuilt          ...            \\\n",
       "0        0.0     2.440268     1.820334  14.187527          ...             \n",
       "2        0.0     2.440268     1.820334  14.184404          ...             \n",
       "\n",
       "   SaleType_ConLw  SaleType_New  SaleType_Oth  SaleType_WD  \\\n",
       "0               0             0             0            1   \n",
       "2               0             0             0            1   \n",
       "\n",
       "   SaleCondition_Abnorml  SaleCondition_AdjLand  SaleCondition_Alloca  \\\n",
       "0                      0                      0                     0   \n",
       "2                      0                      0                     0   \n",
       "\n",
       "   SaleCondition_Family  SaleCondition_Normal  SaleCondition_Partial  \n",
       "0                     0                     1                      0  \n",
       "2                     0                     1                      0  \n",
       "\n",
       "[2 rows x 220 columns]"
      ]
     },
     "execution_count": 410,
     "metadata": {},
     "output_type": "execute_result"
    }
   ],
   "source": [
    "new_data[:len(train_data)].iloc[[0,2]]"
   ]
  },
  {
   "cell_type": "code",
   "execution_count": 417,
   "metadata": {},
   "outputs": [
    {
     "data": {
      "text/plain": [
       "stackingaveragemodels(base_models=(Pipeline(steps=[('robustscaler', RobustScaler(copy=True, quantile_range=(25.0, 75.0), with_centering=True,\n",
       "       with_scaling=True)), ('elasticnet', ElasticNet(alpha=0.0005, copy_X=True, fit_intercept=True, l1_ratio=0.9,\n",
       "      max_iter=1000, normalize=False, positive=False, precompute=...nelRidge(alpha=0.6, coef0=2.5, degree=2, gamma=None, kernel='polynomial',\n",
       "      kernel_params=None)),\n",
       "           meta_model=Pipeline(steps=[('robustscaler', RobustScaler(copy=True, quantile_range=(25.0, 75.0), with_centering=True,\n",
       "       with_scaling=True)), ('lasso', Lasso(alpha=0.0005, copy_X=True, fit_intercept=True, max_iter=1000,\n",
       "   normalize=False, positive=False, precompute=False, random_state=1,\n",
       "   selection='cyclic', tol=0.0001, warm_start=False))]),\n",
       "           n_folds=5)"
      ]
     },
     "execution_count": 417,
     "metadata": {},
     "output_type": "execute_result"
    }
   ],
   "source": [
    "stacking_average_mode_2.fit(new_data[:len(train_data)] , train_label)"
   ]
  },
  {
   "cell_type": "code",
   "execution_count": 419,
   "metadata": {},
   "outputs": [],
   "source": [
    "result = stacking_average_mode_2.predict(new_data[len(train_data):])"
   ]
  },
  {
   "cell_type": "code",
   "execution_count": null,
   "metadata": {
    "collapsed": true
   },
   "outputs": [],
   "source": []
  }
 ],
 "metadata": {
  "kernelspec": {
   "display_name": "Python 3",
   "language": "python",
   "name": "python3"
  },
  "language_info": {
   "codemirror_mode": {
    "name": "ipython",
    "version": 3
   },
   "file_extension": ".py",
   "mimetype": "text/x-python",
   "name": "python",
   "nbconvert_exporter": "python",
   "pygments_lexer": "ipython3",
   "version": "3.6.1"
  }
 },
 "nbformat": 4,
 "nbformat_minor": 2
}
