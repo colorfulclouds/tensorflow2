{
 "cells": [
  {
   "cell_type": "code",
   "execution_count": null,
   "metadata": {
    "collapsed": true
   },
   "outputs": [],
   "source": [
    "#fork from https://github.com/AYLIEN/gan-intro/blob/master/gan.py#L49"
   ]
  },
  {
   "cell_type": "code",
   "execution_count": 2,
   "metadata": {
    "collapsed": true
   },
   "outputs": [],
   "source": [
    "import numpy as np\n",
    "import tensorflow as tf"
   ]
  },
  {
   "cell_type": "code",
   "execution_count": 5,
   "metadata": {
    "collapsed": false
   },
   "outputs": [],
   "source": [
    "class GeneratorDistribution(object):\n",
    "    def __init__(self , range_):\n",
    "        self.range_ = range_\n",
    "    \n",
    "    def sample(self , N):\n",
    "        return np.linspace(-self.range_ , self.range_ , N) + np.random.random(N)*0.01"
   ]
  },
  {
   "cell_type": "code",
   "execution_count": 8,
   "metadata": {
    "collapsed": false
   },
   "outputs": [],
   "source": [
    "def linear(input , output_dim , scope=None , stddev=1.0):\n",
    "    with tf.variable_scope(scope or 'linear'):\n",
    "        w = tf.get_variable(\n",
    "        'w',\n",
    "        [input.get_shape()[1] , output_dim],\n",
    "        initializer = tf.random_normal_initializer(stddev=stddev))\n",
    "    \n",
    "        b = tf.get_variable(\n",
    "        'b',\n",
    "        [output_dim],\n",
    "        initializer = tf.constant_initializer(0.0))\n",
    "        \n",
    "        return tf.matmul(input , w) + b"
   ]
  },
  {
   "cell_type": "code",
   "execution_count": 9,
   "metadata": {
    "collapsed": true
   },
   "outputs": [],
   "source": [
    "def generator(input ,h_dim):\n",
    "    h0 = tf.nn.softplus(linear(input , h_dim , 'g0'))\n",
    "    h1 = linear(h0 , 1 , 'g1')\n",
    "    \n",
    "    return h1"
   ]
  },
  {
   "cell_type": "code",
   "execution_count": 10,
   "metadata": {
    "collapsed": true
   },
   "outputs": [],
   "source": [
    "def minibatch(input , num_kernels = 5 , kernel_dim = 3):\n",
    "    x = linear(input , num_kernels*kernel_dim , scope='minibatch' , stddev=0.02)\n",
    "    activation = tf.reshape(x , (-1 , num_kernels , kernel_dim))\n",
    "    \n",
    "    diffs = tf.expand_dims(activation , 3)-tf.expand_dims(tf.transpose(activation , [1,2,0]) , 0)\n",
    "    \n",
    "    abs_diffs = tf.reduce_sum(tf.abs(diffs) , 2)\n",
    "    \n",
    "    minibatch_features = tf.reduce_sum(tf.exp(-abs_diffs) , 2)\n",
    "    \n",
    "    return tf.concat([input , minibatch_features] , 1)"
   ]
  },
  {
   "cell_type": "code",
   "execution_count": 11,
   "metadata": {
    "collapsed": true
   },
   "outputs": [],
   "source": [
    "def discriminator(input , h_dim , minibatch_layer = True):\n",
    "    h0 = tf.nn.relu(linear(input , h_dim*2 , 'd0'))\n",
    "    h1 = tf.nn.relu(linear(h0 , h_dim*2 , 'd1'))\n",
    "    \n",
    "    if minibatch_layer:\n",
    "        h2 = minibatch(h1)\n",
    "    else:\n",
    "        h2 = tf.nn.relu(linear(h1 , h_dim*2 , scope='d2'))\n",
    "    \n",
    "    h3 = tf.sigmoid(linear(h2 , 1 , scope='d3'))\n",
    "    \n",
    "    return h3"
   ]
  },
  {
   "cell_type": "code",
   "execution_count": 12,
   "metadata": {
    "collapsed": true
   },
   "outputs": [],
   "source": [
    "def optimizer(loss , var_list):\n",
    "    learning_rate = 0.001\n",
    "    step = tf.Variable(0 , trainable=False)\n",
    "    \n",
    "    optimizer = tf.train.AdamOptimizer(learning_rate).minimize(loss , global_step=step,var_list=var_list)\n",
    "    \n",
    "    return optimizer"
   ]
  },
  {
   "cell_type": "code",
   "execution_count": 13,
   "metadata": {
    "collapsed": true
   },
   "outputs": [],
   "source": [
    "def log(x):\n",
    "    return tf.log(tf.maximum(x , 1e-5))"
   ]
  },
  {
   "cell_type": "code",
   "execution_count": 14,
   "metadata": {
    "collapsed": true
   },
   "outputs": [],
   "source": [
    "class GAN(object):\n",
    "    def __init__(self , params):\n",
    "        with tf.variable_scope('G'):\n",
    "            self.z = tf.placeholder(tf.float32 , shape=(params.batch_size , 1))\n",
    "            self.G = generator(self.z , params.hidden_size)\n",
    "            \n",
    "        self.x = tf.placeholder(tf.float32 , shape = (params.batch_size , 1))\n",
    "        with tf.variable_scope('D'):\n",
    "            self.D1 = discriminator(self.x , params.hidden_size , params.minibatch)\n",
    "        \n",
    "        \n",
    "        self.loss_d = tf.reduce_mean(-log(self.D1)-log(1-self.D2))\n",
    "        self.loss_g = tf.reduce_mean(-log(self.D2))\n",
    "        \n",
    "        vars = tf.trainable_variables()\n",
    "        self.d_params = [v for v in vars if v.name.startswith('D/')]\n",
    "        self.g_params = [v for v in vars if v.name.startswith('G/')]\n",
    "        \n",
    "        self.opt_d = optimizer(self.loss_d , self.d_params)\n",
    "        self.opt_g = optimizer(self.loss_g , self.g_params)"
   ]
  },
  {
   "cell_type": "code",
   "execution_count": null,
   "metadata": {
    "collapsed": true
   },
   "outputs": [],
   "source": []
  }
 ],
 "metadata": {
  "kernelspec": {
   "display_name": "Python 3",
   "language": "python",
   "name": "python3"
  },
  "language_info": {
   "codemirror_mode": {
    "name": "ipython",
    "version": 3
   },
   "file_extension": ".py",
   "mimetype": "text/x-python",
   "name": "python",
   "nbconvert_exporter": "python",
   "pygments_lexer": "ipython3",
   "version": "3.6.0"
  }
 },
 "nbformat": 4,
 "nbformat_minor": 2
}
