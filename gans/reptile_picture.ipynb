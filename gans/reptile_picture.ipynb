{
 "cells": [
  {
   "cell_type": "code",
   "execution_count": 1,
   "metadata": {
    "collapsed": true
   },
   "outputs": [],
   "source": [
    "###GANSs from\n",
    "###https://www.leiphone.com/news/201701/yZvIqK8VbxoYejLl.html"
   ]
  },
  {
   "cell_type": "code",
   "execution_count": 1,
   "metadata": {
    "collapsed": true
   },
   "outputs": [],
   "source": [
    "import requests\n",
    "from bs4 import BeautifulSoup\n",
    "import os\n",
    "import traceback"
   ]
  },
  {
   "cell_type": "code",
   "execution_count": 2,
   "metadata": {
    "collapsed": false
   },
   "outputs": [],
   "source": [
    "def download(url , filename):\n",
    "    if os.path.exists(filename):\n",
    "        print('exist')\n",
    "        return\n",
    "    \n",
    "    try:\n",
    "        r = requests.get(url , stream=True , timeout=60)\n",
    "        r.raise_for_status()\n",
    "        \n",
    "        with open(filename , 'wb') as f:\n",
    "            for chunk in r.iter_content(chunk_size=1024):\n",
    "                if chunk:\n",
    "                    f.write(chunk)\n",
    "                    f.flush()\n",
    "        \n",
    "        return filename\n",
    "    \n",
    "    except KeyboardInterrupt:\n",
    "        if os.path.exists(filename):\n",
    "            os.remove(filename)\n",
    "        raise KeyboardInterrupt\n",
    "        \n",
    "    except Exception:\n",
    "        traceback.print_exc()\n",
    "        if os.path.exists(filename):\n",
    "            os.remove(filename)\n",
    "            "
   ]
  },
  {
   "cell_type": "code",
   "execution_count": 3,
   "metadata": {
    "collapsed": true
   },
   "outputs": [],
   "source": [
    "if os.path.exists('imgs') is False:\n",
    "    os.makedirs('imgs')"
   ]
  },
  {
   "cell_type": "code",
   "execution_count": 4,
   "metadata": {
    "collapsed": false
   },
   "outputs": [
    {
     "name": "stderr",
     "output_type": "stream",
     "text": [
      "Traceback (most recent call last):\n",
      "  File \"I:\\Anaconda3\\lib\\site-packages\\requests\\packages\\urllib3\\contrib\\pyopenssl.py\", line 417, in wrap_socket\n",
      "    cnx.do_handshake()\n",
      "  File \"I:\\Anaconda3\\lib\\site-packages\\OpenSSL\\SSL.py\", line 1426, in do_handshake\n",
      "    self._raise_ssl_error(self._ssl, result)\n",
      "  File \"I:\\Anaconda3\\lib\\site-packages\\OpenSSL\\SSL.py\", line 1149, in _raise_ssl_error\n",
      "    raise WantReadError()\n",
      "OpenSSL.SSL.WantReadError\n",
      "\n",
      "During handling of the above exception, another exception occurred:\n",
      "\n",
      "Traceback (most recent call last):\n",
      "  File \"I:\\Anaconda3\\lib\\site-packages\\requests\\packages\\urllib3\\connectionpool.py\", line 350, in _make_request\n",
      "    self._validate_conn(conn)\n",
      "  File \"I:\\Anaconda3\\lib\\site-packages\\requests\\packages\\urllib3\\connectionpool.py\", line 835, in _validate_conn\n",
      "    conn.connect()\n",
      "  File \"I:\\Anaconda3\\lib\\site-packages\\requests\\packages\\urllib3\\connection.py\", line 323, in connect\n",
      "    ssl_context=context)\n",
      "  File \"I:\\Anaconda3\\lib\\site-packages\\requests\\packages\\urllib3\\util\\ssl_.py\", line 324, in ssl_wrap_socket\n",
      "    return context.wrap_socket(sock, server_hostname=server_hostname)\n",
      "  File \"I:\\Anaconda3\\lib\\site-packages\\requests\\packages\\urllib3\\contrib\\pyopenssl.py\", line 421, in wrap_socket\n",
      "    raise timeout('select timed out')\n",
      "socket.timeout: select timed out\n",
      "\n",
      "During handling of the above exception, another exception occurred:\n",
      "\n",
      "Traceback (most recent call last):\n",
      "  File \"I:\\Anaconda3\\lib\\site-packages\\requests\\adapters.py\", line 423, in send\n",
      "    timeout=timeout\n",
      "  File \"I:\\Anaconda3\\lib\\site-packages\\requests\\packages\\urllib3\\connectionpool.py\", line 643, in urlopen\n",
      "    _stacktrace=sys.exc_info()[2])\n",
      "  File \"I:\\Anaconda3\\lib\\site-packages\\requests\\packages\\urllib3\\util\\retry.py\", line 334, in increment\n",
      "    raise six.reraise(type(error), error, _stacktrace)\n",
      "  File \"I:\\Anaconda3\\lib\\site-packages\\requests\\packages\\urllib3\\packages\\six.py\", line 686, in reraise\n",
      "    raise value\n",
      "  File \"I:\\Anaconda3\\lib\\site-packages\\requests\\packages\\urllib3\\connectionpool.py\", line 594, in urlopen\n",
      "    chunked=chunked)\n",
      "  File \"I:\\Anaconda3\\lib\\site-packages\\requests\\packages\\urllib3\\connectionpool.py\", line 353, in _make_request\n",
      "    self._raise_timeout(err=e, url=url, timeout_value=conn.timeout)\n",
      "  File \"I:\\Anaconda3\\lib\\site-packages\\requests\\packages\\urllib3\\connectionpool.py\", line 313, in _raise_timeout\n",
      "    raise ReadTimeoutError(self, url, \"Read timed out. (read timeout=%s)\" % timeout_value)\n",
      "requests.packages.urllib3.exceptions.ReadTimeoutError: HTTPSConnectionPool(host='konachan.net', port=443): Read timed out. (read timeout=60)\n",
      "\n",
      "During handling of the above exception, another exception occurred:\n",
      "\n",
      "Traceback (most recent call last):\n",
      "  File \"<ipython-input-2-862c46c3fe10>\", line 7, in download\n",
      "    r = requests.get(url , stream=True , timeout=60)\n",
      "  File \"I:\\Anaconda3\\lib\\site-packages\\requests\\api.py\", line 70, in get\n",
      "    return request('get', url, params=params, **kwargs)\n",
      "  File \"I:\\Anaconda3\\lib\\site-packages\\requests\\api.py\", line 56, in request\n",
      "    return session.request(method=method, url=url, **kwargs)\n",
      "  File \"I:\\Anaconda3\\lib\\site-packages\\requests\\sessions.py\", line 488, in request\n",
      "    resp = self.send(prep, **send_kwargs)\n",
      "  File \"I:\\Anaconda3\\lib\\site-packages\\requests\\sessions.py\", line 609, in send\n",
      "    r = adapter.send(request, **kwargs)\n",
      "  File \"I:\\Anaconda3\\lib\\site-packages\\requests\\adapters.py\", line 499, in send\n",
      "    raise ReadTimeout(e, request=request)\n",
      "requests.exceptions.ReadTimeout: HTTPSConnectionPool(host='konachan.net', port=443): Read timed out. (read timeout=60)\n"
     ]
    },
    {
     "name": "stdout",
     "output_type": "stream",
     "text": [
      "1 / 3\n",
      "2 / 3\n",
      "3 / 3\n"
     ]
    }
   ],
   "source": [
    "start = 1\n",
    "end = 3\n",
    "\n",
    "for i in range(start , end+1):\n",
    "    url = 'http://konachan.net/post?page=%d&tags=' % i\n",
    "    html = requests.get(url).text\n",
    "    soup = BeautifulSoup(html , 'html.parser')\n",
    "    \n",
    "    for img in soup.find_all('img' , class_='preview'):\n",
    "        target_url = img['src']\n",
    "        filename = os.path.join('imgs' , target_url.split('/')[-1])\n",
    "        download(target_url , filename)\n",
    "    \n",
    "    print('%d / %d' % (i , end))"
   ]
  },
  {
   "cell_type": "code",
   "execution_count": null,
   "metadata": {
    "collapsed": true
   },
   "outputs": [],
   "source": []
  }
 ],
 "metadata": {
  "kernelspec": {
   "display_name": "Python 3",
   "language": "python",
   "name": "python3"
  },
  "language_info": {
   "codemirror_mode": {
    "name": "ipython",
    "version": 3
   },
   "file_extension": ".py",
   "mimetype": "text/x-python",
   "name": "python",
   "nbconvert_exporter": "python",
   "pygments_lexer": "ipython3",
   "version": "3.6.0"
  }
 },
 "nbformat": 4,
 "nbformat_minor": 2
}
