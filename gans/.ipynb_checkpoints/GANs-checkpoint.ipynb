{
 "cells": [
  {
   "cell_type": "code",
   "execution_count": 44,
   "metadata": {},
   "outputs": [],
   "source": [
    "from keras.datasets import mnist\n",
    "\n",
    "from keras.layers import Input , Dense , Reshape , Flatten , Dropout\n",
    "from keras.layers import BatchNormalization , Activation , ZeroPadding2D\n",
    "from keras.layers.advanced_activations import LeakyReLU\n",
    "from keras.layers.convolutional import UpSampling2D , Conv2D\n",
    "\n",
    "from keras.models import Sequential , Model\n",
    "\n",
    "from keras.optimizers import Adam\n"
   ]
  },
  {
   "cell_type": "code",
   "execution_count": 45,
   "metadata": {
    "collapsed": true
   },
   "outputs": [],
   "source": [
    "import matplotlib\n",
    "import matplotlib.pyplot as plt\n",
    "\n",
    "%matplotlib inline"
   ]
  },
  {
   "cell_type": "code",
   "execution_count": 46,
   "metadata": {
    "collapsed": true
   },
   "outputs": [],
   "source": [
    "import numpy as np\n",
    "import os"
   ]
  },
  {
   "cell_type": "code",
   "execution_count": 47,
   "metadata": {
    "collapsed": true
   },
   "outputs": [],
   "source": [
    "import sys"
   ]
  },
  {
   "cell_type": "code",
   "execution_count": 48,
   "metadata": {},
   "outputs": [],
   "source": [
    "#=====\n",
    "WIDTH = 96\n",
    "HEIGHT = 96\n",
    "CHANNEL = 3\n",
    "\n",
    "LATENT_DIM = 100 #latent variable z\n",
    "\n",
    "BATCH_SIZE = 64\n",
    "EPOCHS = 10\n",
    "\n",
    "PATH = 'faces/'\n",
    "\n",
    "load_index = 0\n",
    "\n",
    "images_name = os.listdir(PATH)\n",
    "\n",
    "IMAGES_COUNT = len(images_name)"
   ]
  },
  {
   "cell_type": "code",
   "execution_count": 32,
   "metadata": {
    "collapsed": true
   },
   "outputs": [],
   "source": [
    "#========\n",
    "def load_image(batch_size = BATCH_SIZE):\n",
    "    global load_index\n",
    "    \n",
    "    images = []\n",
    "    \n",
    "    for i in range(batch_size):\n",
    "        images.append(matplotlib.image.imread(PATH + images_name[(load_index + i) % IMAGES_COUNT]))\n",
    "    \n",
    "    load_index += batch_size\n",
    "    \n",
    "    return np.array(images)"
   ]
  },
  {
   "cell_type": "code",
   "execution_count": 40,
   "metadata": {
    "collapsed": true
   },
   "outputs": [],
   "source": [
    "class GAN(object):\n",
    "    \n",
    "    def __init__(self):\n",
    "        self.img_rows = 96\n",
    "        self.img_cols = 96\n",
    "        self.channels = 3 #black and white\n",
    "        \n",
    "        self.img_shape = (self.img_rows , self.img_cols , self.channels)\n",
    "        self.latent_dim = 100 #z dimension 100\n",
    "        \n",
    "        optimizer = Adam(lr=0.0002 , beta_1=0.5)\n",
    "        \n",
    "        #构造 判别器\n",
    "        self.discriminator = self.build_discriminator()\n",
    "        #判别器\n",
    "        self.discriminator.compile(loss='binary_crossentropy',\n",
    "                                  optimizer=optimizer , metrics=['accuracy'])\n",
    "        \n",
    "        \n",
    "        #构造 生成器\n",
    "        self.generator = self.build_generator()\n",
    "        z = Input(shape=(self.latent_dim , ))\n",
    "        #使用噪音生成一个图像\n",
    "        img = self.generator(z)\n",
    "        \n",
    "        #在combined的整体模型中 将判别器固定起来 不进行训练\n",
    "        self.discriminator.trainable = False\n",
    "        \n",
    "        #使用判别器判断利用噪音生成的图像的真假\n",
    "        validity = self.discriminator(img) #因为判别器最后一层是sigmoid 所以返回一个0-1之间的实数\n",
    "        \n",
    "        self.combines = Model(z , validity)\n",
    "        self.combines.compile(loss='binary_crossentropy' , optimizer=optimizer)\n",
    "        \n",
    "    def build_discriminator(self):\n",
    "        model = Sequential()\n",
    "        \n",
    "        model.add(Flatten(input_shape = self.img_shape))\n",
    "        model.add(Dense(512))\n",
    "        model.add(LeakyReLU(0.2))\n",
    "        model.add(Dense(256))\n",
    "        model.add(LeakyReLU(0.2))\n",
    "        model.add(Dense(1 , activation='sigmoid'))\n",
    "        \n",
    "        img = Input(shape=self.img_shape)\n",
    "        validity = model(img)\n",
    "        \n",
    "        return Model(img , validity)\n",
    "    \n",
    "    def build_generator(self):\n",
    "        model = Sequential()\n",
    "        #从100维的噪音中生成出来\n",
    "        model.add(Dense(256 , input_dim=self.latent_dim))\n",
    "        model.add(LeakyReLU(0.2))\n",
    "        model.add(BatchNormalization(momentum=0.8))\n",
    "        model.add(Dense(512))\n",
    "        model.add(LeakyReLU(0.2))\n",
    "        model.add(BatchNormalization(momentum=0.8))\n",
    "        model.add(Dense(1024))\n",
    "        model.add(LeakyReLU(0.2))\n",
    "        model.add(BatchNormalization(momentum=0.8))\n",
    "        model.add(Dense(np.prod(self.img_shape) , activation='tanh')) #构造同尺寸的图片\n",
    "        model.add(Reshape(self.img_shape)) #Flatten的逆操作\n",
    "        \n",
    "        noise = Input(shape=(self.latent_dim,)) #100 dimension\n",
    "        img = model(noise)\n",
    "        \n",
    "        return Model(noise , img)\n",
    "    \n",
    "\n",
    "    def train(self , epochs , sample_internal=50):\n",
    "        X_train=load_image()\n",
    "        \n",
    "        X_train = X_train/127.5 - 1\n",
    "        #X_train = np.expand_dims(X_train , axis=3)\n",
    "        \n",
    "        valid = np.ones((BATCH_SIZE , 1)) #real img\n",
    "        fake = np.ones((BATCH_SIZE , 1)) #fake img\n",
    "        \n",
    "        for epoch in range(epochs):\n",
    "            #in paper\n",
    "            #训练判别器\n",
    "            #idx = np.random.randint(0 , X_train.shape[0] , size=BATCH_SIZE) #随机的batch\n",
    "            #imgs = X_train[idx]\n",
    "            \n",
    "            noise = np.random.normal(0,1,size=(BATCH_SIZE , self.latent_dim))\n",
    "            \n",
    "            gen_imgs = self.generator.predict(noise)\n",
    "            \n",
    "            #d_loss_real = self.discriminator.train_on_batch(imgs , valid)\n",
    "            d_loss_real = self.discriminator.train_on_batch(X_train , valid)\n",
    "\n",
    "            d_loss_fake = self.discriminator.train_on_batch(gen_imgs , fake)\n",
    "            \n",
    "            d_loss = 0.5 * np.add(d_loss_real , d_loss_fake)\n",
    "            \n",
    "            \n",
    "            #训练生成器\n",
    "            noise = np.random.normal(0,1,size=(BATCH_SIZE , self.latent_dim))\n",
    "            \n",
    "            g_loss = self.combines.train_on_batch(noise , valid)\n",
    "            \n",
    "            print('%d Discriminator loss%f acc%f Generator loss%f' % (epoch , d_loss[0] , d_loss[1] , g_loss))\n",
    "            \n",
    "            if epoch%sample_internal == 0:\n",
    "                self.sample_images(epoch)\n",
    "        \n",
    "    def sample_images(self , epoch):\n",
    "        r , c = 5 , 5\n",
    "        noise = np.random.normal(0,1,size=(r*c , self.latent_dim))\n",
    "        gen_imgs = self.generator.predict(noise)\n",
    "        \n",
    "        gen_imgs = (gen_imgs+1)*127.5\n",
    "        \n",
    "        fig , axs = plt.subplots(r,c)\n",
    "        \n",
    "        cnt = 0\n",
    "        \n",
    "        for i in range(r):\n",
    "            for j in range(c):\n",
    "                axs[i][j].imshow(gen_imgs[cnt , :,:,0])# , cmap=plt.cm.gray)\n",
    "                axs[i][j].axis('off')\n",
    "                \n",
    "                cnt+=1\n",
    "        \n",
    "        fig.savefig('No.%d.png' % epoch)\n",
    "        #plt.show()\n",
    "        plt.close()"
   ]
  },
  {
   "cell_type": "code",
   "execution_count": 12,
   "metadata": {
    "collapsed": true
   },
   "outputs": [
    {
     "data": {
      "image/png": "[encoded data removed]",
      "text/plain": [
       "<matplotlib.figure.Figure at 0x1cedb056390>"
      ]
     },
     "metadata": {},
     "output_type": "display_data"
    }
   ],
   "source": [
    "#fig , axs = plt.subplots(5,5)"
   ]
  },
  {
   "cell_type": "code",
   "execution_count": 41,
   "metadata": {
    "collapsed": true
   },
   "outputs": [],
   "source": [
    "gan = GAN()"
   ]
  },
  {
   "cell_type": "code",
   "execution_count": null,
   "metadata": {
    "scrolled": true
   },
   "outputs": [],
   "source": [
    "gan.train(epochs=20000 , sample_internal=100)"
   ]
  },
  {
   "cell_type": "code",
   "execution_count": null,
   "metadata": {
    "collapsed": true
   },
   "outputs": [],
   "source": []
  }
 ],
 "metadata": {
  "kernelspec": {
   "display_name": "Python 3",
   "language": "python",
   "name": "python3"
  },
  "language_info": {
   "codemirror_mode": {
    "name": "ipython",
    "version": 3
   },
   "file_extension": ".py",
   "mimetype": "text/x-python",
   "name": "python",
   "nbconvert_exporter": "python",
   "pygments_lexer": "ipython3",
   "version": "3.6.1"
  }
 },
 "nbformat": 4,
 "nbformat_minor": 2
}
