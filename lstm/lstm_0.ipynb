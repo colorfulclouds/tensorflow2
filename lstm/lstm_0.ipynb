{
 "cells": [
  {
   "cell_type": "code",
   "execution_count": 1,
   "metadata": {},
   "outputs": [],
   "source": [
    "import numpy\n",
    "from keras.models import Sequential\n",
    "from keras.layers import Dense\n",
    "from keras.layers import Dropout\n",
    "from keras.layers import LSTM\n",
    "from keras.utils import np_utils"
   ]
  },
  {
   "cell_type": "code",
   "execution_count": 4,
   "metadata": {},
   "outputs": [],
   "source": [
    "filename = 'macbeth.txt'\n",
    "\n",
    "text = (open(filename).read()).lower()\n",
    "\n",
    "unique_chars = sorted(list(set(text)))"
   ]
  },
  {
   "cell_type": "code",
   "execution_count": 5,
   "metadata": {
    "collapsed": true
   },
   "outputs": [],
   "source": [
    "char_to_int = {}\n",
    "int_to_char = {}\n",
    "\n",
    "for i , c in enumerate(unique_chars):\n",
    "    char_to_int.update({c:i})\n",
    "    int_to_char.update({i:c})\n"
   ]
  },
  {
   "cell_type": "code",
   "execution_count": 13,
   "metadata": {},
   "outputs": [
    {
     "data": {
      "text/plain": [
       "str"
      ]
     },
     "execution_count": 13,
     "metadata": {},
     "output_type": "execute_result"
    }
   ],
   "source": [
    "type(text)"
   ]
  },
  {
   "cell_type": "code",
   "execution_count": 14,
   "metadata": {},
   "outputs": [],
   "source": [
    "X = []\n",
    "Y = []\n",
    "\n",
    "for i in range(0 , len(text)-50 , 1):\n",
    "    sequence = text[i:i+50]\n",
    "    label = text[i+50]\n",
    "    X.append([char_to_int[char] for char in sequence])\n",
    "    Y.append([char_to_int[label]])"
   ]
  },
  {
   "cell_type": "code",
   "execution_count": 16,
   "metadata": {
    "collapsed": true
   },
   "outputs": [],
   "source": [
    "X_modified = numpy.reshape(X , (len(X) , 50 ,1))\n",
    "X_modified = X_modified / float(len(unique_chars))\n",
    "Y_modified = np_utils.to_categorical(Y)"
   ]
  },
  {
   "cell_type": "code",
   "execution_count": 22,
   "metadata": {},
   "outputs": [],
   "source": [
    "model = Sequential()\n",
    "model.add(LSTM(300 , input_shape =(X_modified.shape[1] , X_modified.shape[2]) , return_sequences = True))\n",
    "model.add(Dropout(0.2))\n",
    "model.add(LSTM(300))\n",
    "model.add(Dropout(0.2))\n",
    "model.add(Dense(Y_modified.shape[1] , activation='softmax'))\n",
    "\n",
    "model.compile(loss='categorical_crossentropy' , optimizer='adam')\n"
   ]
  },
  {
   "cell_type": "code",
   "execution_count": 23,
   "metadata": {},
   "outputs": [
    {
     "name": "stdout",
     "output_type": "stream",
     "text": [
      "Epoch 1/1\n",
      "100270/100270 [==============================] - 2077s 21ms/step - loss: 2.7345\n",
      "e\n"
     ]
    }
   ],
   "source": [
    "model.fit(X_modified , Y_modified , epochs=1 , batch_size=30)\n",
    "\n",
    "start_index = numpy.random.randint(0 , len(X)-1)\n",
    "new_string = X[start_index]\n",
    "\n",
    "for i in range(50):\n",
    "    x = numpy.reshape(new_string , (1 , len(new_string) , 1))\n",
    "    x = x/float(len(unique_chars))\n",
    "    \n",
    "pred_index = numpy.argmax(model.predict(x,verbose=0))\n",
    "char_out = int_to_char[pred_index]\n",
    "seq_in = [int_to_char[value] for value in new_string]\n",
    "print(char_out)\n",
    "\n",
    "new_string.append(pred_index)\n",
    "new_string = new_string[1:len(new_string)]"
   ]
  },
  {
   "cell_type": "code",
   "execution_count": 26,
   "metadata": {},
   "outputs": [
    {
     "name": "stdout",
     "output_type": "stream",
     "text": [
      "t\n"
     ]
    }
   ],
   "source": [
    "print(text[new_string[0]])"
   ]
  },
  {
   "cell_type": "code",
   "execution_count": 27,
   "metadata": {},
   "outputs": [
    {
     "name": "stdout",
     "output_type": "stream",
     "text": [
      "t\n",
      "b\n",
      ".\n",
      "s\n",
      "h\n",
      "t\n",
      " \n",
      "p\n",
      "s\n",
      "h\n",
      " \n",
      "p\n",
      "s\n",
      "h\n",
      "a\n",
      "p\n",
      "s\n",
      "h\n",
      "s\n",
      "p\n",
      "h\n",
      "t\n",
      "p\n",
      "p\n",
      "t\n",
      "s\n",
      "t\n",
      "t\n",
      "h\n",
      "h\n",
      "h\n",
      "s\n",
      "c\n",
      "e\n",
      "b\n",
      "d\n",
      "h\n",
      "s\n",
      "h\n",
      "u\n",
      "u\n",
      "g\n",
      "h\n",
      "u\n",
      "c\n",
      "o\n",
      "h\n",
      "u\n",
      "c\n",
      "h\n"
     ]
    }
   ],
   "source": [
    "for i in new_string:\n",
    "    print(text[i])"
   ]
  },
  {
   "cell_type": "code",
   "execution_count": null,
   "metadata": {
    "collapsed": true
   },
   "outputs": [],
   "source": []
  }
 ],
 "metadata": {
  "kernelspec": {
   "display_name": "Python 3",
   "language": "python",
   "name": "python3"
  },
  "language_info": {
   "codemirror_mode": {
    "name": "ipython",
    "version": 3
   },
   "file_extension": ".py",
   "mimetype": "text/x-python",
   "name": "python",
   "nbconvert_exporter": "python",
   "pygments_lexer": "ipython3",
   "version": "3.6.1"
  }
 },
 "nbformat": 4,
 "nbformat_minor": 2
}
