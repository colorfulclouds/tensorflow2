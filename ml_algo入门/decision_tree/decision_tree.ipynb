{
 "cells": [
  {
   "cell_type": "code",
   "execution_count": 8,
   "metadata": {
    "collapsed": true
   },
   "outputs": [],
   "source": [
    "import math\n",
    "import operator"
   ]
  },
  {
   "cell_type": "code",
   "execution_count": 3,
   "metadata": {
    "collapsed": true
   },
   "outputs": [],
   "source": [
    "#计算香农熵\n",
    "#整体数据集的香农熵\n",
    "def calcShannonEnt(dataSet):\n",
    "    numEntries = len(dataSet)\n",
    "    labelCounts = {}\n",
    "    \n",
    "    for featVec in dataSet:\n",
    "        currentLabel = featVec[-1] #fetch row feature\n",
    "        \n",
    "        if currentLabel not in labelCounts.keys():\n",
    "            labelCounts[currentLabel] = 0\n",
    "            \n",
    "        labelCounts[currentLabel] += 1\n",
    "    \n",
    "    shannonEnt = 0.0\n",
    "    for key in labelCounts:\n",
    "        prob = float(labelCounts[key]) / numEntries\n",
    "        shannonEnt -= prob*math.log(prob , 2)\n",
    "        \n",
    "    return shannonEnt"
   ]
  },
  {
   "cell_type": "code",
   "execution_count": 6,
   "metadata": {},
   "outputs": [],
   "source": [
    "def splitDataSet(dataSet , axis , value):\n",
    "    retDataSet = []\n",
    "    \n",
    "    for featVec in dataSet:\n",
    "        if featVec[axis] == value:\n",
    "            reducedFeatVec = featVec[:axis]\n",
    "            reducedFeatVec.extend(featVec[axis+1:])\n",
    "            retDataSet.append(reducedFeatVec)\n",
    "    \n",
    "    return retDataSet"
   ]
  },
  {
   "cell_type": "code",
   "execution_count": 17,
   "metadata": {
    "collapsed": true
   },
   "outputs": [],
   "source": [
    "def chooseBestFeatureToSplit(dataSet): #利用信息增益进行划分\n",
    "    numFeatures = len(dataSet[0]) - 1#获取feature数量\n",
    "    baseEntropy = calcShannonEnt(dataSet) #计算原始数据集的香农熵\n",
    "    \n",
    "    #最好的划分feature\n",
    "    bestInfoGain= 0.0\n",
    "    bestFeature = -1\n",
    "    \n",
    "    for i in range(numFeatures): #计算所有feature的信息增益 从而选取信息增益最大的feature作为划分的feature\n",
    "        featList = [example[i] for example in dataSet] #获取feature的所有取值情况 这种取法可能有重复值\n",
    "        uniqueVals = set(featList)#删除重复值 利用 集合set 和 列表list 的不同来快速去除重复值\n",
    "        newEntropy = 0.0\n",
    "        \n",
    "        for value in uniqueVals:\n",
    "            #特征i的可能取值value\n",
    "            subDataSet = splitDataSet(dataSet , i , value)\n",
    "            prob = len(subDataSet) / float(len(dataSet))\n",
    "            newEntropy += calcShannonEnt(subDataSet)\n",
    "        \n",
    "        #计算信息增益\n",
    "        infoGain = baseEntropy - newEntropy\n",
    "        \n",
    "        if infoGain > bestInfoGain:\n",
    "            bestInfoGain = infoGain\n",
    "            bestFeature = i\n",
    "    \n",
    "    return bestFeature"
   ]
  },
  {
   "cell_type": "code",
   "execution_count": 10,
   "metadata": {
    "collapsed": true
   },
   "outputs": [],
   "source": [
    "#当一个节点中只剩下一个feature时 但是类标签不是唯一的时候 通常使用出现次数的类标签作为这个节点的类标签\n",
    "def majorityCnt(classList):\n",
    "    classCount = {}\n",
    "    \n",
    "    for vote in classList:\n",
    "        if vote not in classCount.keys():\n",
    "            classCount[vote] = 0\n",
    "        \n",
    "        classCount[vote] += 1\n",
    "    \n",
    "    sortedClassCount = sorted(classCount.iteritems() , key=operator.itemgetter(1) , reverse=True)\n",
    "    \n",
    "    return sortedClassCount[0][0]"
   ]
  },
  {
   "cell_type": "code",
   "execution_count": 88,
   "metadata": {
    "collapsed": true
   },
   "outputs": [],
   "source": [
    "def createTree(dataSet , labels):\n",
    "    classList = [example[-1] for example in dataSet]\n",
    "    \n",
    "    if classList.count(classList[0]) == len(classList):\n",
    "        return classList[0]\n",
    "    \n",
    "    if len(dataSet[0]) == 1:\n",
    "        return majorityCnt(classList)\n",
    "    \n",
    "    bestFeat = chooseBestFeatureToSplit(dataSet)\n",
    "    bestFeatLabel = labels[bestFeat]\n",
    "    \n",
    "    myTree = {bestFeatLabel:{}}\n",
    "    \n",
    "    del(labels[bestFeat]) #删除已经使用过的feature\n",
    "    \n",
    "    featValues = [example[bestFeat] for example in dataSet]\n",
    "    uniqueVals = set(featValues)\n",
    "    \n",
    "    for value in uniqueVals:\n",
    "        subLabels = labels.copy()\n",
    "        myTree[bestFeatLabel][value] = createTree(splitDataSet(dataSet , bestFeat , value) , subLabels)\n",
    "    \n",
    "    return myTree\n",
    "\n"
   ]
  },
  {
   "cell_type": "code",
   "execution_count": 48,
   "metadata": {
    "collapsed": true
   },
   "outputs": [],
   "source": [
    "def createDataSet():\n",
    "    dataSet = [[1, 1, 'yes'],\n",
    "               [1, 1, 'yes'],\n",
    "               [1, 0, 'no'],\n",
    "               [0, 1, 'no'],\n",
    "               [0, 1, 'no']]\n",
    "    labels = ['no surfacing','flippers']\n",
    "    #change to discrete values\n",
    "    return dataSet, labels"
   ]
  },
  {
   "cell_type": "code",
   "execution_count": 49,
   "metadata": {},
   "outputs": [],
   "source": [
    "#test\n",
    "myDat , labels = createDataSet()\n",
    "myTree = createTree(myDat , labels)"
   ]
  },
  {
   "cell_type": "code",
   "execution_count": 39,
   "metadata": {},
   "outputs": [
    {
     "data": {
      "text/plain": [
       "{'no surfacing': {0: 'no', 1: {'flippers': {0: 'no', 1: 'yes'}}}}"
      ]
     },
     "execution_count": 39,
     "metadata": {},
     "output_type": "execute_result"
    }
   ],
   "source": [
    "myTree"
   ]
  },
  {
   "cell_type": "code",
   "execution_count": 42,
   "metadata": {
    "collapsed": true
   },
   "outputs": [],
   "source": [
    "#如何使用决策树进行分类\n",
    "def classify(inputTree , featLabels , testVec):\n",
    "    _ = list(inputTree.keys())\n",
    "    firstStr = _[0]\n",
    "    #firstStr = inputTree.keys()[0]#python 3中无效了 不能索引key\n",
    "    secondDict = inputTree[firstStr]\n",
    "    print(featLabels)\n",
    "    featIndex = featLabels.index(firstStr)\n",
    "    \n",
    "    for key in secondDict.keys():\n",
    "        if testVec[featIndex] == key:\n",
    "            if type(secondDict[key]).__name__ == 'dict':\n",
    "                classLabel = classify(secondDict[key] , featLabels , testVec)\n",
    "            else:\n",
    "                classLabel = secondDict[key]\n",
    "    \n",
    "    return classLabel"
   ]
  },
  {
   "cell_type": "code",
   "execution_count": 50,
   "metadata": {},
   "outputs": [
    {
     "name": "stdout",
     "output_type": "stream",
     "text": [
      "['no surfacing', 'flippers']\n",
      "['no surfacing', 'flippers']\n"
     ]
    },
    {
     "data": {
      "text/plain": [
       "'no'"
      ]
     },
     "execution_count": 50,
     "metadata": {},
     "output_type": "execute_result"
    }
   ],
   "source": [
    "classify(myTree ,  ['no surfacing','flippers'] , [1,0]) #[1,0]为测试数据"
   ]
  },
  {
   "cell_type": "code",
   "execution_count": 83,
   "metadata": {
    "collapsed": true
   },
   "outputs": [],
   "source": [
    "#======\n",
    "#序列化将决策树存储起来\n",
    "import pickle\n",
    "\n",
    "def storeTree(inputTree , filename):\n",
    "    fw = open(filename , 'wb')\n",
    "    pickle.dump(inputTree , fw)\n",
    "    fw.close()\n",
    "\n",
    "def grabTree(filename):\n",
    "    fr = open(filename , 'rb')\n",
    "    return pickle.load(fr)"
   ]
  },
  {
   "cell_type": "code",
   "execution_count": 81,
   "metadata": {},
   "outputs": [],
   "source": [
    "storeTree(myTree , 'store_decision_tree_test.txt')"
   ]
  },
  {
   "cell_type": "code",
   "execution_count": 84,
   "metadata": {},
   "outputs": [
    {
     "data": {
      "text/plain": [
       "{'no surfacing': {0: 'no', 1: {'flippers': {0: 'no', 1: 'yes'}}}}"
      ]
     },
     "execution_count": 84,
     "metadata": {},
     "output_type": "execute_result"
    }
   ],
   "source": [
    "grabTree('store_decision_tree_test.txt')"
   ]
  },
  {
   "cell_type": "code",
   "execution_count": 89,
   "metadata": {
    "collapsed": true
   },
   "outputs": [],
   "source": [
    "#==============\n",
    "#实际使用 隐形眼镜数据集\n",
    "fr = open('../MLiA_SourceCode/Ch03/lenses.txt')\n",
    "lenses = [inst.strip().split('\\t') for inst in fr.readlines()]\n",
    "lensesLabels = ['age','prescript' , 'astigmatic' , 'tearRate']\n",
    "lensesTree = createTree(lenses , lensesLabels)"
   ]
  },
  {
   "cell_type": "code",
   "execution_count": 90,
   "metadata": {},
   "outputs": [
    {
     "data": {
      "text/plain": [
       "{'tearRate': {'hard': 'hard', 'no lenses': 'no lenses', 'soft': 'soft'}}"
      ]
     },
     "execution_count": 90,
     "metadata": {},
     "output_type": "execute_result"
    }
   ],
   "source": [
    "lensesTree"
   ]
  },
  {
   "cell_type": "code",
   "execution_count": 91,
   "metadata": {},
   "outputs": [
    {
     "data": {
      "text/plain": [
       "['age', 'prescript', 'astigmatic']"
      ]
     },
     "execution_count": 91,
     "metadata": {},
     "output_type": "execute_result"
    }
   ],
   "source": [
    "lensesLabels"
   ]
  },
  {
   "cell_type": "code",
   "execution_count": null,
   "metadata": {
    "collapsed": true
   },
   "outputs": [],
   "source": [
    "#===========\n",
    "#===========\n",
    "#===========\n",
    "#"
   ]
  },
  {
   "cell_type": "code",
   "execution_count": 20,
   "metadata": {
    "collapsed": true
   },
   "outputs": [],
   "source": [
    "#绘制图像测试\n",
    "import matplotlib.pyplot as plt\n"
   ]
  },
  {
   "cell_type": "code",
   "execution_count": 28,
   "metadata": {
    "scrolled": true
   },
   "outputs": [
    {
     "data": {
      "image/png": "[encoded data removed]",
      "text/plain": [
       "<matplotlib.figure.Figure at 0x29be8a793c8>"
      ]
     },
     "metadata": {},
     "output_type": "display_data"
    }
   ],
   "source": [
    "decisionNode = dict(boxstyle='sawtooth' , fc = '0.8')\n",
    "leafNode = dict(boxstyle='round4' , fc='0.8')\n",
    "arrow_args = dict(arrowstyle = '<-')\n",
    "\n",
    "def plotNode(nodeTxt , centerPt , parentPt , nodeType):\n",
    "    createPlot.ax1.annotate(nodeTxt , xy=parentPt , xycoords = 'axes fraction' , xytext = centerPt , textcoords = 'axes fraction',\n",
    "                           va = 'center' , ha = 'center' , bbox = nodeType , arrowprops = arrow_args)\n",
    "\n",
    "def createPlot():\n",
    "    fig = plt.figure(1 , facecolor='white')\n",
    "    fig.clf()\n",
    "    createPlot.ax1 = plt.subplot(111 , frameon=False)\n",
    "    plotNode('decision point' , (0.5,0.1) , (0.1 , 0.5) , decisionNode)\n",
    "    plotNode('leaf point' , (0.8,0.1) , (0.3 , 0.8) , leafNode)\n",
    "    plt.show()\n",
    "\n",
    "createPlot()"
   ]
  },
  {
   "cell_type": "code",
   "execution_count": null,
   "metadata": {
    "collapsed": true
   },
   "outputs": [],
   "source": []
  },
  {
   "cell_type": "code",
   "execution_count": null,
   "metadata": {
    "collapsed": true
   },
   "outputs": [],
   "source": []
  },
  {
   "cell_type": "code",
   "execution_count": null,
   "metadata": {
    "collapsed": true
   },
   "outputs": [],
   "source": []
  },
  {
   "cell_type": "code",
   "execution_count": 13,
   "metadata": {},
   "outputs": [
    {
     "data": {
      "text/plain": [
       "2"
      ]
     },
     "execution_count": 13,
     "metadata": {},
     "output_type": "execute_result"
    }
   ],
   "source": [
    "ff=[1,2,3,4,1]\n",
    "ff.count(1)"
   ]
  },
  {
   "cell_type": "code",
   "execution_count": 21,
   "metadata": {},
   "outputs": [],
   "source": [
    "#回归数 拟合判断\n",
    "import numpy as np\n",
    "\n",
    "def function(index , aa):\n",
    "    a1 = np.average(aa[:index])\n",
    "    a2 = np.average(aa[index:])\n",
    "    \n",
    "    print('%-3f %-3f' % (a1 , a2) , end =  '  kk  ')\n",
    "    \n",
    "    c1 = np.power(aa[:index]-a1,2)\n",
    "    c2 = np.power(aa[index:]-a2,2)\n",
    "    \n",
    "\n",
    "    b1 = np.sum(c1)\n",
    "    b2 = np.sum(c2)\n",
    "\n",
    "    print('%-3.f %-3f %-3f' % (b1,b2 , b1+b2))\n",
    "\n",
    "aaa=np.array([-0.68,-0.54,-0.33,0.16,0.56,0.81,-0.01,-0.21,0.09,0.14])\n",
    "bbb=np.array([5.56,5.7,5.91,6.4,6.8,7.05,8.9,8.7,9.,9.05])"
   ]
  },
  {
   "cell_type": "code",
   "execution_count": 20,
   "metadata": {},
   "outputs": [
    {
     "name": "stdout",
     "output_type": "stream",
     "text": [
      "5.560000 7.501111kk  0   15.723089 15.723089\n",
      "5.630000 7.726250kk  0   12.073588 12.083388\n",
      "5.723333 7.985714kk  0   8.303571 8.365638\n",
      "5.892500 8.250000kk  0   5.370000 5.775475\n",
      "6.074000 8.540000kk  1   2.847000 3.911320\n",
      "6.236667 8.912500kk  2   0.071875 1.930008\n",
      "6.617143 8.916667kk  8   0.071667 8.009810\n",
      "6.877500 9.025000kk  12  0.001250 11.735400\n",
      "7.113333 9.050000kk  16  0.000000 15.738600\n"
     ]
    }
   ],
   "source": [
    "for i in range(9):\n",
    "    function(i+1,bbb)"
   ]
  },
  {
   "cell_type": "code",
   "execution_count": 22,
   "metadata": {},
   "outputs": [
    {
     "name": "stdout",
     "output_type": "stream",
     "text": [
      "-0.680000 0.074444  kk  0   1.417822 1.417822\n",
      "-0.610000 0.151250  kk  0   0.993088 1.002888\n",
      "-0.516667 0.220000  kk  0   0.728400 0.790467\n",
      "-0.347500 0.230000  kk  0   0.724200 1.129675\n",
      "-0.166000 0.164000  kk  1   0.593520 1.657840\n",
      "-0.003333 0.002500  kk  2   0.071875 1.930008\n",
      "-0.004286 0.006667  kk  2   0.071667 1.929838\n",
      "-0.030000 0.115000  kk  2   0.001250 1.896450\n",
      "-0.016667 0.140000  kk  2   0.000000 1.908000\n"
     ]
    }
   ],
   "source": [
    "for i in range(9):\n",
    "    function(i+1 , aaa)"
   ]
  },
  {
   "cell_type": "code",
   "execution_count": null,
   "metadata": {
    "collapsed": true
   },
   "outputs": [],
   "source": []
  }
 ],
 "metadata": {
  "kernelspec": {
   "display_name": "Python 3",
   "language": "python",
   "name": "python3"
  },
  "language_info": {
   "codemirror_mode": {
    "name": "ipython",
    "version": 3
   },
   "file_extension": ".py",
   "mimetype": "text/x-python",
   "name": "python",
   "nbconvert_exporter": "python",
   "pygments_lexer": "ipython3",
   "version": "3.6.2"
  }
 },
 "nbformat": 4,
 "nbformat_minor": 2
}
