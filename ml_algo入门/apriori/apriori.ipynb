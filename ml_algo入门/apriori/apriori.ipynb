{
 "cells": [
  {
   "cell_type": "markdown",
   "metadata": {},
   "source": [
    "### python 2.x to run"
   ]
  },
  {
   "cell_type": "code",
   "execution_count": 9,
   "metadata": {},
   "outputs": [],
   "source": [
    "import numpy as np"
   ]
  },
  {
   "cell_type": "code",
   "execution_count": 11,
   "metadata": {
    "collapsed": true
   },
   "outputs": [],
   "source": [
    "def loadDataSet():\n",
    "    return [[1,3,4] , [2,3,5] , [1,2,3,5] , [2,5]]\n",
    "\n",
    "def createC1(dataSet):\n",
    "    C1 = []\n",
    "    \n",
    "    for transaction in dataSet:\n",
    "        for item in transaction:\n",
    "            if not [item] in C1:\n",
    "                C1.append([item])\n",
    "                \n",
    "    C1.sort()\n",
    "    \n",
    "    return map(frozenset , C1)\n",
    "\n"
   ]
  },
  {
   "cell_type": "code",
   "execution_count": 12,
   "metadata": {
    "collapsed": true
   },
   "outputs": [],
   "source": [
    "def scanD(D , Ck , minSupport): #最小支持度\n",
    "    ssCnt = {}\n",
    "    \n",
    "    for tid in D:\n",
    "        for can in Ck:\n",
    "            if can.issubset(tid):\n",
    "                if not ssCnt.has_key(can):\n",
    "                    ssCnt[can] = 1\n",
    "                else:\n",
    "                    ssCnt[can] += 1\n",
    "                \n",
    "    numItems = float(len(D))\n",
    "    retList = []\n",
    "    supportData = {}\n",
    "    \n",
    "    for key in ssCnt:\n",
    "        support = ssCnt[key] / numItems\n",
    "        \n",
    "        if support>= minSupport:\n",
    "            retList.insert(0 , key)\n",
    "        supportData[key] = support\n",
    "    \n",
    "    return retList , supportData"
   ]
  },
  {
   "cell_type": "code",
   "execution_count": 13,
   "metadata": {},
   "outputs": [
    {
     "data": {
      "text/plain": [
       "[[1, 3, 4], [2, 3, 5], [1, 2, 3, 5], [2, 5]]"
      ]
     },
     "execution_count": 13,
     "metadata": {},
     "output_type": "execute_result"
    }
   ],
   "source": [
    "dataSet = loadDataSet()\n",
    "dataSet"
   ]
  },
  {
   "cell_type": "code",
   "execution_count": 14,
   "metadata": {},
   "outputs": [
    {
     "data": {
      "text/plain": [
       "[frozenset({1}),\n",
       " frozenset({2}),\n",
       " frozenset({3}),\n",
       " frozenset({4}),\n",
       " frozenset({5})]"
      ]
     },
     "execution_count": 14,
     "metadata": {},
     "output_type": "execute_result"
    }
   ],
   "source": [
    "C1 = createC1(dataSet)\n",
    "C1"
   ]
  },
  {
   "cell_type": "code",
   "execution_count": 15,
   "metadata": {
    "collapsed": true
   },
   "outputs": [],
   "source": [
    "L1 , suppData0 = scanD(D , C1 , 0.5)"
   ]
  },
  {
   "cell_type": "code",
   "execution_count": 16,
   "metadata": {},
   "outputs": [
    {
     "data": {
      "text/plain": [
       "[frozenset({1}), frozenset({3}), frozenset({2}), frozenset({5})]"
      ]
     },
     "execution_count": 16,
     "metadata": {},
     "output_type": "execute_result"
    }
   ],
   "source": [
    "L1"
   ]
  },
  {
   "cell_type": "code",
   "execution_count": 17,
   "metadata": {},
   "outputs": [
    {
     "data": {
      "text/plain": [
       "{frozenset({4}): 0.25,\n",
       " frozenset({5}): 0.75,\n",
       " frozenset({2}): 0.75,\n",
       " frozenset({3}): 0.75,\n",
       " frozenset({1}): 0.5}"
      ]
     },
     "execution_count": 17,
     "metadata": {},
     "output_type": "execute_result"
    }
   ],
   "source": [
    "suppData0"
   ]
  },
  {
   "cell_type": "code",
   "execution_count": 18,
   "metadata": {},
   "outputs": [
    {
     "data": {
      "text/plain": [
       "[[frozenset({1}), frozenset({3}), frozenset({2}), frozenset({5})]]"
      ]
     },
     "execution_count": 18,
     "metadata": {},
     "output_type": "execute_result"
    }
   ],
   "source": [
    "[L1]"
   ]
  },
  {
   "cell_type": "code",
   "execution_count": 19,
   "metadata": {
    "collapsed": true
   },
   "outputs": [],
   "source": [
    "def aprioriGen(Lk , k):\n",
    "    retList = []\n",
    "    lenLk = len(Lk)\n",
    "    \n",
    "    for i in range(lenLk):\n",
    "        for j in range(i+1 , lenLk):\n",
    "            L1 = list(Lk[i])[:k-2]\n",
    "            L2 = list(Lk[j])[:k-2]\n",
    "            \n",
    "            if L1 == L2:\n",
    "                retList.append(Lk[i] | Lk[j])\n",
    "    \n",
    "    return retList\n",
    "\n",
    "def apriori(dataSet , minSupport = 0.5):\n",
    "    C1 = createC1(dataSet)\n",
    "    D = map(set , dataSet)\n",
    "    L1 , supportData = scanD(D , C1 , minSupport)\n",
    "    L = [L1]\n",
    "    \n",
    "    k = 2\n",
    "    \n",
    "    while(len(L[k-2]) > 0):\n",
    "        Ck = aprioriGen(L[k-2] , k)\n",
    "        Lk , supK = scanD(D , Ck , minSupport)\n",
    "        supportData.update(supK)\n",
    "        L.append(Lk)\n",
    "        \n",
    "        k += 1\n",
    "        \n",
    "    return L , supportData"
   ]
  },
  {
   "cell_type": "code",
   "execution_count": 21,
   "metadata": {},
   "outputs": [
    {
     "data": {
      "text/plain": [
       "True"
      ]
     },
     "execution_count": 21,
     "metadata": {},
     "output_type": "execute_result"
    }
   ],
   "source": [
    "a=[1,2,3]\n",
    "a[:0] == a[:0]"
   ]
  },
  {
   "cell_type": "code",
   "execution_count": 22,
   "metadata": {
    "collapsed": true
   },
   "outputs": [],
   "source": [
    "L , suppData0 = apriori(dataSet)"
   ]
  },
  {
   "cell_type": "code",
   "execution_count": 23,
   "metadata": {},
   "outputs": [
    {
     "data": {
      "text/plain": [
       "[[frozenset({1}), frozenset({3}), frozenset({2}), frozenset({5})],\n",
       " [frozenset({1, 3}), frozenset({2, 5}), frozenset({2, 3}), frozenset({3, 5})],\n",
       " [frozenset({2, 3, 5})],\n",
       " []]"
      ]
     },
     "execution_count": 23,
     "metadata": {},
     "output_type": "execute_result"
    }
   ],
   "source": [
    "L"
   ]
  },
  {
   "cell_type": "code",
   "execution_count": 24,
   "metadata": {},
   "outputs": [
    {
     "data": {
      "text/plain": [
       "{frozenset({5}): 0.75,\n",
       " frozenset({3}): 0.75,\n",
       " frozenset({2, 3, 5}): 0.5,\n",
       " frozenset({1, 2}): 0.25,\n",
       " frozenset({1, 5}): 0.25,\n",
       " frozenset({3, 5}): 0.5,\n",
       " frozenset({4}): 0.25,\n",
       " frozenset({2, 3}): 0.5,\n",
       " frozenset({2, 5}): 0.75,\n",
       " frozenset({1}): 0.5,\n",
       " frozenset({1, 3}): 0.5,\n",
       " frozenset({2}): 0.75}"
      ]
     },
     "execution_count": 24,
     "metadata": {},
     "output_type": "execute_result"
    }
   ],
   "source": [
    "suppData0"
   ]
  },
  {
   "cell_type": "code",
   "execution_count": 25,
   "metadata": {},
   "outputs": [
    {
     "data": {
      "text/plain": [
       "[frozenset({1, 3}),\n",
       " frozenset({1, 2}),\n",
       " frozenset({1, 5}),\n",
       " frozenset({2, 3}),\n",
       " frozenset({3, 5}),\n",
       " frozenset({2, 5})]"
      ]
     },
     "execution_count": 25,
     "metadata": {},
     "output_type": "execute_result"
    }
   ],
   "source": [
    "aprioriGen(L[0] , 2)"
   ]
  },
  {
   "cell_type": "code",
   "execution_count": 26,
   "metadata": {
    "collapsed": true
   },
   "outputs": [],
   "source": [
    "def generateRules(L , supportData , minConf = 0.7): #关联规则的可信度\n",
    "    bigRuleList = []\n",
    "    \n",
    "    for i in range(1 , len(L)):\n",
    "        for freqSet in L[i]:\n",
    "            H1 = [frozenset([item]) for item in freqSet]\n",
    "            \n",
    "            if i>1:\n",
    "                rulesFromConseq(freqSet , H1 , supportData , bigRuleList , minConf)\n",
    "            else:\n",
    "                calcConf(freqSet , H1 , supportData , bigRuleList , minConf)\n",
    "            \n",
    "    return bigRuleList\n",
    "\n",
    "def calcConf(freqSet , H , supportData , br1 , minConf = 0.7):\n",
    "    prunedH = []\n",
    "    \n",
    "    for conseq in H:\n",
    "        conf = supportData[freqSet]/supportData[freqSet - conseq]\n",
    "        \n",
    "        if conf>=minConf:\n",
    "            print freqSet - conseq , '>' , conseq , 'conf:' , conf\n",
    "            br1.append((freqSet - conseq , conseq , conf))\n",
    "            prunedH.append(conseq)\n",
    "        \n",
    "    return prunedH\n",
    "\n",
    "\n",
    "def rulesFromConseq(freqSet , H , supportData , br1 , minConf = 0.7):\n",
    "    m = len(H[0])\n",
    "    \n",
    "    if len(freqSet) > (m+1):\n",
    "        Hmp1 = aprioriGen(H , m+1)\n",
    "        Hmp1 = calcConf(freqSet , Hmp1 , supportData , br1 , minConf)\n",
    "        \n",
    "        if len(Hmp1) > 1:\n",
    "            rulesFromConseq(freqSet , Hmp1 , supportData , br1 , minConf)"
   ]
  },
  {
   "cell_type": "code",
   "execution_count": 27,
   "metadata": {},
   "outputs": [
    {
     "name": "stdout",
     "output_type": "stream",
     "text": [
      "frozenset([1]) > frozenset([3]) conf: 1.0\n",
      "frozenset([5]) > frozenset([2]) conf: 1.0\n",
      "frozenset([2]) > frozenset([5]) conf: 1.0\n"
     ]
    }
   ],
   "source": [
    "L , suppData = apriori(dataSet , minSupport=0.5)\n",
    "\n",
    "rules = generateRules(L , suppData , minConf=0.7)"
   ]
  },
  {
   "cell_type": "code",
   "execution_count": 28,
   "metadata": {},
   "outputs": [
    {
     "data": {
      "text/plain": [
       "[(frozenset({1}), frozenset({3}), 1.0),\n",
       " (frozenset({5}), frozenset({2}), 1.0),\n",
       " (frozenset({2}), frozenset({5}), 1.0)]"
      ]
     },
     "execution_count": 28,
     "metadata": {},
     "output_type": "execute_result"
    }
   ],
   "source": [
    "rules"
   ]
  },
  {
   "cell_type": "code",
   "execution_count": 30,
   "metadata": {},
   "outputs": [
    {
     "name": "stdout",
     "output_type": "stream",
     "text": [
      "frozenset([3]) > frozenset([1]) conf: 0.666666666667\n",
      "frozenset([1]) > frozenset([3]) conf: 1.0\n",
      "frozenset([5]) > frozenset([2]) conf: 1.0\n",
      "frozenset([2]) > frozenset([5]) conf: 1.0\n",
      "frozenset([3]) > frozenset([2]) conf: 0.666666666667\n",
      "frozenset([2]) > frozenset([3]) conf: 0.666666666667\n",
      "frozenset([5]) > frozenset([3]) conf: 0.666666666667\n",
      "frozenset([3]) > frozenset([5]) conf: 0.666666666667\n",
      "frozenset([5]) > frozenset([2, 3]) conf: 0.666666666667\n",
      "frozenset([3]) > frozenset([2, 5]) conf: 0.666666666667\n",
      "frozenset([2]) > frozenset([3, 5]) conf: 0.666666666667\n"
     ]
    }
   ],
   "source": [
    "rules = generateRules(L , suppData , minConf=0.5)"
   ]
  },
  {
   "cell_type": "code",
   "execution_count": 31,
   "metadata": {},
   "outputs": [
    {
     "data": {
      "text/plain": [
       "[(frozenset({3}), frozenset({1}), 0.6666666666666666),\n",
       " (frozenset({1}), frozenset({3}), 1.0),\n",
       " (frozenset({5}), frozenset({2}), 1.0),\n",
       " (frozenset({2}), frozenset({5}), 1.0),\n",
       " (frozenset({3}), frozenset({2}), 0.6666666666666666),\n",
       " (frozenset({2}), frozenset({3}), 0.6666666666666666),\n",
       " (frozenset({5}), frozenset({3}), 0.6666666666666666),\n",
       " (frozenset({3}), frozenset({5}), 0.6666666666666666),\n",
       " (frozenset({5}), frozenset({2, 3}), 0.6666666666666666),\n",
       " (frozenset({3}), frozenset({2, 5}), 0.6666666666666666),\n",
       " (frozenset({2}), frozenset({3, 5}), 0.6666666666666666)]"
      ]
     },
     "execution_count": 31,
     "metadata": {},
     "output_type": "execute_result"
    }
   ],
   "source": [
    "rules"
   ]
  },
  {
   "cell_type": "code",
   "execution_count": 32,
   "metadata": {
    "collapsed": true
   },
   "outputs": [],
   "source": [
    "#读入蘑菇数据\n",
    "mushDatSet = [line.split() for line in open('../MLiA_SourceCode/Ch11/mushroom.dat').readlines()]"
   ]
  },
  {
   "cell_type": "code",
   "execution_count": 33,
   "metadata": {
    "collapsed": true
   },
   "outputs": [],
   "source": [
    "L , suppData = apriori(mushDatSet , minSupport=0.3)"
   ]
  },
  {
   "cell_type": "code",
   "execution_count": 34,
   "metadata": {},
   "outputs": [
    {
     "name": "stdout",
     "output_type": "stream",
     "text": [
      "frozenset(['2', '59'])\n",
      "frozenset(['39', '2'])\n",
      "frozenset(['2', '67'])\n",
      "frozenset(['2', '34'])\n",
      "frozenset(['2', '23'])\n",
      "frozenset(['2', '86'])\n",
      "frozenset(['76', '2'])\n",
      "frozenset(['90', '2'])\n",
      "frozenset(['2', '53'])\n",
      "frozenset(['93', '2'])\n",
      "frozenset(['63', '2'])\n",
      "frozenset(['2', '28'])\n",
      "frozenset(['2', '85'])\n",
      "frozenset(['2', '36'])\n"
     ]
    }
   ],
   "source": [
    "for item in L[1]:\n",
    "    if item.intersection('2'):\n",
    "        print item"
   ]
  },
  {
   "cell_type": "code",
   "execution_count": 35,
   "metadata": {},
   "outputs": [
    {
     "name": "stdout",
     "output_type": "stream",
     "text": [
      "frozenset(['39', '2', '53', '34'])\n",
      "frozenset(['2', '59', '23', '85'])\n",
      "frozenset(['2', '59', '90', '85'])\n",
      "frozenset(['39', '2', '36', '34'])\n",
      "frozenset(['39', '2', '90', '85'])\n",
      "frozenset(['2', '59', '90', '86'])\n",
      "frozenset(['2', '90', '93', '86'])\n",
      "frozenset(['39', '2', '93', '34'])\n",
      "frozenset(['76', '39', '2', '34'])\n",
      "frozenset(['39', '2', '59', '86'])\n",
      "frozenset(['2', '59', '90', '36'])\n",
      "frozenset(['2', '59', '93', '85'])\n",
      "frozenset(['2', '67', '86', '85'])\n",
      "frozenset(['2', '28', '53', '85'])\n",
      "frozenset(['2', '59', '93', '36'])\n",
      "frozenset(['63', '23', '2', '34'])\n",
      "frozenset(['2', '23', '36', '85'])\n",
      "frozenset(['2', '90', '34', '85'])\n",
      "frozenset(['39', '2', '59', '34'])\n",
      "frozenset(['39', '2', '90', '34'])\n",
      "frozenset(['2', '34', '28', '85'])\n",
      "frozenset(['2', '59', '23', '36'])\n",
      "frozenset(['2', '23', '93', '36'])\n",
      "frozenset(['2', '23', '86', '85'])\n",
      "frozenset(['39', '2', '34', '85'])\n",
      "frozenset(['2', '93', '86', '34'])\n",
      "frozenset(['63', '59', '2', '36'])\n",
      "frozenset(['2', '67', '86', '34'])\n",
      "frozenset(['39', '2', '67', '85'])\n",
      "frozenset(['2', '23', '90', '85'])\n",
      "frozenset(['63', '2', '28', '85'])\n",
      "frozenset(['39', '2', '28', '85'])\n",
      "frozenset(['39', '2', '90', '86'])\n",
      "frozenset(['76', '2', '86', '34'])\n",
      "frozenset(['2', '93', '36', '34'])\n",
      "frozenset(['63', '59', '2', '85'])\n",
      "frozenset(['2', '23', '93', '86'])\n",
      "frozenset(['39', '2', '53', '85'])\n",
      "frozenset(['2', '93', '86', '85'])\n",
      "frozenset(['2', '90', '86', '85'])\n",
      "frozenset(['2', '23', '86', '34'])\n",
      "frozenset(['2', '34', '53', '85'])\n",
      "frozenset(['2', '93', '86', '36'])\n",
      "frozenset(['2', '23', '93', '85'])\n",
      "frozenset(['2', '90', '86', '36'])\n",
      "frozenset(['39', '2', '28', '34'])\n",
      "frozenset(['2', '23', '86', '36'])\n",
      "frozenset(['76', '39', '2', '85'])\n",
      "frozenset(['2', '23', '90', '34'])\n",
      "frozenset(['76', '2', '86', '85'])\n",
      "frozenset(['39', '2', '23', '36'])\n",
      "frozenset(['2', '93', '34', '85'])\n",
      "frozenset(['2', '23', '36', '34'])\n",
      "frozenset(['39', '2', '59', '93'])\n",
      "frozenset(['2', '90', '86', '53'])\n",
      "frozenset(['63', '59', '2', '86'])\n",
      "frozenset(['2', '23', '85', '34'])\n",
      "frozenset(['2', '23', '90', '86'])\n",
      "frozenset(['39', '2', '67', '34'])\n",
      "frozenset(['39', '2', '59', '23'])\n",
      "frozenset(['39', '2', '59', '85'])\n",
      "frozenset(['2', '90', '28', '85'])\n",
      "frozenset(['2', '34', '86', '85'])\n",
      "frozenset(['39', '2', '23', '85'])\n",
      "frozenset(['2', '90', '86', '34'])\n",
      "frozenset(['2', '86', '36', '85'])\n",
      "frozenset(['39', '2', '59', '36'])\n",
      "frozenset(['39', '2', '93', '36'])\n",
      "frozenset(['2', '59', '90', '34'])\n",
      "frozenset(['2', '90', '93', '36'])\n",
      "frozenset(['39', '2', '93', '86'])\n",
      "frozenset(['39', '2', '93', '85'])\n",
      "frozenset(['2', '86', '53', '85'])\n",
      "frozenset(['63', '2', '86', '36'])\n",
      "frozenset(['2', '39', '63', '90'])\n",
      "frozenset(['76', '2', '85', '34'])\n",
      "frozenset(['2', '90', '93', '85'])\n",
      "frozenset(['39', '2', '90', '53'])\n",
      "frozenset(['2', '23', '90', '93'])\n",
      "frozenset(['2', '59', '86', '28'])\n",
      "frozenset(['2', '59', '23', '90'])\n",
      "frozenset(['39', '2', '28', '86'])\n",
      "frozenset(['63', '2', '86', '85'])\n",
      "frozenset(['2', '86', '36', '34'])\n",
      "frozenset(['39', '2', '23', '86'])\n",
      "frozenset(['63', '2', '28', '34'])\n",
      "frozenset(['2', '59', '23', '34'])\n",
      "frozenset(['2', '59', '85', '34'])\n",
      "frozenset(['39', '2', '86', '53'])\n",
      "frozenset(['63', '2', '85', '34'])\n",
      "frozenset(['76', '39', '2', '86'])\n",
      "frozenset(['39', '2', '67', '86'])\n",
      "frozenset(['63', '59', '2', '34'])\n",
      "frozenset(['2', '59', '36', '85'])\n",
      "frozenset(['86', '63', '2', '28'])\n",
      "frozenset(['39', '2', '28', '53'])\n",
      "frozenset(['39', '2', '36', '85'])\n",
      "frozenset(['2', '23', '93', '34'])\n",
      "frozenset(['63', '23', '2', '85'])\n",
      "frozenset(['2', '28', '53', '34'])\n",
      "frozenset(['2', '85', '36', '34'])\n",
      "frozenset(['39', '2', '90', '93'])\n",
      "frozenset(['39', '2', '59', '90'])\n",
      "frozenset(['39', '2', '59', '28'])\n",
      "frozenset(['63', '59', '23', '2'])\n",
      "frozenset(['2', '90', '53', '34'])\n",
      "frozenset(['2', '59', '36', '34'])\n",
      "frozenset(['2', '86', '53', '34'])\n",
      "frozenset(['2', '59', '90', '28'])\n",
      "frozenset(['2', '63', '90', '93'])\n",
      "frozenset(['2', '90', '28', '53'])\n",
      "frozenset(['39', '2', '86', '85'])\n",
      "frozenset(['2', '90', '36', '85'])\n",
      "frozenset(['2', '90', '86', '28'])\n",
      "frozenset(['63', '23', '2', '86'])\n",
      "frozenset(['63', '2', '36', '34'])\n",
      "frozenset(['2', '59', '23', '93'])\n",
      "frozenset(['2', '59', '93', '86'])\n",
      "frozenset(['39', '2', '86', '36'])\n",
      "frozenset(['2', '90', '53', '85'])\n",
      "frozenset(['63', '2', '86', '34'])\n",
      "frozenset(['63', '23', '2', '36'])\n",
      "frozenset(['2', '93', '36', '85'])\n",
      "frozenset(['2', '59', '93', '34'])\n",
      "frozenset(['2', '90', '93', '34'])\n",
      "frozenset(['63', '2', '36', '85'])\n",
      "frozenset(['2', '67', '34', '85'])\n",
      "frozenset(['39', '2', '23', '93'])\n",
      "frozenset(['39', '2', '90', '36'])\n",
      "frozenset(['2', '90', '28', '34'])\n",
      "frozenset(['39', '2', '86', '34'])\n",
      "frozenset(['2', '90', '36', '34'])\n",
      "frozenset(['39', '2', '23', '34'])\n",
      "frozenset(['39', '2', '90', '28'])\n",
      "frozenset(['2', '59', '90', '93'])\n",
      "frozenset(['63', '59', '2', '28'])\n"
     ]
    }
   ],
   "source": [
    "for item in L[3]:\n",
    "    if item.intersection('2'):\n",
    "        print item"
   ]
  },
  {
   "cell_type": "code",
   "execution_count": null,
   "metadata": {
    "collapsed": true
   },
   "outputs": [],
   "source": []
  }
 ],
 "metadata": {
  "kernelspec": {
   "display_name": "Python 2",
   "language": "python",
   "name": "python2"
  },
  "language_info": {
   "codemirror_mode": {
    "name": "ipython",
    "version": 2
   },
   "file_extension": ".py",
   "mimetype": "text/x-python",
   "name": "python",
   "nbconvert_exporter": "python",
   "pygments_lexer": "ipython2",
   "version": "2.7.13"
  }
 },
 "nbformat": 4,
 "nbformat_minor": 2
}
