{
 "cells": [
  {
   "cell_type": "markdown",
   "metadata": {},
   "source": [
    "### map module"
   ]
  },
  {
   "cell_type": "code",
   "execution_count": 1,
   "metadata": {
    "collapsed": true
   },
   "outputs": [],
   "source": [
    "import sys\n",
    "from numpy import mat , mean , power"
   ]
  },
  {
   "cell_type": "code",
   "execution_count": 2,
   "metadata": {
    "collapsed": true
   },
   "outputs": [],
   "source": [
    "def read_input(file):\n",
    "    for line in file:\n",
    "        yield line.rstrip()"
   ]
  },
  {
   "cell_type": "code",
   "execution_count": 3,
   "metadata": {
    "collapsed": true
   },
   "outputs": [],
   "source": [
    "input_ = read_input(sys.stdin)\n",
    "input_ = [float(line) for line in input_]\n",
    "\n",
    "numInputs = len(input_)\n",
    "\n",
    "input_ = mat(input_)\n",
    "\n",
    "sqInput = power(input_ , 2)"
   ]
  },
  {
   "cell_type": "code",
   "execution_count": 4,
   "metadata": {},
   "outputs": [
    {
     "name": "stdout",
     "output_type": "stream",
     "text": [
      "0\tnan\tnan\n"
     ]
    },
    {
     "name": "stderr",
     "output_type": "stream",
     "text": [
      "I:\\Anaconda3\\envs\\ipykernel_py2\\lib\\site-packages\\numpy\\matrixlib\\defmatrix.py:536: RuntimeWarning: Mean of empty slice.\n",
      "  return N.ndarray.mean(self, axis, dtype, out, keepdims=True)._collapse(axis)\n",
      "I:\\Anaconda3\\envs\\ipykernel_py2\\lib\\site-packages\\numpy\\core\\_methods.py:73: RuntimeWarning: invalid value encountered in true_divide\n",
      "  ret, rcount, out=ret, casting='unsafe', subok=False)\n",
      "report:still alive\n"
     ]
    }
   ],
   "source": [
    "print '%d\\t%f\\t%f' % (numInputs , mean(input_) , mean(sqInput))\n",
    "\n",
    "print >> sys.stderr , 'report:still alive'"
   ]
  },
  {
   "cell_type": "markdown",
   "metadata": {},
   "source": [
    "### reduce module"
   ]
  },
  {
   "cell_type": "code",
   "execution_count": 5,
   "metadata": {
    "collapsed": true
   },
   "outputs": [],
   "source": [
    "def read_input(file):\n",
    "    for line in file:\n",
    "        yield line.rstrip()"
   ]
  },
  {
   "cell_type": "code",
   "execution_count": 6,
   "metadata": {
    "collapsed": true
   },
   "outputs": [
    {
     "ename": "ZeroDivisionError",
     "evalue": "float division by zero",
     "output_type": "error",
     "traceback": [
      "\u001b[1;31m---------------------------------------------------------------------------\u001b[0m",
      "\u001b[1;31mZeroDivisionError\u001b[0m                         Traceback (most recent call last)",
      "\u001b[1;32m<ipython-input-6-33fa3823bab5>\u001b[0m in \u001b[0;36m<module>\u001b[1;34m()\u001b[0m\n\u001b[0;32m     13\u001b[0m     \u001b[0mcumSumSq\u001b[0m \u001b[1;33m+=\u001b[0m \u001b[0mnj\u001b[0m\u001b[1;33m*\u001b[0m\u001b[0mfloat\u001b[0m\u001b[1;33m(\u001b[0m\u001b[0minstance\u001b[0m\u001b[1;33m[\u001b[0m\u001b[1;36m2\u001b[0m\u001b[1;33m]\u001b[0m\u001b[1;33m)\u001b[0m\u001b[1;33m\u001b[0m\u001b[0m\n\u001b[0;32m     14\u001b[0m \u001b[1;33m\u001b[0m\u001b[0m\n\u001b[1;32m---> 15\u001b[1;33m \u001b[0mmean\u001b[0m \u001b[1;33m=\u001b[0m \u001b[0mcumVal\u001b[0m\u001b[1;33m/\u001b[0m\u001b[0mcumN\u001b[0m\u001b[1;33m\u001b[0m\u001b[0m\n\u001b[0m\u001b[0;32m     16\u001b[0m \u001b[1;33m\u001b[0m\u001b[0m\n\u001b[0;32m     17\u001b[0m \u001b[0mvarSum\u001b[0m \u001b[1;33m=\u001b[0m \u001b[1;33m(\u001b[0m\u001b[0mcumSumSq\u001b[0m \u001b[1;33m-\u001b[0m \u001b[1;36m2\u001b[0m\u001b[1;33m*\u001b[0m\u001b[0mmean\u001b[0m\u001b[1;33m*\u001b[0m\u001b[0mcumVal\u001b[0m \u001b[1;33m+\u001b[0m \u001b[0mcumN\u001b[0m\u001b[1;33m*\u001b[0m\u001b[0mmean\u001b[0m\u001b[1;33m*\u001b[0m\u001b[0mmean\u001b[0m\u001b[1;33m)\u001b[0m\u001b[1;33m/\u001b[0m\u001b[0mcumN\u001b[0m\u001b[1;33m\u001b[0m\u001b[0m\n",
      "\u001b[1;31mZeroDivisionError\u001b[0m: float division by zero"
     ]
    }
   ],
   "source": [
    "input_ = read_input(sys.stdin)\n",
    "\n",
    "mapperOut = [line.split('\\t') for line in input_]\n",
    "\n",
    "cumVal = 0.0\n",
    "cumSumSq = 0.0\n",
    "cumN = 0.0\n",
    "\n",
    "for instance in mapperOut:\n",
    "    nj = float(instance[0])\n",
    "    cumN += nj\n",
    "    cumVal += nj*float(instance[1])\n",
    "    cumSumSq += nj*float(instance[2])\n",
    "\n",
    "mean = cumVal/cumN\n",
    "\n",
    "varSum = (cumSumSq - 2*mean*cumVal + cumN*mean*mean)/cumN\n",
    "\n",
    "print '%d\\t%f\\t%f' % (cumN , mean , varSum)\n",
    "\n",
    "print >> sys.stderr , 'report: still alive'"
   ]
  },
  {
   "cell_type": "markdown",
   "metadata": {},
   "source": [
    "### module mrjob"
   ]
  },
  {
   "cell_type": "code",
   "execution_count": null,
   "metadata": {
    "collapsed": true
   },
   "outputs": [],
   "source": [
    "from mrjob.job import MRJob\n",
    "\n",
    "class MRmean(MRJob):\n",
    "    def __init__(self , *args , **kwargs):\n",
    "        super(MRmean , self).__init__(*args , **kwargs)\n",
    "        self.inCount = 0\n",
    "        self.inSum = 0\n",
    "        self.inSqSum = 0.0\n",
    "    \n",
    "    def map_(self , key , val):\n",
    "        if False:\n",
    "            yield\n",
    "        \n",
    "        inVal = float(val)\n",
    "        \n",
    "        self.inCount += 1\n",
    "        self.inSum += inVal\n",
    "        self.inSqSum += inVal**2\n",
    "        \n",
    "    \n",
    "    def map_final(self):\n",
    "        mn = self.inSum/self.inCount\n",
    "        mnSq = self.inSqSum/self.inCount\n",
    "        \n",
    "        yield (1 , [self.inCount , mn , mnSq])\n",
    "        \n",
    "    def reduce(self , key , packedValues):\n",
    "        cumVal = 0.0\n",
    "        cumSumSq = 0.0\n",
    "        cumN = 0.0\n",
    "        \n",
    "        for valArr in packedValues:\n",
    "            nj = float(valArr[0])\n",
    "            cumN += nj\n",
    "            cumVal += nj*float(valArr[1])\n",
    "            cumSumSq += nj*float(valArr[2])\n",
    "        \n",
    "        mean = cumVal/cumN\n",
    "        var = (cumSumSq-2*mean*cumVal + cumN*mean**2) / cumN\n",
    "        \n",
    "        yield (mean , var)\n",
    "        \n",
    "    def steps(self):\n",
    "        return ([self.mr(mapper=self.map , reducer = self.reduce , mapper_final = self.map_final)])\n",
    "    \n",
    "\n",
    "#\n",
    "MRmean.run()\n"
   ]
  },
  {
   "cell_type": "code",
   "execution_count": 7,
   "metadata": {
    "collapsed": true
   },
   "outputs": [],
   "source": [
    "#pegasos\n",
    "def predict(w , x):\n",
    "    return w*x.T\n",
    "\n",
    "def batchpegasos(dataSet , labels , lam , T , k):\n",
    "    m , n = shape(dataSet)\n",
    "    w = zeros(n)\n",
    "    \n",
    "    dataIndex = range(m)\n",
    "    \n",
    "    for t in range(1 , T+1):\n",
    "        wDelta = mat(zeros(n))\n",
    "        eta = 1.0/(lam*t)\n",
    "        random.shuffle(dataIndex)\n",
    "        \n",
    "        for j in range(k):\n",
    "            i = dataIndex[j]\n",
    "            p = predict(w , dataSet[i,:])\n",
    "            \n",
    "            if labels[i]*p < 1:\n",
    "                wDelta += labels[i]*dataSet[i,:].A\n",
    "        \n",
    "        w = (1.0*1/t)*w+(eta/k)*wDelta\n",
    "    \n",
    "    return w"
   ]
  },
  {
   "cell_type": "code",
   "execution_count": null,
   "metadata": {
    "collapsed": true
   },
   "outputs": [],
   "source": []
  }
 ],
 "metadata": {
  "kernelspec": {
   "display_name": "Python 2",
   "language": "python",
   "name": "python2"
  },
  "language_info": {
   "codemirror_mode": {
    "name": "ipython",
    "version": 2
   },
   "file_extension": ".py",
   "mimetype": "text/x-python",
   "name": "python",
   "nbconvert_exporter": "python",
   "pygments_lexer": "ipython2",
   "version": "2.7.13"
  }
 },
 "nbformat": 4,
 "nbformat_minor": 2
}
