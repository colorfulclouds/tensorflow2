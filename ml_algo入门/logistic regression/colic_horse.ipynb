{
 "cells": [
  {
   "cell_type": "code",
   "execution_count": 5,
   "metadata": {},
   "outputs": [],
   "source": [
    "import numpy as np"
   ]
  },
  {
   "cell_type": "code",
   "execution_count": 12,
   "metadata": {
    "collapsed": true
   },
   "outputs": [],
   "source": [
    "def sigmoid(inX):\n",
    "    return 1.0 / (1+np.exp(-inX))\n",
    "\n",
    "def stocGradAscent1(dataMatrix , classLabels , numIter = 150):\n",
    "    m , n = dataMatrix.shape\n",
    "    weights = np.ones(n)\n",
    "    \n",
    "    for j in range(numIter):\n",
    "        dataIndex = range(m)\n",
    "        for i in range(m):\n",
    "            alpha = 4/(1.0+j+i) + 0.01\n",
    "            \n",
    "            randIndex = int(np.random.uniform(0 , len(dataIndex)))\n",
    "            h = sigmoid(np.sum(dataMatrix[randIndex] * weights))\n",
    "            \n",
    "            error = classLabels[randIndex] - h\n",
    "            weights = weights + alpha*error*dataMatrix[randIndex]\n",
    "            \n",
    "            #del(dataMatrix[randIndex])\n",
    "        \n",
    "    return weights"
   ]
  },
  {
   "cell_type": "code",
   "execution_count": 13,
   "metadata": {},
   "outputs": [],
   "source": [
    "def classifyVector(inX , weights):\n",
    "    prob = sigmoid(sum(inX * weights))\n",
    "    \n",
    "    if prob > 0.5:\n",
    "        return 1.0\n",
    "    else:\n",
    "        return 0.0\n",
    "    \n",
    "def colicTest():\n",
    "    frTrain = open('../MLiA_SourceCode/Ch05/horseColicTraining.txt')\n",
    "    frTest = open('../MLiA_SourceCode/Ch05/horseColicTest.txt')\n",
    "    \n",
    "    trainingSet = []\n",
    "    trainingLabels = []\n",
    "    \n",
    "    for line in frTrain.readlines():\n",
    "        currLine = line.strip().split('\\t')\n",
    "        lineArr = []\n",
    "        \n",
    "        for i in range(21):\n",
    "            lineArr.append(float(currLine[i]))\n",
    "        \n",
    "        trainingSet.append(lineArr)\n",
    "        \n",
    "        trainingLabels.append(float(currLine[21]))\n",
    "    \n",
    "    trainWeights = stocGradAscent1(np.array(trainingSet) , trainingLabels , 500)\n",
    "    \n",
    "    errorCount = 0\n",
    "    numTestVec = 0.0\n",
    "    \n",
    "    for line in frTest.readlines():\n",
    "        numTestVec += 1.0\n",
    "        currLine = line.strip().split('\\t')\n",
    "        lineArr = []\n",
    "        \n",
    "        for i in range(21):\n",
    "            lineArr.append(float(currLine[i]))\n",
    "        \n",
    "        if int(classifyVector(np.array(lineArr) , trainWeights)) != int(currLine[21]):\n",
    "            errorCount += 1\n",
    "        \n",
    "    errorRate = (float(errorCount) / numTestVec)\n",
    "    print('error rate:' , errorRate)\n",
    "    \n",
    "    return errorRate\n",
    "\n",
    "def multiTest():\n",
    "    numTests = 10\n",
    "    errorSum = 0.0\n",
    "    \n",
    "    for k in range(numTests):\n",
    "        errorSum += colicTest()\n",
    "    \n",
    "    print('after %d iterations rate is:%f' % (numTests , errorSum/float(numTests)))"
   ]
  },
  {
   "cell_type": "code",
   "execution_count": 14,
   "metadata": {},
   "outputs": [
    {
     "name": "stderr",
     "output_type": "stream",
     "text": [
      "I:\\Anaconda3\\lib\\site-packages\\ipykernel_launcher.py:2: RuntimeWarning: overflow encountered in exp\n",
      "  \n"
     ]
    },
    {
     "name": "stdout",
     "output_type": "stream",
     "text": [
      "error rate: 0.3582089552238806\n",
      "error rate: 0.29850746268656714\n",
      "error rate: 0.3283582089552239\n",
      "error rate: 0.6716417910447762\n",
      "error rate: 0.3283582089552239\n",
      "error rate: 0.3283582089552239\n",
      "error rate: 0.4626865671641791\n",
      "error rate: 0.2537313432835821\n",
      "error rate: 0.31343283582089554\n",
      "error rate: 0.3582089552238806\n",
      "after 10 iterations rate is:0.370149\n"
     ]
    }
   ],
   "source": [
    "multiTest()"
   ]
  },
  {
   "cell_type": "code",
   "execution_count": null,
   "metadata": {
    "collapsed": true
   },
   "outputs": [],
   "source": []
  }
 ],
 "metadata": {
  "kernelspec": {
   "display_name": "Python 3",
   "language": "python",
   "name": "python3"
  },
  "language_info": {
   "codemirror_mode": {
    "name": "ipython",
    "version": 3
   },
   "file_extension": ".py",
   "mimetype": "text/x-python",
   "name": "python",
   "nbconvert_exporter": "python",
   "pygments_lexer": "ipython3",
   "version": "3.6.2"
  }
 },
 "nbformat": 4,
 "nbformat_minor": 2
}
