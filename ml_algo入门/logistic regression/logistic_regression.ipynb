{
 "cells": [
  {
   "cell_type": "code",
   "execution_count": 8,
   "metadata": {
    "collapsed": true
   },
   "outputs": [],
   "source": [
    "import numpy as np\n",
    "import matplotlib.pyplot as plt\n",
    "%matplotlib inline"
   ]
  },
  {
   "cell_type": "code",
   "execution_count": 6,
   "metadata": {},
   "outputs": [],
   "source": [
    "def loadDataSet():\n",
    "    dataMat = []\n",
    "    labelMat = []\n",
    "    \n",
    "    fr = open('../MLiA_SourceCode/Ch05/testSet.txt')\n",
    "    \n",
    "    for line in fr.readlines():\n",
    "        lineArr = line.strip().split()\n",
    "        \n",
    "        dataMat.append([1.0 , float(lineArr[0]) , float(lineArr[1])])\n",
    "        labelMat.append(int(lineArr[2]))\n",
    "    \n",
    "    return dataMat , labelMat\n",
    "\n",
    "def sigmoid(inX):\n",
    "    return 1.0 / (1+np.exp(-inX))\n",
    "\n",
    "def gradAscent(dataMatIn , classLabels):\n",
    "    dataMatrix = np.mat(dataMatIn)\n",
    "    labelMat = np.mat(classLabels).T\n",
    "    m , n = dataMatrix.shape\n",
    "    alpha = 0.001\n",
    "    maxCycles = 500\n",
    "    weights = np.ones((n , 1))\n",
    "    \n",
    "    for k in range(maxCycles):\n",
    "        h = sigmoid(dataMatrix * weights)\n",
    "        \n",
    "        error = labelMat - h\n",
    "        weights = weights + alpha*dataMatrix.T*error\n",
    "    \n",
    "    return weights"
   ]
  },
  {
   "cell_type": "code",
   "execution_count": 10,
   "metadata": {},
   "outputs": [],
   "source": [
    "dataArr , labelMat = loadDataSet()\n",
    "weights = gradAscent(dataArr , labelMat)"
   ]
  },
  {
   "cell_type": "code",
   "execution_count": 24,
   "metadata": {},
   "outputs": [],
   "source": [
    "#绘制分割线图形\n",
    "def plotBestFit(weights):\n",
    "    dataMat , labelMat = loadDataSet()\n",
    "    dataArr = np.array(dataMat)\n",
    "    \n",
    "    n = dataArr.shape[0]\n",
    "    \n",
    "    xcord1 = [] ; ycord1 = []\n",
    "    xcord2 = [] ; ycord2 = []\n",
    "\n",
    "    for i in range(n):\n",
    "        if int(labelMat[i]) == 1:\n",
    "            xcord1.append(dataArr[i,1])\n",
    "            ycord1.append(dataArr[i,2])\n",
    "        else:\n",
    "            xcord2.append(dataArr[i,1])\n",
    "            ycord2.append(dataArr[i,2])\n",
    "        \n",
    "    fig = plt.figure()\n",
    "    ax = fig.add_subplot(111)\n",
    "    ax.scatter(xcord1 , ycord1 , s=30 , c='red' , marker = 's')\n",
    "    ax.scatter(xcord2 , ycord2 , s=30 , c='green')\n",
    "    x = np.arange(-3. , 3. , 0.1)\n",
    "    x=np.mat(x) #add extra\n",
    "    y = (-weights[0]-weights[1]*x)/weights[2]\n",
    "\n",
    "    ax.plot(x,y)\n",
    "    plt.xlabel('x1')\n",
    "    plt.ylabel('x2')\n",
    "    plt.show\n"
   ]
  },
  {
   "cell_type": "code",
   "execution_count": 25,
   "metadata": {},
   "outputs": [
    {
     "data": {
      "image/png": "[encoded data removed]",
      "text/plain": [
       "<matplotlib.figure.Figure at 0x292e79e6da0>"
      ]
     },
     "metadata": {},
     "output_type": "display_data"
    }
   ],
   "source": [
    "plotBestFit(weights)"
   ]
  },
  {
   "cell_type": "code",
   "execution_count": 39,
   "metadata": {
    "collapsed": true
   },
   "outputs": [],
   "source": [
    "def stocGradAscent0(dataMatrix , classLabels):\n",
    "    m ,n = np.shape(dataMatrix)\n",
    "    alpha = 0.01\n",
    "    \n",
    "    weights = np.ones(n)\n",
    "    \n",
    "    for i in range(m):\n",
    "        h = sigmoid(np.sum(dataMatrix[i].T * weights))\n",
    "        error = classLabels[i] - h\n",
    "        weights = weights + alpha*error*dataMatrix[i]\n",
    "    \n",
    "    return weights\n"
   ]
  },
  {
   "cell_type": "code",
   "execution_count": 40,
   "metadata": {},
   "outputs": [],
   "source": [
    "dataArr , labelMat = loadDataSet()\n",
    "weights = stocGradAscent0(np.mat(dataArr) , labelMat)"
   ]
  },
  {
   "cell_type": "code",
   "execution_count": 44,
   "metadata": {
    "collapsed": true
   },
   "outputs": [],
   "source": [
    "def stocGradAscent1(dataMatrix , classLabels , numIter = 150):\n",
    "    m , n = dataMatrix.shape\n",
    "    weights = np.ones(n)\n",
    "    \n",
    "    for j in range(numIter):\n",
    "        dataIndex = range(m)\n",
    "        for i in range(m):\n",
    "            alpha = 4/(1.0+j+i) + 0.01\n",
    "            \n",
    "            randIndex = int(np.random.uniform(0 , len(dataIndex)))\n",
    "            h = sigmoid(np.sum(dataMatrix[randIndex] * weights))\n",
    "            \n",
    "            error = classLabels[randIndex] - h\n",
    "            weights = weights + alpha*error*dataMatrix[randIndex]\n",
    "            \n",
    "            del(dataMatrix[randIndex])\n",
    "        \n",
    "    return weights\n",
    "\n",
    "weights = stocGradAscent0(np.mat(dataArr) , labelMat)"
   ]
  },
  {
   "cell_type": "code",
   "execution_count": 45,
   "metadata": {},
   "outputs": [
    {
     "data": {
      "text/plain": [
       "matrix([[ 0.87289381,  0.99746585, -2.02301285]])"
      ]
     },
     "execution_count": 45,
     "metadata": {},
     "output_type": "execute_result"
    }
   ],
   "source": [
    "weights"
   ]
  },
  {
   "cell_type": "code",
   "execution_count": null,
   "metadata": {
    "collapsed": true
   },
   "outputs": [],
   "source": []
  }
 ],
 "metadata": {
  "kernelspec": {
   "display_name": "Python 3",
   "language": "python",
   "name": "python3"
  },
  "language_info": {
   "codemirror_mode": {
    "name": "ipython",
    "version": 3
   },
   "file_extension": ".py",
   "mimetype": "text/x-python",
   "name": "python",
   "nbconvert_exporter": "python",
   "pygments_lexer": "ipython3",
   "version": "3.6.2"
  }
 },
 "nbformat": 4,
 "nbformat_minor": 2
}
