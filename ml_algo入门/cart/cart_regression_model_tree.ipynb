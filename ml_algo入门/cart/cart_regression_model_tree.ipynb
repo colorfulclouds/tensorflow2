{
 "cells": [
  {
   "cell_type": "code",
   "execution_count": 3,
   "metadata": {
    "collapsed": true
   },
   "outputs": [],
   "source": [
    "from numpy import *"
   ]
  },
  {
   "cell_type": "code",
   "execution_count": 4,
   "metadata": {
    "collapsed": true
   },
   "outputs": [],
   "source": [
    "def loadDataSet(fileName):\n",
    "    dataMat = []\n",
    "    fr = open(fileName)\n",
    "    \n",
    "    for line in fr.readlines():\n",
    "        curLine = line.strip().split('\\t')\n",
    "        fltLine = map(float , curLine)\n",
    "        dataMat.append(fltLine)\n",
    "    \n",
    "    return dataMat"
   ]
  },
  {
   "cell_type": "code",
   "execution_count": 5,
   "metadata": {
    "collapsed": true
   },
   "outputs": [],
   "source": [
    "def binSplitDataSet(dataSet , feature , value):\n",
    "    mat0 = dataSet[nonzero(dataSet[: , feature] > value)[0] , :]\n",
    "    mat1 = dataSet[nonzero(dataSet[: , feature] <= value)[0] , :]\n",
    "    \n",
    "    return mat0 , mat1"
   ]
  },
  {
   "cell_type": "code",
   "execution_count": 14,
   "metadata": {},
   "outputs": [],
   "source": [
    "def createTree(dataSet , leafType = regLeaf , errType = regErr , ops=(1 , 4)):\n",
    "    feat , val = chooseBestSplit(dataSet , leafType , errType , ops)\n",
    "    \n",
    "    if feat == None:\n",
    "        return val\n",
    "    \n",
    "    retTree = {}\n",
    "    retTree['spInd'] = feat\n",
    "    retTree['spVal'] = val\n",
    "    \n",
    "    lSet , rSet = binSplitDataSet(dataSet , feat , val)\n",
    "    \n",
    "    retTree['left'] = createTree(lSet , leafType , errType , ops)\n",
    "    retTree['right'] = createTree(rSet , leafType , errType , ops)    \n",
    "    \n",
    "    return retTree"
   ]
  },
  {
   "cell_type": "code",
   "execution_count": 19,
   "metadata": {},
   "outputs": [
    {
     "data": {
      "text/plain": [
       "matrix([[1., 0., 0., 0.],\n",
       "        [0., 1., 0., 0.],\n",
       "        [0., 0., 1., 0.],\n",
       "        [0., 0., 0., 1.]])"
      ]
     },
     "execution_count": 19,
     "metadata": {},
     "output_type": "execute_result"
    }
   ],
   "source": [
    "testMat = mat(eye(4))\n",
    "testMat"
   ]
  },
  {
   "cell_type": "code",
   "execution_count": 20,
   "metadata": {},
   "outputs": [],
   "source": [
    "mat0 , mat1 = binSplitDataSet(testMat , 1 , 0.5)"
   ]
  },
  {
   "cell_type": "code",
   "execution_count": 21,
   "metadata": {},
   "outputs": [
    {
     "data": {
      "text/plain": [
       "matrix([[0., 1., 0., 0.]])"
      ]
     },
     "execution_count": 21,
     "metadata": {},
     "output_type": "execute_result"
    }
   ],
   "source": [
    "mat0"
   ]
  },
  {
   "cell_type": "code",
   "execution_count": 22,
   "metadata": {},
   "outputs": [
    {
     "data": {
      "text/plain": [
       "matrix([[1., 0., 0., 0.],\n",
       "        [0., 0., 1., 0.],\n",
       "        [0., 0., 0., 1.]])"
      ]
     },
     "execution_count": 22,
     "metadata": {},
     "output_type": "execute_result"
    }
   ],
   "source": [
    "mat1"
   ]
  },
  {
   "cell_type": "code",
   "execution_count": 7,
   "metadata": {
    "collapsed": true
   },
   "outputs": [],
   "source": [
    "def regLeaf(dataSet):\n",
    "    return mean(dataSet[: , -1])\n",
    "\n",
    "def regErr(dataSet):\n",
    "    return var(dataSet[: , -1]) * shape(dataSet)[0]"
   ]
  },
  {
   "cell_type": "code",
   "execution_count": 13,
   "metadata": {},
   "outputs": [],
   "source": [
    "def chooseBestSplit(dataSet , leafType = regLeaf , errType = regErr , ops=(1,4)):\n",
    "    tolS = ops[0]\n",
    "    tolN = ops[1]\n",
    "    \n",
    "    if len(set(dataSet[: , -1].T.tolist()[0])) == 1:\n",
    "        return None , leafType(dataSet)\n",
    "    \n",
    "    m , n = shape(dataSet)\n",
    "    S = errType(dataSet)\n",
    "    \n",
    "    bestS = inf\n",
    "    bestIndex = 0\n",
    "    bestValue = 0\n",
    "    \n",
    "    for featIndex in range(n-1): #最后一列是target\n",
    "        #for splitVal in set(dataSet[: , featIndex]): #set直接去掉重复的feature取值\n",
    "        for splitVal in set(dataSet[:,featIndex].T.A.tolist()[0]):\n",
    "            mat0 , mat1 = binSplitDataSet(dataSet , featIndex , splitVal)\n",
    "            \n",
    "            if (shape(mat0)[0]<tolN) or (shape(mat1)[0]<tolN):\n",
    "                continue\n",
    "            \n",
    "            newS = errType(mat0) + errType(mat1)\n",
    "            if newS<bestS:\n",
    "                bestIndex = featIndex\n",
    "                bestValue = splitVal\n",
    "                bestS = newS\n",
    "    \n",
    "    if (S-bestS)<tolS:\n",
    "        return None , leafType(dataSet)\n",
    "    \n",
    "    mat0 , mat1 = binSplitDataSet(dataSet , bestIndex , bestValue)\n",
    "    \n",
    "    if (shape(mat0)[0]<tolN) or (shape(mat1)[0]<tolN):\n",
    "        return None , leafType(dataSet)\n",
    "    \n",
    "    return bestIndex , bestValue"
   ]
  },
  {
   "cell_type": "code",
   "execution_count": 10,
   "metadata": {},
   "outputs": [],
   "source": [
    "myDat = loadDataSet('../MLiA_SourceCode/Ch09/ex00.txt')\n",
    "myMat = mat(myDat)"
   ]
  },
  {
   "cell_type": "code",
   "execution_count": 15,
   "metadata": {},
   "outputs": [
    {
     "data": {
      "text/plain": [
       "{'left': 1.0180967672413792,\n",
       " 'right': -0.04465028571428572,\n",
       " 'spInd': 0,\n",
       " 'spVal': 0.48813}"
      ]
     },
     "execution_count": 15,
     "metadata": {},
     "output_type": "execute_result"
    }
   ],
   "source": [
    "createTree(myMat)"
   ]
  },
  {
   "cell_type": "code",
   "execution_count": 16,
   "metadata": {},
   "outputs": [
    {
     "data": {
      "text/plain": [
       "{'left': {'left': {'left': 3.9871632,\n",
       "   'right': 2.9836209534883724,\n",
       "   'spInd': 1,\n",
       "   'spVal': 0.797583},\n",
       "  'right': 1.980035071428571,\n",
       "  'spInd': 1,\n",
       "  'spVal': 0.582002},\n",
       " 'right': {'left': 1.0289583666666666,\n",
       "  'right': -0.023838155555555553,\n",
       "  'spInd': 1,\n",
       "  'spVal': 0.197834},\n",
       " 'spInd': 1,\n",
       " 'spVal': 0.39435}"
      ]
     },
     "execution_count": 16,
     "metadata": {},
     "output_type": "execute_result"
    }
   ],
   "source": [
    "myDat1 = loadDataSet('../MLiA_SourceCode/Ch09/ex0.txt')\n",
    "myMat1 = mat(myDat1)\n",
    "\n",
    "createTree(myMat1)"
   ]
  },
  {
   "cell_type": "code",
   "execution_count": 17,
   "metadata": {
    "collapsed": true
   },
   "outputs": [],
   "source": [
    "def isTree(obj):\n",
    "    return (type(obj).__name__ == 'dict')\n",
    "\n",
    "def getMean(tree):\n",
    "    if isTree(tree['right']):\n",
    "        tree['right'] = getMean(tree['right'])\n",
    "    if isTree(tree['left']):\n",
    "        tree['left'] = getMean(tree['left'])\n",
    "    \n",
    "    return (tree['left']+tree['right'])/2.0\n"
   ]
  },
  {
   "cell_type": "code",
   "execution_count": 31,
   "metadata": {},
   "outputs": [],
   "source": [
    "#剪枝函数\n",
    "'''\n",
    "def prune(tree , testData):\n",
    "    if shape(testData)[0] == 0:\n",
    "        return getMean(tree)\n",
    "    \n",
    "    if (isTree(tree['right']) or isTree(tree['left'])):\n",
    "        lSet , rSet = binSplitDataSet(testData , tree['spInd'] , tree['spVal'])\n",
    "        \n",
    "    if isTree(tree['left']):\n",
    "        tree['left'] = prune(tree['left'] , lSet)\n",
    "    \n",
    "    if isTree(tree['right']):\n",
    "        tree['right'] = prune(tree['right'] , rSet)\n",
    "    \n",
    "    if not isTree(tree['left']) and not isTree(tree['right']):\n",
    "        lSet , rSet = binSplitDataSet(testData , tree['spInd'] , tree['spVal'])\n",
    "        \n",
    "        #errorNoMerge = sum(power(lSet[:,-1]-tree['left'] , 2)) + sum(power(rSet[:,-1]-tree['right'] , 2))\n",
    "        errorNoMerge = sum(power(lSet[:,-1] - tree['left'],2)) + sum(power(rSet[:,-1] - tree['right'],2))\n",
    "        treeMean = (tree['left'] + tree['right'])/2.0\n",
    "        errorMerge = sum(power(testData[: , -1] - treeMean , 2))\n",
    "        \n",
    "        if errorMerge<errorNoMerge:\n",
    "            print('merging')\n",
    "        else:\n",
    "            return tree\n",
    "    else:\n",
    "        return tree'''"
   ]
  },
  {
   "cell_type": "code",
   "execution_count": 35,
   "metadata": {
    "collapsed": true
   },
   "outputs": [],
   "source": [
    "def prune(tree, testData):\n",
    "    if shape(testData)[0] == 0: \n",
    "        return getMean(tree)\n",
    "    \n",
    "    if (isTree(tree['right']) or isTree(tree['left'])):\n",
    "        lSet, rSet = binSplitDataSet(testData, tree['spInd'], tree['spVal'])\n",
    "        \n",
    "    if isTree(tree['left']): \n",
    "        tree['left'] = prune(tree['left'], lSet)\n",
    "        \n",
    "    if isTree(tree['right']): \n",
    "        tree['right'] =  prune(tree['right'], rSet)\n",
    "        \n",
    "    if not isTree(tree['left']) and not isTree(tree['right']):\n",
    "        lSet, rSet = binSplitDataSet(testData, tree['spInd'], tree['spVal'])\n",
    "        \n",
    "        errorNoMerge = sum(power(lSet[:,-1] - tree['left'],2)) + sum(power(rSet[:,-1] - tree['right'],2))\n",
    "        treeMean = (tree['left']+tree['right'])/2.0\n",
    "        errorMerge = sum(power(testData[:,-1] - treeMean,2))\n",
    "        \n",
    "        if errorMerge < errorNoMerge: \n",
    "            print('merging')\n",
    "            return treeMean\n",
    "        else: \n",
    "            return tree\n",
    "        \n",
    "    else: return tree"
   ]
  },
  {
   "cell_type": "code",
   "execution_count": 36,
   "metadata": {
    "collapsed": true
   },
   "outputs": [],
   "source": [
    "myDat2 = loadDataSet('../MLiA_SourceCode/Ch09/ex2.txt')\n",
    "myMat2 = mat(myDat2)\n",
    "myTree = createTree(myMat2)"
   ]
  },
  {
   "cell_type": "code",
   "execution_count": 37,
   "metadata": {
    "collapsed": true
   },
   "outputs": [],
   "source": [
    "myDatTest = loadDataSet('../MLiA_SourceCode/Ch09/ex2test.txt')\n",
    "myMat2Test = mat(myDatTest)"
   ]
  },
  {
   "cell_type": "code",
   "execution_count": 38,
   "metadata": {
    "collapsed": true
   },
   "outputs": [
    {
     "name": "stdout",
     "output_type": "stream",
     "text": [
      "merging\n",
      "merging\n",
      "merging\n",
      "merging\n",
      "merging\n",
      "merging\n",
      "merging\n",
      "merging\n",
      "merging\n"
     ]
    },
    {
     "data": {
      "text/plain": [
       "{'left': {'left': {'left': {'left': 105.24862350000001,\n",
       "    'right': 112.42895575000001,\n",
       "    'spInd': 0,\n",
       "    'spVal': 0.958512},\n",
       "   'right': {'left': {'left': {'left': {'left': 87.3103875,\n",
       "       'right': {'left': {'left': 96.452867,\n",
       "         'right': {'left': 104.825409,\n",
       "          'right': {'left': 95.181793,\n",
       "           'right': 102.25234449999999,\n",
       "           'spInd': 0,\n",
       "           'spVal': 0.872883},\n",
       "          'spInd': 0,\n",
       "          'spVal': 0.892999},\n",
       "         'spInd': 0,\n",
       "         'spVal': 0.910975},\n",
       "        'right': 95.27584316666666,\n",
       "        'spInd': 0,\n",
       "        'spVal': 0.85497},\n",
       "       'spInd': 0,\n",
       "       'spVal': 0.944221},\n",
       "      'right': {'left': 81.110152,\n",
       "       'right': 88.78449880000001,\n",
       "       'spInd': 0,\n",
       "       'spVal': 0.811602},\n",
       "      'spInd': 0,\n",
       "      'spVal': 0.833026},\n",
       "     'right': 102.35780185714285,\n",
       "     'spInd': 0,\n",
       "     'spVal': 0.790312},\n",
       "    'right': 78.08564325,\n",
       "    'spInd': 0,\n",
       "    'spVal': 0.759504},\n",
       "   'spInd': 0,\n",
       "   'spVal': 0.952833},\n",
       "  'right': {'left': {'left': {'left': 114.554706,\n",
       "     'right': 106.87708587499999,\n",
       "     'spInd': 0,\n",
       "     'spVal': 0.706961},\n",
       "    'right': 114.1516242857143,\n",
       "    'spInd': 0,\n",
       "    'spVal': 0.666452},\n",
       "   'right': {'left': 93.67344971428572,\n",
       "    'right': {'left': 123.2101316,\n",
       "     'right': 101.580533,\n",
       "     'spInd': 0,\n",
       "     'spVal': 0.582311},\n",
       "    'spInd': 0,\n",
       "    'spVal': 0.613004},\n",
       "   'spInd': 0,\n",
       "   'spVal': 0.640515},\n",
       "  'spInd': 0,\n",
       "  'spVal': 0.729397},\n",
       " 'right': {'left': 7.969946125,\n",
       "  'right': {'left': {'left': {'left': -12.558604833333334,\n",
       "     'right': {'left': 14.38417875,\n",
       "      'right': 1.383060875000001,\n",
       "      'spInd': 0,\n",
       "      'spVal': 0.412516},\n",
       "     'spInd': 0,\n",
       "     'spVal': 0.437652},\n",
       "    'right': {'left': {'left': -15.08511175,\n",
       "      'right': -22.693879600000002,\n",
       "      'spInd': 0,\n",
       "      'spVal': 0.350725},\n",
       "     'right': {'left': 15.05929075,\n",
       "      'right': {'left': -19.9941552,\n",
       "       'right': {'left': {'left': -5.801872785714286,\n",
       "         'right': 3.4496025,\n",
       "         'spInd': 0,\n",
       "         'spVal': 0.202161},\n",
       "        'right': {'left': -12.1079725,\n",
       "         'right': -6.247900000000001,\n",
       "         'spInd': 0,\n",
       "         'spVal': 0.156067},\n",
       "        'spInd': 0,\n",
       "        'spVal': 0.166765},\n",
       "       'spInd': 0,\n",
       "       'spVal': 0.297107},\n",
       "      'spInd': 0,\n",
       "      'spVal': 0.324274},\n",
       "     'spInd': 0,\n",
       "     'spVal': 0.335182},\n",
       "    'spInd': 0,\n",
       "    'spVal': 0.373501},\n",
       "   'right': {'left': 6.509843285714284,\n",
       "    'right': {'left': -2.544392714285715,\n",
       "     'right': 4.091626,\n",
       "     'spInd': 0,\n",
       "     'spVal': 0.044737},\n",
       "    'spInd': 0,\n",
       "    'spVal': 0.084661},\n",
       "   'spInd': 0,\n",
       "   'spVal': 0.126833},\n",
       "  'spInd': 0,\n",
       "  'spVal': 0.457563},\n",
       " 'spInd': 0,\n",
       " 'spVal': 0.499171}"
      ]
     },
     "execution_count": 38,
     "metadata": {},
     "output_type": "execute_result"
    }
   ],
   "source": [
    "prune(myTree , myMat2Test)"
   ]
  },
  {
   "cell_type": "code",
   "execution_count": null,
   "metadata": {
    "collapsed": true
   },
   "outputs": [],
   "source": []
  },
  {
   "cell_type": "code",
   "execution_count": 25,
   "metadata": {},
   "outputs": [
    {
     "data": {
      "text/plain": [
       "matrix([[0.],\n",
       "        [0.],\n",
       "        [0.],\n",
       "        [1.]])"
      ]
     },
     "execution_count": 25,
     "metadata": {},
     "output_type": "execute_result"
    }
   ],
   "source": [
    "testMat[: , -1]"
   ]
  },
  {
   "cell_type": "code",
   "execution_count": 26,
   "metadata": {
    "collapsed": true
   },
   "outputs": [],
   "source": [
    "def regLeaf(data)"
   ]
  },
  {
   "cell_type": "code",
   "execution_count": 27,
   "metadata": {},
   "outputs": [
    {
     "data": {
      "text/plain": [
       "array([[1, 2, 3],\n",
       "       [2, 4, 5]])"
      ]
     },
     "execution_count": 27,
     "metadata": {},
     "output_type": "execute_result"
    }
   ],
   "source": [
    "b"
   ]
  },
  {
   "cell_type": "code",
   "execution_count": 29,
   "metadata": {},
   "outputs": [
    {
     "data": {
      "text/plain": [
       "4.0"
      ]
     },
     "execution_count": 29,
     "metadata": {},
     "output_type": "execute_result"
    }
   ],
   "source": [
    "mean(b[: , -1])"
   ]
  },
  {
   "cell_type": "markdown",
   "metadata": {},
   "source": [
    "### 模型树"
   ]
  },
  {
   "cell_type": "code",
   "execution_count": 42,
   "metadata": {
    "collapsed": true
   },
   "outputs": [],
   "source": [
    "def linearSolve(dataSet):\n",
    "    m , n = shape(dataSet)\n",
    "    \n",
    "    X = mat(ones((m , n)))\n",
    "    Y = mat(ones((m , 1)))\n",
    "    \n",
    "    X[: , 1:n] = dataSet[: , 0:n-1]\n",
    "    Y = dataSet[: , -1]\n",
    "    \n",
    "    xTx = X.T * X\n",
    "    \n",
    "    if linalg.det(xTx) == 0:\n",
    "        raise NameError('cannot do inverse')\n",
    "        \n",
    "    ws = xTx.I * (X.T*Y)\n",
    "    \n",
    "    return ws , X , Y"
   ]
  },
  {
   "cell_type": "code",
   "execution_count": 43,
   "metadata": {
    "collapsed": true
   },
   "outputs": [],
   "source": [
    "def modelLeaf(dataSet):\n",
    "    ws , X , Y = linearSolve(dataSet)\n",
    "    return ws\n",
    "\n",
    "def modelErr(dataSet):\n",
    "    ws , X , Y = linearSolve(dataSet)\n",
    "    yHat = X * ws\n",
    "    \n",
    "    return sum(power(Y-yHat , 2))"
   ]
  },
  {
   "cell_type": "code",
   "execution_count": 44,
   "metadata": {},
   "outputs": [
    {
     "data": {
      "text/plain": [
       "{'left': matrix([[1.69855694e-03],\n",
       "         [1.19647739e+01]]), 'right': matrix([[3.46877936],\n",
       "         [1.18521743]]), 'spInd': 0, 'spVal': 0.285477}"
      ]
     },
     "execution_count": 44,
     "metadata": {},
     "output_type": "execute_result"
    }
   ],
   "source": [
    "myMat2 = mat(loadDataSet('../MLiA_SourceCode/Ch09/exp2.txt'))\n",
    "createTree(myMat2 , modelLeaf , modelErr , (1 , 10))"
   ]
  },
  {
   "cell_type": "code",
   "execution_count": 54,
   "metadata": {
    "collapsed": true
   },
   "outputs": [],
   "source": [
    "def regTreeEval(model , inDat):\n",
    "    return float(model)\n",
    "\n",
    "def modelTreeEval(model, inDat):\n",
    "    n = shape(inDat)[1]\n",
    "    X = mat(ones((1,n+1)))\n",
    "    X[:,1:n+1]=inDat\n",
    "    return float(X*model)"
   ]
  },
  {
   "cell_type": "code",
   "execution_count": 55,
   "metadata": {
    "collapsed": true
   },
   "outputs": [],
   "source": [
    "'''def treeForeCast(tree , inData , modelEval = regTreeEval):\n",
    "    if not isTree(tree):\n",
    "        return modelEval(tree , inData)\n",
    "    \n",
    "    if inData[tree['spInd']] > tree['spVal']:\n",
    "        if isTree(tree['left']):\n",
    "            return treeForeCast(tree['left'] , inData , modelEval)\n",
    "        else:\n",
    "            return modelEval(tree['left'] , inData)\n",
    "    else:\n",
    "        if isTree(tree['right']):\n",
    "            return treeForeCast(tree['right'] , inData , modelEval)\n",
    "        else:\n",
    "            return modelEval(tree['right'] , inData)'''\n",
    "def treeForeCast(tree, inData, modelEval=regTreeEval):\n",
    "    if not isTree(tree): return modelEval(tree, inData)\n",
    "    if inData[tree['spInd']] > tree['spVal']:\n",
    "        if isTree(tree['left']): return treeForeCast(tree['left'], inData, modelEval)\n",
    "        else: return modelEval(tree['left'], inData)\n",
    "    else:\n",
    "        if isTree(tree['right']): return treeForeCast(tree['right'], inData, modelEval)\n",
    "        else: return modelEval(tree['right'], inData)\n",
    "\n",
    "def createForeCast(tree , testData , modelEval = regTreeEval):\n",
    "    m = len(testData)\n",
    "    yHat = mat(zeros((m , 1)))\n",
    "    \n",
    "    for i in range(m):\n",
    "        yHat[i , 0] = treeForeCast(tree , mat(testData[i]) , modelEval)\n",
    "    \n",
    "    return yHat"
   ]
  },
  {
   "cell_type": "code",
   "execution_count": 50,
   "metadata": {
    "collapsed": true
   },
   "outputs": [],
   "source": [
    "trainMat = mat(loadDataSet('../MLiA_SourceCode/Ch09/bikeSpeedVsIq_train.txt'))\n",
    "testMat = mat(loadDataSet('../MLiA_SourceCode/Ch09/bikeSpeedVsIq_test.txt'))\n"
   ]
  },
  {
   "cell_type": "code",
   "execution_count": 56,
   "metadata": {
    "collapsed": true
   },
   "outputs": [
    {
     "ename": "TypeError",
     "evalue": "only size-1 arrays can be converted to Python scalars",
     "output_type": "error",
     "traceback": [
      "\u001b[1;31m---------------------------------------------------------------------------\u001b[0m",
      "\u001b[1;31mTypeError\u001b[0m                                 Traceback (most recent call last)",
      "\u001b[1;32m<ipython-input-56-7af677b733bd>\u001b[0m in \u001b[0;36m<module>\u001b[1;34m()\u001b[0m\n\u001b[0;32m      1\u001b[0m \u001b[0mmyTree\u001b[0m \u001b[1;33m=\u001b[0m \u001b[0mcreateTree\u001b[0m\u001b[1;33m(\u001b[0m\u001b[0mtrainMat\u001b[0m \u001b[1;33m,\u001b[0m \u001b[0mops\u001b[0m\u001b[1;33m=\u001b[0m\u001b[1;33m(\u001b[0m\u001b[1;36m1\u001b[0m\u001b[1;33m,\u001b[0m\u001b[1;36m20\u001b[0m\u001b[1;33m)\u001b[0m\u001b[1;33m)\u001b[0m\u001b[1;33m\u001b[0m\u001b[0m\n\u001b[1;32m----> 2\u001b[1;33m \u001b[0myHat\u001b[0m \u001b[1;33m=\u001b[0m \u001b[0mcreateForeCast\u001b[0m\u001b[1;33m(\u001b[0m\u001b[0mmyTree\u001b[0m \u001b[1;33m,\u001b[0m \u001b[0mtestMat\u001b[0m\u001b[1;33m[\u001b[0m\u001b[1;33m:\u001b[0m \u001b[1;33m,\u001b[0m \u001b[1;36m0\u001b[0m\u001b[1;33m]\u001b[0m \u001b[1;33m,\u001b[0m \u001b[0mmodelTreeEval\u001b[0m\u001b[1;33m)\u001b[0m\u001b[1;33m\u001b[0m\u001b[0m\n\u001b[0m",
      "\u001b[1;32m<ipython-input-55-8179c3913c5b>\u001b[0m in \u001b[0;36mcreateForeCast\u001b[1;34m(tree, testData, modelEval)\u001b[0m\n\u001b[0;32m     27\u001b[0m \u001b[1;33m\u001b[0m\u001b[0m\n\u001b[0;32m     28\u001b[0m     \u001b[1;32mfor\u001b[0m \u001b[0mi\u001b[0m \u001b[1;32min\u001b[0m \u001b[0mrange\u001b[0m\u001b[1;33m(\u001b[0m\u001b[0mm\u001b[0m\u001b[1;33m)\u001b[0m\u001b[1;33m:\u001b[0m\u001b[1;33m\u001b[0m\u001b[0m\n\u001b[1;32m---> 29\u001b[1;33m         \u001b[0myHat\u001b[0m\u001b[1;33m[\u001b[0m\u001b[0mi\u001b[0m \u001b[1;33m,\u001b[0m \u001b[1;36m0\u001b[0m\u001b[1;33m]\u001b[0m \u001b[1;33m=\u001b[0m \u001b[0mtreeForeCast\u001b[0m\u001b[1;33m(\u001b[0m\u001b[0mtree\u001b[0m \u001b[1;33m,\u001b[0m \u001b[0mmat\u001b[0m\u001b[1;33m(\u001b[0m\u001b[0mtestData\u001b[0m\u001b[1;33m[\u001b[0m\u001b[0mi\u001b[0m\u001b[1;33m]\u001b[0m\u001b[1;33m)\u001b[0m \u001b[1;33m,\u001b[0m \u001b[0mmodelEval\u001b[0m\u001b[1;33m)\u001b[0m\u001b[1;33m\u001b[0m\u001b[0m\n\u001b[0m\u001b[0;32m     30\u001b[0m \u001b[1;33m\u001b[0m\u001b[0m\n\u001b[0;32m     31\u001b[0m     \u001b[1;32mreturn\u001b[0m \u001b[0myHat\u001b[0m\u001b[1;33m\u001b[0m\u001b[0m\n",
      "\u001b[1;32m<ipython-input-55-8179c3913c5b>\u001b[0m in \u001b[0;36mtreeForeCast\u001b[1;34m(tree, inData, modelEval)\u001b[0m\n\u001b[0;32m     16\u001b[0m     \u001b[1;32mif\u001b[0m \u001b[1;32mnot\u001b[0m \u001b[0misTree\u001b[0m\u001b[1;33m(\u001b[0m\u001b[0mtree\u001b[0m\u001b[1;33m)\u001b[0m\u001b[1;33m:\u001b[0m \u001b[1;32mreturn\u001b[0m \u001b[0mmodelEval\u001b[0m\u001b[1;33m(\u001b[0m\u001b[0mtree\u001b[0m\u001b[1;33m,\u001b[0m \u001b[0minData\u001b[0m\u001b[1;33m)\u001b[0m\u001b[1;33m\u001b[0m\u001b[0m\n\u001b[0;32m     17\u001b[0m     \u001b[1;32mif\u001b[0m \u001b[0minData\u001b[0m\u001b[1;33m[\u001b[0m\u001b[0mtree\u001b[0m\u001b[1;33m[\u001b[0m\u001b[1;34m'spInd'\u001b[0m\u001b[1;33m]\u001b[0m\u001b[1;33m]\u001b[0m \u001b[1;33m>\u001b[0m \u001b[0mtree\u001b[0m\u001b[1;33m[\u001b[0m\u001b[1;34m'spVal'\u001b[0m\u001b[1;33m]\u001b[0m\u001b[1;33m:\u001b[0m\u001b[1;33m\u001b[0m\u001b[0m\n\u001b[1;32m---> 18\u001b[1;33m         \u001b[1;32mif\u001b[0m \u001b[0misTree\u001b[0m\u001b[1;33m(\u001b[0m\u001b[0mtree\u001b[0m\u001b[1;33m[\u001b[0m\u001b[1;34m'left'\u001b[0m\u001b[1;33m]\u001b[0m\u001b[1;33m)\u001b[0m\u001b[1;33m:\u001b[0m \u001b[1;32mreturn\u001b[0m \u001b[0mtreeForeCast\u001b[0m\u001b[1;33m(\u001b[0m\u001b[0mtree\u001b[0m\u001b[1;33m[\u001b[0m\u001b[1;34m'left'\u001b[0m\u001b[1;33m]\u001b[0m\u001b[1;33m,\u001b[0m \u001b[0minData\u001b[0m\u001b[1;33m,\u001b[0m \u001b[0mmodelEval\u001b[0m\u001b[1;33m)\u001b[0m\u001b[1;33m\u001b[0m\u001b[0m\n\u001b[0m\u001b[0;32m     19\u001b[0m         \u001b[1;32melse\u001b[0m\u001b[1;33m:\u001b[0m \u001b[1;32mreturn\u001b[0m \u001b[0mmodelEval\u001b[0m\u001b[1;33m(\u001b[0m\u001b[0mtree\u001b[0m\u001b[1;33m[\u001b[0m\u001b[1;34m'left'\u001b[0m\u001b[1;33m]\u001b[0m\u001b[1;33m,\u001b[0m \u001b[0minData\u001b[0m\u001b[1;33m)\u001b[0m\u001b[1;33m\u001b[0m\u001b[0m\n\u001b[0;32m     20\u001b[0m     \u001b[1;32melse\u001b[0m\u001b[1;33m:\u001b[0m\u001b[1;33m\u001b[0m\u001b[0m\n",
      "\u001b[1;32m<ipython-input-55-8179c3913c5b>\u001b[0m in \u001b[0;36mtreeForeCast\u001b[1;34m(tree, inData, modelEval)\u001b[0m\n\u001b[0;32m     19\u001b[0m         \u001b[1;32melse\u001b[0m\u001b[1;33m:\u001b[0m \u001b[1;32mreturn\u001b[0m \u001b[0mmodelEval\u001b[0m\u001b[1;33m(\u001b[0m\u001b[0mtree\u001b[0m\u001b[1;33m[\u001b[0m\u001b[1;34m'left'\u001b[0m\u001b[1;33m]\u001b[0m\u001b[1;33m,\u001b[0m \u001b[0minData\u001b[0m\u001b[1;33m)\u001b[0m\u001b[1;33m\u001b[0m\u001b[0m\n\u001b[0;32m     20\u001b[0m     \u001b[1;32melse\u001b[0m\u001b[1;33m:\u001b[0m\u001b[1;33m\u001b[0m\u001b[0m\n\u001b[1;32m---> 21\u001b[1;33m         \u001b[1;32mif\u001b[0m \u001b[0misTree\u001b[0m\u001b[1;33m(\u001b[0m\u001b[0mtree\u001b[0m\u001b[1;33m[\u001b[0m\u001b[1;34m'right'\u001b[0m\u001b[1;33m]\u001b[0m\u001b[1;33m)\u001b[0m\u001b[1;33m:\u001b[0m \u001b[1;32mreturn\u001b[0m \u001b[0mtreeForeCast\u001b[0m\u001b[1;33m(\u001b[0m\u001b[0mtree\u001b[0m\u001b[1;33m[\u001b[0m\u001b[1;34m'right'\u001b[0m\u001b[1;33m]\u001b[0m\u001b[1;33m,\u001b[0m \u001b[0minData\u001b[0m\u001b[1;33m,\u001b[0m \u001b[0mmodelEval\u001b[0m\u001b[1;33m)\u001b[0m\u001b[1;33m\u001b[0m\u001b[0m\n\u001b[0m\u001b[0;32m     22\u001b[0m         \u001b[1;32melse\u001b[0m\u001b[1;33m:\u001b[0m \u001b[1;32mreturn\u001b[0m \u001b[0mmodelEval\u001b[0m\u001b[1;33m(\u001b[0m\u001b[0mtree\u001b[0m\u001b[1;33m[\u001b[0m\u001b[1;34m'right'\u001b[0m\u001b[1;33m]\u001b[0m\u001b[1;33m,\u001b[0m \u001b[0minData\u001b[0m\u001b[1;33m)\u001b[0m\u001b[1;33m\u001b[0m\u001b[0m\n\u001b[0;32m     23\u001b[0m \u001b[1;33m\u001b[0m\u001b[0m\n",
      "\u001b[1;32m<ipython-input-55-8179c3913c5b>\u001b[0m in \u001b[0;36mtreeForeCast\u001b[1;34m(tree, inData, modelEval)\u001b[0m\n\u001b[0;32m     20\u001b[0m     \u001b[1;32melse\u001b[0m\u001b[1;33m:\u001b[0m\u001b[1;33m\u001b[0m\u001b[0m\n\u001b[0;32m     21\u001b[0m         \u001b[1;32mif\u001b[0m \u001b[0misTree\u001b[0m\u001b[1;33m(\u001b[0m\u001b[0mtree\u001b[0m\u001b[1;33m[\u001b[0m\u001b[1;34m'right'\u001b[0m\u001b[1;33m]\u001b[0m\u001b[1;33m)\u001b[0m\u001b[1;33m:\u001b[0m \u001b[1;32mreturn\u001b[0m \u001b[0mtreeForeCast\u001b[0m\u001b[1;33m(\u001b[0m\u001b[0mtree\u001b[0m\u001b[1;33m[\u001b[0m\u001b[1;34m'right'\u001b[0m\u001b[1;33m]\u001b[0m\u001b[1;33m,\u001b[0m \u001b[0minData\u001b[0m\u001b[1;33m,\u001b[0m \u001b[0mmodelEval\u001b[0m\u001b[1;33m)\u001b[0m\u001b[1;33m\u001b[0m\u001b[0m\n\u001b[1;32m---> 22\u001b[1;33m         \u001b[1;32melse\u001b[0m\u001b[1;33m:\u001b[0m \u001b[1;32mreturn\u001b[0m \u001b[0mmodelEval\u001b[0m\u001b[1;33m(\u001b[0m\u001b[0mtree\u001b[0m\u001b[1;33m[\u001b[0m\u001b[1;34m'right'\u001b[0m\u001b[1;33m]\u001b[0m\u001b[1;33m,\u001b[0m \u001b[0minData\u001b[0m\u001b[1;33m)\u001b[0m\u001b[1;33m\u001b[0m\u001b[0m\n\u001b[0m\u001b[0;32m     23\u001b[0m \u001b[1;33m\u001b[0m\u001b[0m\n\u001b[0;32m     24\u001b[0m \u001b[1;32mdef\u001b[0m \u001b[0mcreateForeCast\u001b[0m\u001b[1;33m(\u001b[0m\u001b[0mtree\u001b[0m \u001b[1;33m,\u001b[0m \u001b[0mtestData\u001b[0m \u001b[1;33m,\u001b[0m \u001b[0mmodelEval\u001b[0m \u001b[1;33m=\u001b[0m \u001b[0mregTreeEval\u001b[0m\u001b[1;33m)\u001b[0m\u001b[1;33m:\u001b[0m\u001b[1;33m\u001b[0m\u001b[0m\n",
      "\u001b[1;32m<ipython-input-54-d5b29a05e2f0>\u001b[0m in \u001b[0;36mmodelTreeEval\u001b[1;34m(model, inDat)\u001b[0m\n\u001b[0;32m      6\u001b[0m     \u001b[0mX\u001b[0m \u001b[1;33m=\u001b[0m \u001b[0mmat\u001b[0m\u001b[1;33m(\u001b[0m\u001b[0mones\u001b[0m\u001b[1;33m(\u001b[0m\u001b[1;33m(\u001b[0m\u001b[1;36m1\u001b[0m\u001b[1;33m,\u001b[0m\u001b[0mn\u001b[0m\u001b[1;33m+\u001b[0m\u001b[1;36m1\u001b[0m\u001b[1;33m)\u001b[0m\u001b[1;33m)\u001b[0m\u001b[1;33m)\u001b[0m\u001b[1;33m\u001b[0m\u001b[0m\n\u001b[0;32m      7\u001b[0m     \u001b[0mX\u001b[0m\u001b[1;33m[\u001b[0m\u001b[1;33m:\u001b[0m\u001b[1;33m,\u001b[0m\u001b[1;36m1\u001b[0m\u001b[1;33m:\u001b[0m\u001b[0mn\u001b[0m\u001b[1;33m+\u001b[0m\u001b[1;36m1\u001b[0m\u001b[1;33m]\u001b[0m\u001b[1;33m=\u001b[0m\u001b[0minDat\u001b[0m\u001b[1;33m\u001b[0m\u001b[0m\n\u001b[1;32m----> 8\u001b[1;33m     \u001b[1;32mreturn\u001b[0m \u001b[0mfloat\u001b[0m\u001b[1;33m(\u001b[0m\u001b[0mX\u001b[0m\u001b[1;33m*\u001b[0m\u001b[0mmodel\u001b[0m\u001b[1;33m)\u001b[0m\u001b[1;33m\u001b[0m\u001b[0m\n\u001b[0m",
      "\u001b[1;31mTypeError\u001b[0m: only size-1 arrays can be converted to Python scalars"
     ]
    }
   ],
   "source": [
    "myTree = createTree(trainMat , ops=(1,20))\n",
    "yHat = createForeCast(myTree , testMat[: , 0] , modelTreeEval)"
   ]
  },
  {
   "cell_type": "code",
   "execution_count": null,
   "metadata": {
    "collapsed": true
   },
   "outputs": [],
   "source": []
  }
 ],
 "metadata": {
  "kernelspec": {
   "display_name": "Python 2",
   "language": "python",
   "name": "python2"
  },
  "language_info": {
   "codemirror_mode": {
    "name": "ipython",
    "version": 2
   },
   "file_extension": ".py",
   "mimetype": "text/x-python",
   "name": "python",
   "nbconvert_exporter": "python",
   "pygments_lexer": "ipython2",
   "version": "2.7.13"
  }
 },
 "nbformat": 4,
 "nbformat_minor": 2
}
