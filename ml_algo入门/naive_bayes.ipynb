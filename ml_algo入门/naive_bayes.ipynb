{
 "cells": [
  {
   "cell_type": "code",
   "execution_count": 27,
   "metadata": {
    "collapsed": true
   },
   "outputs": [],
   "source": [
    "import numpy as np\n",
    "import pandas as pd\n",
    "import math"
   ]
  },
  {
   "cell_type": "code",
   "execution_count": 171,
   "metadata": {
    "collapsed": true
   },
   "outputs": [],
   "source": [
    "train = pd.read_csv('watermelon.csv')"
   ]
  },
  {
   "cell_type": "code",
   "execution_count": 172,
   "metadata": {},
   "outputs": [],
   "source": [
    "test = train.iloc[-1]\n",
    "train = train.drop(17 , axis=0)"
   ]
  },
  {
   "cell_type": "code",
   "execution_count": 173,
   "metadata": {},
   "outputs": [
    {
     "data": {
      "text/plain": [
       "'qing'"
      ]
     },
     "execution_count": 173,
     "metadata": {},
     "output_type": "execute_result"
    }
   ],
   "source": [
    "test[0]"
   ]
  },
  {
   "cell_type": "code",
   "execution_count": 174,
   "metadata": {},
   "outputs": [
    {
     "data": {
      "text/plain": [
       "6"
      ]
     },
     "execution_count": 174,
     "metadata": {},
     "output_type": "execute_result"
    }
   ],
   "source": [
    "len(train.loc[train[cols[0]] == 'qing'])"
   ]
  },
  {
   "cell_type": "code",
   "execution_count": 175,
   "metadata": {
    "collapsed": true
   },
   "outputs": [],
   "source": [
    "m = len(train) #样本数量\n",
    "yes_melon = train['good'].value_counts().y\n",
    "no_melon = train['good'].value_counts().n\n",
    "\n",
    "#计算先验概率 未使用laplace平滑处理 进行先验概率的计算\n",
    "def p_c():\n",
    "    p_y = yes_melon / m\n",
    "    p_n = no_melon / m\n",
    "    \n",
    "    return p_y , p_n\n",
    "\n",
    "p_y , p_n = p_c()\n",
    "\n",
    "cols = train.columns"
   ]
  },
  {
   "cell_type": "code",
   "execution_count": 176,
   "metadata": {
    "collapsed": true
   },
   "outputs": [],
   "source": [
    "m_qing_yes = len( train.loc[(train['color'] == test[0]) & (train['good'] == 'y')] )"
   ]
  },
  {
   "cell_type": "code",
   "execution_count": 177,
   "metadata": {
    "collapsed": true
   },
   "outputs": [],
   "source": [
    "def std_norm(x , mean , std):\n",
    "    a = 1.0 / (math.sqrt(2*math.pi) * std)\n",
    "    b = -1.0*(x-mean)*(x-mean) / (2*std*std)\n",
    "    c = math.exp(b)\n",
    "    d = a*c\n",
    "    \n",
    "    return d\n",
    "\n",
    "def conditional_prob(test):\n",
    "    size = len(test)\n",
    "    \n",
    "    positive = 1.0\n",
    "    negtive = 1.0\n",
    "    \n",
    "    for i in range(size-3):\n",
    "        pos_number = len( train.loc[(train[cols[i]] == test[i]) & (train['good'] == 'y')])\n",
    "        positive *= (pos_number/yes_melon)\n",
    "        #print('positive:' , (pos_number , yes_melon))\n",
    "        neg_number = len( train.loc[(train[cols[i]] == test[i]) & (train['good'] == 'n')])\n",
    "        negtive *= (neg_number/no_melon)\n",
    "        #print('negtive:' , (neg_number,no_melon))\n",
    "\n",
    "    a = np.array(train.loc[train['good'] == 'y', 'den'])\n",
    "    positive *= std_norm(test[6] , np.mean(a) , np.std(a))\n",
    "    #print('positive:' , std_norm(test[6] , np.mean(a) , np.std(a)))\n",
    "\n",
    "    \n",
    "    a = np.array(train.loc[train['good'] == 'n', 'den'])\n",
    "    negtive *= std_norm(test[6] , np.mean(a) , np.std(a))\n",
    "    #print('negtive:' , std_norm(test[6] , np.mean(a) , np.std(a)))\n",
    "\n",
    "    b = np.array(train.loc[train['good'] == 'y', 'sugar'])\n",
    "    positive *= std_norm(test[7] , np.mean(b) , np.std(b))\n",
    "    #print('positive:' , std_norm(test[7] , np.mean(b) , np.std(b)))\n",
    "\n",
    "    \n",
    "    b = np.array(train.loc[train['good'] == 'n', 'sugar'])\n",
    "    negtive *= std_norm(test[7] , np.mean(b) , np.std(b))\n",
    "    #print('negtive:' , std_norm(test[7] , np.mean(b) , np.std(b)))\n",
    "\n",
    "    \n",
    "    return positive , negtive"
   ]
  },
  {
   "cell_type": "code",
   "execution_count": 178,
   "metadata": {
    "collapsed": true
   },
   "outputs": [],
   "source": [
    "positive , negtive = conditional_prob(test)\n",
    "\n",
    "positive *= p_y\n",
    "negtive *= p_n"
   ]
  },
  {
   "cell_type": "code",
   "execution_count": 179,
   "metadata": {},
   "outputs": [
    {
     "name": "stdout",
     "output_type": "stream",
     "text": [
      "good melon\n"
     ]
    }
   ],
   "source": [
    "if positive>negtive :\n",
    "    print('good melon')\n",
    "else:\n",
    "    print('bad melon')"
   ]
  },
  {
   "cell_type": "code",
   "execution_count": 180,
   "metadata": {
    "collapsed": true
   },
   "outputs": [],
   "source": [
    "#===========\n",
    "#===========\n",
    "#上下 分别是 未使用平滑处理 和 使用平滑处理"
   ]
  },
  {
   "cell_type": "code",
   "execution_count": 185,
   "metadata": {
    "collapsed": true
   },
   "outputs": [],
   "source": [
    "#laplce处理\n",
    "def p_c_laplace():\n",
    "    p_y = (yes_melon+1) / (m + 2) #因为是2分类问题 所以+2 如果为k分类问题 就+k\n",
    "    p_n = (no_melon+1) / (m+2)\n",
    "    \n",
    "    return p_y , p_n\n",
    "\n",
    "#laplace平滑处理\n",
    "def conditional_prob_laplace(test):\n",
    "    size = len(test)\n",
    "    \n",
    "    positive = 1.0\n",
    "    negtive = 1.0\n",
    "    \n",
    "    for i in range(size-3):\n",
    "        pos_number = len( train.loc[(train[cols[i]] == test[i]) & (train['good'] == 'y')])\n",
    "        positive *= ( (pos_number + 1)/(yes_melon + 2) )#加2是因为这是一个2分类问题 只有好瓜 坏瓜之分 如果为k分类 就是加k 下面雷同\n",
    "        #print('positive:' , (pos_number , yes_melon))\n",
    "        neg_number = len( train.loc[(train[cols[i]] == test[i]) & (train['good'] == 'n')])\n",
    "        negtive *= ( (neg_number+1) /(no_melon+2) )\n",
    "        #print('negtive:' , (neg_number,no_melon))\n",
    "\n",
    "    a = np.array(train.loc[train['good'] == 'y', 'den'])\n",
    "    positive *= std_norm(test[6] , np.mean(a) , np.std(a))\n",
    "    #print('positive:' , std_norm(test[6] , np.mean(a) , np.std(a)))\n",
    "\n",
    "    \n",
    "    a = np.array(train.loc[train['good'] == 'n', 'den'])\n",
    "    negtive *= std_norm(test[6] , np.mean(a) , np.std(a))\n",
    "    #print('negtive:' , std_norm(test[6] , np.mean(a) , np.std(a)))\n",
    "\n",
    "    b = np.array(train.loc[train['good'] == 'y', 'sugar'])\n",
    "    positive *= std_norm(test[7] , np.mean(b) , np.std(b))\n",
    "    #print('positive:' , std_norm(test[7] , np.mean(b) , np.std(b)))\n",
    "\n",
    "    \n",
    "    b = np.array(train.loc[train['good'] == 'n', 'sugar'])\n",
    "    negtive *= std_norm(test[7] , np.mean(b) , np.std(b))\n",
    "    #print('negtive:' , std_norm(test[7] , np.mean(b) , np.std(b)))\n",
    "\n",
    "    return positive , negtive"
   ]
  },
  {
   "cell_type": "code",
   "execution_count": 186,
   "metadata": {
    "collapsed": true
   },
   "outputs": [],
   "source": [
    "laplace_test = test"
   ]
  },
  {
   "cell_type": "code",
   "execution_count": 187,
   "metadata": {
    "collapsed": true
   },
   "outputs": [],
   "source": [
    "laplace_test['qi'] = 'qing' #敲声清脆这个属性 在训练样本中没有出现 这时候 就需要laplace平滑处理"
   ]
  },
  {
   "cell_type": "code",
   "execution_count": 188,
   "metadata": {},
   "outputs": [
    {
     "data": {
      "text/plain": [
       "(0.0, 0.0)"
      ]
     },
     "execution_count": 188,
     "metadata": {},
     "output_type": "execute_result"
    }
   ],
   "source": [
    "positive , negtive = conditional_prob(laplace_test)\n",
    "(positive , negtive) #0.0 0.0 就是因为没有平滑处理 导致分子位置为0 相乘结果为0"
   ]
  },
  {
   "cell_type": "code",
   "execution_count": 189,
   "metadata": {
    "collapsed": true
   },
   "outputs": [],
   "source": [
    "positive , negtive = conditional_prob_laplace(laplace_test)\n",
    "p_y , p_n = p_c_laplace()\n",
    "positive *= p_y\n",
    "negtive *= p_n"
   ]
  },
  {
   "cell_type": "code",
   "execution_count": 190,
   "metadata": {},
   "outputs": [
    {
     "data": {
      "text/plain": [
       "(0.0058656200106201907, 2.5317380026971431e-05)"
      ]
     },
     "execution_count": 190,
     "metadata": {},
     "output_type": "execute_result"
    }
   ],
   "source": [
    "(positive , negtive)"
   ]
  },
  {
   "cell_type": "code",
   "execution_count": null,
   "metadata": {
    "collapsed": true
   },
   "outputs": [],
   "source": []
  }
 ],
 "metadata": {
  "kernelspec": {
   "display_name": "Python 3",
   "language": "python",
   "name": "python3"
  },
  "language_info": {
   "codemirror_mode": {
    "name": "ipython",
    "version": 3
   },
   "file_extension": ".py",
   "mimetype": "text/x-python",
   "name": "python",
   "nbconvert_exporter": "python",
   "pygments_lexer": "ipython3",
   "version": "3.6.2"
  }
 },
 "nbformat": 4,
 "nbformat_minor": 2
}
