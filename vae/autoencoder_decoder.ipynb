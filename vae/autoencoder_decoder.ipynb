{
 "cells": [
  {
   "cell_type": "code",
   "execution_count": 12,
   "metadata": {
    "collapsed": true
   },
   "outputs": [],
   "source": [
    "from keras.models import Sequential\n",
    "from keras.layers import Dense\n",
    "from keras.layers import Conv2D\n",
    "from keras.layers import AveragePooling2D\n",
    "from keras.layers import MaxPooling2D\n",
    "from keras.layers import ZeroPadding2D\n",
    "from keras.activations import relu"
   ]
  },
  {
   "cell_type": "code",
   "execution_count": 14,
   "metadata": {
    "collapsed": false
   },
   "outputs": [],
   "source": [
    "model = Sequential()\n",
    "\n",
    "model.add(Conv2D(filters=64 , kernel_size=(3,3) , activation=relu , padding='valid' , strides=(1,1) , input_shape=(224,224,3) , name='conv1'))\n",
    "model.add(Conv2D(filters=64 , kernel_size=(3,3) , activation=relu , padding='valid' , strides=(1,1) , name='conv2'))\n",
    "model.add(MaxPooling2D(pool_size=(2,2) , padding='valid' , name='pool1'))\n",
    "\n",
    "model.add(Conv2D(filters=128 , kernel_size=(3,3) , activation=relu , padding='valid' , strides=(1,1) , name='conv3'))\n",
    "model.add(Conv2D(filters=128 , kernel_size=(3,3) , activation=relu , padding='valid' , strides=(1,1) , name='conv4'))\n",
    "model.add(MaxPooling2D(pool_size=(2,2) , padding='valid' , name='pool2'))\n",
    "\n",
    "model.add(Conv2D(filters=256 , kernel_size=(3,3) , activation=relu , padding='valid' , strides=(1,1) , name='conv5'))\n",
    "model.add(Conv2D(filters=256 , kernel_size=(3,3) , activation=relu , padding='valid' , strides=(1,1) , name='conv6'))\n",
    "model.add(Conv2D(filters=256 , kernel_size=(3,3) , activation=relu , padding='valid' , strides=(1,1) , name='conv7'))\n",
    "model.add(MaxPooling2D(pool_size=(2,2) , padding='valid' , name='pool3'))\n",
    "\n",
    "model.add(Conv2D(filters=512 , kernel_size=(3,3) , activation=relu , padding='valid' , strides=(1,1) , name='conv8'))\n",
    "model.add(Conv2D(filters=512 , kernel_size=(3,3) , activation=relu , padding='valid' , strides=(1,1) , name='conv9'))\n",
    "model.add(Conv2D(filters=512 , kernel_size=(3,3) , activation=relu , padding='valid' , strides=(1,1) , name='conv10'))\n",
    "model.add(MaxPooling2D(pool_size=(2,2) , padding='valid' , name='pool4'))\n",
    "\n",
    "model.add(Conv2D(filters=512 , kernel_size=(3,3) , activation=relu , padding='valid' , strides=(1,1) , name='conv11'))\n",
    "model.add(Conv2D(filters=512 , kernel_size=(3,3) , activation=relu , padding='valid' , strides=(1,1) , name='conv12'))\n",
    "model.add(Conv2D(filters=512 , kernel_size=(3,3) , activation=relu , padding='valid' , strides=(1,1) , name='conv13'))\n",
    "model.add(MaxPooling2D(pool_size=(2,2) , padding='valid' , name='pool5'))\n",
    "\n",
    "model.add(Dense(units=4096 , activation=relu , name='fc1'))\n",
    "model.add(Dense(units=4096 , activation=relu , name='fc2'))\n",
    "model.add(Dense(units=1000 , activation=relu , name='fc3'))\n",
    "\n",
    "#VGG16"
   ]
  },
  {
   "cell_type": "code",
   "execution_count": 15,
   "metadata": {
    "collapsed": true
   },
   "outputs": [
    {
     "name": "stdout",
     "output_type": "stream",
     "text": [
      "_________________________________________________________________\n",
      "Layer (type)                 Output Shape              Param #   \n",
      "=================================================================\n",
      "conv1 (Conv2D)               (None, 222, 222, 64)      1792      \n",
      "_________________________________________________________________\n",
      "conv2 (Conv2D)               (None, 220, 220, 64)      36928     \n",
      "_________________________________________________________________\n",
      "pool1 (MaxPooling2D)         (None, 110, 110, 64)      0         \n",
      "_________________________________________________________________\n",
      "conv3 (Conv2D)               (None, 108, 108, 128)     73856     \n",
      "_________________________________________________________________\n",
      "conv4 (Conv2D)               (None, 106, 106, 128)     147584    \n",
      "_________________________________________________________________\n",
      "pool2 (MaxPooling2D)         (None, 53, 53, 128)       0         \n",
      "_________________________________________________________________\n",
      "conv5 (Conv2D)               (None, 51, 51, 256)       295168    \n",
      "_________________________________________________________________\n",
      "conv6 (Conv2D)               (None, 49, 49, 256)       590080    \n",
      "_________________________________________________________________\n",
      "conv7 (Conv2D)               (None, 47, 47, 256)       590080    \n",
      "_________________________________________________________________\n",
      "pool3 (MaxPooling2D)         (None, 23, 23, 256)       0         \n",
      "_________________________________________________________________\n",
      "conv8 (Conv2D)               (None, 21, 21, 512)       1180160   \n",
      "_________________________________________________________________\n",
      "conv9 (Conv2D)               (None, 19, 19, 512)       2359808   \n",
      "_________________________________________________________________\n",
      "conv10 (Conv2D)              (None, 17, 17, 512)       2359808   \n",
      "_________________________________________________________________\n",
      "pool4 (MaxPooling2D)         (None, 8, 8, 512)         0         \n",
      "_________________________________________________________________\n",
      "conv11 (Conv2D)              (None, 6, 6, 512)         2359808   \n",
      "_________________________________________________________________\n",
      "conv12 (Conv2D)              (None, 4, 4, 512)         2359808   \n",
      "_________________________________________________________________\n",
      "conv13 (Conv2D)              (None, 2, 2, 512)         2359808   \n",
      "_________________________________________________________________\n",
      "pool5 (MaxPooling2D)         (None, 1, 1, 512)         0         \n",
      "_________________________________________________________________\n",
      "fc1 (Dense)                  (None, 1, 1, 4096)        2101248   \n",
      "_________________________________________________________________\n",
      "fc2 (Dense)                  (None, 1, 1, 4096)        16781312  \n",
      "_________________________________________________________________\n",
      "fc3 (Dense)                  (None, 1, 1, 1000)        4097000   \n",
      "=================================================================\n",
      "Total params: 37,694,248\n",
      "Trainable params: 37,694,248\n",
      "Non-trainable params: 0\n",
      "_________________________________________________________________\n"
     ]
    }
   ],
   "source": [
    "model.summary()"
   ]
  },
  {
   "cell_type": "code",
   "execution_count": null,
   "metadata": {
    "collapsed": true
   },
   "outputs": [],
   "source": []
  }
 ],
 "metadata": {
  "kernelspec": {
   "display_name": "Python 3",
   "language": "python",
   "name": "python3"
  },
  "language_info": {
   "codemirror_mode": {
    "name": "ipython",
    "version": 3
   },
   "file_extension": ".py",
   "mimetype": "text/x-python",
   "name": "python",
   "nbconvert_exporter": "python",
   "pygments_lexer": "ipython3",
   "version": "3.6.0"
  }
 },
 "nbformat": 4,
 "nbformat_minor": 2
}
