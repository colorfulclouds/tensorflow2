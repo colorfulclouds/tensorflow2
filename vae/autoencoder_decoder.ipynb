{
 "cells": [
  {
   "cell_type": "code",
   "execution_count": 1,
   "metadata": {
    "collapsed": false
   },
   "outputs": [
    {
     "name": "stderr",
     "output_type": "stream",
     "text": [
      "Using TensorFlow backend.\n"
     ]
    }
   ],
   "source": [
    "from keras.models import Sequential\n",
    "from keras.layers import Dense\n",
    "from keras.layers import Conv2D\n",
    "from keras.layers import AveragePooling2D\n",
    "from keras.layers import MaxPooling2D\n",
    "from keras.layers import ZeroPadding2D\n",
    "\n",
    "from keras.layers import Flatten\n",
    "from keras.layers import Reshape\n",
    "\n",
    "from keras.layers import UpSampling2D\n",
    "from keras.layers import Conv2DTranspose\n",
    "\n",
    "from keras.activations import relu"
   ]
  },
  {
   "cell_type": "code",
   "execution_count": 2,
   "metadata": {
    "collapsed": false
   },
   "outputs": [],
   "source": [
    "import os\n",
    "from scipy.misc import imread\n",
    "import cv2\n",
    "import numpy as np\n",
    "\n",
    "def img2mat(path = '..'):\n",
    "    img = []\n",
    "    \n",
    "    for file in os.listdir():\n",
    "        if file.endswith('.jpg'):\n",
    "            origin_size_img = imread(file)\n",
    "            new_size_img = cv2.resize(origin_size_img , (224,224) , interpolation = cv2.INTER_NEAREST)\n",
    "        \n",
    "            img.append(new_size_img)\n",
    "\n",
    "    return np.array(img)"
   ]
  },
  {
   "cell_type": "code",
   "execution_count": 3,
   "metadata": {
    "collapsed": false
   },
   "outputs": [],
   "source": [
    "model = Sequential()\n",
    "\n",
    "#encoder step\n",
    "model.add(Conv2D(filters=64 , kernel_size=(3,3) , activation=relu , padding='same' , strides=(1,1) , input_shape=(224,224,3) , name='conv1'))\n",
    "model.add(Conv2D(filters=64 , kernel_size=(3,3) , activation=relu , padding='same' , strides=(1,1) , name='conv2'))\n",
    "model.add(MaxPooling2D(pool_size=(2,2) , padding='same' , name='pool1'))\n",
    "\n",
    "model.add(Conv2D(filters=128 , kernel_size=(3,3) , activation=relu , padding='same' , strides=(1,1) , name='conv3'))\n",
    "model.add(Conv2D(filters=128 , kernel_size=(3,3) , activation=relu , padding='same' , strides=(1,1) , name='conv4'))\n",
    "model.add(MaxPooling2D(pool_size=(2,2) , padding='same' , name='pool2'))\n",
    "\n",
    "model.add(Conv2D(filters=256 , kernel_size=(3,3) , activation=relu , padding='same' , strides=(1,1) , name='conv5'))\n",
    "model.add(Conv2D(filters=256 , kernel_size=(3,3) , activation=relu , padding='same' , strides=(1,1) , name='conv6'))\n",
    "model.add(Conv2D(filters=256 , kernel_size=(3,3) , activation=relu , padding='same' , strides=(1,1) , name='conv7'))\n",
    "model.add(MaxPooling2D(pool_size=(2,2) , padding='same' , name='pool3'))\n",
    "\n",
    "model.add(Conv2D(filters=512 , kernel_size=(3,3) , activation=relu , padding='same' , strides=(1,1) , name='conv8'))\n",
    "model.add(Conv2D(filters=512 , kernel_size=(3,3) , activation=relu , padding='same' , strides=(1,1) , name='conv9'))\n",
    "model.add(Conv2D(filters=512 , kernel_size=(3,3) , activation=relu , padding='same' , strides=(1,1) , name='conv10'))\n",
    "model.add(MaxPooling2D(pool_size=(2,2) , padding='same' , name='pool4'))\n",
    "\n",
    "model.add(Conv2D(filters=512 , kernel_size=(3,3) , activation=relu , padding='same' , strides=(1,1) , name='conv11'))\n",
    "model.add(Conv2D(filters=512 , kernel_size=(3,3) , activation=relu , padding='same' , strides=(1,1) , name='conv12'))\n",
    "model.add(Conv2D(filters=512 , kernel_size=(3,3) , activation=relu , padding='same' , strides=(1,1) , name='conv13'))\n",
    "model.add(MaxPooling2D(pool_size=(2,2) , padding='same' , name='pool5'))\n",
    "\n",
    "model.add(Flatten())\n",
    "\n",
    "model.add(Dense(units=4096 , activation=relu , name='fc1'))\n",
    "model.add(Dense(units=4096 , activation=relu , name='fc2'))\n",
    "model.add(Dense(units=1000 , activation=relu , name='fc3'))\n",
    "\n",
    "#VGG16"
   ]
  },
  {
   "cell_type": "code",
   "execution_count": 20,
   "metadata": {
    "collapsed": true
   },
   "outputs": [
    {
     "name": "stdout",
     "output_type": "stream",
     "text": [
      "_________________________________________________________________\n",
      "Layer (type)                 Output Shape              Param #   \n",
      "=================================================================\n",
      "conv1 (Conv2D)               (None, 224, 224, 64)      1792      \n",
      "_________________________________________________________________\n",
      "conv2 (Conv2D)               (None, 224, 224, 64)      36928     \n",
      "_________________________________________________________________\n",
      "pool1 (MaxPooling2D)         (None, 112, 112, 64)      0         \n",
      "_________________________________________________________________\n",
      "conv3 (Conv2D)               (None, 112, 112, 128)     73856     \n",
      "_________________________________________________________________\n",
      "conv4 (Conv2D)               (None, 112, 112, 128)     147584    \n",
      "_________________________________________________________________\n",
      "pool2 (MaxPooling2D)         (None, 56, 56, 128)       0         \n",
      "_________________________________________________________________\n",
      "conv5 (Conv2D)               (None, 56, 56, 256)       295168    \n",
      "_________________________________________________________________\n",
      "conv6 (Conv2D)               (None, 56, 56, 256)       590080    \n",
      "_________________________________________________________________\n",
      "conv7 (Conv2D)               (None, 56, 56, 256)       590080    \n",
      "_________________________________________________________________\n",
      "pool3 (MaxPooling2D)         (None, 28, 28, 256)       0         \n",
      "_________________________________________________________________\n",
      "conv8 (Conv2D)               (None, 28, 28, 512)       1180160   \n",
      "_________________________________________________________________\n",
      "conv9 (Conv2D)               (None, 28, 28, 512)       2359808   \n",
      "_________________________________________________________________\n",
      "conv10 (Conv2D)              (None, 28, 28, 512)       2359808   \n",
      "_________________________________________________________________\n",
      "pool4 (MaxPooling2D)         (None, 14, 14, 512)       0         \n",
      "_________________________________________________________________\n",
      "conv11 (Conv2D)              (None, 14, 14, 512)       2359808   \n",
      "_________________________________________________________________\n",
      "conv12 (Conv2D)              (None, 14, 14, 512)       2359808   \n",
      "_________________________________________________________________\n",
      "conv13 (Conv2D)              (None, 14, 14, 512)       2359808   \n",
      "_________________________________________________________________\n",
      "pool5 (MaxPooling2D)         (None, 7, 7, 512)         0         \n",
      "_________________________________________________________________\n",
      "flatten_1 (Flatten)          (None, 25088)             0         \n",
      "_________________________________________________________________\n",
      "fc1 (Dense)                  (None, 4096)              102764544 \n",
      "_________________________________________________________________\n",
      "fc2 (Dense)                  (None, 4096)              16781312  \n",
      "_________________________________________________________________\n",
      "fc3 (Dense)                  (None, 1000)              4097000   \n",
      "=================================================================\n",
      "Total params: 138,357,544\n",
      "Trainable params: 138,357,544\n",
      "Non-trainable params: 0\n",
      "_________________________________________________________________\n"
     ]
    }
   ],
   "source": [
    "model.summary()"
   ]
  },
  {
   "cell_type": "code",
   "execution_count": 4,
   "metadata": {
    "collapsed": false
   },
   "outputs": [],
   "source": [
    "#decoder step\n",
    "model.add(Dense(units=4096 , activation=relu , name='de-fc1'))\n",
    "model.add(Dense(units=4096 , activation=relu , name='de-fc2'))\n",
    "model.add(Dense(units=25088 , activation=relu , name='de-fc3'))\n",
    "\n",
    "model.add(Reshape((7 , 7 , 512)))\n",
    "\n",
    "model.add(UpSampling2D(size=(2,2) , name='upsamp1'))\n",
    "\n",
    "model.add(Conv2DTranspose(filters=512 , kernel_size=(3,3) , activation=relu , strides=(1,1) , padding='same' , name='upconv1'))\n",
    "model.add(Conv2DTranspose(filters=512 , kernel_size=(3,3) , activation=relu , strides=(1,1) , padding='same' , name='upconv2'))\n",
    "model.add(Conv2DTranspose(filters=512 , kernel_size=(3,3) , activation=relu , strides=(1,1) , padding='same' , name='upconv3'))\n",
    "\n",
    "model.add(UpSampling2D(size=(2,2) , name='upsamp2'))\n",
    "\n",
    "model.add(Conv2DTranspose(filters=512 , kernel_size=(3,3) , activation=relu , strides=(1,1) , padding='same' , name='upconv4'))\n",
    "model.add(Conv2DTranspose(filters=512 , kernel_size=(3,3) , activation=relu , strides=(1,1) , padding='same' , name='upconv5'))\n",
    "model.add(Conv2DTranspose(filters=512 , kernel_size=(3,3) , activation=relu , strides=(1,1) , padding='same' , name='upconv6'))\n",
    "\n",
    "model.add(UpSampling2D(size=(2,2) , name='upsamp3'))\n",
    "\n",
    "model.add(Conv2DTranspose(filters=256 , kernel_size=(3,3) , activation=relu , strides=(1,1) , padding='same' , name='upconv7'))\n",
    "model.add(Conv2DTranspose(filters=256 , kernel_size=(3,3) , activation=relu , strides=(1,1) , padding='same' , name='upconv8'))\n",
    "model.add(Conv2DTranspose(filters=256 , kernel_size=(3,3) , activation=relu , strides=(1,1) , padding='same' , name='upconv9'))\n",
    "\n",
    "model.add(UpSampling2D(size=(2,2) , name='upsamp4'))\n",
    "\n",
    "model.add(Conv2DTranspose(filters=128 , kernel_size=(3,3) , activation=relu , strides=(1,1) , padding='same' , name='upconv10'))\n",
    "model.add(Conv2DTranspose(filters=128 , kernel_size=(3,3) , activation=relu , strides=(1,1) , padding='same' , name='upconv11'))\n",
    "\n",
    "model.add(UpSampling2D(size=(2,2) , name='upsamp5'))\n",
    "\n",
    "model.add(Conv2DTranspose(filters=64 , kernel_size=(3,3) , activation=relu , strides=(1,1) , padding='same' , name='upconv12'))\n",
    "model.add(Conv2DTranspose(filters=64 , kernel_size=(3,3) , activation=relu , strides=(1,1) , padding='same' , name='upconv13'))\n",
    "\n",
    "#original image\n",
    "model.add(Conv2DTranspose(filters=3 , kernel_size=(3,3) , activation=relu , strides=(1,1) , padding='same' , name='upconv14'))\n"
   ]
  },
  {
   "cell_type": "code",
   "execution_count": 59,
   "metadata": {
    "collapsed": false,
    "scrolled": false
   },
   "outputs": [
    {
     "name": "stdout",
     "output_type": "stream",
     "text": [
      "_________________________________________________________________\n",
      "Layer (type)                 Output Shape              Param #   \n",
      "=================================================================\n",
      "conv1 (Conv2D)               (None, 224, 224, 64)      1792      \n",
      "_________________________________________________________________\n",
      "conv2 (Conv2D)               (None, 224, 224, 64)      36928     \n",
      "_________________________________________________________________\n",
      "pool1 (MaxPooling2D)         (None, 112, 112, 64)      0         \n",
      "_________________________________________________________________\n",
      "conv3 (Conv2D)               (None, 112, 112, 128)     73856     \n",
      "_________________________________________________________________\n",
      "conv4 (Conv2D)               (None, 112, 112, 128)     147584    \n",
      "_________________________________________________________________\n",
      "pool2 (MaxPooling2D)         (None, 56, 56, 128)       0         \n",
      "_________________________________________________________________\n",
      "conv5 (Conv2D)               (None, 56, 56, 256)       295168    \n",
      "_________________________________________________________________\n",
      "conv6 (Conv2D)               (None, 56, 56, 256)       590080    \n",
      "_________________________________________________________________\n",
      "conv7 (Conv2D)               (None, 56, 56, 256)       590080    \n",
      "_________________________________________________________________\n",
      "pool3 (MaxPooling2D)         (None, 28, 28, 256)       0         \n",
      "_________________________________________________________________\n",
      "conv8 (Conv2D)               (None, 28, 28, 512)       1180160   \n",
      "_________________________________________________________________\n",
      "conv9 (Conv2D)               (None, 28, 28, 512)       2359808   \n",
      "_________________________________________________________________\n",
      "conv10 (Conv2D)              (None, 28, 28, 512)       2359808   \n",
      "_________________________________________________________________\n",
      "pool4 (MaxPooling2D)         (None, 14, 14, 512)       0         \n",
      "_________________________________________________________________\n",
      "conv11 (Conv2D)              (None, 14, 14, 512)       2359808   \n",
      "_________________________________________________________________\n",
      "conv12 (Conv2D)              (None, 14, 14, 512)       2359808   \n",
      "_________________________________________________________________\n",
      "conv13 (Conv2D)              (None, 14, 14, 512)       2359808   \n",
      "_________________________________________________________________\n",
      "pool5 (MaxPooling2D)         (None, 7, 7, 512)         0         \n",
      "_________________________________________________________________\n",
      "flatten_14 (Flatten)         (None, 25088)             0         \n",
      "_________________________________________________________________\n",
      "fc1 (Dense)                  (None, 4096)              102764544 \n",
      "_________________________________________________________________\n",
      "fc2 (Dense)                  (None, 4096)              16781312  \n",
      "_________________________________________________________________\n",
      "fc3 (Dense)                  (None, 1000)              4097000   \n",
      "_________________________________________________________________\n",
      "de-fc1 (Dense)               (None, 4096)              4100096   \n",
      "_________________________________________________________________\n",
      "de-fc2 (Dense)               (None, 4096)              16781312  \n",
      "_________________________________________________________________\n",
      "de-fc3 (Dense)               (None, 25088)             102785536 \n",
      "_________________________________________________________________\n",
      "reshape_10 (Reshape)         (None, 7, 7, 512)         0         \n",
      "_________________________________________________________________\n",
      "upsamp1 (UpSampling2D)       (None, 14, 14, 512)       0         \n",
      "_________________________________________________________________\n",
      "upconv1 (Conv2DTranspose)    (None, 14, 14, 512)       2359808   \n",
      "_________________________________________________________________\n",
      "upconv2 (Conv2DTranspose)    (None, 14, 14, 512)       2359808   \n",
      "_________________________________________________________________\n",
      "upconv3 (Conv2DTranspose)    (None, 14, 14, 512)       2359808   \n",
      "_________________________________________________________________\n",
      "upsamp2 (UpSampling2D)       (None, 28, 28, 512)       0         \n",
      "_________________________________________________________________\n",
      "upconv4 (Conv2DTranspose)    (None, 28, 28, 512)       2359808   \n",
      "_________________________________________________________________\n",
      "upconv5 (Conv2DTranspose)    (None, 28, 28, 512)       2359808   \n",
      "_________________________________________________________________\n",
      "upconv6 (Conv2DTranspose)    (None, 28, 28, 512)       2359808   \n",
      "_________________________________________________________________\n",
      "upsamp3 (UpSampling2D)       (None, 56, 56, 512)       0         \n",
      "_________________________________________________________________\n",
      "upconv7 (Conv2DTranspose)    (None, 56, 56, 256)       1179904   \n",
      "_________________________________________________________________\n",
      "upconv8 (Conv2DTranspose)    (None, 56, 56, 256)       590080    \n",
      "_________________________________________________________________\n",
      "upconv9 (Conv2DTranspose)    (None, 56, 56, 256)       590080    \n",
      "_________________________________________________________________\n",
      "upsamp4 (UpSampling2D)       (None, 112, 112, 256)     0         \n",
      "_________________________________________________________________\n",
      "upconv10 (Conv2DTranspose)   (None, 112, 112, 128)     295040    \n",
      "_________________________________________________________________\n",
      "upconv11 (Conv2DTranspose)   (None, 112, 112, 128)     147584    \n",
      "_________________________________________________________________\n",
      "upsamp5 (UpSampling2D)       (None, 224, 224, 128)     0         \n",
      "_________________________________________________________________\n",
      "upconv12 (Conv2DTranspose)   (None, 224, 224, 64)      73792     \n",
      "_________________________________________________________________\n",
      "upconv13 (Conv2DTranspose)   (None, 224, 224, 64)      36928     \n",
      "_________________________________________________________________\n",
      "upconv14 (Conv2DTranspose)   (None, 224, 224, 3)       1731      \n",
      "=================================================================\n",
      "Total params: 279,098,475\n",
      "Trainable params: 279,098,475\n",
      "Non-trainable params: 0\n",
      "_________________________________________________________________\n"
     ]
    }
   ],
   "source": [
    "model.summary()"
   ]
  },
  {
   "cell_type": "code",
   "execution_count": 5,
   "metadata": {
    "collapsed": true
   },
   "outputs": [],
   "source": [
    "from keras.losses import mse\n",
    "from keras.optimizers import Adam"
   ]
  },
  {
   "cell_type": "code",
   "execution_count": 6,
   "metadata": {
    "collapsed": false
   },
   "outputs": [],
   "source": [
    "model.compile(optimizer=Adam() , loss=mse)\n",
    "\n",
    "#model.fit()"
   ]
  },
  {
   "cell_type": "code",
   "execution_count": 81,
   "metadata": {
    "collapsed": false
   },
   "outputs": [],
   "source": [
    "train_data = img2mat()"
   ]
  },
  {
   "cell_type": "code",
   "execution_count": null,
   "metadata": {
    "collapsed": false
   },
   "outputs": [
    {
     "name": "stdout",
     "output_type": "stream",
     "text": [
      "Epoch 1/1\n"
     ]
    }
   ],
   "source": [
    "model.fit(train_data , train_data , batch_size=1 , epochs=1)"
   ]
  },
  {
   "cell_type": "code",
   "execution_count": 7,
   "metadata": {
    "collapsed": true
   },
   "outputs": [],
   "source": []
  },
  {
   "cell_type": "code",
   "execution_count": 12,
   "metadata": {
    "collapsed": true
   },
   "outputs": [],
   "source": [
    "#autoencoder\n",
    "#降维\n",
    "from keras.models import Model\n",
    "\n",
    "autoencoder = Model(inputs = model.input , outputs=model.get_layer(name='fc3').output)"
   ]
  },
  {
   "cell_type": "code",
   "execution_count": 13,
   "metadata": {
    "collapsed": true
   },
   "outputs": [
    {
     "name": "stdout",
     "output_type": "stream",
     "text": [
      "_________________________________________________________________\n",
      "Layer (type)                 Output Shape              Param #   \n",
      "=================================================================\n",
      "conv1_input (InputLayer)     (None, 224, 224, 3)       0         \n",
      "_________________________________________________________________\n",
      "conv1 (Conv2D)               (None, 224, 224, 64)      1792      \n",
      "_________________________________________________________________\n",
      "conv2 (Conv2D)               (None, 224, 224, 64)      36928     \n",
      "_________________________________________________________________\n",
      "pool1 (MaxPooling2D)         (None, 112, 112, 64)      0         \n",
      "_________________________________________________________________\n",
      "conv3 (Conv2D)               (None, 112, 112, 128)     73856     \n",
      "_________________________________________________________________\n",
      "conv4 (Conv2D)               (None, 112, 112, 128)     147584    \n",
      "_________________________________________________________________\n",
      "pool2 (MaxPooling2D)         (None, 56, 56, 128)       0         \n",
      "_________________________________________________________________\n",
      "conv5 (Conv2D)               (None, 56, 56, 256)       295168    \n",
      "_________________________________________________________________\n",
      "conv6 (Conv2D)               (None, 56, 56, 256)       590080    \n",
      "_________________________________________________________________\n",
      "conv7 (Conv2D)               (None, 56, 56, 256)       590080    \n",
      "_________________________________________________________________\n",
      "pool3 (MaxPooling2D)         (None, 28, 28, 256)       0         \n",
      "_________________________________________________________________\n",
      "conv8 (Conv2D)               (None, 28, 28, 512)       1180160   \n",
      "_________________________________________________________________\n",
      "conv9 (Conv2D)               (None, 28, 28, 512)       2359808   \n",
      "_________________________________________________________________\n",
      "conv10 (Conv2D)              (None, 28, 28, 512)       2359808   \n",
      "_________________________________________________________________\n",
      "pool4 (MaxPooling2D)         (None, 14, 14, 512)       0         \n",
      "_________________________________________________________________\n",
      "conv11 (Conv2D)              (None, 14, 14, 512)       2359808   \n",
      "_________________________________________________________________\n",
      "conv12 (Conv2D)              (None, 14, 14, 512)       2359808   \n",
      "_________________________________________________________________\n",
      "conv13 (Conv2D)              (None, 14, 14, 512)       2359808   \n",
      "_________________________________________________________________\n",
      "pool5 (MaxPooling2D)         (None, 7, 7, 512)         0         \n",
      "_________________________________________________________________\n",
      "flatten_1 (Flatten)          (None, 25088)             0         \n",
      "_________________________________________________________________\n",
      "fc1 (Dense)                  (None, 4096)              102764544 \n",
      "_________________________________________________________________\n",
      "fc2 (Dense)                  (None, 4096)              16781312  \n",
      "_________________________________________________________________\n",
      "fc3 (Dense)                  (None, 1000)              4097000   \n",
      "=================================================================\n",
      "Total params: 138,357,544\n",
      "Trainable params: 138,357,544\n",
      "Non-trainable params: 0\n",
      "_________________________________________________________________\n"
     ]
    }
   ],
   "source": [
    "autoencoder.summary()"
   ]
  },
  {
   "cell_type": "code",
   "execution_count": null,
   "metadata": {
    "collapsed": true
   },
   "outputs": [],
   "source": [
    "#对新数据进行降维\n",
    "#可以自行指定维数\n",
    "new_data = img2mat(path='new_data_path')\n",
    "\n",
    "new_features = autoencoder.predict(new_data)\n"
   ]
  },
  {
   "cell_type": "code",
   "execution_count": 18,
   "metadata": {
    "collapsed": false
   },
   "outputs": [
    {
     "name": "stderr",
     "output_type": "stream",
     "text": [
      "I:\\Anaconda3\\lib\\site-packages\\keras\\engine\\topology.py:1574: UserWarning: Model inputs must come from a Keras Input layer, they cannot be the output of a previous non-Input layer. Here, a tensor specified as input to \"model_4\" was not an Input tensor, it was generated by layer fc3.\n",
      "Note that input tensors are instantiated via `tensor = Input(shape)`.\n",
      "The tensor that caused the issue was: fc3/Relu:0\n",
      "  str(x.name))\n"
     ]
    },
    {
     "ename": "TypeError",
     "evalue": "Input layers to a `Model` must be `InputLayer` objects. Received inputs: Tensor(\"fc3/Relu:0\", shape=(?, 1000), dtype=float32). Input 0 (0-based) originates from layer type `Dense`.",
     "output_type": "error",
     "traceback": [
      "\u001b[0;31m---------------------------------------------------------------------------\u001b[0m",
      "\u001b[0;31mTypeError\u001b[0m                                 Traceback (most recent call last)",
      "\u001b[0;32m<ipython-input-18-78a8c2f5085e>\u001b[0m in \u001b[0;36m<module>\u001b[0;34m()\u001b[0m\n\u001b[0;32m----> 1\u001b[0;31m \u001b[0mautodecoder\u001b[0m \u001b[1;33m=\u001b[0m \u001b[0mModel\u001b[0m\u001b[1;33m(\u001b[0m\u001b[0minputs\u001b[0m\u001b[1;33m=\u001b[0m\u001b[0mmodel\u001b[0m\u001b[1;33m.\u001b[0m\u001b[0mget_layer\u001b[0m\u001b[1;33m(\u001b[0m\u001b[0mname\u001b[0m\u001b[1;33m=\u001b[0m\u001b[1;34m'de-fc1'\u001b[0m\u001b[1;33m)\u001b[0m\u001b[1;33m.\u001b[0m\u001b[0minput\u001b[0m \u001b[1;33m,\u001b[0m \u001b[0moutputs\u001b[0m\u001b[1;33m=\u001b[0m\u001b[0mmodel\u001b[0m\u001b[1;33m.\u001b[0m\u001b[0moutput\u001b[0m\u001b[1;33m)\u001b[0m\u001b[1;33m\u001b[0m\u001b[0m\n\u001b[0m",
      "\u001b[0;32mI:\\Anaconda3\\lib\\site-packages\\keras\\legacy\\interfaces.py\u001b[0m in \u001b[0;36mwrapper\u001b[0;34m(*args, **kwargs)\u001b[0m\n\u001b[1;32m     85\u001b[0m                 warnings.warn('Update your `' + object_name +\n\u001b[1;32m     86\u001b[0m                               '` call to the Keras 2 API: ' + signature, stacklevel=2)\n\u001b[0;32m---> 87\u001b[0;31m             \u001b[1;32mreturn\u001b[0m \u001b[0mfunc\u001b[0m\u001b[1;33m(\u001b[0m\u001b[1;33m*\u001b[0m\u001b[0margs\u001b[0m\u001b[1;33m,\u001b[0m \u001b[1;33m**\u001b[0m\u001b[0mkwargs\u001b[0m\u001b[1;33m)\u001b[0m\u001b[1;33m\u001b[0m\u001b[0m\n\u001b[0m\u001b[1;32m     88\u001b[0m         \u001b[0mwrapper\u001b[0m\u001b[1;33m.\u001b[0m\u001b[0m_original_function\u001b[0m \u001b[1;33m=\u001b[0m \u001b[0mfunc\u001b[0m\u001b[1;33m\u001b[0m\u001b[0m\n\u001b[1;32m     89\u001b[0m         \u001b[1;32mreturn\u001b[0m \u001b[0mwrapper\u001b[0m\u001b[1;33m\u001b[0m\u001b[0m\n",
      "\u001b[0;32mI:\\Anaconda3\\lib\\site-packages\\keras\\engine\\topology.py\u001b[0m in \u001b[0;36m__init__\u001b[0;34m(self, inputs, outputs, name)\u001b[0m\n\u001b[1;32m   1632\u001b[0m                     'from layer type `{}`.'.format(inputs,\n\u001b[1;32m   1633\u001b[0m                                                    \u001b[0mi\u001b[0m\u001b[1;33m,\u001b[0m\u001b[1;33m\u001b[0m\u001b[0m\n\u001b[0;32m-> 1634\u001b[0;31m                                                    layer.__class__.__name__))\n\u001b[0m\u001b[1;32m   1635\u001b[0m             \u001b[0mself\u001b[0m\u001b[1;33m.\u001b[0m\u001b[0minput_names\u001b[0m\u001b[1;33m.\u001b[0m\u001b[0mappend\u001b[0m\u001b[1;33m(\u001b[0m\u001b[0mlayer\u001b[0m\u001b[1;33m.\u001b[0m\u001b[0mname\u001b[0m\u001b[1;33m)\u001b[0m\u001b[1;33m\u001b[0m\u001b[0m\n\u001b[1;32m   1636\u001b[0m             \u001b[1;32mif\u001b[0m \u001b[0mlayer\u001b[0m\u001b[1;33m.\u001b[0m\u001b[0mis_placeholder\u001b[0m\u001b[1;33m:\u001b[0m\u001b[1;33m\u001b[0m\u001b[0m\n",
      "\u001b[0;31mTypeError\u001b[0m: Input layers to a `Model` must be `InputLayer` objects. Received inputs: Tensor(\"fc3/Relu:0\", shape=(?, 1000), dtype=float32). Input 0 (0-based) originates from layer type `Dense`."
     ]
    }
   ],
   "source": [
    "autodecoder = Model(inputs=model.get_layer(name='de-fc1').input , outputs=model.output)"
   ]
  },
  {
   "cell_type": "code",
   "execution_count": 20,
   "metadata": {
    "collapsed": false
   },
   "outputs": [
    {
     "data": {
      "text/plain": [
       "<tf.Tensor 'fc3/Relu:0' shape=(?, 1000) dtype=float32>"
      ]
     },
     "execution_count": 20,
     "metadata": {},
     "output_type": "execute_result"
    }
   ],
   "source": [
    "model.get_layer(name='de-fc1').input"
   ]
  },
  {
   "cell_type": "code",
   "execution_count": null,
   "metadata": {
    "collapsed": true
   },
   "outputs": [],
   "source": []
  }
 ],
 "metadata": {
  "kernelspec": {
   "display_name": "Python 3",
   "language": "python",
   "name": "python3"
  },
  "language_info": {
   "codemirror_mode": {
    "name": "ipython",
    "version": 3
   },
   "file_extension": ".py",
   "mimetype": "text/x-python",
   "name": "python",
   "nbconvert_exporter": "python",
   "pygments_lexer": "ipython3",
   "version": "3.6.0"
  }
 },
 "nbformat": 4,
 "nbformat_minor": 2
}
