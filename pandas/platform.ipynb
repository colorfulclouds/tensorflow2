{
 "cells": [
  {
   "cell_type": "code",
   "execution_count": 26,
   "metadata": {
    "collapsed": true
   },
   "outputs": [],
   "source": [
    "import pandas as pd\n",
    "from sklearn.svm import SVC\n",
    "from sklearn.model_selection import KFold\n",
    "\n",
    "from sklearn.tree import DecisionTreeClassifier\n",
    "from sklearn.naive_bayes import GaussianNB\n",
    "from sklearn.ensemble import AdaBoostClassifier"
   ]
  },
  {
   "cell_type": "code",
   "execution_count": 2,
   "metadata": {
    "collapsed": true
   },
   "outputs": [],
   "source": [
    "train_data = pd.read_csv('dataset.csv')\n"
   ]
  },
  {
   "cell_type": "code",
   "execution_count": 4,
   "metadata": {},
   "outputs": [
    {
     "data": {
      "text/html": [
       "<div>\n",
       "<style>\n",
       "    .dataframe thead tr:only-child th {\n",
       "        text-align: right;\n",
       "    }\n",
       "\n",
       "    .dataframe thead th {\n",
       "        text-align: left;\n",
       "    }\n",
       "\n",
       "    .dataframe tbody tr th {\n",
       "        vertical-align: top;\n",
       "    }\n",
       "</style>\n",
       "<table border=\"1\" class=\"dataframe\">\n",
       "  <thead>\n",
       "    <tr style=\"text-align: right;\">\n",
       "      <th></th>\n",
       "      <th>order</th>\n",
       "      <th>input</th>\n",
       "      <th>output</th>\n",
       "      <th>platform</th>\n",
       "    </tr>\n",
       "  </thead>\n",
       "  <tbody>\n",
       "    <tr>\n",
       "      <th>count</th>\n",
       "      <td>10000.000000</td>\n",
       "      <td>10000.000000</td>\n",
       "      <td>10000.000000</td>\n",
       "      <td>10000.000000</td>\n",
       "    </tr>\n",
       "    <tr>\n",
       "      <th>mean</th>\n",
       "      <td>19966.230300</td>\n",
       "      <td>251.606600</td>\n",
       "      <td>249.348400</td>\n",
       "      <td>2.946600</td>\n",
       "    </tr>\n",
       "    <tr>\n",
       "      <th>std</th>\n",
       "      <td>11504.291875</td>\n",
       "      <td>143.897919</td>\n",
       "      <td>143.890965</td>\n",
       "      <td>1.517755</td>\n",
       "    </tr>\n",
       "    <tr>\n",
       "      <th>min</th>\n",
       "      <td>16.000000</td>\n",
       "      <td>1.000000</td>\n",
       "      <td>1.000000</td>\n",
       "      <td>1.000000</td>\n",
       "    </tr>\n",
       "    <tr>\n",
       "      <th>25%</th>\n",
       "      <td>9981.250000</td>\n",
       "      <td>127.000000</td>\n",
       "      <td>126.000000</td>\n",
       "      <td>2.000000</td>\n",
       "    </tr>\n",
       "    <tr>\n",
       "      <th>50%</th>\n",
       "      <td>19802.500000</td>\n",
       "      <td>254.000000</td>\n",
       "      <td>250.500000</td>\n",
       "      <td>3.000000</td>\n",
       "    </tr>\n",
       "    <tr>\n",
       "      <th>75%</th>\n",
       "      <td>30064.000000</td>\n",
       "      <td>376.000000</td>\n",
       "      <td>373.000000</td>\n",
       "      <td>4.000000</td>\n",
       "    </tr>\n",
       "    <tr>\n",
       "      <th>max</th>\n",
       "      <td>39997.000000</td>\n",
       "      <td>499.000000</td>\n",
       "      <td>499.000000</td>\n",
       "      <td>5.000000</td>\n",
       "    </tr>\n",
       "  </tbody>\n",
       "</table>\n",
       "</div>"
      ],
      "text/plain": [
       "              order         input        output      platform\n",
       "count  10000.000000  10000.000000  10000.000000  10000.000000\n",
       "mean   19966.230300    251.606600    249.348400      2.946600\n",
       "std    11504.291875    143.897919    143.890965      1.517755\n",
       "min       16.000000      1.000000      1.000000      1.000000\n",
       "25%     9981.250000    127.000000    126.000000      2.000000\n",
       "50%    19802.500000    254.000000    250.500000      3.000000\n",
       "75%    30064.000000    376.000000    373.000000      4.000000\n",
       "max    39997.000000    499.000000    499.000000      5.000000"
      ]
     },
     "execution_count": 4,
     "metadata": {},
     "output_type": "execute_result"
    }
   ],
   "source": [
    "train_data.describe()"
   ]
  },
  {
   "cell_type": "code",
   "execution_count": 5,
   "metadata": {},
   "outputs": [
    {
     "data": {
      "text/plain": [
       "19966.2303"
      ]
     },
     "execution_count": 5,
     "metadata": {},
     "output_type": "execute_result"
    }
   ],
   "source": [
    "train_data['order'].mean()"
   ]
  },
  {
   "cell_type": "code",
   "execution_count": 6,
   "metadata": {},
   "outputs": [
    {
     "data": {
      "text/plain": [
       "11504.291874827235"
      ]
     },
     "execution_count": 6,
     "metadata": {},
     "output_type": "execute_result"
    }
   ],
   "source": [
    "train_data['order'].std()"
   ]
  },
  {
   "cell_type": "code",
   "execution_count": 7,
   "metadata": {
    "collapsed": true
   },
   "outputs": [],
   "source": [
    "train_data['order_norm'] = (train_data['order'] - train_data['order'].mean()) / train_data['order'].std()"
   ]
  },
  {
   "cell_type": "code",
   "execution_count": 9,
   "metadata": {
    "collapsed": true
   },
   "outputs": [
    {
     "data": {
      "text/html": [
       "<div>\n",
       "<style>\n",
       "    .dataframe thead tr:only-child th {\n",
       "        text-align: right;\n",
       "    }\n",
       "\n",
       "    .dataframe thead th {\n",
       "        text-align: left;\n",
       "    }\n",
       "\n",
       "    .dataframe tbody tr th {\n",
       "        vertical-align: top;\n",
       "    }\n",
       "</style>\n",
       "<table border=\"1\" class=\"dataframe\">\n",
       "  <thead>\n",
       "    <tr style=\"text-align: right;\">\n",
       "      <th></th>\n",
       "      <th>order</th>\n",
       "      <th>input</th>\n",
       "      <th>output</th>\n",
       "      <th>platform</th>\n",
       "      <th>order_norm</th>\n",
       "    </tr>\n",
       "  </thead>\n",
       "  <tbody>\n",
       "    <tr>\n",
       "      <th>count</th>\n",
       "      <td>10000.000000</td>\n",
       "      <td>10000.000000</td>\n",
       "      <td>10000.000000</td>\n",
       "      <td>10000.000000</td>\n",
       "      <td>1.000000e+04</td>\n",
       "    </tr>\n",
       "    <tr>\n",
       "      <th>mean</th>\n",
       "      <td>19966.230300</td>\n",
       "      <td>251.606600</td>\n",
       "      <td>249.348400</td>\n",
       "      <td>2.946600</td>\n",
       "      <td>3.451461e-16</td>\n",
       "    </tr>\n",
       "    <tr>\n",
       "      <th>std</th>\n",
       "      <td>11504.291875</td>\n",
       "      <td>143.897919</td>\n",
       "      <td>143.890965</td>\n",
       "      <td>1.517755</td>\n",
       "      <td>1.000000e+00</td>\n",
       "    </tr>\n",
       "    <tr>\n",
       "      <th>min</th>\n",
       "      <td>16.000000</td>\n",
       "      <td>1.000000</td>\n",
       "      <td>1.000000</td>\n",
       "      <td>1.000000</td>\n",
       "      <td>-1.734155e+00</td>\n",
       "    </tr>\n",
       "    <tr>\n",
       "      <th>25%</th>\n",
       "      <td>9981.250000</td>\n",
       "      <td>127.000000</td>\n",
       "      <td>126.000000</td>\n",
       "      <td>2.000000</td>\n",
       "      <td>-8.679352e-01</td>\n",
       "    </tr>\n",
       "    <tr>\n",
       "      <th>50%</th>\n",
       "      <td>19802.500000</td>\n",
       "      <td>254.000000</td>\n",
       "      <td>250.500000</td>\n",
       "      <td>3.000000</td>\n",
       "      <td>-1.423211e-02</td>\n",
       "    </tr>\n",
       "    <tr>\n",
       "      <th>75%</th>\n",
       "      <td>30064.000000</td>\n",
       "      <td>376.000000</td>\n",
       "      <td>373.000000</td>\n",
       "      <td>4.000000</td>\n",
       "      <td>8.777394e-01</td>\n",
       "    </tr>\n",
       "    <tr>\n",
       "      <th>max</th>\n",
       "      <td>39997.000000</td>\n",
       "      <td>499.000000</td>\n",
       "      <td>499.000000</td>\n",
       "      <td>5.000000</td>\n",
       "      <td>1.741156e+00</td>\n",
       "    </tr>\n",
       "  </tbody>\n",
       "</table>\n",
       "</div>"
      ],
      "text/plain": [
       "              order         input        output      platform    order_norm\n",
       "count  10000.000000  10000.000000  10000.000000  10000.000000  1.000000e+04\n",
       "mean   19966.230300    251.606600    249.348400      2.946600  3.451461e-16\n",
       "std    11504.291875    143.897919    143.890965      1.517755  1.000000e+00\n",
       "min       16.000000      1.000000      1.000000      1.000000 -1.734155e+00\n",
       "25%     9981.250000    127.000000    126.000000      2.000000 -8.679352e-01\n",
       "50%    19802.500000    254.000000    250.500000      3.000000 -1.423211e-02\n",
       "75%    30064.000000    376.000000    373.000000      4.000000  8.777394e-01\n",
       "max    39997.000000    499.000000    499.000000      5.000000  1.741156e+00"
      ]
     },
     "execution_count": 9,
     "metadata": {},
     "output_type": "execute_result"
    }
   ],
   "source": [
    "train_data.describe()"
   ]
  },
  {
   "cell_type": "code",
   "execution_count": 10,
   "metadata": {
    "collapsed": true
   },
   "outputs": [],
   "source": [
    "train_data['input_norm'] = (train_data['input'] - train_data['input'].mean()) / train_data['input'].std()\n",
    "train_data['output_norm'] = (train_data['output'] - train_data['output'].mean()) / train_data['output'].std()"
   ]
  },
  {
   "cell_type": "code",
   "execution_count": 11,
   "metadata": {},
   "outputs": [
    {
     "data": {
      "text/html": [
       "<div>\n",
       "<style>\n",
       "    .dataframe thead tr:only-child th {\n",
       "        text-align: right;\n",
       "    }\n",
       "\n",
       "    .dataframe thead th {\n",
       "        text-align: left;\n",
       "    }\n",
       "\n",
       "    .dataframe tbody tr th {\n",
       "        vertical-align: top;\n",
       "    }\n",
       "</style>\n",
       "<table border=\"1\" class=\"dataframe\">\n",
       "  <thead>\n",
       "    <tr style=\"text-align: right;\">\n",
       "      <th></th>\n",
       "      <th>order</th>\n",
       "      <th>input</th>\n",
       "      <th>output</th>\n",
       "      <th>platform</th>\n",
       "      <th>order_norm</th>\n",
       "      <th>input_norm</th>\n",
       "      <th>output_norm</th>\n",
       "    </tr>\n",
       "  </thead>\n",
       "  <tbody>\n",
       "    <tr>\n",
       "      <th>0</th>\n",
       "      <td>39997</td>\n",
       "      <td>3</td>\n",
       "      <td>48</td>\n",
       "      <td>2</td>\n",
       "      <td>1.741156</td>\n",
       "      <td>-1.727659</td>\n",
       "      <td>-1.399312</td>\n",
       "    </tr>\n",
       "    <tr>\n",
       "      <th>1</th>\n",
       "      <td>39858</td>\n",
       "      <td>490</td>\n",
       "      <td>105</td>\n",
       "      <td>5</td>\n",
       "      <td>1.729074</td>\n",
       "      <td>1.656684</td>\n",
       "      <td>-1.003179</td>\n",
       "    </tr>\n",
       "    <tr>\n",
       "      <th>2</th>\n",
       "      <td>39882</td>\n",
       "      <td>446</td>\n",
       "      <td>140</td>\n",
       "      <td>5</td>\n",
       "      <td>1.731160</td>\n",
       "      <td>1.350912</td>\n",
       "      <td>-0.759939</td>\n",
       "    </tr>\n",
       "    <tr>\n",
       "      <th>3</th>\n",
       "      <td>39916</td>\n",
       "      <td>430</td>\n",
       "      <td>214</td>\n",
       "      <td>5</td>\n",
       "      <td>1.734115</td>\n",
       "      <td>1.239722</td>\n",
       "      <td>-0.245661</td>\n",
       "    </tr>\n",
       "    <tr>\n",
       "      <th>4</th>\n",
       "      <td>39896</td>\n",
       "      <td>432</td>\n",
       "      <td>382</td>\n",
       "      <td>5</td>\n",
       "      <td>1.732377</td>\n",
       "      <td>1.253621</td>\n",
       "      <td>0.921890</td>\n",
       "    </tr>\n",
       "  </tbody>\n",
       "</table>\n",
       "</div>"
      ],
      "text/plain": [
       "   order  input  output  platform  order_norm  input_norm  output_norm\n",
       "0  39997      3      48         2    1.741156   -1.727659    -1.399312\n",
       "1  39858    490     105         5    1.729074    1.656684    -1.003179\n",
       "2  39882    446     140         5    1.731160    1.350912    -0.759939\n",
       "3  39916    430     214         5    1.734115    1.239722    -0.245661\n",
       "4  39896    432     382         5    1.732377    1.253621     0.921890"
      ]
     },
     "execution_count": 11,
     "metadata": {},
     "output_type": "execute_result"
    }
   ],
   "source": [
    "train_data.head()"
   ]
  },
  {
   "cell_type": "code",
   "execution_count": 27,
   "metadata": {
    "collapsed": true
   },
   "outputs": [],
   "source": [
    "#model = SVC()\n",
    "#model = DecisionTreeClassifier()\n",
    "#model = GaussianNB()\n",
    "model = AdaBoostClassifier()"
   ]
  },
  {
   "cell_type": "code",
   "execution_count": 28,
   "metadata": {
    "collapsed": true
   },
   "outputs": [],
   "source": [
    "kf = KFold(n_splits=10 , shuffle=True)"
   ]
  },
  {
   "cell_type": "code",
   "execution_count": 29,
   "metadata": {},
   "outputs": [
    {
     "name": "stdout",
     "output_type": "stream",
     "text": [
      "0.239\n",
      "0.23\n",
      "0.225\n",
      "0.237\n",
      "0.211\n",
      "0.246\n",
      "0.224\n",
      "0.219\n",
      "0.242\n",
      "0.242\n"
     ]
    }
   ],
   "source": [
    "for train , test in kf.split(train_data):\n",
    "    model.fit(train_data.loc[train , ['order_norm' , 'input_norm' , 'output_norm']] , train_data.loc[train , 'platform'])\n",
    "    score = model.score(train_data.loc[test , ['order_norm' , 'input_norm' , 'output_norm']] , train_data.loc[test , 'platform'])\n",
    "    print(score)"
   ]
  },
  {
   "cell_type": "code",
   "execution_count": null,
   "metadata": {
    "collapsed": true
   },
   "outputs": [],
   "source": [
    "train_data.unstack()"
   ]
  }
 ],
 "metadata": {
  "kernelspec": {
   "display_name": "Python 3",
   "language": "python",
   "name": "python3"
  },
  "language_info": {
   "codemirror_mode": {
    "name": "ipython",
    "version": 3
   },
   "file_extension": ".py",
   "mimetype": "text/x-python",
   "name": "python",
   "nbconvert_exporter": "python",
   "pygments_lexer": "ipython3",
   "version": "3.6.1"
  }
 },
 "nbformat": 4,
 "nbformat_minor": 2
}
